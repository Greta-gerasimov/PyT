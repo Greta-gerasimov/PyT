{
  "cells": [
    {
      "cell_type": "markdown",
      "metadata": {
        "id": "view-in-github",
        "colab_type": "text"
      },
      "source": [
        "<a href=\"https://colab.research.google.com/github/Greta-gerasimov/PyT/blob/L3_optims/dl_kaggle.ipynb\" target=\"_parent\"><img src=\"https://colab.research.google.com/assets/colab-badge.svg\" alt=\"Open In Colab\"/></a>"
      ]
    },
    {
      "cell_type": "markdown",
      "metadata": {
        "id": "MdZbZo-lgRUl"
      },
      "source": [
        "# Попрактикуемся с тем, что изучили\n",
        "\n",
        "Будем практиковаться на датасете:\n",
        "https://www.kaggle.com/c/avito-demand-prediction\n",
        "\n",
        "Ваша задача:\n",
        "1. Создать Dataset для загрузки данных (используем только числовые данные)\n",
        "2. Обернуть его в Dataloader\n",
        "3. Написать архитектуру сети, которая предсказывает число показов на основании числовых данных (вы всегда можете нагенерить дополнительных факторов). Сеть должна включать BatchNorm слои и Dropout (или НЕ включать, но нужно обосновать)\n",
        "4. Учить будем на функцию потерь с кагла (log RMSE) - нужно её реализовать\n",
        "5. Сравните сходимость Adam, RMSProp и SGD, сделайте вывод по качеству работы модели\n",
        "\n",
        "train-test разделение нужно сделать с помощью sklearn random_state=13, test_size = 0.25\n",
        "\n",
        "Вопросы? в личку @Kinetikm"
      ]
    },
    {
      "cell_type": "code",
      "source": [],
      "metadata": {
        "id": "Rwt-9MOdRVEf"
      },
      "execution_count": 101,
      "outputs": []
    },
    {
      "cell_type": "code",
      "source": [],
      "metadata": {
        "id": "Ti1PaExLRUrD"
      },
      "execution_count": 101,
      "outputs": []
    },
    {
      "cell_type": "markdown",
      "source": [
        "у меня возникли трудности с данными Авито с каггла, поэтому я попыталась реализовать дз на датасете с домами"
      ],
      "metadata": {
        "id": "YLDehfxeULvc"
      }
    },
    {
      "cell_type": "code",
      "source": [
        "!pip install torchmetrics"
      ],
      "metadata": {
        "colab": {
          "base_uri": "https://localhost:8080/"
        },
        "id": "LJtH8tZHRUTF",
        "outputId": "65a1ac25-f9a3-48e5-a35b-3598fa5d6668"
      },
      "execution_count": 102,
      "outputs": [
        {
          "output_type": "stream",
          "name": "stdout",
          "text": [
            "Requirement already satisfied: torchmetrics in /usr/local/lib/python3.10/dist-packages (1.2.0)\n",
            "Requirement already satisfied: numpy>1.20.0 in /usr/local/lib/python3.10/dist-packages (from torchmetrics) (1.23.5)\n",
            "Requirement already satisfied: torch>=1.8.1 in /usr/local/lib/python3.10/dist-packages (from torchmetrics) (2.0.1+cu118)\n",
            "Requirement already satisfied: lightning-utilities>=0.8.0 in /usr/local/lib/python3.10/dist-packages (from torchmetrics) (0.9.0)\n",
            "Requirement already satisfied: packaging>=17.1 in /usr/local/lib/python3.10/dist-packages (from lightning-utilities>=0.8.0->torchmetrics) (23.2)\n",
            "Requirement already satisfied: typing-extensions in /usr/local/lib/python3.10/dist-packages (from lightning-utilities>=0.8.0->torchmetrics) (4.5.0)\n",
            "Requirement already satisfied: filelock in /usr/local/lib/python3.10/dist-packages (from torch>=1.8.1->torchmetrics) (3.12.4)\n",
            "Requirement already satisfied: sympy in /usr/local/lib/python3.10/dist-packages (from torch>=1.8.1->torchmetrics) (1.12)\n",
            "Requirement already satisfied: networkx in /usr/local/lib/python3.10/dist-packages (from torch>=1.8.1->torchmetrics) (3.1)\n",
            "Requirement already satisfied: jinja2 in /usr/local/lib/python3.10/dist-packages (from torch>=1.8.1->torchmetrics) (3.1.2)\n",
            "Requirement already satisfied: triton==2.0.0 in /usr/local/lib/python3.10/dist-packages (from torch>=1.8.1->torchmetrics) (2.0.0)\n",
            "Requirement already satisfied: cmake in /usr/local/lib/python3.10/dist-packages (from triton==2.0.0->torch>=1.8.1->torchmetrics) (3.27.6)\n",
            "Requirement already satisfied: lit in /usr/local/lib/python3.10/dist-packages (from triton==2.0.0->torch>=1.8.1->torchmetrics) (17.0.2)\n",
            "Requirement already satisfied: MarkupSafe>=2.0 in /usr/local/lib/python3.10/dist-packages (from jinja2->torch>=1.8.1->torchmetrics) (2.1.3)\n",
            "Requirement already satisfied: mpmath>=0.19 in /usr/local/lib/python3.10/dist-packages (from sympy->torch>=1.8.1->torchmetrics) (1.3.0)\n"
          ]
        }
      ]
    },
    {
      "cell_type": "code",
      "execution_count": 103,
      "metadata": {
        "id": "vF-lZcAOgRU5"
      },
      "outputs": [],
      "source": [
        "\n",
        "import sklearn\n",
        "import numpy as np\n",
        "import pandas as pd\n",
        "\n",
        "import torch.nn.functional as F\n",
        "\n",
        "import torchmetrics\n",
        "from sklearn.model_selection import train_test_split\n",
        "from sklearn.preprocessing import MinMaxScaler, StandardScaler\n",
        "\n",
        "import matplotlib.pyplot as plt\n",
        "\n",
        "\n",
        "import torch\n",
        "from torch import nn\n",
        "from torch.optim import Adam, RMSprop, SGD\n",
        "from torch.utils.data import DataLoader, Dataset\n",
        "\n",
        "from sklearn.datasets import fetch_california_housing\n",
        "\n",
        "from sklearn.metrics import r2_score\n",
        "\n",
        "import warnings\n",
        "import math\n",
        "warnings.filterwarnings('ignore')"
      ]
    },
    {
      "cell_type": "code",
      "source": [
        "train_dataset = sklearn.datasets.fetch_california_housing()\n",
        "train_dataset"
      ],
      "metadata": {
        "colab": {
          "base_uri": "https://localhost:8080/"
        },
        "id": "JxlUXHbjN2A-",
        "outputId": "53cdc4be-7cb3-4d3a-d8bc-bc78db287d19"
      },
      "execution_count": 104,
      "outputs": [
        {
          "output_type": "execute_result",
          "data": {
            "text/plain": [
              "{'data': array([[   8.3252    ,   41.        ,    6.98412698, ...,    2.55555556,\n",
              "           37.88      , -122.23      ],\n",
              "        [   8.3014    ,   21.        ,    6.23813708, ...,    2.10984183,\n",
              "           37.86      , -122.22      ],\n",
              "        [   7.2574    ,   52.        ,    8.28813559, ...,    2.80225989,\n",
              "           37.85      , -122.24      ],\n",
              "        ...,\n",
              "        [   1.7       ,   17.        ,    5.20554273, ...,    2.3256351 ,\n",
              "           39.43      , -121.22      ],\n",
              "        [   1.8672    ,   18.        ,    5.32951289, ...,    2.12320917,\n",
              "           39.43      , -121.32      ],\n",
              "        [   2.3886    ,   16.        ,    5.25471698, ...,    2.61698113,\n",
              "           39.37      , -121.24      ]]),\n",
              " 'target': array([4.526, 3.585, 3.521, ..., 0.923, 0.847, 0.894]),\n",
              " 'frame': None,\n",
              " 'target_names': ['MedHouseVal'],\n",
              " 'feature_names': ['MedInc',\n",
              "  'HouseAge',\n",
              "  'AveRooms',\n",
              "  'AveBedrms',\n",
              "  'Population',\n",
              "  'AveOccup',\n",
              "  'Latitude',\n",
              "  'Longitude'],\n",
              " 'DESCR': '.. _california_housing_dataset:\\n\\nCalifornia Housing dataset\\n--------------------------\\n\\n**Data Set Characteristics:**\\n\\n    :Number of Instances: 20640\\n\\n    :Number of Attributes: 8 numeric, predictive attributes and the target\\n\\n    :Attribute Information:\\n        - MedInc        median income in block group\\n        - HouseAge      median house age in block group\\n        - AveRooms      average number of rooms per household\\n        - AveBedrms     average number of bedrooms per household\\n        - Population    block group population\\n        - AveOccup      average number of household members\\n        - Latitude      block group latitude\\n        - Longitude     block group longitude\\n\\n    :Missing Attribute Values: None\\n\\nThis dataset was obtained from the StatLib repository.\\nhttps://www.dcc.fc.up.pt/~ltorgo/Regression/cal_housing.html\\n\\nThe target variable is the median house value for California districts,\\nexpressed in hundreds of thousands of dollars ($100,000).\\n\\nThis dataset was derived from the 1990 U.S. census, using one row per census\\nblock group. A block group is the smallest geographical unit for which the U.S.\\nCensus Bureau publishes sample data (a block group typically has a population\\nof 600 to 3,000 people).\\n\\nA household is a group of people residing within a home. Since the average\\nnumber of rooms and bedrooms in this dataset are provided per household, these\\ncolumns may take surprisingly large values for block groups with few households\\nand many empty houses, such as vacation resorts.\\n\\nIt can be downloaded/loaded using the\\n:func:`sklearn.datasets.fetch_california_housing` function.\\n\\n.. topic:: References\\n\\n    - Pace, R. Kelley and Ronald Barry, Sparse Spatial Autoregressions,\\n      Statistics and Probability Letters, 33 (1997) 291-297\\n'}"
            ]
          },
          "metadata": {},
          "execution_count": 104
        }
      ]
    },
    {
      "cell_type": "code",
      "source": [
        "data = train_dataset.data\n",
        "target = train_dataset.target"
      ],
      "metadata": {
        "id": "OMnJ8noPR8yh"
      },
      "execution_count": 105,
      "outputs": []
    },
    {
      "cell_type": "code",
      "source": [
        "X_train, X_test, y_train, y_test = train_test_split(data, target, test_size=0.25, random_state=13)"
      ],
      "metadata": {
        "id": "AmqCn7GLSF2r"
      },
      "execution_count": 106,
      "outputs": []
    },
    {
      "cell_type": "code",
      "source": [
        "# сделаем стандарт-скейлер так как это задача регрессии и мин-макс скейлер будет хуже работать\n",
        "\n",
        "#scaler = MinMaxScaler()\n",
        "scaler = StandardScaler()\n",
        "\n",
        "X_train = scaler.fit_transform(X_train)\n",
        "X_test = scaler.transform(X_test)\n",
        "y_train = np.array(y_train)\n",
        "y_test = np.array(y_test)"
      ],
      "metadata": {
        "id": "1ycqUzcQSIja"
      },
      "execution_count": 107,
      "outputs": []
    },
    {
      "cell_type": "code",
      "source": [
        "class MyOwnCH(Dataset):\n",
        "\n",
        "    def __init__(self, X_data, y_data):\n",
        "        self.X_data = X_data\n",
        "        self.y_data = y_data\n",
        "\n",
        "    def __getitem__(self, index):\n",
        "        return self.X_data[index], self.y_data[index]\n",
        "\n",
        "    def __len__ (self):\n",
        "        return len(self.X_data)\n",
        "\n",
        "\n",
        "train_dataset = MyOwnCH(torch.from_numpy(X_train).float(), torch.from_numpy(y_train).float())\n",
        "test_dataset = MyOwnCH(torch.from_numpy(X_test).float(), torch.from_numpy(y_test).float())"
      ],
      "metadata": {
        "id": "gnComvqg8ay5"
      },
      "execution_count": 108,
      "outputs": []
    },
    {
      "cell_type": "code",
      "source": [
        "train_loader = DataLoader(dataset=train_dataset, batch_size=64, shuffle=True, drop_last=True, num_workers=0)\n",
        "test_loader = DataLoader(dataset=test_dataset, batch_size=8, shuffle=False, drop_last=True, num_workers=0)"
      ],
      "metadata": {
        "id": "vXm3CCgK8a7_"
      },
      "execution_count": 109,
      "outputs": []
    },
    {
      "cell_type": "code",
      "source": [
        "class Perceptron(nn.Module):\n",
        "    def __init__(self, input_dim, output_dim, activation=\"relu\"):\n",
        "        super(Perceptron, self).__init__()\n",
        "        self.fc = nn.Linear(input_dim, output_dim)\n",
        "        self.activation = activation\n",
        "\n",
        "    def forward(self, x):\n",
        "        x = self.fc(x)\n",
        "        if self.activation == \"relu\":\n",
        "            return F.relu(x)\n",
        "        if self.activation == \"sigmoid\":\n",
        "            return F.sigmoid(x)\n",
        "        raise RuntimeError\n",
        "\n",
        "class FeedForward(nn.Module):\n",
        "    def __init__(self, input_dim, hidden_dim):\n",
        "        super(FeedForward, self).__init__()\n",
        "        self.bn1 = nn.BatchNorm1d(input_dim)\n",
        "        self.fc1 = Perceptron(input_dim, 2 * hidden_dim)\n",
        "        self.dp1 = nn.Dropout(0.25)\n",
        "        self.bn2 = nn.BatchNorm1d(2 * hidden_dim)\n",
        "        self.fc2 = Perceptron(2 * hidden_dim, hidden_dim)\n",
        "        self.dp2 = nn.Dropout(0.25)\n",
        "        self.bn3 = nn.BatchNorm1d(hidden_dim)\n",
        "        self.fc3 = Perceptron(hidden_dim, 1)\n",
        "\n",
        "    def forward(self, x):\n",
        "        x = self.bn1(x)\n",
        "        x = self.fc1(x)\n",
        "        x = self.dp1(x)\n",
        "        x = self.bn2(x)\n",
        "        x = self.fc2(x)\n",
        "        x = self.dp2(x)\n",
        "        x = self.bn3(x)\n",
        "        x = self.fc3(x)\n",
        "        return x"
      ],
      "metadata": {
        "id": "h2dfr_h68bE5"
      },
      "execution_count": 110,
      "outputs": []
    },
    {
      "cell_type": "code",
      "source": [
        "def model_comparing(model, optimizer):\n",
        "\n",
        "    train_r2 = torchmetrics.R2Score()\n",
        "    test_r2 = torchmetrics.R2Score()\n",
        "\n",
        "    r2_train_list = []\n",
        "    r2_test_list = []\n",
        "\n",
        "    for epoch in range(200):\n",
        "\n",
        "        model.train()\n",
        "\n",
        "        for i, data in enumerate(train_loader):\n",
        "            inputs, target = data[0], data[1]\n",
        "            optimizer.zero_grad()\n",
        "            outputs = model(inputs)\n",
        "            batch_r2 = train_r2(outputs.squeeze(), target)\n",
        "            # Рассчитываем лосс-функцию (функцию потерь) log RMSE\n",
        "            eps = 1e-6\n",
        "\n",
        "            loss = torch.sqrt(criterion(outputs.squeeze(), target) + eps)\n",
        "            loss.backward()\n",
        "            optimizer.step()\n",
        "\n",
        "\n",
        "\n",
        "        model.eval()\n",
        "\n",
        "        for i, data in enumerate(test_loader):\n",
        "            inputs, target = data[0], data[1]\n",
        "            outputs = model(inputs)\n",
        "            test_r2(outputs.squeeze(), target)\n",
        "\n",
        "        # total r2 over all training batches\n",
        "        total_train_r2 = train_r2.compute()\n",
        "        # total r2 over all training batches\n",
        "        total_test_r2 = test_r2.compute()\n",
        "\n",
        "        r2_train_list.append(total_train_r2)\n",
        "        r2_test_list.append(total_test_r2)\n",
        "        print(f'Epoch {epoch+1}: r2_train = {total_train_r2}, r2_test = {total_test_r2}')\n",
        "\n",
        "        #reset for next epoch\n",
        "        train_r2.reset()\n",
        "        test_r2.reset()\n",
        "\n",
        "    return r2_train_list, r2_test_list"
      ],
      "metadata": {
        "id": "LpEj6UHD8bN8"
      },
      "execution_count": 129,
      "outputs": []
    },
    {
      "cell_type": "code",
      "source": [
        "def metrics_view(r2_train_list, r2_test_list, optim):\n",
        "\n",
        "    epoch = np.arange(1,201,1)\n",
        "    y_train = r2_train_list\n",
        "    y_test = r2_test_list\n",
        "    plt.plot(epoch, y_train, label='R2_train')\n",
        "    plt.plot(epoch, y_test, label='R2_test')\n",
        "    plt.title(f\"{optim}\")\n",
        "    plt.ylabel('R2_score')\n",
        "    plt.xlabel('epochs')\n",
        "    plt.legend()\n",
        "    plt.show()"
      ],
      "metadata": {
        "id": "DE7ycLFD8bWI"
      },
      "execution_count": 130,
      "outputs": []
    },
    {
      "cell_type": "markdown",
      "source": [
        "SDG"
      ],
      "metadata": {
        "id": "79BcYSat8-Oc"
      }
    },
    {
      "cell_type": "code",
      "source": [
        "model = FeedForward(8, 400)\n",
        "print(model)\n",
        "\n",
        "criterion = nn.MSELoss()\n",
        "optimizer = torch.optim.SGD(model.parameters(), lr=0.0005, momentum=0.0)\n",
        "r2_train_SGD, r2_test_SGD = model_comparing(model, optimizer)\n",
        "\n",
        "# optimizer = torch.optim.SGD(model.parameters(), lr=0.01)"
      ],
      "metadata": {
        "colab": {
          "base_uri": "https://localhost:8080/"
        },
        "id": "Eo6eAXyV8bhQ",
        "outputId": "d35e6762-6de0-48b2-c91d-6c0635917955"
      },
      "execution_count": 131,
      "outputs": [
        {
          "output_type": "stream",
          "name": "stdout",
          "text": [
            "FeedForward(\n",
            "  (bn1): BatchNorm1d(8, eps=1e-05, momentum=0.1, affine=True, track_running_stats=True)\n",
            "  (fc1): Perceptron(\n",
            "    (fc): Linear(in_features=8, out_features=800, bias=True)\n",
            "  )\n",
            "  (dp1): Dropout(p=0.25, inplace=False)\n",
            "  (bn2): BatchNorm1d(800, eps=1e-05, momentum=0.1, affine=True, track_running_stats=True)\n",
            "  (fc2): Perceptron(\n",
            "    (fc): Linear(in_features=800, out_features=400, bias=True)\n",
            "  )\n",
            "  (dp2): Dropout(p=0.25, inplace=False)\n",
            "  (bn3): BatchNorm1d(400, eps=1e-05, momentum=0.1, affine=True, track_running_stats=True)\n",
            "  (fc3): Perceptron(\n",
            "    (fc): Linear(in_features=400, out_features=1, bias=True)\n",
            "  )\n",
            ")\n",
            "Epoch 1: r2_train = -1.6676268577575684, r2_test = -1.2168643474578857\n",
            "Epoch 2: r2_train = -0.624397873878479, r2_test = -0.4164412021636963\n",
            "Epoch 3: r2_train = -0.268100380897522, r2_test = -0.18861865997314453\n",
            "Epoch 4: r2_train = -0.1329958438873291, r2_test = 0.02008211612701416\n",
            "Epoch 5: r2_train = -0.06441259384155273, r2_test = 0.07025688886642456\n",
            "Epoch 6: r2_train = -0.013594269752502441, r2_test = 0.03295677900314331\n",
            "Epoch 7: r2_train = 0.018902122974395752, r2_test = 0.2854781746864319\n",
            "Epoch 8: r2_train = 0.044600069522857666, r2_test = 0.2939354181289673\n",
            "Epoch 9: r2_train = 0.07826769351959229, r2_test = 0.29369980096817017\n",
            "Epoch 10: r2_train = 0.0802987813949585, r2_test = 0.26453953981399536\n",
            "Epoch 11: r2_train = 0.11930251121520996, r2_test = 0.3085765838623047\n",
            "Epoch 12: r2_train = 0.12571418285369873, r2_test = 0.2950284481048584\n",
            "Epoch 13: r2_train = 0.1399591565132141, r2_test = 0.35228490829467773\n",
            "Epoch 14: r2_train = 0.14832401275634766, r2_test = 0.37291836738586426\n",
            "Epoch 15: r2_train = 0.16281187534332275, r2_test = 0.3748406767845154\n",
            "Epoch 16: r2_train = 0.18083959817886353, r2_test = 0.3714500069618225\n",
            "Epoch 17: r2_train = 0.18397021293640137, r2_test = 0.37668299674987793\n",
            "Epoch 18: r2_train = 0.19500643014907837, r2_test = 0.41720032691955566\n",
            "Epoch 19: r2_train = 0.19782793521881104, r2_test = 0.41954052448272705\n",
            "Epoch 20: r2_train = 0.21470028162002563, r2_test = 0.34022796154022217\n",
            "Epoch 21: r2_train = 0.22220724821090698, r2_test = 0.40627193450927734\n",
            "Epoch 22: r2_train = 0.21473675966262817, r2_test = 0.40769827365875244\n",
            "Epoch 23: r2_train = 0.2352120280265808, r2_test = 0.448527991771698\n",
            "Epoch 24: r2_train = 0.23303401470184326, r2_test = 0.4875327944755554\n",
            "Epoch 25: r2_train = 0.23458677530288696, r2_test = 0.44731003046035767\n",
            "Epoch 26: r2_train = 0.25337088108062744, r2_test = 0.4696385860443115\n",
            "Epoch 27: r2_train = 0.2646246552467346, r2_test = 0.46599727869033813\n",
            "Epoch 28: r2_train = 0.26512962579727173, r2_test = 0.453776478767395\n",
            "Epoch 29: r2_train = 0.27221614122390747, r2_test = 0.4374278783798218\n",
            "Epoch 30: r2_train = 0.28136736154556274, r2_test = 0.49964046478271484\n",
            "Epoch 31: r2_train = 0.2856242060661316, r2_test = 0.5129562616348267\n",
            "Epoch 32: r2_train = 0.28508561849594116, r2_test = 0.4836949110031128\n",
            "Epoch 33: r2_train = 0.28695809841156006, r2_test = 0.4935763478279114\n",
            "Epoch 34: r2_train = 0.30324989557266235, r2_test = 0.5167691111564636\n",
            "Epoch 35: r2_train = 0.3043976426124573, r2_test = 0.477713406085968\n",
            "Epoch 36: r2_train = 0.30295848846435547, r2_test = 0.5006115436553955\n",
            "Epoch 37: r2_train = 0.3097625970840454, r2_test = 0.48953914642333984\n",
            "Epoch 38: r2_train = 0.3138282299041748, r2_test = 0.5146492123603821\n",
            "Epoch 39: r2_train = 0.3213738203048706, r2_test = 0.5515178442001343\n",
            "Epoch 40: r2_train = 0.32018107175827026, r2_test = 0.5249921083450317\n",
            "Epoch 41: r2_train = 0.3356887102127075, r2_test = 0.5376743078231812\n",
            "Epoch 42: r2_train = 0.3431522846221924, r2_test = 0.4946293234825134\n",
            "Epoch 43: r2_train = 0.349859356880188, r2_test = 0.5821430683135986\n",
            "Epoch 44: r2_train = 0.34935104846954346, r2_test = 0.5017050504684448\n",
            "Epoch 45: r2_train = 0.3532963991165161, r2_test = 0.5665872097015381\n",
            "Epoch 46: r2_train = 0.35986340045928955, r2_test = 0.5493103265762329\n",
            "Epoch 47: r2_train = 0.35293048620224, r2_test = 0.45599818229675293\n",
            "Epoch 48: r2_train = 0.36775267124176025, r2_test = 0.5251696705818176\n",
            "Epoch 49: r2_train = 0.3663465976715088, r2_test = 0.5636455416679382\n",
            "Epoch 50: r2_train = 0.3800032138824463, r2_test = 0.554816484451294\n",
            "Epoch 51: r2_train = 0.3804222345352173, r2_test = 0.5917249321937561\n",
            "Epoch 52: r2_train = 0.3814573287963867, r2_test = 0.5795086622238159\n",
            "Epoch 53: r2_train = 0.37841522693634033, r2_test = 0.5096602439880371\n",
            "Epoch 54: r2_train = 0.38607674837112427, r2_test = 0.4971844553947449\n",
            "Epoch 55: r2_train = 0.39068448543548584, r2_test = 0.527214527130127\n",
            "Epoch 56: r2_train = 0.39947712421417236, r2_test = 0.5935618877410889\n",
            "Epoch 57: r2_train = 0.39465850591659546, r2_test = 0.5579352378845215\n",
            "Epoch 58: r2_train = 0.40900367498397827, r2_test = 0.5475059747695923\n",
            "Epoch 59: r2_train = 0.39917391538619995, r2_test = 0.542836606502533\n",
            "Epoch 60: r2_train = 0.4142392873764038, r2_test = 0.608299195766449\n",
            "Epoch 61: r2_train = 0.4236627221107483, r2_test = 0.5800933837890625\n",
            "Epoch 62: r2_train = 0.41891729831695557, r2_test = 0.5835079550743103\n",
            "Epoch 63: r2_train = 0.42219263315200806, r2_test = 0.5495253801345825\n",
            "Epoch 64: r2_train = 0.4216742515563965, r2_test = 0.5510528683662415\n",
            "Epoch 65: r2_train = 0.431099534034729, r2_test = 0.5822092294692993\n",
            "Epoch 66: r2_train = 0.4363066554069519, r2_test = 0.5763523578643799\n",
            "Epoch 67: r2_train = 0.43153345584869385, r2_test = 0.5523863434791565\n",
            "Epoch 68: r2_train = 0.44174808263778687, r2_test = 0.5525578856468201\n",
            "Epoch 69: r2_train = 0.440230131149292, r2_test = 0.5746211409568787\n",
            "Epoch 70: r2_train = 0.453738272190094, r2_test = 0.5485105514526367\n",
            "Epoch 71: r2_train = 0.45148980617523193, r2_test = 0.604946494102478\n",
            "Epoch 72: r2_train = 0.46009933948516846, r2_test = 0.5907663702964783\n",
            "Epoch 73: r2_train = 0.4627789855003357, r2_test = 0.5864543914794922\n",
            "Epoch 74: r2_train = 0.45849859714508057, r2_test = 0.5938988924026489\n",
            "Epoch 75: r2_train = 0.4672454595565796, r2_test = 0.5947445034980774\n",
            "Epoch 76: r2_train = 0.4739598035812378, r2_test = 0.5794362425804138\n",
            "Epoch 77: r2_train = 0.4766320586204529, r2_test = 0.6182669401168823\n",
            "Epoch 78: r2_train = 0.4746047854423523, r2_test = 0.6014049053192139\n",
            "Epoch 79: r2_train = 0.48311692476272583, r2_test = 0.5790645480155945\n",
            "Epoch 80: r2_train = 0.47436195611953735, r2_test = 0.5890004634857178\n",
            "Epoch 81: r2_train = 0.4796481132507324, r2_test = 0.5953142642974854\n",
            "Epoch 82: r2_train = 0.48183614015579224, r2_test = 0.5838103294372559\n",
            "Epoch 83: r2_train = 0.49388623237609863, r2_test = 0.601149320602417\n",
            "Epoch 84: r2_train = 0.4987298846244812, r2_test = 0.5375223159790039\n",
            "Epoch 85: r2_train = 0.49893492460250854, r2_test = 0.5819112658500671\n",
            "Epoch 86: r2_train = 0.49560368061065674, r2_test = 0.5836924314498901\n",
            "Epoch 87: r2_train = 0.5030028820037842, r2_test = 0.5918852686882019\n",
            "Epoch 88: r2_train = 0.5047274827957153, r2_test = 0.6156987547874451\n",
            "Epoch 89: r2_train = 0.5126432180404663, r2_test = 0.6056435108184814\n",
            "Epoch 90: r2_train = 0.5123459696769714, r2_test = 0.5872523784637451\n",
            "Epoch 91: r2_train = 0.5185598731040955, r2_test = 0.6000156402587891\n",
            "Epoch 92: r2_train = 0.527334451675415, r2_test = 0.5763447880744934\n",
            "Epoch 93: r2_train = 0.5283516049385071, r2_test = 0.592257022857666\n",
            "Epoch 94: r2_train = 0.527503252029419, r2_test = 0.5901084542274475\n",
            "Epoch 95: r2_train = 0.53291916847229, r2_test = 0.5897246599197388\n",
            "Epoch 96: r2_train = 0.5373377799987793, r2_test = 0.5695203542709351\n",
            "Epoch 97: r2_train = 0.5424164533615112, r2_test = 0.6432128548622131\n",
            "Epoch 98: r2_train = 0.538762092590332, r2_test = 0.6323287487030029\n",
            "Epoch 99: r2_train = 0.537639319896698, r2_test = 0.5826095342636108\n",
            "Epoch 100: r2_train = 0.5494723320007324, r2_test = 0.5931988954544067\n",
            "Epoch 101: r2_train = 0.5462868213653564, r2_test = 0.5743359327316284\n",
            "Epoch 102: r2_train = 0.5502939820289612, r2_test = 0.6165602803230286\n",
            "Epoch 103: r2_train = 0.5563112497329712, r2_test = 0.5847232341766357\n",
            "Epoch 104: r2_train = 0.5529236793518066, r2_test = 0.6271795034408569\n",
            "Epoch 105: r2_train = 0.5571784377098083, r2_test = 0.648888111114502\n",
            "Epoch 106: r2_train = 0.5675631165504456, r2_test = 0.6014770269393921\n",
            "Epoch 107: r2_train = 0.568205714225769, r2_test = 0.627210259437561\n",
            "Epoch 108: r2_train = 0.574857234954834, r2_test = 0.5522959232330322\n",
            "Epoch 109: r2_train = 0.5660394430160522, r2_test = 0.5942977666854858\n",
            "Epoch 110: r2_train = 0.5739918351173401, r2_test = 0.5816234350204468\n",
            "Epoch 111: r2_train = 0.5760641098022461, r2_test = 0.5732641220092773\n",
            "Epoch 112: r2_train = 0.5835685729980469, r2_test = 0.6270321607589722\n",
            "Epoch 113: r2_train = 0.580122709274292, r2_test = 0.6589969992637634\n",
            "Epoch 114: r2_train = 0.5865966081619263, r2_test = 0.6698158979415894\n",
            "Epoch 115: r2_train = 0.5920010805130005, r2_test = 0.5693085193634033\n",
            "Epoch 116: r2_train = 0.5898724794387817, r2_test = 0.6690473556518555\n",
            "Epoch 117: r2_train = 0.5956383347511292, r2_test = 0.649163007736206\n",
            "Epoch 118: r2_train = 0.6009957790374756, r2_test = 0.5920077562332153\n",
            "Epoch 119: r2_train = 0.6046285033226013, r2_test = 0.6240779161453247\n",
            "Epoch 120: r2_train = 0.6117986440658569, r2_test = 0.5726070404052734\n",
            "Epoch 121: r2_train = 0.6166350841522217, r2_test = 0.5850710868835449\n",
            "Epoch 122: r2_train = 0.61622154712677, r2_test = 0.6585015058517456\n",
            "Epoch 123: r2_train = 0.6156127452850342, r2_test = 0.6620393395423889\n",
            "Epoch 124: r2_train = 0.6230446100234985, r2_test = 0.5942617654800415\n",
            "Epoch 125: r2_train = 0.6250982284545898, r2_test = 0.6193180084228516\n",
            "Epoch 126: r2_train = 0.632176399230957, r2_test = 0.557343065738678\n",
            "Epoch 127: r2_train = 0.6418864727020264, r2_test = 0.5753263235092163\n",
            "Epoch 128: r2_train = 0.6387206315994263, r2_test = 0.6780750155448914\n",
            "Epoch 129: r2_train = 0.6439609527587891, r2_test = 0.670138955116272\n",
            "Epoch 130: r2_train = 0.6508790254592896, r2_test = 0.5804440975189209\n",
            "Epoch 131: r2_train = 0.6552976369857788, r2_test = 0.5936200022697449\n",
            "Epoch 132: r2_train = 0.6578312516212463, r2_test = 0.5794676542282104\n",
            "Epoch 133: r2_train = 0.6605542898178101, r2_test = 0.6842469573020935\n",
            "Epoch 134: r2_train = 0.6606696248054504, r2_test = 0.6294498443603516\n",
            "Epoch 135: r2_train = 0.6724636554718018, r2_test = 0.6134935617446899\n",
            "Epoch 136: r2_train = 0.6721029281616211, r2_test = 0.6170799732208252\n",
            "Epoch 137: r2_train = 0.6744785308837891, r2_test = 0.5882830619812012\n",
            "Epoch 138: r2_train = 0.6726256608963013, r2_test = 0.6291276216506958\n",
            "Epoch 139: r2_train = 0.6771224737167358, r2_test = 0.7067838907241821\n",
            "Epoch 140: r2_train = 0.6783250570297241, r2_test = 0.6778367757797241\n",
            "Epoch 141: r2_train = 0.6815313100814819, r2_test = 0.6272799968719482\n",
            "Epoch 142: r2_train = 0.6801685690879822, r2_test = 0.7279478311538696\n",
            "Epoch 143: r2_train = 0.6910190582275391, r2_test = 0.6272927522659302\n",
            "Epoch 144: r2_train = 0.6818884611129761, r2_test = 0.6155633926391602\n",
            "Epoch 145: r2_train = 0.6867860555648804, r2_test = 0.6245580911636353\n",
            "Epoch 146: r2_train = 0.6832220554351807, r2_test = 0.6995695233345032\n",
            "Epoch 147: r2_train = 0.6864545345306396, r2_test = 0.596030592918396\n",
            "Epoch 148: r2_train = 0.6906825304031372, r2_test = 0.7363079786300659\n",
            "Epoch 149: r2_train = 0.6891564130783081, r2_test = 0.6161330938339233\n",
            "Epoch 150: r2_train = 0.6909841299057007, r2_test = 0.7263017892837524\n",
            "Epoch 151: r2_train = 0.6941949725151062, r2_test = 0.6256921291351318\n",
            "Epoch 152: r2_train = 0.6969138383865356, r2_test = 0.7292407751083374\n",
            "Epoch 153: r2_train = 0.6938471794128418, r2_test = 0.6935597658157349\n",
            "Epoch 154: r2_train = 0.694729208946228, r2_test = 0.7272477149963379\n",
            "Epoch 155: r2_train = 0.6974111199378967, r2_test = 0.6134868264198303\n",
            "Epoch 156: r2_train = 0.6892629861831665, r2_test = 0.7016435861587524\n",
            "Epoch 157: r2_train = 0.6947348117828369, r2_test = 0.650580883026123\n",
            "Epoch 158: r2_train = 0.6912214756011963, r2_test = 0.6244362592697144\n",
            "Epoch 159: r2_train = 0.6974215507507324, r2_test = 0.6159523129463196\n",
            "Epoch 160: r2_train = 0.6940891742706299, r2_test = 0.6174542307853699\n",
            "Epoch 161: r2_train = 0.6967628002166748, r2_test = 0.6691576838493347\n",
            "Epoch 162: r2_train = 0.6930325031280518, r2_test = 0.6386168003082275\n",
            "Epoch 163: r2_train = 0.696619987487793, r2_test = 0.6325390338897705\n",
            "Epoch 164: r2_train = 0.7007253170013428, r2_test = 0.6444836854934692\n",
            "Epoch 165: r2_train = 0.6975524425506592, r2_test = 0.7006646394729614\n",
            "Epoch 166: r2_train = 0.7025884389877319, r2_test = 0.6182387471199036\n",
            "Epoch 167: r2_train = 0.6987336874008179, r2_test = 0.6424131393432617\n",
            "Epoch 168: r2_train = 0.6996126770973206, r2_test = 0.6496554613113403\n",
            "Epoch 169: r2_train = 0.7011609077453613, r2_test = 0.6441138982772827\n",
            "Epoch 170: r2_train = 0.7004539966583252, r2_test = 0.6386061906814575\n",
            "Epoch 171: r2_train = 0.7034814357757568, r2_test = 0.7285857200622559\n",
            "Epoch 172: r2_train = 0.701176643371582, r2_test = 0.6166852712631226\n",
            "Epoch 173: r2_train = 0.7002007365226746, r2_test = 0.6934675574302673\n",
            "Epoch 174: r2_train = 0.7068639993667603, r2_test = 0.6176051497459412\n",
            "Epoch 175: r2_train = 0.7006012201309204, r2_test = 0.6207587718963623\n",
            "Epoch 176: r2_train = 0.7009638547897339, r2_test = 0.716393232345581\n",
            "Epoch 177: r2_train = 0.7085489630699158, r2_test = 0.6480247378349304\n",
            "Epoch 178: r2_train = 0.7045562267303467, r2_test = 0.6924464702606201\n",
            "Epoch 179: r2_train = 0.6988312005996704, r2_test = 0.6238635778427124\n",
            "Epoch 180: r2_train = 0.6997946500778198, r2_test = 0.6521221399307251\n",
            "Epoch 181: r2_train = 0.700175404548645, r2_test = 0.7156701683998108\n",
            "Epoch 182: r2_train = 0.700881838798523, r2_test = 0.6905815601348877\n",
            "Epoch 183: r2_train = 0.7016769647598267, r2_test = 0.6665208339691162\n",
            "Epoch 184: r2_train = 0.7061440944671631, r2_test = 0.6977739334106445\n",
            "Epoch 185: r2_train = 0.6968581080436707, r2_test = 0.6350476741790771\n",
            "Epoch 186: r2_train = 0.7017536163330078, r2_test = 0.7273683547973633\n",
            "Epoch 187: r2_train = 0.702075719833374, r2_test = 0.6391497254371643\n",
            "Epoch 188: r2_train = 0.7081508636474609, r2_test = 0.6186312437057495\n",
            "Epoch 189: r2_train = 0.7039436101913452, r2_test = 0.6764061450958252\n",
            "Epoch 190: r2_train = 0.7048441171646118, r2_test = 0.6517119407653809\n",
            "Epoch 191: r2_train = 0.7006754279136658, r2_test = 0.6207270622253418\n",
            "Epoch 192: r2_train = 0.708865761756897, r2_test = 0.7275080680847168\n",
            "Epoch 193: r2_train = 0.7040013670921326, r2_test = 0.6422549486160278\n",
            "Epoch 194: r2_train = 0.7028124332427979, r2_test = 0.7308356761932373\n",
            "Epoch 195: r2_train = 0.7052829265594482, r2_test = 0.738381564617157\n",
            "Epoch 196: r2_train = 0.7055704593658447, r2_test = 0.6952577233314514\n",
            "Epoch 197: r2_train = 0.7100124359130859, r2_test = 0.6293149590492249\n",
            "Epoch 198: r2_train = 0.7048890590667725, r2_test = 0.6500788927078247\n",
            "Epoch 199: r2_train = 0.708332359790802, r2_test = 0.6375056505203247\n",
            "Epoch 200: r2_train = 0.7053492069244385, r2_test = 0.7489551305770874\n"
          ]
        }
      ]
    },
    {
      "cell_type": "code",
      "source": [
        "metrics_view(r2_train_SGD, r2_test_SGD, 'SGD')"
      ],
      "metadata": {
        "colab": {
          "base_uri": "https://localhost:8080/",
          "height": 472
        },
        "id": "UTVjdiJW8br1",
        "outputId": "006c3f0f-f3ef-4103-b82c-6e9da96f2ae0"
      },
      "execution_count": 132,
      "outputs": [
        {
          "output_type": "display_data",
          "data": {
            "text/plain": [
              "<Figure size 640x480 with 1 Axes>"
            ],
            "image/png": "[encoded data removed]"
          },
          "metadata": {}
        }
      ]
    },
    {
      "cell_type": "markdown",
      "source": [
        "Для RMS_prop & Adam беру 30 эпох, иначе происходит переучивание"
      ],
      "metadata": {
        "id": "hohNu0GZNbSB"
      }
    },
    {
      "cell_type": "code",
      "source": [
        "def model_comparing(model, optimizer):\n",
        "\n",
        "    train_r2 = torchmetrics.R2Score()\n",
        "    test_r2 = torchmetrics.R2Score()\n",
        "\n",
        "    r2_train_list = []\n",
        "    r2_test_list = []\n",
        "\n",
        "    for epoch in range(30):\n",
        "\n",
        "        model.train()\n",
        "\n",
        "        for i, data in enumerate(train_loader):\n",
        "            inputs, target = data[0], data[1]\n",
        "            optimizer.zero_grad()\n",
        "            outputs = model(inputs)\n",
        "            batch_r2 = train_r2(outputs.squeeze(), target)\n",
        "            # Рассчитываем лосс-функцию (функцию потерь) log RMSE\n",
        "            eps = 1e-6\n",
        "\n",
        "            loss = torch.sqrt(criterion(outputs.squeeze(), target) + eps)\n",
        "            loss.backward()\n",
        "            optimizer.step()\n",
        "\n",
        "\n",
        "\n",
        "        model.eval()\n",
        "\n",
        "        for i, data in enumerate(test_loader):\n",
        "            inputs, target = data[0], data[1]\n",
        "            outputs = model(inputs)\n",
        "            test_r2(outputs.squeeze(), target)\n",
        "\n",
        "        # total r2 over all training batches\n",
        "        total_train_r2 = train_r2.compute()\n",
        "        # total r2 over all training batches\n",
        "        total_test_r2 = test_r2.compute()\n",
        "\n",
        "        r2_train_list.append(total_train_r2)\n",
        "        r2_test_list.append(total_test_r2)\n",
        "        print(f'Epoch {epoch+1}: r2_train = {total_train_r2}, r2_test = {total_test_r2}')\n",
        "\n",
        "        #reset for next epoch\n",
        "        train_r2.reset()\n",
        "        test_r2.reset()\n",
        "\n",
        "    return r2_train_list, r2_test_list"
      ],
      "metadata": {
        "id": "syb1o0EBNPdY"
      },
      "execution_count": 115,
      "outputs": []
    },
    {
      "cell_type": "code",
      "source": [
        "def metrics_view(r2_train_list, r2_test_list, optim):\n",
        "\n",
        "    epoch = np.arange(1,31,1)\n",
        "    y_train = r2_train_list\n",
        "    y_test = r2_test_list\n",
        "    plt.plot(epoch, y_train, label='R2_train')\n",
        "    plt.plot(epoch, y_test, label='R2_test')\n",
        "    plt.title(f\"{optim}\")\n",
        "    plt.ylabel('R2_score')\n",
        "    plt.xlabel('epochs')\n",
        "    plt.legend()\n",
        "    plt.show()"
      ],
      "metadata": {
        "id": "ieWJ_FaXNPdZ"
      },
      "execution_count": 116,
      "outputs": []
    },
    {
      "cell_type": "markdown",
      "source": [
        "\n",
        "\n",
        "RMS_PROP\n"
      ],
      "metadata": {
        "id": "Cu-pdDYL9KD6"
      }
    },
    {
      "cell_type": "code",
      "source": [
        "model = FeedForward(8, 400)\n",
        "print(model)\n",
        "criterion = nn.MSELoss()\n",
        "optimizer = torch.optim.RMSprop(model.parameters(), lr=0.0005)\n",
        "r2_train_RMSprop, r2_test_RMSprop = model_comparing(model, optimizer)"
      ],
      "metadata": {
        "colab": {
          "base_uri": "https://localhost:8080/"
        },
        "id": "_N5xEXnh8b1-",
        "outputId": "2b1717e1-dc29-4b4f-bcbb-7098191051c7"
      },
      "execution_count": 117,
      "outputs": [
        {
          "output_type": "stream",
          "name": "stdout",
          "text": [
            "FeedForward(\n",
            "  (bn1): BatchNorm1d(8, eps=1e-05, momentum=0.1, affine=True, track_running_stats=True)\n",
            "  (fc1): Perceptron(\n",
            "    (fc): Linear(in_features=8, out_features=800, bias=True)\n",
            "  )\n",
            "  (dp1): Dropout(p=0.25, inplace=False)\n",
            "  (bn2): BatchNorm1d(800, eps=1e-05, momentum=0.1, affine=True, track_running_stats=True)\n",
            "  (fc2): Perceptron(\n",
            "    (fc): Linear(in_features=800, out_features=400, bias=True)\n",
            "  )\n",
            "  (dp2): Dropout(p=0.25, inplace=False)\n",
            "  (bn3): BatchNorm1d(400, eps=1e-05, momentum=0.1, affine=True, track_running_stats=True)\n",
            "  (fc3): Perceptron(\n",
            "    (fc): Linear(in_features=400, out_features=1, bias=True)\n",
            "  )\n",
            ")\n",
            "Epoch 1: r2_train = 0.219495952129364, r2_test = 0.562761664390564\n",
            "Epoch 2: r2_train = 0.45290297269821167, r2_test = 0.6263526678085327\n",
            "Epoch 3: r2_train = 0.5511770248413086, r2_test = 0.6097003221511841\n",
            "Epoch 4: r2_train = 0.5934975147247314, r2_test = 0.6926482915878296\n",
            "Epoch 5: r2_train = 0.6282854080200195, r2_test = 0.6970338821411133\n",
            "Epoch 6: r2_train = 0.6288028955459595, r2_test = 0.6604025959968567\n",
            "Epoch 7: r2_train = 0.6360182166099548, r2_test = 0.7278330326080322\n",
            "Epoch 8: r2_train = 0.6525765657424927, r2_test = 0.7307349443435669\n",
            "Epoch 9: r2_train = 0.6512911319732666, r2_test = 0.6489503383636475\n",
            "Epoch 10: r2_train = 0.6664515733718872, r2_test = 0.7311186194419861\n",
            "Epoch 11: r2_train = 0.6687639355659485, r2_test = 0.6499835252761841\n",
            "Epoch 12: r2_train = 0.6684256792068481, r2_test = 0.7103549242019653\n",
            "Epoch 13: r2_train = 0.6799372434616089, r2_test = 0.7293283939361572\n",
            "Epoch 14: r2_train = 0.6821482181549072, r2_test = 0.6953456401824951\n",
            "Epoch 15: r2_train = 0.6930915713310242, r2_test = 0.7414429187774658\n",
            "Epoch 16: r2_train = 0.6927704811096191, r2_test = 0.7355598211288452\n",
            "Epoch 17: r2_train = 0.6958835124969482, r2_test = 0.6416391134262085\n",
            "Epoch 18: r2_train = 0.7017948627471924, r2_test = 0.6338847875595093\n",
            "Epoch 19: r2_train = 0.6990523338317871, r2_test = 0.6443707346916199\n",
            "Epoch 20: r2_train = 0.7151722311973572, r2_test = 0.7482931613922119\n",
            "Epoch 21: r2_train = 0.7117882966995239, r2_test = 0.6843549013137817\n",
            "Epoch 22: r2_train = 0.7241486310958862, r2_test = 0.6519253849983215\n",
            "Epoch 23: r2_train = 0.7165466547012329, r2_test = 0.739599347114563\n",
            "Epoch 24: r2_train = 0.7205478549003601, r2_test = 0.7584195137023926\n",
            "Epoch 25: r2_train = 0.726538896560669, r2_test = 0.6724565029144287\n",
            "Epoch 26: r2_train = 0.7255058288574219, r2_test = 0.6647814512252808\n",
            "Epoch 27: r2_train = 0.7259844541549683, r2_test = 0.6996036767959595\n",
            "Epoch 28: r2_train = 0.7335802316665649, r2_test = 0.6525777578353882\n",
            "Epoch 29: r2_train = 0.73307204246521, r2_test = 0.6255899667739868\n",
            "Epoch 30: r2_train = 0.7305892705917358, r2_test = 0.7369009852409363\n"
          ]
        }
      ]
    },
    {
      "cell_type": "code",
      "source": [
        "metrics_view(r2_train_RMSprop, r2_test_RMSprop, 'RMSprop')"
      ],
      "metadata": {
        "colab": {
          "base_uri": "https://localhost:8080/",
          "height": 472
        },
        "id": "OExkdNrb8cC6",
        "outputId": "2d145e50-59a6-4878-ec6a-25845c72b8d9"
      },
      "execution_count": 118,
      "outputs": [
        {
          "output_type": "display_data",
          "data": {
            "text/plain": [
              "<Figure size 640x480 with 1 Axes>"
            ],
            "image/png": "[encoded data removed]"
          },
          "metadata": {}
        }
      ]
    },
    {
      "cell_type": "markdown",
      "source": [
        "Adam"
      ],
      "metadata": {
        "id": "Inp32fly9Vsj"
      }
    },
    {
      "cell_type": "code",
      "source": [
        "model = FeedForward(8, 400)\n",
        "# print(model)\n",
        "criterion = nn.MSELoss()\n",
        "optimizer = torch.optim.Adam(model.parameters(), lr=0.0005)\n",
        "r2_train_Adam, r2_test_Adam = model_comparing(model, optimizer)"
      ],
      "metadata": {
        "colab": {
          "base_uri": "https://localhost:8080/"
        },
        "id": "aAiXAEJR9USC",
        "outputId": "0accb22b-5e98-4050-b90e-032e3ce7a237"
      },
      "execution_count": 119,
      "outputs": [
        {
          "output_type": "stream",
          "name": "stdout",
          "text": [
            "Epoch 1: r2_train = 0.1262742280960083, r2_test = 0.49301862716674805\n",
            "Epoch 2: r2_train = 0.40739476680755615, r2_test = 0.5815033912658691\n",
            "Epoch 3: r2_train = 0.5360355377197266, r2_test = 0.5533239841461182\n",
            "Epoch 4: r2_train = 0.5947792530059814, r2_test = 0.544237494468689\n",
            "Epoch 5: r2_train = 0.623010516166687, r2_test = 0.6869124174118042\n",
            "Epoch 6: r2_train = 0.639955461025238, r2_test = 0.6180956363677979\n",
            "Epoch 7: r2_train = 0.6461686491966248, r2_test = 0.7063753008842468\n",
            "Epoch 8: r2_train = 0.6610053777694702, r2_test = 0.6529668569564819\n",
            "Epoch 9: r2_train = 0.6644257307052612, r2_test = 0.6094527244567871\n",
            "Epoch 10: r2_train = 0.6747927665710449, r2_test = 0.7104008197784424\n",
            "Epoch 11: r2_train = 0.6818166971206665, r2_test = 0.6467560529708862\n",
            "Epoch 12: r2_train = 0.6816895604133606, r2_test = 0.6816613674163818\n",
            "Epoch 13: r2_train = 0.6828573942184448, r2_test = 0.7441846132278442\n",
            "Epoch 14: r2_train = 0.6987844705581665, r2_test = 0.6461995244026184\n",
            "Epoch 15: r2_train = 0.7037843465805054, r2_test = 0.7487726211547852\n",
            "Epoch 16: r2_train = 0.7022643089294434, r2_test = 0.6718692183494568\n",
            "Epoch 17: r2_train = 0.6987284421920776, r2_test = 0.6485269665718079\n",
            "Epoch 18: r2_train = 0.7097582817077637, r2_test = 0.699948787689209\n",
            "Epoch 19: r2_train = 0.7213798761367798, r2_test = 0.7524827718734741\n",
            "Epoch 20: r2_train = 0.7174031138420105, r2_test = 0.7301985025405884\n",
            "Epoch 21: r2_train = 0.7183071374893188, r2_test = 0.7593091726303101\n",
            "Epoch 22: r2_train = 0.7229291200637817, r2_test = 0.7493732571601868\n",
            "Epoch 23: r2_train = 0.7291479110717773, r2_test = 0.64860999584198\n",
            "Epoch 24: r2_train = 0.7267743349075317, r2_test = 0.6574685573577881\n",
            "Epoch 25: r2_train = 0.7310488224029541, r2_test = 0.6651729941368103\n",
            "Epoch 26: r2_train = 0.7277364730834961, r2_test = 0.7669273614883423\n",
            "Epoch 27: r2_train = 0.7318099737167358, r2_test = 0.7685760259628296\n",
            "Epoch 28: r2_train = 0.7309256196022034, r2_test = 0.6560714244842529\n",
            "Epoch 29: r2_train = 0.7364912629127502, r2_test = 0.7312126159667969\n",
            "Epoch 30: r2_train = 0.7375407218933105, r2_test = 0.6804385185241699\n"
          ]
        }
      ]
    },
    {
      "cell_type": "code",
      "source": [
        "metrics_view(r2_train_Adam, r2_test_Adam, 'Adam')"
      ],
      "metadata": {
        "colab": {
          "base_uri": "https://localhost:8080/",
          "height": 472
        },
        "id": "ft1bEFxD9UhT",
        "outputId": "392402bf-b871-472c-dcb6-165af6a033e1"
      },
      "execution_count": 120,
      "outputs": [
        {
          "output_type": "display_data",
          "data": {
            "text/plain": [
              "<Figure size 640x480 with 1 Axes>"
            ],
            "image/png": "[encoded data removed]"
          },
          "metadata": {}
        }
      ]
    },
    {
      "cell_type": "code",
      "source": [],
      "metadata": {
        "id": "nMSK-gza9UxJ"
      },
      "execution_count": 120,
      "outputs": []
    },
    {
      "cell_type": "markdown",
      "source": [
        "Срвненеи метрик"
      ],
      "metadata": {
        "id": "SiFwkxvk95Yn"
      }
    },
    {
      "cell_type": "code",
      "source": [
        "metrics_result = pd.DataFrame([{'r2_train': r2_train_SGD[-1].item(), 'r2_test': r2_test_SGD[-1].item()},\n",
        "                               {'r2_train': r2_train_RMSprop[-1].item(), 'r2_test': r2_test_RMSprop[-1].item()},\n",
        "                               {'r2_train': r2_train_Adam[-1].item(), 'r2_test': r2_test_Adam[-1].item()},\n",
        "                              ],\n",
        "                              index = ['SGD', 'RMSprop', 'Adam'],\n",
        "                              columns = ['r2_train', 'r2_test'])\n",
        "\n",
        "metrics_result.sort_values(by='r2_test', ascending=False)"
      ],
      "metadata": {
        "colab": {
          "base_uri": "https://localhost:8080/",
          "height": 143
        },
        "id": "X0xB0aVL-NuF",
        "outputId": "76545792-ae35-474d-abdc-c32fe9b81e8f"
      },
      "execution_count": 133,
      "outputs": [
        {
          "output_type": "execute_result",
          "data": {
            "text/plain": [
              "         r2_train   r2_test\n",
              "SGD      0.705349  0.748955\n",
              "RMSprop  0.730589  0.736901\n",
              "Adam     0.737541  0.680439"
            ],
            "text/html": [
              "\n",
              "  <div id=\"df-29856de4-0f74-4ee7-90cc-2f81e2d7a633\" class=\"colab-df-container\">\n",
              "    <div>\n",
              "<style scoped>\n",
              "    .dataframe tbody tr th:only-of-type {\n",
              "        vertical-align: middle;\n",
              "    }\n",
              "\n",
              "    .dataframe tbody tr th {\n",
              "        vertical-align: top;\n",
              "    }\n",
              "\n",
              "    .dataframe thead th {\n",
              "        text-align: right;\n",
              "    }\n",
              "</style>\n",
              "<table border=\"1\" class=\"dataframe\">\n",
              "  <thead>\n",
              "    <tr style=\"text-align: right;\">\n",
              "      <th></th>\n",
              "      <th>r2_train</th>\n",
              "      <th>r2_test</th>\n",
              "    </tr>\n",
              "  </thead>\n",
              "  <tbody>\n",
              "    <tr>\n",
              "      <th>SGD</th>\n",
              "      <td>0.705349</td>\n",
              "      <td>0.748955</td>\n",
              "    </tr>\n",
              "    <tr>\n",
              "      <th>RMSprop</th>\n",
              "      <td>0.730589</td>\n",
              "      <td>0.736901</td>\n",
              "    </tr>\n",
              "    <tr>\n",
              "      <th>Adam</th>\n",
              "      <td>0.737541</td>\n",
              "      <td>0.680439</td>\n",
              "    </tr>\n",
              "  </tbody>\n",
              "</table>\n",
              "</div>\n",
              "    <div class=\"colab-df-buttons\">\n",
              "\n",
              "  <div class=\"colab-df-container\">\n",
              "    <button class=\"colab-df-convert\" onclick=\"convertToInteractive('df-29856de4-0f74-4ee7-90cc-2f81e2d7a633')\"\n",
              "            title=\"Convert this dataframe to an interactive table.\"\n",
              "            style=\"display:none;\">\n",
              "\n",
              "  <svg xmlns=\"http://www.w3.org/2000/svg\" height=\"24px\" viewBox=\"0 -960 960 960\">\n",
              "    <path d=\"M120-120v-720h720v720H120Zm60-500h600v-160H180v160Zm220 220h160v-160H400v160Zm0 220h160v-160H400v160ZM180-400h160v-160H180v160Zm440 0h160v-160H620v160ZM180-180h160v-160H180v160Zm440 0h160v-160H620v160Z\"/>\n",
              "  </svg>\n",
              "    </button>\n",
              "\n",
              "  <style>\n",
              "    .colab-df-container {\n",
              "      display:flex;\n",
              "      gap: 12px;\n",
              "    }\n",
              "\n",
              "    .colab-df-convert {\n",
              "      background-color: #E8F0FE;\n",
              "      border: none;\n",
              "      border-radius: 50%;\n",
              "      cursor: pointer;\n",
              "      display: none;\n",
              "      fill: #1967D2;\n",
              "      height: 32px;\n",
              "      padding: 0 0 0 0;\n",
              "      width: 32px;\n",
              "    }\n",
              "\n",
              "    .colab-df-convert:hover {\n",
              "      background-color: #E2EBFA;\n",
              "      box-shadow: 0px 1px 2px rgba(60, 64, 67, 0.3), 0px 1px 3px 1px rgba(60, 64, 67, 0.15);\n",
              "      fill: #174EA6;\n",
              "    }\n",
              "\n",
              "    .colab-df-buttons div {\n",
              "      margin-bottom: 4px;\n",
              "    }\n",
              "\n",
              "    [theme=dark] .colab-df-convert {\n",
              "      background-color: #3B4455;\n",
              "      fill: #D2E3FC;\n",
              "    }\n",
              "\n",
              "    [theme=dark] .colab-df-convert:hover {\n",
              "      background-color: #434B5C;\n",
              "      box-shadow: 0px 1px 3px 1px rgba(0, 0, 0, 0.15);\n",
              "      filter: drop-shadow(0px 1px 2px rgba(0, 0, 0, 0.3));\n",
              "      fill: #FFFFFF;\n",
              "    }\n",
              "  </style>\n",
              "\n",
              "    <script>\n",
              "      const buttonEl =\n",
              "        document.querySelector('#df-29856de4-0f74-4ee7-90cc-2f81e2d7a633 button.colab-df-convert');\n",
              "      buttonEl.style.display =\n",
              "        google.colab.kernel.accessAllowed ? 'block' : 'none';\n",
              "\n",
              "      async function convertToInteractive(key) {\n",
              "        const element = document.querySelector('#df-29856de4-0f74-4ee7-90cc-2f81e2d7a633');\n",
              "        const dataTable =\n",
              "          await google.colab.kernel.invokeFunction('convertToInteractive',\n",
              "                                                    [key], {});\n",
              "        if (!dataTable) return;\n",
              "\n",
              "        const docLinkHtml = 'Like what you see? Visit the ' +\n",
              "          '<a target=\"_blank\" href=https://colab.research.google.com/notebooks/data_table.ipynb>data table notebook</a>'\n",
              "          + ' to learn more about interactive tables.';\n",
              "        element.innerHTML = '';\n",
              "        dataTable['output_type'] = 'display_data';\n",
              "        await google.colab.output.renderOutput(dataTable, element);\n",
              "        const docLink = document.createElement('div');\n",
              "        docLink.innerHTML = docLinkHtml;\n",
              "        element.appendChild(docLink);\n",
              "      }\n",
              "    </script>\n",
              "  </div>\n",
              "\n",
              "\n",
              "<div id=\"df-1818ed95-f23e-4bd4-9a58-b7d5b212a31e\">\n",
              "  <button class=\"colab-df-quickchart\" onclick=\"quickchart('df-1818ed95-f23e-4bd4-9a58-b7d5b212a31e')\"\n",
              "            title=\"Suggest charts.\"\n",
              "            style=\"display:none;\">\n",
              "\n",
              "<svg xmlns=\"http://www.w3.org/2000/svg\" height=\"24px\"viewBox=\"0 0 24 24\"\n",
              "     width=\"24px\">\n",
              "    <g>\n",
              "        <path d=\"M19 3H5c-1.1 0-2 .9-2 2v14c0 1.1.9 2 2 2h14c1.1 0 2-.9 2-2V5c0-1.1-.9-2-2-2zM9 17H7v-7h2v7zm4 0h-2V7h2v10zm4 0h-2v-4h2v4z\"/>\n",
              "    </g>\n",
              "</svg>\n",
              "  </button>\n",
              "\n",
              "<style>\n",
              "  .colab-df-quickchart {\n",
              "      --bg-color: #E8F0FE;\n",
              "      --fill-color: #1967D2;\n",
              "      --hover-bg-color: #E2EBFA;\n",
              "      --hover-fill-color: #174EA6;\n",
              "      --disabled-fill-color: #AAA;\n",
              "      --disabled-bg-color: #DDD;\n",
              "  }\n",
              "\n",
              "  [theme=dark] .colab-df-quickchart {\n",
              "      --bg-color: #3B4455;\n",
              "      --fill-color: #D2E3FC;\n",
              "      --hover-bg-color: #434B5C;\n",
              "      --hover-fill-color: #FFFFFF;\n",
              "      --disabled-bg-color: #3B4455;\n",
              "      --disabled-fill-color: #666;\n",
              "  }\n",
              "\n",
              "  .colab-df-quickchart {\n",
              "    background-color: var(--bg-color);\n",
              "    border: none;\n",
              "    border-radius: 50%;\n",
              "    cursor: pointer;\n",
              "    display: none;\n",
              "    fill: var(--fill-color);\n",
              "    height: 32px;\n",
              "    padding: 0;\n",
              "    width: 32px;\n",
              "  }\n",
              "\n",
              "  .colab-df-quickchart:hover {\n",
              "    background-color: var(--hover-bg-color);\n",
              "    box-shadow: 0 1px 2px rgba(60, 64, 67, 0.3), 0 1px 3px 1px rgba(60, 64, 67, 0.15);\n",
              "    fill: var(--button-hover-fill-color);\n",
              "  }\n",
              "\n",
              "  .colab-df-quickchart-complete:disabled,\n",
              "  .colab-df-quickchart-complete:disabled:hover {\n",
              "    background-color: var(--disabled-bg-color);\n",
              "    fill: var(--disabled-fill-color);\n",
              "    box-shadow: none;\n",
              "  }\n",
              "\n",
              "  .colab-df-spinner {\n",
              "    border: 2px solid var(--fill-color);\n",
              "    border-color: transparent;\n",
              "    border-bottom-color: var(--fill-color);\n",
              "    animation:\n",
              "      spin 1s steps(1) infinite;\n",
              "  }\n",
              "\n",
              "  @keyframes spin {\n",
              "    0% {\n",
              "      border-color: transparent;\n",
              "      border-bottom-color: var(--fill-color);\n",
              "      border-left-color: var(--fill-color);\n",
              "    }\n",
              "    20% {\n",
              "      border-color: transparent;\n",
              "      border-left-color: var(--fill-color);\n",
              "      border-top-color: var(--fill-color);\n",
              "    }\n",
              "    30% {\n",
              "      border-color: transparent;\n",
              "      border-left-color: var(--fill-color);\n",
              "      border-top-color: var(--fill-color);\n",
              "      border-right-color: var(--fill-color);\n",
              "    }\n",
              "    40% {\n",
              "      border-color: transparent;\n",
              "      border-right-color: var(--fill-color);\n",
              "      border-top-color: var(--fill-color);\n",
              "    }\n",
              "    60% {\n",
              "      border-color: transparent;\n",
              "      border-right-color: var(--fill-color);\n",
              "    }\n",
              "    80% {\n",
              "      border-color: transparent;\n",
              "      border-right-color: var(--fill-color);\n",
              "      border-bottom-color: var(--fill-color);\n",
              "    }\n",
              "    90% {\n",
              "      border-color: transparent;\n",
              "      border-bottom-color: var(--fill-color);\n",
              "    }\n",
              "  }\n",
              "</style>\n",
              "\n",
              "  <script>\n",
              "    async function quickchart(key) {\n",
              "      const quickchartButtonEl =\n",
              "        document.querySelector('#' + key + ' button');\n",
              "      quickchartButtonEl.disabled = true;  // To prevent multiple clicks.\n",
              "      quickchartButtonEl.classList.add('colab-df-spinner');\n",
              "      try {\n",
              "        const charts = await google.colab.kernel.invokeFunction(\n",
              "            'suggestCharts', [key], {});\n",
              "      } catch (error) {\n",
              "        console.error('Error during call to suggestCharts:', error);\n",
              "      }\n",
              "      quickchartButtonEl.classList.remove('colab-df-spinner');\n",
              "      quickchartButtonEl.classList.add('colab-df-quickchart-complete');\n",
              "    }\n",
              "    (() => {\n",
              "      let quickchartButtonEl =\n",
              "        document.querySelector('#df-1818ed95-f23e-4bd4-9a58-b7d5b212a31e button');\n",
              "      quickchartButtonEl.style.display =\n",
              "        google.colab.kernel.accessAllowed ? 'block' : 'none';\n",
              "    })();\n",
              "  </script>\n",
              "</div>\n",
              "    </div>\n",
              "  </div>\n"
            ]
          },
          "metadata": {},
          "execution_count": 133
        }
      ]
    },
    {
      "cell_type": "markdown",
      "source": [
        "Алгоримт SGD долго сходится - но достаточно стабильно. Ему требуется больше эпох, чтобы прийти к значениям метрик, которые достигаются другими алгоритмами значительно быстрее.\n",
        "\n",
        "Алгоритмы Adam и RMSprop сходятся примерно одинаково. И быстрее чем SGD."
      ],
      "metadata": {
        "id": "dxaa4BO0-VkZ"
      }
    },
    {
      "cell_type": "code",
      "source": [],
      "metadata": {
        "id": "cWUX22HJ-XUg"
      },
      "execution_count": 121,
      "outputs": []
    }
  ],
  "metadata": {
    "kernelspec": {
      "display_name": "Python 3",
      "name": "python3"
    },
    "language_info": {
      "codemirror_mode": {
        "name": "ipython",
        "version": 3
      },
      "file_extension": ".py",
      "mimetype": "text/x-python",
      "name": "python",
      "nbconvert_exporter": "python",
      "pygments_lexer": "ipython3",
      "version": "3.7.4"
    },
    "colab": {
      "provenance": [],
      "gpuType": "T4",
      "include_colab_link": true
    },
    "accelerator": "GPU"
  },
  "nbformat": 4,
  "nbformat_minor": 0
}