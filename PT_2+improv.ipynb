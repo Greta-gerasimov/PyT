{
  "cells": [
    {
      "cell_type": "markdown",
      "metadata": {
        "id": "view-in-github",
        "colab_type": "text"
      },
      "source": [
        "<a href=\"https://colab.research.google.com/github/Greta-gerasimov/PyT/blob/L2_feed_f/PT_2%2Bimprov.ipynb\" target=\"_parent\"><img src=\"https://colab.research.google.com/assets/colab-badge.svg\" alt=\"Open In Colab\"/></a>"
      ]
    },
    {
      "cell_type": "code",
      "execution_count": 33,
      "metadata": {
        "id": "HqtSegyLgzxO"
      },
      "outputs": [],
      "source": [
        "import torch\n",
        "import numpy as np\n",
        "\n",
        "from torch import nn\n",
        "from torch import optim\n",
        "import torch.nn.functional as F\n",
        "import torchvision\n",
        "import torchvision.transforms as transforms\n",
        "import matplotlib.pyplot as plt ### воспользуемся для отображения изображения"
      ]
    },
    {
      "cell_type": "markdown",
      "metadata": {
        "id": "6LfuiosLx2MW"
      },
      "source": [
        "из ДР №1:\n",
        "\n",
        "\n",
        "---\n",
        "\n",
        "*   обычная функция нахождения производной по х\n",
        "*   правильно ли я понимаю, что для дифференциирования нужно было использовать PT\n",
        "\n",
        "\n",
        "\n"
      ]
    },
    {
      "cell_type": "code",
      "execution_count": null,
      "metadata": {
        "colab": {
          "base_uri": "https://localhost:8080/"
        },
        "id": "zyH3vM2TsqjC",
        "outputId": "1a57df35-cd29-4e20-f5d0-d7049510b123"
      },
      "outputs": [
        {
          "output_type": "stream",
          "name": "stdout",
          "text": [
            "Производная функции в точке (1, 0.5, 2): 3\n"
          ]
        }
      ],
      "source": [
        "def func(x, z, t):\n",
        "  return x ** 3 + z - 75 * t\n",
        "\n",
        "#точка\n",
        "\n",
        "x = 1\n",
        "z = 0.5\n",
        "t = 2\n",
        "\n",
        "#дифференцирование\n",
        "\n",
        "dy_dx = (3 * x ** 2)\n",
        "\n",
        "#вычисление производной в точке по x\n",
        "\n",
        "derivative = dy_dx\n",
        "\n",
        "print('Производная функции в точке (1, 0.5, 2):', derivative)"
      ]
    },
    {
      "cell_type": "code",
      "execution_count": null,
      "metadata": {
        "colab": {
          "base_uri": "https://localhost:8080/"
        },
        "id": "KT1tuYIUKhEG",
        "outputId": "69173ae5-4940-45bb-f30c-e84a0b444ddc"
      },
      "outputs": [
        {
          "output_type": "stream",
          "name": "stdout",
          "text": [
            "dy/dx:  tensor([3.])\n",
            "dy/dz:  tensor([1.])\n",
            "dy/dt:  tensor([-75.])\n"
          ]
        }
      ],
      "source": [
        "x = torch.tensor([1.], requires_grad=True)\n",
        "z = torch.tensor([0.5], requires_grad=True)\n",
        "t = torch.tensor([2.], requires_grad=True)\n",
        "\n",
        "y = x**3 + z - 75*t\n",
        "\n",
        "y.backward()\n",
        "\n",
        "print('dy/dx: ', x.grad)\n",
        "print('dy/dz: ', z.grad)\n",
        "print('dy/dt: ', t.grad)"
      ]
    },
    {
      "cell_type": "markdown",
      "source": [
        "#HW2\n",
        "\n"
      ],
      "metadata": {
        "id": "i2_GBrrGrXJb"
      }
    },
    {
      "cell_type": "code",
      "execution_count": null,
      "metadata": {
        "id": "vm9QX1YEgzxH"
      },
      "outputs": [],
      "source": [
        "# Сделаем необходимые импорты"
      ]
    },
    {
      "cell_type": "code",
      "execution_count": null,
      "metadata": {
        "id": "f5cadQ2IgzxQ"
      },
      "outputs": [],
      "source": [
        "# Загрузим датасет CIFAR-100, сразу же создадим dataloader для него\n",
        "# Если вам не хватает вычислительных ресурсов, то можно вернуться к CIFAR-10"
      ]
    },
    {
      "cell_type": "code",
      "execution_count": null,
      "metadata": {
        "id": "rQA6_8ejgzxR",
        "colab": {
          "base_uri": "https://localhost:8080/"
        },
        "outputId": "df34a59a-bdf3-491d-ad6a-8e34530a4467"
      },
      "outputs": [
        {
          "output_type": "stream",
          "name": "stdout",
          "text": [
            "Downloading https://www.cs.toronto.edu/~kriz/cifar-10-python.tar.gz to C:/Users/Kate/Desktop/PT/cifar-10-python.tar.gz\n"
          ]
        },
        {
          "output_type": "stream",
          "name": "stderr",
          "text": [
            "100%|██████████| 170498071/170498071 [00:01<00:00, 99442954.99it/s] \n"
          ]
        },
        {
          "output_type": "stream",
          "name": "stdout",
          "text": [
            "Extracting C:/Users/Kate/Desktop/PT/cifar-10-python.tar.gz to C:/Users/Kate/Desktop/PT/\n",
            "torch.Size([3, 32, 32])\n",
            "6\n"
          ]
        }
      ],
      "source": [
        "FOLDER_PATH = 'C:/Users/Kate/Desktop/PT/'\n",
        "train_dataset = torchvision.datasets.CIFAR10(root=FOLDER_PATH,\n",
        "                                             train=True,\n",
        "                                             transform=transforms.ToTensor(),\n",
        "                                             download=True)\n",
        "\n",
        "\n",
        "image, label = train_dataset[0]\n",
        "print (image.size())\n",
        "print (label)"
      ]
    },
    {
      "cell_type": "code",
      "execution_count": null,
      "metadata": {
        "id": "Si2UHsFYgzxW",
        "colab": {
          "base_uri": "https://localhost:8080/",
          "height": 447
        },
        "outputId": "2fb4d3c6-6b14-40ad-a11d-352b8f89ff45"
      },
      "outputs": [
        {
          "output_type": "execute_result",
          "data": {
            "text/plain": [
              "<matplotlib.image.AxesImage at 0x7f5c3b7786d0>"
            ]
          },
          "metadata": {},
          "execution_count": 12
        },
        {
          "output_type": "display_data",
          "data": {
            "text/plain": [
              "<Figure size 640x480 with 1 Axes>"
            ],
            "image/png": "[encoded data removed]"
          },
          "metadata": {}
        }
      ],
      "source": [
        "plt.imshow(image.permute(1, 2, 0).numpy())"
      ]
    },
    {
      "cell_type": "code",
      "execution_count": null,
      "metadata": {
        "id": "vyoD8vI7gzxY"
      },
      "outputs": [],
      "source": [
        "train_loader = torch.utils.data.DataLoader(dataset=train_dataset,\n",
        "                                           batch_size=64,\n",
        "                                           shuffle=True)"
      ]
    },
    {
      "cell_type": "code",
      "execution_count": null,
      "metadata": {
        "id": "VGN_1i4Mgzxa",
        "colab": {
          "base_uri": "https://localhost:8080/"
        },
        "outputId": "7cd55992-8bde-43f9-c6a8-c47c87f4729f"
      },
      "outputs": [
        {
          "output_type": "stream",
          "name": "stdout",
          "text": [
            "Files already downloaded and verified\n"
          ]
        }
      ],
      "source": [
        "test_dataset = torchvision.datasets.CIFAR10(root=FOLDER_PATH,\n",
        "                                            train=False,\n",
        "                                            download=True,\n",
        "                                            transform=transforms.ToTensor())\n",
        "test_loader = torch.utils.data.DataLoader(test_dataset,\n",
        "                                          batch_size=8,\n",
        "                                          shuffle=False)"
      ]
    },
    {
      "cell_type": "code",
      "execution_count": null,
      "metadata": {
        "id": "E4VxyTRSgzxc"
      },
      "outputs": [],
      "source": [
        "classes = ('plane', 'car', 'bird', 'cat',\n",
        "           'deer', 'dog', 'frog', 'horse', 'ship', 'truck')"
      ]
    },
    {
      "cell_type": "code",
      "execution_count": null,
      "metadata": {
        "id": "i5sjXn7-gzxe"
      },
      "outputs": [],
      "source": [
        "# Создайте собственную архитектуру! Можете использовать все, что угодно, но в ограничении на использование линейные слои (пока без сверток)\n",
        "# Давайте добавим ограниченный Leaky_relu, то есть output = max(0.1x, 0.5x)\n",
        "# Ваша задача добавить его в архитектуру сети как функцию активации"
      ]
    },
    {
      "cell_type": "code",
      "execution_count": null,
      "metadata": {
        "id": "Isdsn14-gzxh"
      },
      "outputs": [],
      "source": [
        "\n",
        "class Net(nn.Module):\n",
        "    def __init__(self, input_dim, hidden_dim, output_dim):\n",
        "        super().__init__()\n",
        "        self.fc1 = nn.Linear(input_dim, 4 * hidden_dim)\n",
        "        self.fc2 = nn.Linear(4 * hidden_dim, 2 * hidden_dim)\n",
        "        self.fc3 = nn.Linear(2 * hidden_dim, hidden_dim)\n",
        "        self.fc4 = nn.Linear(hidden_dim, output_dim)\n",
        "\n",
        "    def forward(self, x):\n",
        "        x = x.view(x.shape[0], -1)\n",
        "        x = self.fc1(x)\n",
        "        x = F.leaky_relu(x, 0.05)\n",
        "        x = self.fc2(x)\n",
        "        x = F.leaky_relu(x, 0.05)\n",
        "        x = self.fc3(x)\n",
        "        x = F.leaky_relu(x, 0.05)\n",
        "        x = self.fc4(x)\n",
        "       # x = F.softmax(x)\n",
        "        return x\n",
        "\n",
        "    def predict(self, x):\n",
        "        x = x.view(x.shape[0], -1)\n",
        "        x = self.fc1(x)\n",
        "        x = F.leaky_relu(x, 0.05)\n",
        "        x = self.fc2(x)\n",
        "        x = F.leaky_relu(x, 0.05)\n",
        "        x = self.fc3(x)\n",
        "        x = F.leaky_relu(x, 0.05)\n",
        "        x = self.fc4(x)\n",
        "        x = F.softmax(x)\n",
        "        return x\n",
        "\n",
        "\n",
        "net = Net(3072, 256, 10)"
      ]
    },
    {
      "cell_type": "markdown",
      "source": [
        "##optimizator - SDG\n",
        "epochs = 30\n"
      ],
      "metadata": {
        "id": "I2qaG9xwrjHS"
      }
    },
    {
      "cell_type": "code",
      "execution_count": null,
      "metadata": {
        "id": "CBfpsVpKgzxo"
      },
      "outputs": [],
      "source": [
        "criterion = nn.CrossEntropyLoss()\n",
        "optimizer = optim.SGD(net.parameters(), lr=0.001, momentum=0.9)\n",
        "#optimizer = optim.Adam(net.parameters(), lr=1e-3)"
      ]
    },
    {
      "cell_type": "code",
      "execution_count": null,
      "metadata": {
        "id": "nSwZ1ScHgzxp"
      },
      "outputs": [],
      "source": [
        "from tqdm import tqdm"
      ]
    },
    {
      "cell_type": "code",
      "execution_count": null,
      "metadata": {
        "id": "rLX-Wttogzxq",
        "colab": {
          "base_uri": "https://localhost:8080/"
        },
        "outputId": "280084f5-faf1-444c-89fc-f1f8b66905a9"
      },
      "outputs": [
        {
          "output_type": "stream",
          "name": "stderr",
          "text": [
            "\r  0%|          | 0/30 [00:00<?, ?it/s]"
          ]
        },
        {
          "output_type": "stream",
          "name": "stdout",
          "text": [
            "[1,     1] loss: 0.001\n",
            "[1,   301] loss: 0.344\n",
            "[1,   601] loss: 0.337\n"
          ]
        },
        {
          "output_type": "stream",
          "name": "stderr",
          "text": [
            "\r  3%|▎         | 1/30 [00:24<11:48, 24.42s/it]"
          ]
        },
        {
          "output_type": "stream",
          "name": "stdout",
          "text": [
            "[2,     1] loss: 0.001\n",
            "[2,   301] loss: 0.307\n",
            "[2,   601] loss: 0.296\n"
          ]
        },
        {
          "output_type": "stream",
          "name": "stderr",
          "text": [
            "\r  7%|▋         | 2/30 [00:46<10:37, 22.76s/it]"
          ]
        },
        {
          "output_type": "stream",
          "name": "stdout",
          "text": [
            "[3,     1] loss: 0.001\n",
            "[3,   301] loss: 0.287\n",
            "[3,   601] loss: 0.283\n"
          ]
        },
        {
          "output_type": "stream",
          "name": "stderr",
          "text": [
            "\r 10%|█         | 3/30 [01:07<09:53, 21.97s/it]"
          ]
        },
        {
          "output_type": "stream",
          "name": "stdout",
          "text": [
            "[4,     1] loss: 0.001\n",
            "[4,   301] loss: 0.275\n",
            "[4,   601] loss: 0.272\n"
          ]
        },
        {
          "output_type": "stream",
          "name": "stderr",
          "text": [
            "\r 13%|█▎        | 4/30 [01:28<09:21, 21.61s/it]"
          ]
        },
        {
          "output_type": "stream",
          "name": "stdout",
          "text": [
            "[5,     1] loss: 0.001\n",
            "[5,   301] loss: 0.267\n",
            "[5,   601] loss: 0.264\n"
          ]
        },
        {
          "output_type": "stream",
          "name": "stderr",
          "text": [
            "\r 17%|█▋        | 5/30 [01:48<08:53, 21.35s/it]"
          ]
        },
        {
          "output_type": "stream",
          "name": "stdout",
          "text": [
            "[6,     1] loss: 0.001\n",
            "[6,   301] loss: 0.257\n",
            "[6,   601] loss: 0.256\n"
          ]
        },
        {
          "output_type": "stream",
          "name": "stderr",
          "text": [
            "\r 20%|██        | 6/30 [02:10<08:29, 21.23s/it]"
          ]
        },
        {
          "output_type": "stream",
          "name": "stdout",
          "text": [
            "[7,     1] loss: 0.001\n",
            "[7,   301] loss: 0.250\n",
            "[7,   601] loss: 0.248\n"
          ]
        },
        {
          "output_type": "stream",
          "name": "stderr",
          "text": [
            "\r 23%|██▎       | 7/30 [02:31<08:07, 21.18s/it]"
          ]
        },
        {
          "output_type": "stream",
          "name": "stdout",
          "text": [
            "[8,     1] loss: 0.001\n",
            "[8,   301] loss: 0.246\n",
            "[8,   601] loss: 0.243\n"
          ]
        },
        {
          "output_type": "stream",
          "name": "stderr",
          "text": [
            "\r 27%|██▋       | 8/30 [02:52<07:47, 21.25s/it]"
          ]
        },
        {
          "output_type": "stream",
          "name": "stdout",
          "text": [
            "[9,     1] loss: 0.001\n",
            "[9,   301] loss: 0.239\n",
            "[9,   601] loss: 0.237\n"
          ]
        },
        {
          "output_type": "stream",
          "name": "stderr",
          "text": [
            "\r 30%|███       | 9/30 [03:13<07:23, 21.11s/it]"
          ]
        },
        {
          "output_type": "stream",
          "name": "stdout",
          "text": [
            "[10,     1] loss: 0.001\n",
            "[10,   301] loss: 0.234\n",
            "[10,   601] loss: 0.234\n"
          ]
        },
        {
          "output_type": "stream",
          "name": "stderr",
          "text": [
            "\r 33%|███▎      | 10/30 [03:34<07:00, 21.04s/it]"
          ]
        },
        {
          "output_type": "stream",
          "name": "stdout",
          "text": [
            "[11,     1] loss: 0.001\n",
            "[11,   301] loss: 0.230\n",
            "[11,   601] loss: 0.228\n"
          ]
        },
        {
          "output_type": "stream",
          "name": "stderr",
          "text": [
            "\r 37%|███▋      | 11/30 [03:55<06:40, 21.06s/it]"
          ]
        },
        {
          "output_type": "stream",
          "name": "stdout",
          "text": [
            "[12,     1] loss: 0.001\n",
            "[12,   301] loss: 0.225\n",
            "[12,   601] loss: 0.223\n"
          ]
        },
        {
          "output_type": "stream",
          "name": "stderr",
          "text": [
            "\r 40%|████      | 12/30 [04:16<06:21, 21.18s/it]"
          ]
        },
        {
          "output_type": "stream",
          "name": "stdout",
          "text": [
            "[13,     1] loss: 0.001\n",
            "[13,   301] loss: 0.220\n",
            "[13,   601] loss: 0.221\n"
          ]
        },
        {
          "output_type": "stream",
          "name": "stderr",
          "text": [
            "\r 43%|████▎     | 13/30 [04:37<06:00, 21.20s/it]"
          ]
        },
        {
          "output_type": "stream",
          "name": "stdout",
          "text": [
            "[14,     1] loss: 0.001\n",
            "[14,   301] loss: 0.218\n",
            "[14,   601] loss: 0.215\n"
          ]
        },
        {
          "output_type": "stream",
          "name": "stderr",
          "text": [
            "\r 47%|████▋     | 14/30 [04:58<05:37, 21.10s/it]"
          ]
        },
        {
          "output_type": "stream",
          "name": "stdout",
          "text": [
            "[15,     1] loss: 0.001\n",
            "[15,   301] loss: 0.213\n",
            "[15,   601] loss: 0.214\n"
          ]
        },
        {
          "output_type": "stream",
          "name": "stderr",
          "text": [
            "\r 50%|█████     | 15/30 [05:19<05:15, 21.03s/it]"
          ]
        },
        {
          "output_type": "stream",
          "name": "stdout",
          "text": [
            "[16,     1] loss: 0.001\n",
            "[16,   301] loss: 0.210\n",
            "[16,   601] loss: 0.209\n"
          ]
        },
        {
          "output_type": "stream",
          "name": "stderr",
          "text": [
            "\r 53%|█████▎    | 16/30 [05:40<04:54, 21.07s/it]"
          ]
        },
        {
          "output_type": "stream",
          "name": "stdout",
          "text": [
            "[17,     1] loss: 0.001\n",
            "[17,   301] loss: 0.209\n",
            "[17,   601] loss: 0.205\n"
          ]
        },
        {
          "output_type": "stream",
          "name": "stderr",
          "text": [
            "\r 57%|█████▋    | 17/30 [06:02<04:34, 21.09s/it]"
          ]
        },
        {
          "output_type": "stream",
          "name": "stdout",
          "text": [
            "[18,     1] loss: 0.001\n",
            "[18,   301] loss: 0.203\n",
            "[18,   601] loss: 0.204\n"
          ]
        },
        {
          "output_type": "stream",
          "name": "stderr",
          "text": [
            "\r 60%|██████    | 18/30 [06:23<04:13, 21.14s/it]"
          ]
        },
        {
          "output_type": "stream",
          "name": "stdout",
          "text": [
            "[19,     1] loss: 0.001\n",
            "[19,   301] loss: 0.201\n",
            "[19,   601] loss: 0.201\n"
          ]
        },
        {
          "output_type": "stream",
          "name": "stderr",
          "text": [
            "\r 63%|██████▎   | 19/30 [06:44<03:52, 21.18s/it]"
          ]
        },
        {
          "output_type": "stream",
          "name": "stdout",
          "text": [
            "[20,     1] loss: 0.001\n",
            "[20,   301] loss: 0.198\n",
            "[20,   601] loss: 0.200\n"
          ]
        },
        {
          "output_type": "stream",
          "name": "stderr",
          "text": [
            "\r 67%|██████▋   | 20/30 [07:05<03:30, 21.06s/it]"
          ]
        },
        {
          "output_type": "stream",
          "name": "stdout",
          "text": [
            "[21,     1] loss: 0.001\n",
            "[21,   301] loss: 0.196\n",
            "[21,   601] loss: 0.195\n"
          ]
        },
        {
          "output_type": "stream",
          "name": "stderr",
          "text": [
            "\r 70%|███████   | 21/30 [07:26<03:09, 21.09s/it]"
          ]
        },
        {
          "output_type": "stream",
          "name": "stdout",
          "text": [
            "[22,     1] loss: 0.001\n",
            "[22,   301] loss: 0.193\n",
            "[22,   601] loss: 0.192\n"
          ]
        },
        {
          "output_type": "stream",
          "name": "stderr",
          "text": [
            "\r 73%|███████▎  | 22/30 [07:47<02:49, 21.14s/it]"
          ]
        },
        {
          "output_type": "stream",
          "name": "stdout",
          "text": [
            "[23,     1] loss: 0.001\n",
            "[23,   301] loss: 0.192\n",
            "[23,   601] loss: 0.190\n"
          ]
        },
        {
          "output_type": "stream",
          "name": "stderr",
          "text": [
            "\r 77%|███████▋  | 23/30 [08:09<02:28, 21.28s/it]"
          ]
        },
        {
          "output_type": "stream",
          "name": "stdout",
          "text": [
            "[24,     1] loss: 0.001\n",
            "[24,   301] loss: 0.187\n",
            "[24,   601] loss: 0.189\n"
          ]
        },
        {
          "output_type": "stream",
          "name": "stderr",
          "text": [
            "\r 80%|████████  | 24/30 [08:30<02:06, 21.14s/it]"
          ]
        },
        {
          "output_type": "stream",
          "name": "stdout",
          "text": [
            "[25,     1] loss: 0.001\n",
            "[25,   301] loss: 0.186\n",
            "[25,   601] loss: 0.187\n"
          ]
        },
        {
          "output_type": "stream",
          "name": "stderr",
          "text": [
            "\r 83%|████████▎ | 25/30 [08:51<01:45, 21.07s/it]"
          ]
        },
        {
          "output_type": "stream",
          "name": "stdout",
          "text": [
            "[26,     1] loss: 0.001\n",
            "[26,   301] loss: 0.183\n",
            "[26,   601] loss: 0.184\n"
          ]
        },
        {
          "output_type": "stream",
          "name": "stderr",
          "text": [
            "\r 87%|████████▋ | 26/30 [09:12<01:24, 21.06s/it]"
          ]
        },
        {
          "output_type": "stream",
          "name": "stdout",
          "text": [
            "[27,     1] loss: 0.001\n",
            "[27,   301] loss: 0.180\n",
            "[27,   601] loss: 0.183\n"
          ]
        },
        {
          "output_type": "stream",
          "name": "stderr",
          "text": [
            "\r 90%|█████████ | 27/30 [09:33<01:03, 21.10s/it]"
          ]
        },
        {
          "output_type": "stream",
          "name": "stdout",
          "text": [
            "[28,     1] loss: 0.001\n",
            "[28,   301] loss: 0.178\n",
            "[28,   601] loss: 0.180\n"
          ]
        },
        {
          "output_type": "stream",
          "name": "stderr",
          "text": [
            "\r 93%|█████████▎| 28/30 [09:54<00:42, 21.13s/it]"
          ]
        },
        {
          "output_type": "stream",
          "name": "stdout",
          "text": [
            "[29,     1] loss: 0.001\n",
            "[29,   301] loss: 0.179\n",
            "[29,   601] loss: 0.177\n"
          ]
        },
        {
          "output_type": "stream",
          "name": "stderr",
          "text": [
            "\r 97%|█████████▋| 29/30 [10:15<00:21, 21.04s/it]"
          ]
        },
        {
          "output_type": "stream",
          "name": "stdout",
          "text": [
            "[30,     1] loss: 0.001\n",
            "[30,   301] loss: 0.176\n",
            "[30,   601] loss: 0.176\n"
          ]
        },
        {
          "output_type": "stream",
          "name": "stderr",
          "text": [
            "100%|██████████| 30/30 [10:36<00:00, 21.21s/it]"
          ]
        },
        {
          "output_type": "stream",
          "name": "stdout",
          "text": [
            "Training is finished!\n"
          ]
        },
        {
          "output_type": "stream",
          "name": "stderr",
          "text": [
            "\n"
          ]
        }
      ],
      "source": [
        "num_epochs = 30\n",
        "for epoch in tqdm(range(num_epochs)):\n",
        "    running_loss = 0.0\n",
        "\n",
        "\n",
        "\n",
        "    for i, data in enumerate(train_loader, 0):\n",
        "        inputs, labels = data[0], data[1]\n",
        "\n",
        "        # обнуляем градиент\n",
        "        optimizer.zero_grad()\n",
        "\n",
        "        outputs = net(inputs)\n",
        "        loss = criterion(outputs, labels)\n",
        "        loss.backward()\n",
        "        optimizer.step()\n",
        "\n",
        "        # выводим статистику о процессе обучения\n",
        "        running_loss += loss.item()\n",
        "        if i % 300 == 0:    # печатаем каждые 300 mini-batches\n",
        "            print('[%d, %5d] loss: %.3f' %\n",
        "                  (epoch + 1, i + 1, running_loss / 2000))\n",
        "            running_loss = 0.0\n",
        "\n",
        "print('Training is finished!')"
      ]
    },
    {
      "cell_type": "code",
      "execution_count": null,
      "metadata": {
        "id": "5iqw11hagzxt"
      },
      "outputs": [],
      "source": [
        "PATH_WEIGHTS = 'C:/Users/Kate/Desktop/PT/cifar_net_weight.pth'\n",
        "torch.save(net.state_dict(), PATH_WEIGHTS)"
      ]
    },
    {
      "cell_type": "code",
      "execution_count": null,
      "metadata": {
        "id": "koAufxr4gzxu",
        "colab": {
          "base_uri": "https://localhost:8080/"
        },
        "outputId": "4dfc4850-f709-4949-c0fe-b5585f069518"
      },
      "outputs": [
        {
          "output_type": "stream",
          "name": "stdout",
          "text": [
            "Model state dict:\n",
            "fc1.weight \t OrderedDict([('fc1.weight', tensor([[-0.0175,  0.0042, -0.0198,  ...,  0.0005,  0.0117, -0.0045],\n",
            "        [-0.0188,  0.0038, -0.0084,  ..., -0.0100,  0.0086,  0.0128],\n",
            "        [-0.0105,  0.0082,  0.0029,  ..., -0.0177, -0.0016,  0.0066],\n",
            "        ...,\n",
            "        [-0.0044, -0.0252,  0.0078,  ...,  0.0140, -0.0073, -0.0077],\n",
            "        [ 0.0025,  0.0039, -0.0137,  ...,  0.0177, -0.0016, -0.0104],\n",
            "        [-0.0188, -0.0300, -0.0276,  ..., -0.0065, -0.0009,  0.0045]])), ('fc1.bias', tensor([ 0.0171,  0.0065,  0.0481,  ..., -0.0017, -0.0064,  0.0125])), ('fc2.weight', tensor([[-0.0333, -0.0302,  0.0351,  ...,  0.0091,  0.0258,  0.0044],\n",
            "        [ 0.0181, -0.0060,  0.0175,  ...,  0.0279, -0.0159,  0.0122],\n",
            "        [ 0.0206, -0.0004,  0.0422,  ...,  0.0196,  0.0100,  0.0257],\n",
            "        ...,\n",
            "        [-0.0091, -0.0007,  0.0221,  ...,  0.0069, -0.0002,  0.0194],\n",
            "        [-0.0021, -0.0307, -0.0123,  ...,  0.0244,  0.0079, -0.0174],\n",
            "        [-0.0361, -0.0290, -0.0147,  ..., -0.0321, -0.0331, -0.0225]])), ('fc2.bias', tensor([ 0.0397, -0.0505, -0.0292,  0.0253, -0.0179, -0.0134,  0.0382, -0.0393,\n",
            "        -0.0174, -0.0162,  0.0295, -0.0493,  0.0543, -0.0273,  0.0707,  0.0022,\n",
            "         0.0475, -0.0072,  0.0263, -0.0145, -0.0333,  0.0540,  0.0042, -0.0072,\n",
            "        -0.0388,  0.0472,  0.0157, -0.0182,  0.0279, -0.0287, -0.1391, -0.0249,\n",
            "        -0.0467, -0.0125,  0.0216,  0.0580, -0.0311,  0.0774, -0.0192, -0.0600,\n",
            "         0.0460,  0.0132, -0.0225, -0.0270,  0.0117,  0.0040, -0.0267,  0.0031,\n",
            "        -0.0100, -0.0163, -0.0847, -0.0128, -0.0235,  0.0265,  0.0792, -0.0364,\n",
            "         0.0098, -0.0026,  0.0734,  0.0202, -0.0267, -0.0332, -0.0061, -0.0203,\n",
            "         0.0184,  0.0447,  0.0029, -0.0222, -0.0286,  0.0174,  0.0345,  0.0031,\n",
            "         0.0301, -0.0016,  0.0047, -0.0187,  0.0233,  0.0201, -0.0258,  0.0118,\n",
            "         0.0233,  0.0033, -0.0893, -0.0132, -0.0113, -0.0071,  0.0477, -0.0088,\n",
            "        -0.0894, -0.0212, -0.0326, -0.0003,  0.0467, -0.0166,  0.0216, -0.0294,\n",
            "        -0.0299, -0.0246,  0.0850, -0.0210, -0.0659,  0.0132,  0.0194,  0.0039,\n",
            "        -0.0184, -0.0179, -0.0047,  0.0053, -0.0215, -0.0176,  0.0073,  0.0062,\n",
            "        -0.0072, -0.0130,  0.0557, -0.0652,  0.0190,  0.0289, -0.0246, -0.0084,\n",
            "        -0.0889, -0.0007,  0.0328, -0.0091, -0.0053,  0.0867, -0.0151, -0.0188,\n",
            "        -0.0364,  0.0523, -0.0120,  0.0181,  0.0374,  0.0673,  0.0039,  0.0233,\n",
            "        -0.0361,  0.0218, -0.0488,  0.0130, -0.0047, -0.0485, -0.0003, -0.0353,\n",
            "        -0.0507,  0.0339, -0.0294,  0.0300,  0.0453, -0.0352,  0.0106, -0.0253,\n",
            "        -0.0305, -0.0045, -0.0095, -0.0128, -0.0129, -0.0157, -0.0163,  0.0011,\n",
            "        -0.0449,  0.0046,  0.0395, -0.0206,  0.0400, -0.0281,  0.0508,  0.0212,\n",
            "         0.0126,  0.0350,  0.0772, -0.0367,  0.0151,  0.0223,  0.0021,  0.0252,\n",
            "         0.0619,  0.0170,  0.0584,  0.0394, -0.0031, -0.0008, -0.0023, -0.0061,\n",
            "         0.0017,  0.0727, -0.0018,  0.0296,  0.0336, -0.0144,  0.0723, -0.0079,\n",
            "         0.0383,  0.0600,  0.0161, -0.0475, -0.0014,  0.0153,  0.0074, -0.0105,\n",
            "         0.0678, -0.0096,  0.1137, -0.0374,  0.0156, -0.0116,  0.0880,  0.0828,\n",
            "         0.0485,  0.1139,  0.0578, -0.0152, -0.0177, -0.0152,  0.1353, -0.0332,\n",
            "         0.0729, -0.0404,  0.0061,  0.0189, -0.0252,  0.0335, -0.0672,  0.0146,\n",
            "         0.0036,  0.0468,  0.0123,  0.0275, -0.0105, -0.0044, -0.0326, -0.0196,\n",
            "         0.0137,  0.0912,  0.0192,  0.0650, -0.0165,  0.0264, -0.0255, -0.0006,\n",
            "         0.0040, -0.0024,  0.0266,  0.0245,  0.0281,  0.0436, -0.0270, -0.0159,\n",
            "        -0.0095,  0.0401, -0.0928,  0.0534,  0.0181, -0.0345,  0.0039,  0.0594,\n",
            "         0.0646,  0.0164, -0.0254, -0.0144,  0.0099, -0.0256,  0.0245, -0.0366,\n",
            "         0.0412,  0.0516,  0.0174,  0.0441, -0.0207,  0.0143, -0.0126, -0.0035,\n",
            "        -0.0493,  0.0615, -0.1024, -0.0152,  0.0330, -0.0124, -0.0101,  0.0411,\n",
            "        -0.0014,  0.0289,  0.1011, -0.0439,  0.0275,  0.0546,  0.0642, -0.0149,\n",
            "         0.0396, -0.0213, -0.0355,  0.0106, -0.0559,  0.0625,  0.0116, -0.0592,\n",
            "        -0.0571,  0.0222, -0.0283,  0.0208, -0.0297, -0.0248, -0.0276, -0.0047,\n",
            "        -0.0736,  0.0490,  0.0588,  0.0074,  0.0016, -0.0237, -0.0035, -0.0215,\n",
            "         0.0149, -0.0427,  0.0048,  0.0253, -0.0726,  0.0276, -0.0427,  0.1171,\n",
            "         0.0305,  0.0340, -0.0107,  0.0126, -0.0010, -0.0633,  0.0030,  0.1233,\n",
            "         0.0894, -0.0131, -0.0228,  0.0207, -0.0312, -0.0121,  0.0069,  0.0312,\n",
            "        -0.0425, -0.0035, -0.0242,  0.0678,  0.0393,  0.0276,  0.0232,  0.0020,\n",
            "         0.0200,  0.0121,  0.0210, -0.0046,  0.1606,  0.0572,  0.0165,  0.0542,\n",
            "        -0.0038, -0.0483, -0.0177, -0.0395,  0.0058, -0.0142,  0.0272, -0.0211,\n",
            "        -0.0727, -0.0350,  0.0115,  0.0196, -0.0187, -0.0389,  0.0957, -0.0284,\n",
            "        -0.0176,  0.0415, -0.0025,  0.0674, -0.0075, -0.0061, -0.0102,  0.0192,\n",
            "        -0.0377,  0.0976, -0.0127, -0.0424, -0.0537,  0.0127,  0.0338,  0.0139,\n",
            "         0.0108,  0.0194,  0.0624,  0.0242, -0.0073, -0.0050, -0.0638, -0.0071,\n",
            "         0.0066,  0.0324,  0.0353,  0.0102,  0.0215, -0.0010,  0.0093, -0.0027,\n",
            "        -0.0208,  0.0381, -0.0269, -0.0070, -0.0389, -0.0204,  0.0565,  0.0139,\n",
            "         0.0343,  0.0623, -0.0194, -0.0274, -0.0506, -0.0096, -0.0322,  0.0737,\n",
            "        -0.0059, -0.0003, -0.0440,  0.0311,  0.1202,  0.0232, -0.0399, -0.0282,\n",
            "        -0.0305, -0.0036, -0.0041, -0.0237,  0.0257, -0.0537, -0.0264,  0.0566,\n",
            "        -0.0091, -0.0239, -0.0665, -0.0184, -0.0116, -0.0723,  0.0005, -0.0095,\n",
            "         0.0404, -0.0723, -0.0365, -0.0852,  0.0811,  0.0190,  0.0073,  0.0041,\n",
            "        -0.0137,  0.0094,  0.0602,  0.0044,  0.1236,  0.0068, -0.0161,  0.0595,\n",
            "        -0.0667, -0.0108,  0.0050,  0.0381,  0.0417, -0.0270,  0.0102,  0.0741,\n",
            "        -0.0570,  0.0295, -0.0337,  0.0736, -0.0062, -0.0341, -0.0045,  0.1538,\n",
            "         0.1172, -0.0802, -0.0823, -0.0236, -0.0261,  0.0252,  0.0119, -0.0383,\n",
            "        -0.0211,  0.0765, -0.0170,  0.0056, -0.0372,  0.0375, -0.0047,  0.0009,\n",
            "         0.0260, -0.0128, -0.0243, -0.0295, -0.0114, -0.0192,  0.0218, -0.0531,\n",
            "        -0.0178,  0.0251, -0.0025, -0.0119,  0.0079, -0.0210,  0.0150, -0.0018,\n",
            "        -0.0204,  0.1069, -0.0487,  0.0471,  0.0176, -0.0055, -0.0522, -0.0079])), ('fc3.weight', tensor([[ 0.0237, -0.0382,  0.0122,  ..., -0.0335, -0.0232,  0.0352],\n",
            "        [ 0.0449, -0.0059,  0.0279,  ...,  0.0074, -0.0364,  0.0184],\n",
            "        [-0.0381,  0.0038,  0.0587,  ...,  0.0161,  0.0100,  0.0221],\n",
            "        ...,\n",
            "        [-0.0172,  0.0402, -0.0011,  ..., -0.0391,  0.0229, -0.0213],\n",
            "        [ 0.0374,  0.0095,  0.0072,  ...,  0.0479,  0.0295, -0.0372],\n",
            "        [-0.0347, -0.0348,  0.0062,  ..., -0.0281,  0.0344,  0.0320]])), ('fc3.bias', tensor([ 4.0825e-02,  8.5141e-04,  1.1963e-02,  2.2339e-02,  1.9393e-02,\n",
            "         4.4778e-02, -7.9330e-02, -9.7609e-03,  3.8839e-02,  5.8806e-02,\n",
            "         1.2000e-01, -1.2149e-02,  1.6547e-02, -5.1034e-02,  3.3147e-02,\n",
            "         2.7494e-03, -2.2669e-02,  1.4479e-01, -3.2806e-02, -3.5290e-02,\n",
            "         1.0236e-02, -4.1321e-02, -2.0450e-02, -6.4086e-02,  6.1944e-03,\n",
            "        -5.0886e-02,  7.7318e-03, -3.6536e-02,  3.3151e-02,  4.7813e-02,\n",
            "        -5.3164e-02, -6.0851e-02, -1.8884e-02,  4.1519e-02, -1.4019e-02,\n",
            "         7.9226e-02,  7.0098e-02,  1.8677e-02, -6.6803e-02,  4.7898e-02,\n",
            "        -6.4434e-03,  8.8814e-02, -4.8931e-02, -9.0580e-02, -2.0080e-02,\n",
            "        -1.3465e-02,  1.0373e-01,  1.8163e-01, -5.4285e-02,  8.4277e-02,\n",
            "        -2.1737e-02, -2.5445e-02, -5.4807e-03,  6.9254e-02, -1.1341e-01,\n",
            "         2.0972e-02,  2.0801e-02, -1.5888e-02,  4.5518e-02,  7.2902e-02,\n",
            "        -4.4395e-02,  4.2635e-03, -5.8533e-02, -2.2433e-02, -9.0719e-02,\n",
            "        -4.9795e-02,  1.0778e-01,  6.8102e-02,  1.1421e-01,  7.5486e-02,\n",
            "         6.8321e-02, -4.5661e-02, -2.4605e-02,  3.0682e-02, -3.5009e-02,\n",
            "         4.5302e-02,  6.5741e-02, -2.6096e-02, -3.2514e-04, -1.5090e-03,\n",
            "        -2.8071e-02, -8.1417e-02, -1.9172e-02,  9.8483e-02,  2.0417e-02,\n",
            "         2.0591e-02,  9.3534e-03,  3.4553e-03, -5.3489e-02, -6.0053e-02,\n",
            "        -6.7254e-04, -2.7471e-02, -1.1522e-02, -3.8946e-02,  3.1133e-02,\n",
            "         3.6874e-02, -3.9311e-02, -7.0635e-03,  1.4300e-03, -3.1917e-02,\n",
            "         8.7843e-02,  2.8347e-02, -7.2429e-02,  2.0835e-02,  3.8101e-03,\n",
            "         3.4753e-02,  3.3576e-04,  1.8750e-02, -3.8901e-02, -3.1183e-02,\n",
            "         1.8793e-02,  1.1849e-01,  9.9240e-02,  6.6806e-02,  2.2779e-02,\n",
            "         4.0971e-02,  4.7528e-02,  1.7764e-02,  1.9908e-02,  1.1309e-01,\n",
            "        -1.6034e-04,  4.5890e-02,  8.1273e-02, -6.7630e-03, -3.3146e-02,\n",
            "         9.1426e-02, -4.1388e-02,  2.9160e-02,  6.6252e-02,  2.3134e-02,\n",
            "         6.7926e-03, -9.0379e-03,  1.1720e-02, -1.9772e-02,  3.6815e-02,\n",
            "         1.1345e-02,  9.1386e-03,  1.9072e-02,  6.8509e-02,  8.1927e-02,\n",
            "        -1.3962e-02, -8.0433e-02,  4.9119e-02, -1.4864e-04,  5.5734e-02,\n",
            "         2.8578e-03,  8.6893e-03, -3.8234e-02, -4.7242e-02, -1.0642e-01,\n",
            "        -2.8352e-02,  4.5425e-02,  1.9934e-02, -9.2905e-02,  1.1797e-02,\n",
            "        -4.9029e-03,  4.2852e-02,  5.8810e-02, -4.6296e-02, -7.6017e-02,\n",
            "        -5.9199e-02, -4.1099e-02, -4.7022e-02,  1.3308e-02, -3.6812e-02,\n",
            "         1.2692e-01, -4.7188e-03,  1.0721e-01,  8.9894e-02,  4.1562e-02,\n",
            "        -5.8181e-02,  1.7426e-02, -2.3868e-02,  2.1165e-02, -1.7311e-02,\n",
            "         1.0567e-02,  3.5443e-04,  1.6622e-01, -3.9953e-02,  1.5148e-01,\n",
            "         1.2076e-02, -4.1606e-02,  1.5969e-03,  5.4346e-02, -1.0416e-02,\n",
            "         4.0319e-02,  8.1467e-02,  1.0036e-03, -6.5760e-02,  1.2406e-02,\n",
            "         5.9347e-03,  1.5954e-02,  8.2046e-02,  1.3433e-01,  1.9607e-03,\n",
            "        -4.8643e-02,  2.2352e-02, -5.1877e-03,  7.1100e-02, -1.7884e-03,\n",
            "         5.4219e-02, -1.2088e-02,  6.4483e-02, -9.9232e-02,  4.7464e-02,\n",
            "        -2.3691e-02,  1.1105e-01, -5.2309e-03, -8.6507e-03,  3.3284e-02,\n",
            "         1.1735e-02,  3.7507e-02,  3.0447e-02,  1.8812e-02, -6.8519e-02,\n",
            "         6.0163e-02, -2.8779e-02, -3.7485e-02, -5.6052e-02, -3.1072e-03,\n",
            "         7.2206e-02,  1.4191e-02, -1.9520e-02,  3.2627e-02, -2.7464e-02,\n",
            "         6.6420e-02, -2.4281e-02,  6.7176e-02,  4.3811e-02,  5.8367e-02,\n",
            "         5.0580e-02, -3.5321e-02, -4.2328e-02,  1.1440e-01, -3.3413e-03,\n",
            "         1.3100e-01,  2.5057e-02, -3.1175e-02,  5.5909e-02,  6.0324e-02,\n",
            "         7.2324e-02,  4.2775e-02,  3.0684e-02,  9.9989e-03, -2.8872e-02,\n",
            "         3.5914e-02,  1.3096e-02,  1.4243e-01, -3.1670e-02,  4.2436e-02,\n",
            "         1.6030e-02,  5.0467e-02, -1.5023e-02, -3.2778e-02,  1.1751e-02,\n",
            "         5.8581e-02])), ('fc4.weight', tensor([[ 0.0419,  0.0112, -0.0493,  ...,  0.0022, -0.2219,  0.1032],\n",
            "        [ 0.0135, -0.0407,  0.0257,  ..., -0.0052,  0.0843,  0.0780],\n",
            "        [-0.0205, -0.1017,  0.0829,  ...,  0.0469, -0.2149,  0.0248],\n",
            "        ...,\n",
            "        [ 0.0416,  0.0268,  0.0543,  ..., -0.0454,  0.2025, -0.0225],\n",
            "        [ 0.0179, -0.0381,  0.0214,  ..., -0.0239, -0.0577,  0.0239],\n",
            "        [ 0.0425, -0.1492,  0.0309,  ..., -0.0289,  0.1964, -0.0535]])), ('fc4.bias', tensor([-0.3978,  0.1513,  0.1200,  0.0367,  0.2699, -0.2926,  0.2540, -0.0281,\n",
            "        -0.1992, -0.0407]))])\n",
            "fc1.bias \t OrderedDict([('fc1.weight', tensor([[-0.0175,  0.0042, -0.0198,  ...,  0.0005,  0.0117, -0.0045],\n",
            "        [-0.0188,  0.0038, -0.0084,  ..., -0.0100,  0.0086,  0.0128],\n",
            "        [-0.0105,  0.0082,  0.0029,  ..., -0.0177, -0.0016,  0.0066],\n",
            "        ...,\n",
            "        [-0.0044, -0.0252,  0.0078,  ...,  0.0140, -0.0073, -0.0077],\n",
            "        [ 0.0025,  0.0039, -0.0137,  ...,  0.0177, -0.0016, -0.0104],\n",
            "        [-0.0188, -0.0300, -0.0276,  ..., -0.0065, -0.0009,  0.0045]])), ('fc1.bias', tensor([ 0.0171,  0.0065,  0.0481,  ..., -0.0017, -0.0064,  0.0125])), ('fc2.weight', tensor([[-0.0333, -0.0302,  0.0351,  ...,  0.0091,  0.0258,  0.0044],\n",
            "        [ 0.0181, -0.0060,  0.0175,  ...,  0.0279, -0.0159,  0.0122],\n",
            "        [ 0.0206, -0.0004,  0.0422,  ...,  0.0196,  0.0100,  0.0257],\n",
            "        ...,\n",
            "        [-0.0091, -0.0007,  0.0221,  ...,  0.0069, -0.0002,  0.0194],\n",
            "        [-0.0021, -0.0307, -0.0123,  ...,  0.0244,  0.0079, -0.0174],\n",
            "        [-0.0361, -0.0290, -0.0147,  ..., -0.0321, -0.0331, -0.0225]])), ('fc2.bias', tensor([ 0.0397, -0.0505, -0.0292,  0.0253, -0.0179, -0.0134,  0.0382, -0.0393,\n",
            "        -0.0174, -0.0162,  0.0295, -0.0493,  0.0543, -0.0273,  0.0707,  0.0022,\n",
            "         0.0475, -0.0072,  0.0263, -0.0145, -0.0333,  0.0540,  0.0042, -0.0072,\n",
            "        -0.0388,  0.0472,  0.0157, -0.0182,  0.0279, -0.0287, -0.1391, -0.0249,\n",
            "        -0.0467, -0.0125,  0.0216,  0.0580, -0.0311,  0.0774, -0.0192, -0.0600,\n",
            "         0.0460,  0.0132, -0.0225, -0.0270,  0.0117,  0.0040, -0.0267,  0.0031,\n",
            "        -0.0100, -0.0163, -0.0847, -0.0128, -0.0235,  0.0265,  0.0792, -0.0364,\n",
            "         0.0098, -0.0026,  0.0734,  0.0202, -0.0267, -0.0332, -0.0061, -0.0203,\n",
            "         0.0184,  0.0447,  0.0029, -0.0222, -0.0286,  0.0174,  0.0345,  0.0031,\n",
            "         0.0301, -0.0016,  0.0047, -0.0187,  0.0233,  0.0201, -0.0258,  0.0118,\n",
            "         0.0233,  0.0033, -0.0893, -0.0132, -0.0113, -0.0071,  0.0477, -0.0088,\n",
            "        -0.0894, -0.0212, -0.0326, -0.0003,  0.0467, -0.0166,  0.0216, -0.0294,\n",
            "        -0.0299, -0.0246,  0.0850, -0.0210, -0.0659,  0.0132,  0.0194,  0.0039,\n",
            "        -0.0184, -0.0179, -0.0047,  0.0053, -0.0215, -0.0176,  0.0073,  0.0062,\n",
            "        -0.0072, -0.0130,  0.0557, -0.0652,  0.0190,  0.0289, -0.0246, -0.0084,\n",
            "        -0.0889, -0.0007,  0.0328, -0.0091, -0.0053,  0.0867, -0.0151, -0.0188,\n",
            "        -0.0364,  0.0523, -0.0120,  0.0181,  0.0374,  0.0673,  0.0039,  0.0233,\n",
            "        -0.0361,  0.0218, -0.0488,  0.0130, -0.0047, -0.0485, -0.0003, -0.0353,\n",
            "        -0.0507,  0.0339, -0.0294,  0.0300,  0.0453, -0.0352,  0.0106, -0.0253,\n",
            "        -0.0305, -0.0045, -0.0095, -0.0128, -0.0129, -0.0157, -0.0163,  0.0011,\n",
            "        -0.0449,  0.0046,  0.0395, -0.0206,  0.0400, -0.0281,  0.0508,  0.0212,\n",
            "         0.0126,  0.0350,  0.0772, -0.0367,  0.0151,  0.0223,  0.0021,  0.0252,\n",
            "         0.0619,  0.0170,  0.0584,  0.0394, -0.0031, -0.0008, -0.0023, -0.0061,\n",
            "         0.0017,  0.0727, -0.0018,  0.0296,  0.0336, -0.0144,  0.0723, -0.0079,\n",
            "         0.0383,  0.0600,  0.0161, -0.0475, -0.0014,  0.0153,  0.0074, -0.0105,\n",
            "         0.0678, -0.0096,  0.1137, -0.0374,  0.0156, -0.0116,  0.0880,  0.0828,\n",
            "         0.0485,  0.1139,  0.0578, -0.0152, -0.0177, -0.0152,  0.1353, -0.0332,\n",
            "         0.0729, -0.0404,  0.0061,  0.0189, -0.0252,  0.0335, -0.0672,  0.0146,\n",
            "         0.0036,  0.0468,  0.0123,  0.0275, -0.0105, -0.0044, -0.0326, -0.0196,\n",
            "         0.0137,  0.0912,  0.0192,  0.0650, -0.0165,  0.0264, -0.0255, -0.0006,\n",
            "         0.0040, -0.0024,  0.0266,  0.0245,  0.0281,  0.0436, -0.0270, -0.0159,\n",
            "        -0.0095,  0.0401, -0.0928,  0.0534,  0.0181, -0.0345,  0.0039,  0.0594,\n",
            "         0.0646,  0.0164, -0.0254, -0.0144,  0.0099, -0.0256,  0.0245, -0.0366,\n",
            "         0.0412,  0.0516,  0.0174,  0.0441, -0.0207,  0.0143, -0.0126, -0.0035,\n",
            "        -0.0493,  0.0615, -0.1024, -0.0152,  0.0330, -0.0124, -0.0101,  0.0411,\n",
            "        -0.0014,  0.0289,  0.1011, -0.0439,  0.0275,  0.0546,  0.0642, -0.0149,\n",
            "         0.0396, -0.0213, -0.0355,  0.0106, -0.0559,  0.0625,  0.0116, -0.0592,\n",
            "        -0.0571,  0.0222, -0.0283,  0.0208, -0.0297, -0.0248, -0.0276, -0.0047,\n",
            "        -0.0736,  0.0490,  0.0588,  0.0074,  0.0016, -0.0237, -0.0035, -0.0215,\n",
            "         0.0149, -0.0427,  0.0048,  0.0253, -0.0726,  0.0276, -0.0427,  0.1171,\n",
            "         0.0305,  0.0340, -0.0107,  0.0126, -0.0010, -0.0633,  0.0030,  0.1233,\n",
            "         0.0894, -0.0131, -0.0228,  0.0207, -0.0312, -0.0121,  0.0069,  0.0312,\n",
            "        -0.0425, -0.0035, -0.0242,  0.0678,  0.0393,  0.0276,  0.0232,  0.0020,\n",
            "         0.0200,  0.0121,  0.0210, -0.0046,  0.1606,  0.0572,  0.0165,  0.0542,\n",
            "        -0.0038, -0.0483, -0.0177, -0.0395,  0.0058, -0.0142,  0.0272, -0.0211,\n",
            "        -0.0727, -0.0350,  0.0115,  0.0196, -0.0187, -0.0389,  0.0957, -0.0284,\n",
            "        -0.0176,  0.0415, -0.0025,  0.0674, -0.0075, -0.0061, -0.0102,  0.0192,\n",
            "        -0.0377,  0.0976, -0.0127, -0.0424, -0.0537,  0.0127,  0.0338,  0.0139,\n",
            "         0.0108,  0.0194,  0.0624,  0.0242, -0.0073, -0.0050, -0.0638, -0.0071,\n",
            "         0.0066,  0.0324,  0.0353,  0.0102,  0.0215, -0.0010,  0.0093, -0.0027,\n",
            "        -0.0208,  0.0381, -0.0269, -0.0070, -0.0389, -0.0204,  0.0565,  0.0139,\n",
            "         0.0343,  0.0623, -0.0194, -0.0274, -0.0506, -0.0096, -0.0322,  0.0737,\n",
            "        -0.0059, -0.0003, -0.0440,  0.0311,  0.1202,  0.0232, -0.0399, -0.0282,\n",
            "        -0.0305, -0.0036, -0.0041, -0.0237,  0.0257, -0.0537, -0.0264,  0.0566,\n",
            "        -0.0091, -0.0239, -0.0665, -0.0184, -0.0116, -0.0723,  0.0005, -0.0095,\n",
            "         0.0404, -0.0723, -0.0365, -0.0852,  0.0811,  0.0190,  0.0073,  0.0041,\n",
            "        -0.0137,  0.0094,  0.0602,  0.0044,  0.1236,  0.0068, -0.0161,  0.0595,\n",
            "        -0.0667, -0.0108,  0.0050,  0.0381,  0.0417, -0.0270,  0.0102,  0.0741,\n",
            "        -0.0570,  0.0295, -0.0337,  0.0736, -0.0062, -0.0341, -0.0045,  0.1538,\n",
            "         0.1172, -0.0802, -0.0823, -0.0236, -0.0261,  0.0252,  0.0119, -0.0383,\n",
            "        -0.0211,  0.0765, -0.0170,  0.0056, -0.0372,  0.0375, -0.0047,  0.0009,\n",
            "         0.0260, -0.0128, -0.0243, -0.0295, -0.0114, -0.0192,  0.0218, -0.0531,\n",
            "        -0.0178,  0.0251, -0.0025, -0.0119,  0.0079, -0.0210,  0.0150, -0.0018,\n",
            "        -0.0204,  0.1069, -0.0487,  0.0471,  0.0176, -0.0055, -0.0522, -0.0079])), ('fc3.weight', tensor([[ 0.0237, -0.0382,  0.0122,  ..., -0.0335, -0.0232,  0.0352],\n",
            "        [ 0.0449, -0.0059,  0.0279,  ...,  0.0074, -0.0364,  0.0184],\n",
            "        [-0.0381,  0.0038,  0.0587,  ...,  0.0161,  0.0100,  0.0221],\n",
            "        ...,\n",
            "        [-0.0172,  0.0402, -0.0011,  ..., -0.0391,  0.0229, -0.0213],\n",
            "        [ 0.0374,  0.0095,  0.0072,  ...,  0.0479,  0.0295, -0.0372],\n",
            "        [-0.0347, -0.0348,  0.0062,  ..., -0.0281,  0.0344,  0.0320]])), ('fc3.bias', tensor([ 4.0825e-02,  8.5141e-04,  1.1963e-02,  2.2339e-02,  1.9393e-02,\n",
            "         4.4778e-02, -7.9330e-02, -9.7609e-03,  3.8839e-02,  5.8806e-02,\n",
            "         1.2000e-01, -1.2149e-02,  1.6547e-02, -5.1034e-02,  3.3147e-02,\n",
            "         2.7494e-03, -2.2669e-02,  1.4479e-01, -3.2806e-02, -3.5290e-02,\n",
            "         1.0236e-02, -4.1321e-02, -2.0450e-02, -6.4086e-02,  6.1944e-03,\n",
            "        -5.0886e-02,  7.7318e-03, -3.6536e-02,  3.3151e-02,  4.7813e-02,\n",
            "        -5.3164e-02, -6.0851e-02, -1.8884e-02,  4.1519e-02, -1.4019e-02,\n",
            "         7.9226e-02,  7.0098e-02,  1.8677e-02, -6.6803e-02,  4.7898e-02,\n",
            "        -6.4434e-03,  8.8814e-02, -4.8931e-02, -9.0580e-02, -2.0080e-02,\n",
            "        -1.3465e-02,  1.0373e-01,  1.8163e-01, -5.4285e-02,  8.4277e-02,\n",
            "        -2.1737e-02, -2.5445e-02, -5.4807e-03,  6.9254e-02, -1.1341e-01,\n",
            "         2.0972e-02,  2.0801e-02, -1.5888e-02,  4.5518e-02,  7.2902e-02,\n",
            "        -4.4395e-02,  4.2635e-03, -5.8533e-02, -2.2433e-02, -9.0719e-02,\n",
            "        -4.9795e-02,  1.0778e-01,  6.8102e-02,  1.1421e-01,  7.5486e-02,\n",
            "         6.8321e-02, -4.5661e-02, -2.4605e-02,  3.0682e-02, -3.5009e-02,\n",
            "         4.5302e-02,  6.5741e-02, -2.6096e-02, -3.2514e-04, -1.5090e-03,\n",
            "        -2.8071e-02, -8.1417e-02, -1.9172e-02,  9.8483e-02,  2.0417e-02,\n",
            "         2.0591e-02,  9.3534e-03,  3.4553e-03, -5.3489e-02, -6.0053e-02,\n",
            "        -6.7254e-04, -2.7471e-02, -1.1522e-02, -3.8946e-02,  3.1133e-02,\n",
            "         3.6874e-02, -3.9311e-02, -7.0635e-03,  1.4300e-03, -3.1917e-02,\n",
            "         8.7843e-02,  2.8347e-02, -7.2429e-02,  2.0835e-02,  3.8101e-03,\n",
            "         3.4753e-02,  3.3576e-04,  1.8750e-02, -3.8901e-02, -3.1183e-02,\n",
            "         1.8793e-02,  1.1849e-01,  9.9240e-02,  6.6806e-02,  2.2779e-02,\n",
            "         4.0971e-02,  4.7528e-02,  1.7764e-02,  1.9908e-02,  1.1309e-01,\n",
            "        -1.6034e-04,  4.5890e-02,  8.1273e-02, -6.7630e-03, -3.3146e-02,\n",
            "         9.1426e-02, -4.1388e-02,  2.9160e-02,  6.6252e-02,  2.3134e-02,\n",
            "         6.7926e-03, -9.0379e-03,  1.1720e-02, -1.9772e-02,  3.6815e-02,\n",
            "         1.1345e-02,  9.1386e-03,  1.9072e-02,  6.8509e-02,  8.1927e-02,\n",
            "        -1.3962e-02, -8.0433e-02,  4.9119e-02, -1.4864e-04,  5.5734e-02,\n",
            "         2.8578e-03,  8.6893e-03, -3.8234e-02, -4.7242e-02, -1.0642e-01,\n",
            "        -2.8352e-02,  4.5425e-02,  1.9934e-02, -9.2905e-02,  1.1797e-02,\n",
            "        -4.9029e-03,  4.2852e-02,  5.8810e-02, -4.6296e-02, -7.6017e-02,\n",
            "        -5.9199e-02, -4.1099e-02, -4.7022e-02,  1.3308e-02, -3.6812e-02,\n",
            "         1.2692e-01, -4.7188e-03,  1.0721e-01,  8.9894e-02,  4.1562e-02,\n",
            "        -5.8181e-02,  1.7426e-02, -2.3868e-02,  2.1165e-02, -1.7311e-02,\n",
            "         1.0567e-02,  3.5443e-04,  1.6622e-01, -3.9953e-02,  1.5148e-01,\n",
            "         1.2076e-02, -4.1606e-02,  1.5969e-03,  5.4346e-02, -1.0416e-02,\n",
            "         4.0319e-02,  8.1467e-02,  1.0036e-03, -6.5760e-02,  1.2406e-02,\n",
            "         5.9347e-03,  1.5954e-02,  8.2046e-02,  1.3433e-01,  1.9607e-03,\n",
            "        -4.8643e-02,  2.2352e-02, -5.1877e-03,  7.1100e-02, -1.7884e-03,\n",
            "         5.4219e-02, -1.2088e-02,  6.4483e-02, -9.9232e-02,  4.7464e-02,\n",
            "        -2.3691e-02,  1.1105e-01, -5.2309e-03, -8.6507e-03,  3.3284e-02,\n",
            "         1.1735e-02,  3.7507e-02,  3.0447e-02,  1.8812e-02, -6.8519e-02,\n",
            "         6.0163e-02, -2.8779e-02, -3.7485e-02, -5.6052e-02, -3.1072e-03,\n",
            "         7.2206e-02,  1.4191e-02, -1.9520e-02,  3.2627e-02, -2.7464e-02,\n",
            "         6.6420e-02, -2.4281e-02,  6.7176e-02,  4.3811e-02,  5.8367e-02,\n",
            "         5.0580e-02, -3.5321e-02, -4.2328e-02,  1.1440e-01, -3.3413e-03,\n",
            "         1.3100e-01,  2.5057e-02, -3.1175e-02,  5.5909e-02,  6.0324e-02,\n",
            "         7.2324e-02,  4.2775e-02,  3.0684e-02,  9.9989e-03, -2.8872e-02,\n",
            "         3.5914e-02,  1.3096e-02,  1.4243e-01, -3.1670e-02,  4.2436e-02,\n",
            "         1.6030e-02,  5.0467e-02, -1.5023e-02, -3.2778e-02,  1.1751e-02,\n",
            "         5.8581e-02])), ('fc4.weight', tensor([[ 0.0419,  0.0112, -0.0493,  ...,  0.0022, -0.2219,  0.1032],\n",
            "        [ 0.0135, -0.0407,  0.0257,  ..., -0.0052,  0.0843,  0.0780],\n",
            "        [-0.0205, -0.1017,  0.0829,  ...,  0.0469, -0.2149,  0.0248],\n",
            "        ...,\n",
            "        [ 0.0416,  0.0268,  0.0543,  ..., -0.0454,  0.2025, -0.0225],\n",
            "        [ 0.0179, -0.0381,  0.0214,  ..., -0.0239, -0.0577,  0.0239],\n",
            "        [ 0.0425, -0.1492,  0.0309,  ..., -0.0289,  0.1964, -0.0535]])), ('fc4.bias', tensor([-0.3978,  0.1513,  0.1200,  0.0367,  0.2699, -0.2926,  0.2540, -0.0281,\n",
            "        -0.1992, -0.0407]))])\n",
            "fc2.weight \t OrderedDict([('fc1.weight', tensor([[-0.0175,  0.0042, -0.0198,  ...,  0.0005,  0.0117, -0.0045],\n",
            "        [-0.0188,  0.0038, -0.0084,  ..., -0.0100,  0.0086,  0.0128],\n",
            "        [-0.0105,  0.0082,  0.0029,  ..., -0.0177, -0.0016,  0.0066],\n",
            "        ...,\n",
            "        [-0.0044, -0.0252,  0.0078,  ...,  0.0140, -0.0073, -0.0077],\n",
            "        [ 0.0025,  0.0039, -0.0137,  ...,  0.0177, -0.0016, -0.0104],\n",
            "        [-0.0188, -0.0300, -0.0276,  ..., -0.0065, -0.0009,  0.0045]])), ('fc1.bias', tensor([ 0.0171,  0.0065,  0.0481,  ..., -0.0017, -0.0064,  0.0125])), ('fc2.weight', tensor([[-0.0333, -0.0302,  0.0351,  ...,  0.0091,  0.0258,  0.0044],\n",
            "        [ 0.0181, -0.0060,  0.0175,  ...,  0.0279, -0.0159,  0.0122],\n",
            "        [ 0.0206, -0.0004,  0.0422,  ...,  0.0196,  0.0100,  0.0257],\n",
            "        ...,\n",
            "        [-0.0091, -0.0007,  0.0221,  ...,  0.0069, -0.0002,  0.0194],\n",
            "        [-0.0021, -0.0307, -0.0123,  ...,  0.0244,  0.0079, -0.0174],\n",
            "        [-0.0361, -0.0290, -0.0147,  ..., -0.0321, -0.0331, -0.0225]])), ('fc2.bias', tensor([ 0.0397, -0.0505, -0.0292,  0.0253, -0.0179, -0.0134,  0.0382, -0.0393,\n",
            "        -0.0174, -0.0162,  0.0295, -0.0493,  0.0543, -0.0273,  0.0707,  0.0022,\n",
            "         0.0475, -0.0072,  0.0263, -0.0145, -0.0333,  0.0540,  0.0042, -0.0072,\n",
            "        -0.0388,  0.0472,  0.0157, -0.0182,  0.0279, -0.0287, -0.1391, -0.0249,\n",
            "        -0.0467, -0.0125,  0.0216,  0.0580, -0.0311,  0.0774, -0.0192, -0.0600,\n",
            "         0.0460,  0.0132, -0.0225, -0.0270,  0.0117,  0.0040, -0.0267,  0.0031,\n",
            "        -0.0100, -0.0163, -0.0847, -0.0128, -0.0235,  0.0265,  0.0792, -0.0364,\n",
            "         0.0098, -0.0026,  0.0734,  0.0202, -0.0267, -0.0332, -0.0061, -0.0203,\n",
            "         0.0184,  0.0447,  0.0029, -0.0222, -0.0286,  0.0174,  0.0345,  0.0031,\n",
            "         0.0301, -0.0016,  0.0047, -0.0187,  0.0233,  0.0201, -0.0258,  0.0118,\n",
            "         0.0233,  0.0033, -0.0893, -0.0132, -0.0113, -0.0071,  0.0477, -0.0088,\n",
            "        -0.0894, -0.0212, -0.0326, -0.0003,  0.0467, -0.0166,  0.0216, -0.0294,\n",
            "        -0.0299, -0.0246,  0.0850, -0.0210, -0.0659,  0.0132,  0.0194,  0.0039,\n",
            "        -0.0184, -0.0179, -0.0047,  0.0053, -0.0215, -0.0176,  0.0073,  0.0062,\n",
            "        -0.0072, -0.0130,  0.0557, -0.0652,  0.0190,  0.0289, -0.0246, -0.0084,\n",
            "        -0.0889, -0.0007,  0.0328, -0.0091, -0.0053,  0.0867, -0.0151, -0.0188,\n",
            "        -0.0364,  0.0523, -0.0120,  0.0181,  0.0374,  0.0673,  0.0039,  0.0233,\n",
            "        -0.0361,  0.0218, -0.0488,  0.0130, -0.0047, -0.0485, -0.0003, -0.0353,\n",
            "        -0.0507,  0.0339, -0.0294,  0.0300,  0.0453, -0.0352,  0.0106, -0.0253,\n",
            "        -0.0305, -0.0045, -0.0095, -0.0128, -0.0129, -0.0157, -0.0163,  0.0011,\n",
            "        -0.0449,  0.0046,  0.0395, -0.0206,  0.0400, -0.0281,  0.0508,  0.0212,\n",
            "         0.0126,  0.0350,  0.0772, -0.0367,  0.0151,  0.0223,  0.0021,  0.0252,\n",
            "         0.0619,  0.0170,  0.0584,  0.0394, -0.0031, -0.0008, -0.0023, -0.0061,\n",
            "         0.0017,  0.0727, -0.0018,  0.0296,  0.0336, -0.0144,  0.0723, -0.0079,\n",
            "         0.0383,  0.0600,  0.0161, -0.0475, -0.0014,  0.0153,  0.0074, -0.0105,\n",
            "         0.0678, -0.0096,  0.1137, -0.0374,  0.0156, -0.0116,  0.0880,  0.0828,\n",
            "         0.0485,  0.1139,  0.0578, -0.0152, -0.0177, -0.0152,  0.1353, -0.0332,\n",
            "         0.0729, -0.0404,  0.0061,  0.0189, -0.0252,  0.0335, -0.0672,  0.0146,\n",
            "         0.0036,  0.0468,  0.0123,  0.0275, -0.0105, -0.0044, -0.0326, -0.0196,\n",
            "         0.0137,  0.0912,  0.0192,  0.0650, -0.0165,  0.0264, -0.0255, -0.0006,\n",
            "         0.0040, -0.0024,  0.0266,  0.0245,  0.0281,  0.0436, -0.0270, -0.0159,\n",
            "        -0.0095,  0.0401, -0.0928,  0.0534,  0.0181, -0.0345,  0.0039,  0.0594,\n",
            "         0.0646,  0.0164, -0.0254, -0.0144,  0.0099, -0.0256,  0.0245, -0.0366,\n",
            "         0.0412,  0.0516,  0.0174,  0.0441, -0.0207,  0.0143, -0.0126, -0.0035,\n",
            "        -0.0493,  0.0615, -0.1024, -0.0152,  0.0330, -0.0124, -0.0101,  0.0411,\n",
            "        -0.0014,  0.0289,  0.1011, -0.0439,  0.0275,  0.0546,  0.0642, -0.0149,\n",
            "         0.0396, -0.0213, -0.0355,  0.0106, -0.0559,  0.0625,  0.0116, -0.0592,\n",
            "        -0.0571,  0.0222, -0.0283,  0.0208, -0.0297, -0.0248, -0.0276, -0.0047,\n",
            "        -0.0736,  0.0490,  0.0588,  0.0074,  0.0016, -0.0237, -0.0035, -0.0215,\n",
            "         0.0149, -0.0427,  0.0048,  0.0253, -0.0726,  0.0276, -0.0427,  0.1171,\n",
            "         0.0305,  0.0340, -0.0107,  0.0126, -0.0010, -0.0633,  0.0030,  0.1233,\n",
            "         0.0894, -0.0131, -0.0228,  0.0207, -0.0312, -0.0121,  0.0069,  0.0312,\n",
            "        -0.0425, -0.0035, -0.0242,  0.0678,  0.0393,  0.0276,  0.0232,  0.0020,\n",
            "         0.0200,  0.0121,  0.0210, -0.0046,  0.1606,  0.0572,  0.0165,  0.0542,\n",
            "        -0.0038, -0.0483, -0.0177, -0.0395,  0.0058, -0.0142,  0.0272, -0.0211,\n",
            "        -0.0727, -0.0350,  0.0115,  0.0196, -0.0187, -0.0389,  0.0957, -0.0284,\n",
            "        -0.0176,  0.0415, -0.0025,  0.0674, -0.0075, -0.0061, -0.0102,  0.0192,\n",
            "        -0.0377,  0.0976, -0.0127, -0.0424, -0.0537,  0.0127,  0.0338,  0.0139,\n",
            "         0.0108,  0.0194,  0.0624,  0.0242, -0.0073, -0.0050, -0.0638, -0.0071,\n",
            "         0.0066,  0.0324,  0.0353,  0.0102,  0.0215, -0.0010,  0.0093, -0.0027,\n",
            "        -0.0208,  0.0381, -0.0269, -0.0070, -0.0389, -0.0204,  0.0565,  0.0139,\n",
            "         0.0343,  0.0623, -0.0194, -0.0274, -0.0506, -0.0096, -0.0322,  0.0737,\n",
            "        -0.0059, -0.0003, -0.0440,  0.0311,  0.1202,  0.0232, -0.0399, -0.0282,\n",
            "        -0.0305, -0.0036, -0.0041, -0.0237,  0.0257, -0.0537, -0.0264,  0.0566,\n",
            "        -0.0091, -0.0239, -0.0665, -0.0184, -0.0116, -0.0723,  0.0005, -0.0095,\n",
            "         0.0404, -0.0723, -0.0365, -0.0852,  0.0811,  0.0190,  0.0073,  0.0041,\n",
            "        -0.0137,  0.0094,  0.0602,  0.0044,  0.1236,  0.0068, -0.0161,  0.0595,\n",
            "        -0.0667, -0.0108,  0.0050,  0.0381,  0.0417, -0.0270,  0.0102,  0.0741,\n",
            "        -0.0570,  0.0295, -0.0337,  0.0736, -0.0062, -0.0341, -0.0045,  0.1538,\n",
            "         0.1172, -0.0802, -0.0823, -0.0236, -0.0261,  0.0252,  0.0119, -0.0383,\n",
            "        -0.0211,  0.0765, -0.0170,  0.0056, -0.0372,  0.0375, -0.0047,  0.0009,\n",
            "         0.0260, -0.0128, -0.0243, -0.0295, -0.0114, -0.0192,  0.0218, -0.0531,\n",
            "        -0.0178,  0.0251, -0.0025, -0.0119,  0.0079, -0.0210,  0.0150, -0.0018,\n",
            "        -0.0204,  0.1069, -0.0487,  0.0471,  0.0176, -0.0055, -0.0522, -0.0079])), ('fc3.weight', tensor([[ 0.0237, -0.0382,  0.0122,  ..., -0.0335, -0.0232,  0.0352],\n",
            "        [ 0.0449, -0.0059,  0.0279,  ...,  0.0074, -0.0364,  0.0184],\n",
            "        [-0.0381,  0.0038,  0.0587,  ...,  0.0161,  0.0100,  0.0221],\n",
            "        ...,\n",
            "        [-0.0172,  0.0402, -0.0011,  ..., -0.0391,  0.0229, -0.0213],\n",
            "        [ 0.0374,  0.0095,  0.0072,  ...,  0.0479,  0.0295, -0.0372],\n",
            "        [-0.0347, -0.0348,  0.0062,  ..., -0.0281,  0.0344,  0.0320]])), ('fc3.bias', tensor([ 4.0825e-02,  8.5141e-04,  1.1963e-02,  2.2339e-02,  1.9393e-02,\n",
            "         4.4778e-02, -7.9330e-02, -9.7609e-03,  3.8839e-02,  5.8806e-02,\n",
            "         1.2000e-01, -1.2149e-02,  1.6547e-02, -5.1034e-02,  3.3147e-02,\n",
            "         2.7494e-03, -2.2669e-02,  1.4479e-01, -3.2806e-02, -3.5290e-02,\n",
            "         1.0236e-02, -4.1321e-02, -2.0450e-02, -6.4086e-02,  6.1944e-03,\n",
            "        -5.0886e-02,  7.7318e-03, -3.6536e-02,  3.3151e-02,  4.7813e-02,\n",
            "        -5.3164e-02, -6.0851e-02, -1.8884e-02,  4.1519e-02, -1.4019e-02,\n",
            "         7.9226e-02,  7.0098e-02,  1.8677e-02, -6.6803e-02,  4.7898e-02,\n",
            "        -6.4434e-03,  8.8814e-02, -4.8931e-02, -9.0580e-02, -2.0080e-02,\n",
            "        -1.3465e-02,  1.0373e-01,  1.8163e-01, -5.4285e-02,  8.4277e-02,\n",
            "        -2.1737e-02, -2.5445e-02, -5.4807e-03,  6.9254e-02, -1.1341e-01,\n",
            "         2.0972e-02,  2.0801e-02, -1.5888e-02,  4.5518e-02,  7.2902e-02,\n",
            "        -4.4395e-02,  4.2635e-03, -5.8533e-02, -2.2433e-02, -9.0719e-02,\n",
            "        -4.9795e-02,  1.0778e-01,  6.8102e-02,  1.1421e-01,  7.5486e-02,\n",
            "         6.8321e-02, -4.5661e-02, -2.4605e-02,  3.0682e-02, -3.5009e-02,\n",
            "         4.5302e-02,  6.5741e-02, -2.6096e-02, -3.2514e-04, -1.5090e-03,\n",
            "        -2.8071e-02, -8.1417e-02, -1.9172e-02,  9.8483e-02,  2.0417e-02,\n",
            "         2.0591e-02,  9.3534e-03,  3.4553e-03, -5.3489e-02, -6.0053e-02,\n",
            "        -6.7254e-04, -2.7471e-02, -1.1522e-02, -3.8946e-02,  3.1133e-02,\n",
            "         3.6874e-02, -3.9311e-02, -7.0635e-03,  1.4300e-03, -3.1917e-02,\n",
            "         8.7843e-02,  2.8347e-02, -7.2429e-02,  2.0835e-02,  3.8101e-03,\n",
            "         3.4753e-02,  3.3576e-04,  1.8750e-02, -3.8901e-02, -3.1183e-02,\n",
            "         1.8793e-02,  1.1849e-01,  9.9240e-02,  6.6806e-02,  2.2779e-02,\n",
            "         4.0971e-02,  4.7528e-02,  1.7764e-02,  1.9908e-02,  1.1309e-01,\n",
            "        -1.6034e-04,  4.5890e-02,  8.1273e-02, -6.7630e-03, -3.3146e-02,\n",
            "         9.1426e-02, -4.1388e-02,  2.9160e-02,  6.6252e-02,  2.3134e-02,\n",
            "         6.7926e-03, -9.0379e-03,  1.1720e-02, -1.9772e-02,  3.6815e-02,\n",
            "         1.1345e-02,  9.1386e-03,  1.9072e-02,  6.8509e-02,  8.1927e-02,\n",
            "        -1.3962e-02, -8.0433e-02,  4.9119e-02, -1.4864e-04,  5.5734e-02,\n",
            "         2.8578e-03,  8.6893e-03, -3.8234e-02, -4.7242e-02, -1.0642e-01,\n",
            "        -2.8352e-02,  4.5425e-02,  1.9934e-02, -9.2905e-02,  1.1797e-02,\n",
            "        -4.9029e-03,  4.2852e-02,  5.8810e-02, -4.6296e-02, -7.6017e-02,\n",
            "        -5.9199e-02, -4.1099e-02, -4.7022e-02,  1.3308e-02, -3.6812e-02,\n",
            "         1.2692e-01, -4.7188e-03,  1.0721e-01,  8.9894e-02,  4.1562e-02,\n",
            "        -5.8181e-02,  1.7426e-02, -2.3868e-02,  2.1165e-02, -1.7311e-02,\n",
            "         1.0567e-02,  3.5443e-04,  1.6622e-01, -3.9953e-02,  1.5148e-01,\n",
            "         1.2076e-02, -4.1606e-02,  1.5969e-03,  5.4346e-02, -1.0416e-02,\n",
            "         4.0319e-02,  8.1467e-02,  1.0036e-03, -6.5760e-02,  1.2406e-02,\n",
            "         5.9347e-03,  1.5954e-02,  8.2046e-02,  1.3433e-01,  1.9607e-03,\n",
            "        -4.8643e-02,  2.2352e-02, -5.1877e-03,  7.1100e-02, -1.7884e-03,\n",
            "         5.4219e-02, -1.2088e-02,  6.4483e-02, -9.9232e-02,  4.7464e-02,\n",
            "        -2.3691e-02,  1.1105e-01, -5.2309e-03, -8.6507e-03,  3.3284e-02,\n",
            "         1.1735e-02,  3.7507e-02,  3.0447e-02,  1.8812e-02, -6.8519e-02,\n",
            "         6.0163e-02, -2.8779e-02, -3.7485e-02, -5.6052e-02, -3.1072e-03,\n",
            "         7.2206e-02,  1.4191e-02, -1.9520e-02,  3.2627e-02, -2.7464e-02,\n",
            "         6.6420e-02, -2.4281e-02,  6.7176e-02,  4.3811e-02,  5.8367e-02,\n",
            "         5.0580e-02, -3.5321e-02, -4.2328e-02,  1.1440e-01, -3.3413e-03,\n",
            "         1.3100e-01,  2.5057e-02, -3.1175e-02,  5.5909e-02,  6.0324e-02,\n",
            "         7.2324e-02,  4.2775e-02,  3.0684e-02,  9.9989e-03, -2.8872e-02,\n",
            "         3.5914e-02,  1.3096e-02,  1.4243e-01, -3.1670e-02,  4.2436e-02,\n",
            "         1.6030e-02,  5.0467e-02, -1.5023e-02, -3.2778e-02,  1.1751e-02,\n",
            "         5.8581e-02])), ('fc4.weight', tensor([[ 0.0419,  0.0112, -0.0493,  ...,  0.0022, -0.2219,  0.1032],\n",
            "        [ 0.0135, -0.0407,  0.0257,  ..., -0.0052,  0.0843,  0.0780],\n",
            "        [-0.0205, -0.1017,  0.0829,  ...,  0.0469, -0.2149,  0.0248],\n",
            "        ...,\n",
            "        [ 0.0416,  0.0268,  0.0543,  ..., -0.0454,  0.2025, -0.0225],\n",
            "        [ 0.0179, -0.0381,  0.0214,  ..., -0.0239, -0.0577,  0.0239],\n",
            "        [ 0.0425, -0.1492,  0.0309,  ..., -0.0289,  0.1964, -0.0535]])), ('fc4.bias', tensor([-0.3978,  0.1513,  0.1200,  0.0367,  0.2699, -0.2926,  0.2540, -0.0281,\n",
            "        -0.1992, -0.0407]))])\n",
            "fc2.bias \t OrderedDict([('fc1.weight', tensor([[-0.0175,  0.0042, -0.0198,  ...,  0.0005,  0.0117, -0.0045],\n",
            "        [-0.0188,  0.0038, -0.0084,  ..., -0.0100,  0.0086,  0.0128],\n",
            "        [-0.0105,  0.0082,  0.0029,  ..., -0.0177, -0.0016,  0.0066],\n",
            "        ...,\n",
            "        [-0.0044, -0.0252,  0.0078,  ...,  0.0140, -0.0073, -0.0077],\n",
            "        [ 0.0025,  0.0039, -0.0137,  ...,  0.0177, -0.0016, -0.0104],\n",
            "        [-0.0188, -0.0300, -0.0276,  ..., -0.0065, -0.0009,  0.0045]])), ('fc1.bias', tensor([ 0.0171,  0.0065,  0.0481,  ..., -0.0017, -0.0064,  0.0125])), ('fc2.weight', tensor([[-0.0333, -0.0302,  0.0351,  ...,  0.0091,  0.0258,  0.0044],\n",
            "        [ 0.0181, -0.0060,  0.0175,  ...,  0.0279, -0.0159,  0.0122],\n",
            "        [ 0.0206, -0.0004,  0.0422,  ...,  0.0196,  0.0100,  0.0257],\n",
            "        ...,\n",
            "        [-0.0091, -0.0007,  0.0221,  ...,  0.0069, -0.0002,  0.0194],\n",
            "        [-0.0021, -0.0307, -0.0123,  ...,  0.0244,  0.0079, -0.0174],\n",
            "        [-0.0361, -0.0290, -0.0147,  ..., -0.0321, -0.0331, -0.0225]])), ('fc2.bias', tensor([ 0.0397, -0.0505, -0.0292,  0.0253, -0.0179, -0.0134,  0.0382, -0.0393,\n",
            "        -0.0174, -0.0162,  0.0295, -0.0493,  0.0543, -0.0273,  0.0707,  0.0022,\n",
            "         0.0475, -0.0072,  0.0263, -0.0145, -0.0333,  0.0540,  0.0042, -0.0072,\n",
            "        -0.0388,  0.0472,  0.0157, -0.0182,  0.0279, -0.0287, -0.1391, -0.0249,\n",
            "        -0.0467, -0.0125,  0.0216,  0.0580, -0.0311,  0.0774, -0.0192, -0.0600,\n",
            "         0.0460,  0.0132, -0.0225, -0.0270,  0.0117,  0.0040, -0.0267,  0.0031,\n",
            "        -0.0100, -0.0163, -0.0847, -0.0128, -0.0235,  0.0265,  0.0792, -0.0364,\n",
            "         0.0098, -0.0026,  0.0734,  0.0202, -0.0267, -0.0332, -0.0061, -0.0203,\n",
            "         0.0184,  0.0447,  0.0029, -0.0222, -0.0286,  0.0174,  0.0345,  0.0031,\n",
            "         0.0301, -0.0016,  0.0047, -0.0187,  0.0233,  0.0201, -0.0258,  0.0118,\n",
            "         0.0233,  0.0033, -0.0893, -0.0132, -0.0113, -0.0071,  0.0477, -0.0088,\n",
            "        -0.0894, -0.0212, -0.0326, -0.0003,  0.0467, -0.0166,  0.0216, -0.0294,\n",
            "        -0.0299, -0.0246,  0.0850, -0.0210, -0.0659,  0.0132,  0.0194,  0.0039,\n",
            "        -0.0184, -0.0179, -0.0047,  0.0053, -0.0215, -0.0176,  0.0073,  0.0062,\n",
            "        -0.0072, -0.0130,  0.0557, -0.0652,  0.0190,  0.0289, -0.0246, -0.0084,\n",
            "        -0.0889, -0.0007,  0.0328, -0.0091, -0.0053,  0.0867, -0.0151, -0.0188,\n",
            "        -0.0364,  0.0523, -0.0120,  0.0181,  0.0374,  0.0673,  0.0039,  0.0233,\n",
            "        -0.0361,  0.0218, -0.0488,  0.0130, -0.0047, -0.0485, -0.0003, -0.0353,\n",
            "        -0.0507,  0.0339, -0.0294,  0.0300,  0.0453, -0.0352,  0.0106, -0.0253,\n",
            "        -0.0305, -0.0045, -0.0095, -0.0128, -0.0129, -0.0157, -0.0163,  0.0011,\n",
            "        -0.0449,  0.0046,  0.0395, -0.0206,  0.0400, -0.0281,  0.0508,  0.0212,\n",
            "         0.0126,  0.0350,  0.0772, -0.0367,  0.0151,  0.0223,  0.0021,  0.0252,\n",
            "         0.0619,  0.0170,  0.0584,  0.0394, -0.0031, -0.0008, -0.0023, -0.0061,\n",
            "         0.0017,  0.0727, -0.0018,  0.0296,  0.0336, -0.0144,  0.0723, -0.0079,\n",
            "         0.0383,  0.0600,  0.0161, -0.0475, -0.0014,  0.0153,  0.0074, -0.0105,\n",
            "         0.0678, -0.0096,  0.1137, -0.0374,  0.0156, -0.0116,  0.0880,  0.0828,\n",
            "         0.0485,  0.1139,  0.0578, -0.0152, -0.0177, -0.0152,  0.1353, -0.0332,\n",
            "         0.0729, -0.0404,  0.0061,  0.0189, -0.0252,  0.0335, -0.0672,  0.0146,\n",
            "         0.0036,  0.0468,  0.0123,  0.0275, -0.0105, -0.0044, -0.0326, -0.0196,\n",
            "         0.0137,  0.0912,  0.0192,  0.0650, -0.0165,  0.0264, -0.0255, -0.0006,\n",
            "         0.0040, -0.0024,  0.0266,  0.0245,  0.0281,  0.0436, -0.0270, -0.0159,\n",
            "        -0.0095,  0.0401, -0.0928,  0.0534,  0.0181, -0.0345,  0.0039,  0.0594,\n",
            "         0.0646,  0.0164, -0.0254, -0.0144,  0.0099, -0.0256,  0.0245, -0.0366,\n",
            "         0.0412,  0.0516,  0.0174,  0.0441, -0.0207,  0.0143, -0.0126, -0.0035,\n",
            "        -0.0493,  0.0615, -0.1024, -0.0152,  0.0330, -0.0124, -0.0101,  0.0411,\n",
            "        -0.0014,  0.0289,  0.1011, -0.0439,  0.0275,  0.0546,  0.0642, -0.0149,\n",
            "         0.0396, -0.0213, -0.0355,  0.0106, -0.0559,  0.0625,  0.0116, -0.0592,\n",
            "        -0.0571,  0.0222, -0.0283,  0.0208, -0.0297, -0.0248, -0.0276, -0.0047,\n",
            "        -0.0736,  0.0490,  0.0588,  0.0074,  0.0016, -0.0237, -0.0035, -0.0215,\n",
            "         0.0149, -0.0427,  0.0048,  0.0253, -0.0726,  0.0276, -0.0427,  0.1171,\n",
            "         0.0305,  0.0340, -0.0107,  0.0126, -0.0010, -0.0633,  0.0030,  0.1233,\n",
            "         0.0894, -0.0131, -0.0228,  0.0207, -0.0312, -0.0121,  0.0069,  0.0312,\n",
            "        -0.0425, -0.0035, -0.0242,  0.0678,  0.0393,  0.0276,  0.0232,  0.0020,\n",
            "         0.0200,  0.0121,  0.0210, -0.0046,  0.1606,  0.0572,  0.0165,  0.0542,\n",
            "        -0.0038, -0.0483, -0.0177, -0.0395,  0.0058, -0.0142,  0.0272, -0.0211,\n",
            "        -0.0727, -0.0350,  0.0115,  0.0196, -0.0187, -0.0389,  0.0957, -0.0284,\n",
            "        -0.0176,  0.0415, -0.0025,  0.0674, -0.0075, -0.0061, -0.0102,  0.0192,\n",
            "        -0.0377,  0.0976, -0.0127, -0.0424, -0.0537,  0.0127,  0.0338,  0.0139,\n",
            "         0.0108,  0.0194,  0.0624,  0.0242, -0.0073, -0.0050, -0.0638, -0.0071,\n",
            "         0.0066,  0.0324,  0.0353,  0.0102,  0.0215, -0.0010,  0.0093, -0.0027,\n",
            "        -0.0208,  0.0381, -0.0269, -0.0070, -0.0389, -0.0204,  0.0565,  0.0139,\n",
            "         0.0343,  0.0623, -0.0194, -0.0274, -0.0506, -0.0096, -0.0322,  0.0737,\n",
            "        -0.0059, -0.0003, -0.0440,  0.0311,  0.1202,  0.0232, -0.0399, -0.0282,\n",
            "        -0.0305, -0.0036, -0.0041, -0.0237,  0.0257, -0.0537, -0.0264,  0.0566,\n",
            "        -0.0091, -0.0239, -0.0665, -0.0184, -0.0116, -0.0723,  0.0005, -0.0095,\n",
            "         0.0404, -0.0723, -0.0365, -0.0852,  0.0811,  0.0190,  0.0073,  0.0041,\n",
            "        -0.0137,  0.0094,  0.0602,  0.0044,  0.1236,  0.0068, -0.0161,  0.0595,\n",
            "        -0.0667, -0.0108,  0.0050,  0.0381,  0.0417, -0.0270,  0.0102,  0.0741,\n",
            "        -0.0570,  0.0295, -0.0337,  0.0736, -0.0062, -0.0341, -0.0045,  0.1538,\n",
            "         0.1172, -0.0802, -0.0823, -0.0236, -0.0261,  0.0252,  0.0119, -0.0383,\n",
            "        -0.0211,  0.0765, -0.0170,  0.0056, -0.0372,  0.0375, -0.0047,  0.0009,\n",
            "         0.0260, -0.0128, -0.0243, -0.0295, -0.0114, -0.0192,  0.0218, -0.0531,\n",
            "        -0.0178,  0.0251, -0.0025, -0.0119,  0.0079, -0.0210,  0.0150, -0.0018,\n",
            "        -0.0204,  0.1069, -0.0487,  0.0471,  0.0176, -0.0055, -0.0522, -0.0079])), ('fc3.weight', tensor([[ 0.0237, -0.0382,  0.0122,  ..., -0.0335, -0.0232,  0.0352],\n",
            "        [ 0.0449, -0.0059,  0.0279,  ...,  0.0074, -0.0364,  0.0184],\n",
            "        [-0.0381,  0.0038,  0.0587,  ...,  0.0161,  0.0100,  0.0221],\n",
            "        ...,\n",
            "        [-0.0172,  0.0402, -0.0011,  ..., -0.0391,  0.0229, -0.0213],\n",
            "        [ 0.0374,  0.0095,  0.0072,  ...,  0.0479,  0.0295, -0.0372],\n",
            "        [-0.0347, -0.0348,  0.0062,  ..., -0.0281,  0.0344,  0.0320]])), ('fc3.bias', tensor([ 4.0825e-02,  8.5141e-04,  1.1963e-02,  2.2339e-02,  1.9393e-02,\n",
            "         4.4778e-02, -7.9330e-02, -9.7609e-03,  3.8839e-02,  5.8806e-02,\n",
            "         1.2000e-01, -1.2149e-02,  1.6547e-02, -5.1034e-02,  3.3147e-02,\n",
            "         2.7494e-03, -2.2669e-02,  1.4479e-01, -3.2806e-02, -3.5290e-02,\n",
            "         1.0236e-02, -4.1321e-02, -2.0450e-02, -6.4086e-02,  6.1944e-03,\n",
            "        -5.0886e-02,  7.7318e-03, -3.6536e-02,  3.3151e-02,  4.7813e-02,\n",
            "        -5.3164e-02, -6.0851e-02, -1.8884e-02,  4.1519e-02, -1.4019e-02,\n",
            "         7.9226e-02,  7.0098e-02,  1.8677e-02, -6.6803e-02,  4.7898e-02,\n",
            "        -6.4434e-03,  8.8814e-02, -4.8931e-02, -9.0580e-02, -2.0080e-02,\n",
            "        -1.3465e-02,  1.0373e-01,  1.8163e-01, -5.4285e-02,  8.4277e-02,\n",
            "        -2.1737e-02, -2.5445e-02, -5.4807e-03,  6.9254e-02, -1.1341e-01,\n",
            "         2.0972e-02,  2.0801e-02, -1.5888e-02,  4.5518e-02,  7.2902e-02,\n",
            "        -4.4395e-02,  4.2635e-03, -5.8533e-02, -2.2433e-02, -9.0719e-02,\n",
            "        -4.9795e-02,  1.0778e-01,  6.8102e-02,  1.1421e-01,  7.5486e-02,\n",
            "         6.8321e-02, -4.5661e-02, -2.4605e-02,  3.0682e-02, -3.5009e-02,\n",
            "         4.5302e-02,  6.5741e-02, -2.6096e-02, -3.2514e-04, -1.5090e-03,\n",
            "        -2.8071e-02, -8.1417e-02, -1.9172e-02,  9.8483e-02,  2.0417e-02,\n",
            "         2.0591e-02,  9.3534e-03,  3.4553e-03, -5.3489e-02, -6.0053e-02,\n",
            "        -6.7254e-04, -2.7471e-02, -1.1522e-02, -3.8946e-02,  3.1133e-02,\n",
            "         3.6874e-02, -3.9311e-02, -7.0635e-03,  1.4300e-03, -3.1917e-02,\n",
            "         8.7843e-02,  2.8347e-02, -7.2429e-02,  2.0835e-02,  3.8101e-03,\n",
            "         3.4753e-02,  3.3576e-04,  1.8750e-02, -3.8901e-02, -3.1183e-02,\n",
            "         1.8793e-02,  1.1849e-01,  9.9240e-02,  6.6806e-02,  2.2779e-02,\n",
            "         4.0971e-02,  4.7528e-02,  1.7764e-02,  1.9908e-02,  1.1309e-01,\n",
            "        -1.6034e-04,  4.5890e-02,  8.1273e-02, -6.7630e-03, -3.3146e-02,\n",
            "         9.1426e-02, -4.1388e-02,  2.9160e-02,  6.6252e-02,  2.3134e-02,\n",
            "         6.7926e-03, -9.0379e-03,  1.1720e-02, -1.9772e-02,  3.6815e-02,\n",
            "         1.1345e-02,  9.1386e-03,  1.9072e-02,  6.8509e-02,  8.1927e-02,\n",
            "        -1.3962e-02, -8.0433e-02,  4.9119e-02, -1.4864e-04,  5.5734e-02,\n",
            "         2.8578e-03,  8.6893e-03, -3.8234e-02, -4.7242e-02, -1.0642e-01,\n",
            "        -2.8352e-02,  4.5425e-02,  1.9934e-02, -9.2905e-02,  1.1797e-02,\n",
            "        -4.9029e-03,  4.2852e-02,  5.8810e-02, -4.6296e-02, -7.6017e-02,\n",
            "        -5.9199e-02, -4.1099e-02, -4.7022e-02,  1.3308e-02, -3.6812e-02,\n",
            "         1.2692e-01, -4.7188e-03,  1.0721e-01,  8.9894e-02,  4.1562e-02,\n",
            "        -5.8181e-02,  1.7426e-02, -2.3868e-02,  2.1165e-02, -1.7311e-02,\n",
            "         1.0567e-02,  3.5443e-04,  1.6622e-01, -3.9953e-02,  1.5148e-01,\n",
            "         1.2076e-02, -4.1606e-02,  1.5969e-03,  5.4346e-02, -1.0416e-02,\n",
            "         4.0319e-02,  8.1467e-02,  1.0036e-03, -6.5760e-02,  1.2406e-02,\n",
            "         5.9347e-03,  1.5954e-02,  8.2046e-02,  1.3433e-01,  1.9607e-03,\n",
            "        -4.8643e-02,  2.2352e-02, -5.1877e-03,  7.1100e-02, -1.7884e-03,\n",
            "         5.4219e-02, -1.2088e-02,  6.4483e-02, -9.9232e-02,  4.7464e-02,\n",
            "        -2.3691e-02,  1.1105e-01, -5.2309e-03, -8.6507e-03,  3.3284e-02,\n",
            "         1.1735e-02,  3.7507e-02,  3.0447e-02,  1.8812e-02, -6.8519e-02,\n",
            "         6.0163e-02, -2.8779e-02, -3.7485e-02, -5.6052e-02, -3.1072e-03,\n",
            "         7.2206e-02,  1.4191e-02, -1.9520e-02,  3.2627e-02, -2.7464e-02,\n",
            "         6.6420e-02, -2.4281e-02,  6.7176e-02,  4.3811e-02,  5.8367e-02,\n",
            "         5.0580e-02, -3.5321e-02, -4.2328e-02,  1.1440e-01, -3.3413e-03,\n",
            "         1.3100e-01,  2.5057e-02, -3.1175e-02,  5.5909e-02,  6.0324e-02,\n",
            "         7.2324e-02,  4.2775e-02,  3.0684e-02,  9.9989e-03, -2.8872e-02,\n",
            "         3.5914e-02,  1.3096e-02,  1.4243e-01, -3.1670e-02,  4.2436e-02,\n",
            "         1.6030e-02,  5.0467e-02, -1.5023e-02, -3.2778e-02,  1.1751e-02,\n",
            "         5.8581e-02])), ('fc4.weight', tensor([[ 0.0419,  0.0112, -0.0493,  ...,  0.0022, -0.2219,  0.1032],\n",
            "        [ 0.0135, -0.0407,  0.0257,  ..., -0.0052,  0.0843,  0.0780],\n",
            "        [-0.0205, -0.1017,  0.0829,  ...,  0.0469, -0.2149,  0.0248],\n",
            "        ...,\n",
            "        [ 0.0416,  0.0268,  0.0543,  ..., -0.0454,  0.2025, -0.0225],\n",
            "        [ 0.0179, -0.0381,  0.0214,  ..., -0.0239, -0.0577,  0.0239],\n",
            "        [ 0.0425, -0.1492,  0.0309,  ..., -0.0289,  0.1964, -0.0535]])), ('fc4.bias', tensor([-0.3978,  0.1513,  0.1200,  0.0367,  0.2699, -0.2926,  0.2540, -0.0281,\n",
            "        -0.1992, -0.0407]))])\n",
            "fc3.weight \t OrderedDict([('fc1.weight', tensor([[-0.0175,  0.0042, -0.0198,  ...,  0.0005,  0.0117, -0.0045],\n",
            "        [-0.0188,  0.0038, -0.0084,  ..., -0.0100,  0.0086,  0.0128],\n",
            "        [-0.0105,  0.0082,  0.0029,  ..., -0.0177, -0.0016,  0.0066],\n",
            "        ...,\n",
            "        [-0.0044, -0.0252,  0.0078,  ...,  0.0140, -0.0073, -0.0077],\n",
            "        [ 0.0025,  0.0039, -0.0137,  ...,  0.0177, -0.0016, -0.0104],\n",
            "        [-0.0188, -0.0300, -0.0276,  ..., -0.0065, -0.0009,  0.0045]])), ('fc1.bias', tensor([ 0.0171,  0.0065,  0.0481,  ..., -0.0017, -0.0064,  0.0125])), ('fc2.weight', tensor([[-0.0333, -0.0302,  0.0351,  ...,  0.0091,  0.0258,  0.0044],\n",
            "        [ 0.0181, -0.0060,  0.0175,  ...,  0.0279, -0.0159,  0.0122],\n",
            "        [ 0.0206, -0.0004,  0.0422,  ...,  0.0196,  0.0100,  0.0257],\n",
            "        ...,\n",
            "        [-0.0091, -0.0007,  0.0221,  ...,  0.0069, -0.0002,  0.0194],\n",
            "        [-0.0021, -0.0307, -0.0123,  ...,  0.0244,  0.0079, -0.0174],\n",
            "        [-0.0361, -0.0290, -0.0147,  ..., -0.0321, -0.0331, -0.0225]])), ('fc2.bias', tensor([ 0.0397, -0.0505, -0.0292,  0.0253, -0.0179, -0.0134,  0.0382, -0.0393,\n",
            "        -0.0174, -0.0162,  0.0295, -0.0493,  0.0543, -0.0273,  0.0707,  0.0022,\n",
            "         0.0475, -0.0072,  0.0263, -0.0145, -0.0333,  0.0540,  0.0042, -0.0072,\n",
            "        -0.0388,  0.0472,  0.0157, -0.0182,  0.0279, -0.0287, -0.1391, -0.0249,\n",
            "        -0.0467, -0.0125,  0.0216,  0.0580, -0.0311,  0.0774, -0.0192, -0.0600,\n",
            "         0.0460,  0.0132, -0.0225, -0.0270,  0.0117,  0.0040, -0.0267,  0.0031,\n",
            "        -0.0100, -0.0163, -0.0847, -0.0128, -0.0235,  0.0265,  0.0792, -0.0364,\n",
            "         0.0098, -0.0026,  0.0734,  0.0202, -0.0267, -0.0332, -0.0061, -0.0203,\n",
            "         0.0184,  0.0447,  0.0029, -0.0222, -0.0286,  0.0174,  0.0345,  0.0031,\n",
            "         0.0301, -0.0016,  0.0047, -0.0187,  0.0233,  0.0201, -0.0258,  0.0118,\n",
            "         0.0233,  0.0033, -0.0893, -0.0132, -0.0113, -0.0071,  0.0477, -0.0088,\n",
            "        -0.0894, -0.0212, -0.0326, -0.0003,  0.0467, -0.0166,  0.0216, -0.0294,\n",
            "        -0.0299, -0.0246,  0.0850, -0.0210, -0.0659,  0.0132,  0.0194,  0.0039,\n",
            "        -0.0184, -0.0179, -0.0047,  0.0053, -0.0215, -0.0176,  0.0073,  0.0062,\n",
            "        -0.0072, -0.0130,  0.0557, -0.0652,  0.0190,  0.0289, -0.0246, -0.0084,\n",
            "        -0.0889, -0.0007,  0.0328, -0.0091, -0.0053,  0.0867, -0.0151, -0.0188,\n",
            "        -0.0364,  0.0523, -0.0120,  0.0181,  0.0374,  0.0673,  0.0039,  0.0233,\n",
            "        -0.0361,  0.0218, -0.0488,  0.0130, -0.0047, -0.0485, -0.0003, -0.0353,\n",
            "        -0.0507,  0.0339, -0.0294,  0.0300,  0.0453, -0.0352,  0.0106, -0.0253,\n",
            "        -0.0305, -0.0045, -0.0095, -0.0128, -0.0129, -0.0157, -0.0163,  0.0011,\n",
            "        -0.0449,  0.0046,  0.0395, -0.0206,  0.0400, -0.0281,  0.0508,  0.0212,\n",
            "         0.0126,  0.0350,  0.0772, -0.0367,  0.0151,  0.0223,  0.0021,  0.0252,\n",
            "         0.0619,  0.0170,  0.0584,  0.0394, -0.0031, -0.0008, -0.0023, -0.0061,\n",
            "         0.0017,  0.0727, -0.0018,  0.0296,  0.0336, -0.0144,  0.0723, -0.0079,\n",
            "         0.0383,  0.0600,  0.0161, -0.0475, -0.0014,  0.0153,  0.0074, -0.0105,\n",
            "         0.0678, -0.0096,  0.1137, -0.0374,  0.0156, -0.0116,  0.0880,  0.0828,\n",
            "         0.0485,  0.1139,  0.0578, -0.0152, -0.0177, -0.0152,  0.1353, -0.0332,\n",
            "         0.0729, -0.0404,  0.0061,  0.0189, -0.0252,  0.0335, -0.0672,  0.0146,\n",
            "         0.0036,  0.0468,  0.0123,  0.0275, -0.0105, -0.0044, -0.0326, -0.0196,\n",
            "         0.0137,  0.0912,  0.0192,  0.0650, -0.0165,  0.0264, -0.0255, -0.0006,\n",
            "         0.0040, -0.0024,  0.0266,  0.0245,  0.0281,  0.0436, -0.0270, -0.0159,\n",
            "        -0.0095,  0.0401, -0.0928,  0.0534,  0.0181, -0.0345,  0.0039,  0.0594,\n",
            "         0.0646,  0.0164, -0.0254, -0.0144,  0.0099, -0.0256,  0.0245, -0.0366,\n",
            "         0.0412,  0.0516,  0.0174,  0.0441, -0.0207,  0.0143, -0.0126, -0.0035,\n",
            "        -0.0493,  0.0615, -0.1024, -0.0152,  0.0330, -0.0124, -0.0101,  0.0411,\n",
            "        -0.0014,  0.0289,  0.1011, -0.0439,  0.0275,  0.0546,  0.0642, -0.0149,\n",
            "         0.0396, -0.0213, -0.0355,  0.0106, -0.0559,  0.0625,  0.0116, -0.0592,\n",
            "        -0.0571,  0.0222, -0.0283,  0.0208, -0.0297, -0.0248, -0.0276, -0.0047,\n",
            "        -0.0736,  0.0490,  0.0588,  0.0074,  0.0016, -0.0237, -0.0035, -0.0215,\n",
            "         0.0149, -0.0427,  0.0048,  0.0253, -0.0726,  0.0276, -0.0427,  0.1171,\n",
            "         0.0305,  0.0340, -0.0107,  0.0126, -0.0010, -0.0633,  0.0030,  0.1233,\n",
            "         0.0894, -0.0131, -0.0228,  0.0207, -0.0312, -0.0121,  0.0069,  0.0312,\n",
            "        -0.0425, -0.0035, -0.0242,  0.0678,  0.0393,  0.0276,  0.0232,  0.0020,\n",
            "         0.0200,  0.0121,  0.0210, -0.0046,  0.1606,  0.0572,  0.0165,  0.0542,\n",
            "        -0.0038, -0.0483, -0.0177, -0.0395,  0.0058, -0.0142,  0.0272, -0.0211,\n",
            "        -0.0727, -0.0350,  0.0115,  0.0196, -0.0187, -0.0389,  0.0957, -0.0284,\n",
            "        -0.0176,  0.0415, -0.0025,  0.0674, -0.0075, -0.0061, -0.0102,  0.0192,\n",
            "        -0.0377,  0.0976, -0.0127, -0.0424, -0.0537,  0.0127,  0.0338,  0.0139,\n",
            "         0.0108,  0.0194,  0.0624,  0.0242, -0.0073, -0.0050, -0.0638, -0.0071,\n",
            "         0.0066,  0.0324,  0.0353,  0.0102,  0.0215, -0.0010,  0.0093, -0.0027,\n",
            "        -0.0208,  0.0381, -0.0269, -0.0070, -0.0389, -0.0204,  0.0565,  0.0139,\n",
            "         0.0343,  0.0623, -0.0194, -0.0274, -0.0506, -0.0096, -0.0322,  0.0737,\n",
            "        -0.0059, -0.0003, -0.0440,  0.0311,  0.1202,  0.0232, -0.0399, -0.0282,\n",
            "        -0.0305, -0.0036, -0.0041, -0.0237,  0.0257, -0.0537, -0.0264,  0.0566,\n",
            "        -0.0091, -0.0239, -0.0665, -0.0184, -0.0116, -0.0723,  0.0005, -0.0095,\n",
            "         0.0404, -0.0723, -0.0365, -0.0852,  0.0811,  0.0190,  0.0073,  0.0041,\n",
            "        -0.0137,  0.0094,  0.0602,  0.0044,  0.1236,  0.0068, -0.0161,  0.0595,\n",
            "        -0.0667, -0.0108,  0.0050,  0.0381,  0.0417, -0.0270,  0.0102,  0.0741,\n",
            "        -0.0570,  0.0295, -0.0337,  0.0736, -0.0062, -0.0341, -0.0045,  0.1538,\n",
            "         0.1172, -0.0802, -0.0823, -0.0236, -0.0261,  0.0252,  0.0119, -0.0383,\n",
            "        -0.0211,  0.0765, -0.0170,  0.0056, -0.0372,  0.0375, -0.0047,  0.0009,\n",
            "         0.0260, -0.0128, -0.0243, -0.0295, -0.0114, -0.0192,  0.0218, -0.0531,\n",
            "        -0.0178,  0.0251, -0.0025, -0.0119,  0.0079, -0.0210,  0.0150, -0.0018,\n",
            "        -0.0204,  0.1069, -0.0487,  0.0471,  0.0176, -0.0055, -0.0522, -0.0079])), ('fc3.weight', tensor([[ 0.0237, -0.0382,  0.0122,  ..., -0.0335, -0.0232,  0.0352],\n",
            "        [ 0.0449, -0.0059,  0.0279,  ...,  0.0074, -0.0364,  0.0184],\n",
            "        [-0.0381,  0.0038,  0.0587,  ...,  0.0161,  0.0100,  0.0221],\n",
            "        ...,\n",
            "        [-0.0172,  0.0402, -0.0011,  ..., -0.0391,  0.0229, -0.0213],\n",
            "        [ 0.0374,  0.0095,  0.0072,  ...,  0.0479,  0.0295, -0.0372],\n",
            "        [-0.0347, -0.0348,  0.0062,  ..., -0.0281,  0.0344,  0.0320]])), ('fc3.bias', tensor([ 4.0825e-02,  8.5141e-04,  1.1963e-02,  2.2339e-02,  1.9393e-02,\n",
            "         4.4778e-02, -7.9330e-02, -9.7609e-03,  3.8839e-02,  5.8806e-02,\n",
            "         1.2000e-01, -1.2149e-02,  1.6547e-02, -5.1034e-02,  3.3147e-02,\n",
            "         2.7494e-03, -2.2669e-02,  1.4479e-01, -3.2806e-02, -3.5290e-02,\n",
            "         1.0236e-02, -4.1321e-02, -2.0450e-02, -6.4086e-02,  6.1944e-03,\n",
            "        -5.0886e-02,  7.7318e-03, -3.6536e-02,  3.3151e-02,  4.7813e-02,\n",
            "        -5.3164e-02, -6.0851e-02, -1.8884e-02,  4.1519e-02, -1.4019e-02,\n",
            "         7.9226e-02,  7.0098e-02,  1.8677e-02, -6.6803e-02,  4.7898e-02,\n",
            "        -6.4434e-03,  8.8814e-02, -4.8931e-02, -9.0580e-02, -2.0080e-02,\n",
            "        -1.3465e-02,  1.0373e-01,  1.8163e-01, -5.4285e-02,  8.4277e-02,\n",
            "        -2.1737e-02, -2.5445e-02, -5.4807e-03,  6.9254e-02, -1.1341e-01,\n",
            "         2.0972e-02,  2.0801e-02, -1.5888e-02,  4.5518e-02,  7.2902e-02,\n",
            "        -4.4395e-02,  4.2635e-03, -5.8533e-02, -2.2433e-02, -9.0719e-02,\n",
            "        -4.9795e-02,  1.0778e-01,  6.8102e-02,  1.1421e-01,  7.5486e-02,\n",
            "         6.8321e-02, -4.5661e-02, -2.4605e-02,  3.0682e-02, -3.5009e-02,\n",
            "         4.5302e-02,  6.5741e-02, -2.6096e-02, -3.2514e-04, -1.5090e-03,\n",
            "        -2.8071e-02, -8.1417e-02, -1.9172e-02,  9.8483e-02,  2.0417e-02,\n",
            "         2.0591e-02,  9.3534e-03,  3.4553e-03, -5.3489e-02, -6.0053e-02,\n",
            "        -6.7254e-04, -2.7471e-02, -1.1522e-02, -3.8946e-02,  3.1133e-02,\n",
            "         3.6874e-02, -3.9311e-02, -7.0635e-03,  1.4300e-03, -3.1917e-02,\n",
            "         8.7843e-02,  2.8347e-02, -7.2429e-02,  2.0835e-02,  3.8101e-03,\n",
            "         3.4753e-02,  3.3576e-04,  1.8750e-02, -3.8901e-02, -3.1183e-02,\n",
            "         1.8793e-02,  1.1849e-01,  9.9240e-02,  6.6806e-02,  2.2779e-02,\n",
            "         4.0971e-02,  4.7528e-02,  1.7764e-02,  1.9908e-02,  1.1309e-01,\n",
            "        -1.6034e-04,  4.5890e-02,  8.1273e-02, -6.7630e-03, -3.3146e-02,\n",
            "         9.1426e-02, -4.1388e-02,  2.9160e-02,  6.6252e-02,  2.3134e-02,\n",
            "         6.7926e-03, -9.0379e-03,  1.1720e-02, -1.9772e-02,  3.6815e-02,\n",
            "         1.1345e-02,  9.1386e-03,  1.9072e-02,  6.8509e-02,  8.1927e-02,\n",
            "        -1.3962e-02, -8.0433e-02,  4.9119e-02, -1.4864e-04,  5.5734e-02,\n",
            "         2.8578e-03,  8.6893e-03, -3.8234e-02, -4.7242e-02, -1.0642e-01,\n",
            "        -2.8352e-02,  4.5425e-02,  1.9934e-02, -9.2905e-02,  1.1797e-02,\n",
            "        -4.9029e-03,  4.2852e-02,  5.8810e-02, -4.6296e-02, -7.6017e-02,\n",
            "        -5.9199e-02, -4.1099e-02, -4.7022e-02,  1.3308e-02, -3.6812e-02,\n",
            "         1.2692e-01, -4.7188e-03,  1.0721e-01,  8.9894e-02,  4.1562e-02,\n",
            "        -5.8181e-02,  1.7426e-02, -2.3868e-02,  2.1165e-02, -1.7311e-02,\n",
            "         1.0567e-02,  3.5443e-04,  1.6622e-01, -3.9953e-02,  1.5148e-01,\n",
            "         1.2076e-02, -4.1606e-02,  1.5969e-03,  5.4346e-02, -1.0416e-02,\n",
            "         4.0319e-02,  8.1467e-02,  1.0036e-03, -6.5760e-02,  1.2406e-02,\n",
            "         5.9347e-03,  1.5954e-02,  8.2046e-02,  1.3433e-01,  1.9607e-03,\n",
            "        -4.8643e-02,  2.2352e-02, -5.1877e-03,  7.1100e-02, -1.7884e-03,\n",
            "         5.4219e-02, -1.2088e-02,  6.4483e-02, -9.9232e-02,  4.7464e-02,\n",
            "        -2.3691e-02,  1.1105e-01, -5.2309e-03, -8.6507e-03,  3.3284e-02,\n",
            "         1.1735e-02,  3.7507e-02,  3.0447e-02,  1.8812e-02, -6.8519e-02,\n",
            "         6.0163e-02, -2.8779e-02, -3.7485e-02, -5.6052e-02, -3.1072e-03,\n",
            "         7.2206e-02,  1.4191e-02, -1.9520e-02,  3.2627e-02, -2.7464e-02,\n",
            "         6.6420e-02, -2.4281e-02,  6.7176e-02,  4.3811e-02,  5.8367e-02,\n",
            "         5.0580e-02, -3.5321e-02, -4.2328e-02,  1.1440e-01, -3.3413e-03,\n",
            "         1.3100e-01,  2.5057e-02, -3.1175e-02,  5.5909e-02,  6.0324e-02,\n",
            "         7.2324e-02,  4.2775e-02,  3.0684e-02,  9.9989e-03, -2.8872e-02,\n",
            "         3.5914e-02,  1.3096e-02,  1.4243e-01, -3.1670e-02,  4.2436e-02,\n",
            "         1.6030e-02,  5.0467e-02, -1.5023e-02, -3.2778e-02,  1.1751e-02,\n",
            "         5.8581e-02])), ('fc4.weight', tensor([[ 0.0419,  0.0112, -0.0493,  ...,  0.0022, -0.2219,  0.1032],\n",
            "        [ 0.0135, -0.0407,  0.0257,  ..., -0.0052,  0.0843,  0.0780],\n",
            "        [-0.0205, -0.1017,  0.0829,  ...,  0.0469, -0.2149,  0.0248],\n",
            "        ...,\n",
            "        [ 0.0416,  0.0268,  0.0543,  ..., -0.0454,  0.2025, -0.0225],\n",
            "        [ 0.0179, -0.0381,  0.0214,  ..., -0.0239, -0.0577,  0.0239],\n",
            "        [ 0.0425, -0.1492,  0.0309,  ..., -0.0289,  0.1964, -0.0535]])), ('fc4.bias', tensor([-0.3978,  0.1513,  0.1200,  0.0367,  0.2699, -0.2926,  0.2540, -0.0281,\n",
            "        -0.1992, -0.0407]))])\n",
            "fc3.bias \t OrderedDict([('fc1.weight', tensor([[-0.0175,  0.0042, -0.0198,  ...,  0.0005,  0.0117, -0.0045],\n",
            "        [-0.0188,  0.0038, -0.0084,  ..., -0.0100,  0.0086,  0.0128],\n",
            "        [-0.0105,  0.0082,  0.0029,  ..., -0.0177, -0.0016,  0.0066],\n",
            "        ...,\n",
            "        [-0.0044, -0.0252,  0.0078,  ...,  0.0140, -0.0073, -0.0077],\n",
            "        [ 0.0025,  0.0039, -0.0137,  ...,  0.0177, -0.0016, -0.0104],\n",
            "        [-0.0188, -0.0300, -0.0276,  ..., -0.0065, -0.0009,  0.0045]])), ('fc1.bias', tensor([ 0.0171,  0.0065,  0.0481,  ..., -0.0017, -0.0064,  0.0125])), ('fc2.weight', tensor([[-0.0333, -0.0302,  0.0351,  ...,  0.0091,  0.0258,  0.0044],\n",
            "        [ 0.0181, -0.0060,  0.0175,  ...,  0.0279, -0.0159,  0.0122],\n",
            "        [ 0.0206, -0.0004,  0.0422,  ...,  0.0196,  0.0100,  0.0257],\n",
            "        ...,\n",
            "        [-0.0091, -0.0007,  0.0221,  ...,  0.0069, -0.0002,  0.0194],\n",
            "        [-0.0021, -0.0307, -0.0123,  ...,  0.0244,  0.0079, -0.0174],\n",
            "        [-0.0361, -0.0290, -0.0147,  ..., -0.0321, -0.0331, -0.0225]])), ('fc2.bias', tensor([ 0.0397, -0.0505, -0.0292,  0.0253, -0.0179, -0.0134,  0.0382, -0.0393,\n",
            "        -0.0174, -0.0162,  0.0295, -0.0493,  0.0543, -0.0273,  0.0707,  0.0022,\n",
            "         0.0475, -0.0072,  0.0263, -0.0145, -0.0333,  0.0540,  0.0042, -0.0072,\n",
            "        -0.0388,  0.0472,  0.0157, -0.0182,  0.0279, -0.0287, -0.1391, -0.0249,\n",
            "        -0.0467, -0.0125,  0.0216,  0.0580, -0.0311,  0.0774, -0.0192, -0.0600,\n",
            "         0.0460,  0.0132, -0.0225, -0.0270,  0.0117,  0.0040, -0.0267,  0.0031,\n",
            "        -0.0100, -0.0163, -0.0847, -0.0128, -0.0235,  0.0265,  0.0792, -0.0364,\n",
            "         0.0098, -0.0026,  0.0734,  0.0202, -0.0267, -0.0332, -0.0061, -0.0203,\n",
            "         0.0184,  0.0447,  0.0029, -0.0222, -0.0286,  0.0174,  0.0345,  0.0031,\n",
            "         0.0301, -0.0016,  0.0047, -0.0187,  0.0233,  0.0201, -0.0258,  0.0118,\n",
            "         0.0233,  0.0033, -0.0893, -0.0132, -0.0113, -0.0071,  0.0477, -0.0088,\n",
            "        -0.0894, -0.0212, -0.0326, -0.0003,  0.0467, -0.0166,  0.0216, -0.0294,\n",
            "        -0.0299, -0.0246,  0.0850, -0.0210, -0.0659,  0.0132,  0.0194,  0.0039,\n",
            "        -0.0184, -0.0179, -0.0047,  0.0053, -0.0215, -0.0176,  0.0073,  0.0062,\n",
            "        -0.0072, -0.0130,  0.0557, -0.0652,  0.0190,  0.0289, -0.0246, -0.0084,\n",
            "        -0.0889, -0.0007,  0.0328, -0.0091, -0.0053,  0.0867, -0.0151, -0.0188,\n",
            "        -0.0364,  0.0523, -0.0120,  0.0181,  0.0374,  0.0673,  0.0039,  0.0233,\n",
            "        -0.0361,  0.0218, -0.0488,  0.0130, -0.0047, -0.0485, -0.0003, -0.0353,\n",
            "        -0.0507,  0.0339, -0.0294,  0.0300,  0.0453, -0.0352,  0.0106, -0.0253,\n",
            "        -0.0305, -0.0045, -0.0095, -0.0128, -0.0129, -0.0157, -0.0163,  0.0011,\n",
            "        -0.0449,  0.0046,  0.0395, -0.0206,  0.0400, -0.0281,  0.0508,  0.0212,\n",
            "         0.0126,  0.0350,  0.0772, -0.0367,  0.0151,  0.0223,  0.0021,  0.0252,\n",
            "         0.0619,  0.0170,  0.0584,  0.0394, -0.0031, -0.0008, -0.0023, -0.0061,\n",
            "         0.0017,  0.0727, -0.0018,  0.0296,  0.0336, -0.0144,  0.0723, -0.0079,\n",
            "         0.0383,  0.0600,  0.0161, -0.0475, -0.0014,  0.0153,  0.0074, -0.0105,\n",
            "         0.0678, -0.0096,  0.1137, -0.0374,  0.0156, -0.0116,  0.0880,  0.0828,\n",
            "         0.0485,  0.1139,  0.0578, -0.0152, -0.0177, -0.0152,  0.1353, -0.0332,\n",
            "         0.0729, -0.0404,  0.0061,  0.0189, -0.0252,  0.0335, -0.0672,  0.0146,\n",
            "         0.0036,  0.0468,  0.0123,  0.0275, -0.0105, -0.0044, -0.0326, -0.0196,\n",
            "         0.0137,  0.0912,  0.0192,  0.0650, -0.0165,  0.0264, -0.0255, -0.0006,\n",
            "         0.0040, -0.0024,  0.0266,  0.0245,  0.0281,  0.0436, -0.0270, -0.0159,\n",
            "        -0.0095,  0.0401, -0.0928,  0.0534,  0.0181, -0.0345,  0.0039,  0.0594,\n",
            "         0.0646,  0.0164, -0.0254, -0.0144,  0.0099, -0.0256,  0.0245, -0.0366,\n",
            "         0.0412,  0.0516,  0.0174,  0.0441, -0.0207,  0.0143, -0.0126, -0.0035,\n",
            "        -0.0493,  0.0615, -0.1024, -0.0152,  0.0330, -0.0124, -0.0101,  0.0411,\n",
            "        -0.0014,  0.0289,  0.1011, -0.0439,  0.0275,  0.0546,  0.0642, -0.0149,\n",
            "         0.0396, -0.0213, -0.0355,  0.0106, -0.0559,  0.0625,  0.0116, -0.0592,\n",
            "        -0.0571,  0.0222, -0.0283,  0.0208, -0.0297, -0.0248, -0.0276, -0.0047,\n",
            "        -0.0736,  0.0490,  0.0588,  0.0074,  0.0016, -0.0237, -0.0035, -0.0215,\n",
            "         0.0149, -0.0427,  0.0048,  0.0253, -0.0726,  0.0276, -0.0427,  0.1171,\n",
            "         0.0305,  0.0340, -0.0107,  0.0126, -0.0010, -0.0633,  0.0030,  0.1233,\n",
            "         0.0894, -0.0131, -0.0228,  0.0207, -0.0312, -0.0121,  0.0069,  0.0312,\n",
            "        -0.0425, -0.0035, -0.0242,  0.0678,  0.0393,  0.0276,  0.0232,  0.0020,\n",
            "         0.0200,  0.0121,  0.0210, -0.0046,  0.1606,  0.0572,  0.0165,  0.0542,\n",
            "        -0.0038, -0.0483, -0.0177, -0.0395,  0.0058, -0.0142,  0.0272, -0.0211,\n",
            "        -0.0727, -0.0350,  0.0115,  0.0196, -0.0187, -0.0389,  0.0957, -0.0284,\n",
            "        -0.0176,  0.0415, -0.0025,  0.0674, -0.0075, -0.0061, -0.0102,  0.0192,\n",
            "        -0.0377,  0.0976, -0.0127, -0.0424, -0.0537,  0.0127,  0.0338,  0.0139,\n",
            "         0.0108,  0.0194,  0.0624,  0.0242, -0.0073, -0.0050, -0.0638, -0.0071,\n",
            "         0.0066,  0.0324,  0.0353,  0.0102,  0.0215, -0.0010,  0.0093, -0.0027,\n",
            "        -0.0208,  0.0381, -0.0269, -0.0070, -0.0389, -0.0204,  0.0565,  0.0139,\n",
            "         0.0343,  0.0623, -0.0194, -0.0274, -0.0506, -0.0096, -0.0322,  0.0737,\n",
            "        -0.0059, -0.0003, -0.0440,  0.0311,  0.1202,  0.0232, -0.0399, -0.0282,\n",
            "        -0.0305, -0.0036, -0.0041, -0.0237,  0.0257, -0.0537, -0.0264,  0.0566,\n",
            "        -0.0091, -0.0239, -0.0665, -0.0184, -0.0116, -0.0723,  0.0005, -0.0095,\n",
            "         0.0404, -0.0723, -0.0365, -0.0852,  0.0811,  0.0190,  0.0073,  0.0041,\n",
            "        -0.0137,  0.0094,  0.0602,  0.0044,  0.1236,  0.0068, -0.0161,  0.0595,\n",
            "        -0.0667, -0.0108,  0.0050,  0.0381,  0.0417, -0.0270,  0.0102,  0.0741,\n",
            "        -0.0570,  0.0295, -0.0337,  0.0736, -0.0062, -0.0341, -0.0045,  0.1538,\n",
            "         0.1172, -0.0802, -0.0823, -0.0236, -0.0261,  0.0252,  0.0119, -0.0383,\n",
            "        -0.0211,  0.0765, -0.0170,  0.0056, -0.0372,  0.0375, -0.0047,  0.0009,\n",
            "         0.0260, -0.0128, -0.0243, -0.0295, -0.0114, -0.0192,  0.0218, -0.0531,\n",
            "        -0.0178,  0.0251, -0.0025, -0.0119,  0.0079, -0.0210,  0.0150, -0.0018,\n",
            "        -0.0204,  0.1069, -0.0487,  0.0471,  0.0176, -0.0055, -0.0522, -0.0079])), ('fc3.weight', tensor([[ 0.0237, -0.0382,  0.0122,  ..., -0.0335, -0.0232,  0.0352],\n",
            "        [ 0.0449, -0.0059,  0.0279,  ...,  0.0074, -0.0364,  0.0184],\n",
            "        [-0.0381,  0.0038,  0.0587,  ...,  0.0161,  0.0100,  0.0221],\n",
            "        ...,\n",
            "        [-0.0172,  0.0402, -0.0011,  ..., -0.0391,  0.0229, -0.0213],\n",
            "        [ 0.0374,  0.0095,  0.0072,  ...,  0.0479,  0.0295, -0.0372],\n",
            "        [-0.0347, -0.0348,  0.0062,  ..., -0.0281,  0.0344,  0.0320]])), ('fc3.bias', tensor([ 4.0825e-02,  8.5141e-04,  1.1963e-02,  2.2339e-02,  1.9393e-02,\n",
            "         4.4778e-02, -7.9330e-02, -9.7609e-03,  3.8839e-02,  5.8806e-02,\n",
            "         1.2000e-01, -1.2149e-02,  1.6547e-02, -5.1034e-02,  3.3147e-02,\n",
            "         2.7494e-03, -2.2669e-02,  1.4479e-01, -3.2806e-02, -3.5290e-02,\n",
            "         1.0236e-02, -4.1321e-02, -2.0450e-02, -6.4086e-02,  6.1944e-03,\n",
            "        -5.0886e-02,  7.7318e-03, -3.6536e-02,  3.3151e-02,  4.7813e-02,\n",
            "        -5.3164e-02, -6.0851e-02, -1.8884e-02,  4.1519e-02, -1.4019e-02,\n",
            "         7.9226e-02,  7.0098e-02,  1.8677e-02, -6.6803e-02,  4.7898e-02,\n",
            "        -6.4434e-03,  8.8814e-02, -4.8931e-02, -9.0580e-02, -2.0080e-02,\n",
            "        -1.3465e-02,  1.0373e-01,  1.8163e-01, -5.4285e-02,  8.4277e-02,\n",
            "        -2.1737e-02, -2.5445e-02, -5.4807e-03,  6.9254e-02, -1.1341e-01,\n",
            "         2.0972e-02,  2.0801e-02, -1.5888e-02,  4.5518e-02,  7.2902e-02,\n",
            "        -4.4395e-02,  4.2635e-03, -5.8533e-02, -2.2433e-02, -9.0719e-02,\n",
            "        -4.9795e-02,  1.0778e-01,  6.8102e-02,  1.1421e-01,  7.5486e-02,\n",
            "         6.8321e-02, -4.5661e-02, -2.4605e-02,  3.0682e-02, -3.5009e-02,\n",
            "         4.5302e-02,  6.5741e-02, -2.6096e-02, -3.2514e-04, -1.5090e-03,\n",
            "        -2.8071e-02, -8.1417e-02, -1.9172e-02,  9.8483e-02,  2.0417e-02,\n",
            "         2.0591e-02,  9.3534e-03,  3.4553e-03, -5.3489e-02, -6.0053e-02,\n",
            "        -6.7254e-04, -2.7471e-02, -1.1522e-02, -3.8946e-02,  3.1133e-02,\n",
            "         3.6874e-02, -3.9311e-02, -7.0635e-03,  1.4300e-03, -3.1917e-02,\n",
            "         8.7843e-02,  2.8347e-02, -7.2429e-02,  2.0835e-02,  3.8101e-03,\n",
            "         3.4753e-02,  3.3576e-04,  1.8750e-02, -3.8901e-02, -3.1183e-02,\n",
            "         1.8793e-02,  1.1849e-01,  9.9240e-02,  6.6806e-02,  2.2779e-02,\n",
            "         4.0971e-02,  4.7528e-02,  1.7764e-02,  1.9908e-02,  1.1309e-01,\n",
            "        -1.6034e-04,  4.5890e-02,  8.1273e-02, -6.7630e-03, -3.3146e-02,\n",
            "         9.1426e-02, -4.1388e-02,  2.9160e-02,  6.6252e-02,  2.3134e-02,\n",
            "         6.7926e-03, -9.0379e-03,  1.1720e-02, -1.9772e-02,  3.6815e-02,\n",
            "         1.1345e-02,  9.1386e-03,  1.9072e-02,  6.8509e-02,  8.1927e-02,\n",
            "        -1.3962e-02, -8.0433e-02,  4.9119e-02, -1.4864e-04,  5.5734e-02,\n",
            "         2.8578e-03,  8.6893e-03, -3.8234e-02, -4.7242e-02, -1.0642e-01,\n",
            "        -2.8352e-02,  4.5425e-02,  1.9934e-02, -9.2905e-02,  1.1797e-02,\n",
            "        -4.9029e-03,  4.2852e-02,  5.8810e-02, -4.6296e-02, -7.6017e-02,\n",
            "        -5.9199e-02, -4.1099e-02, -4.7022e-02,  1.3308e-02, -3.6812e-02,\n",
            "         1.2692e-01, -4.7188e-03,  1.0721e-01,  8.9894e-02,  4.1562e-02,\n",
            "        -5.8181e-02,  1.7426e-02, -2.3868e-02,  2.1165e-02, -1.7311e-02,\n",
            "         1.0567e-02,  3.5443e-04,  1.6622e-01, -3.9953e-02,  1.5148e-01,\n",
            "         1.2076e-02, -4.1606e-02,  1.5969e-03,  5.4346e-02, -1.0416e-02,\n",
            "         4.0319e-02,  8.1467e-02,  1.0036e-03, -6.5760e-02,  1.2406e-02,\n",
            "         5.9347e-03,  1.5954e-02,  8.2046e-02,  1.3433e-01,  1.9607e-03,\n",
            "        -4.8643e-02,  2.2352e-02, -5.1877e-03,  7.1100e-02, -1.7884e-03,\n",
            "         5.4219e-02, -1.2088e-02,  6.4483e-02, -9.9232e-02,  4.7464e-02,\n",
            "        -2.3691e-02,  1.1105e-01, -5.2309e-03, -8.6507e-03,  3.3284e-02,\n",
            "         1.1735e-02,  3.7507e-02,  3.0447e-02,  1.8812e-02, -6.8519e-02,\n",
            "         6.0163e-02, -2.8779e-02, -3.7485e-02, -5.6052e-02, -3.1072e-03,\n",
            "         7.2206e-02,  1.4191e-02, -1.9520e-02,  3.2627e-02, -2.7464e-02,\n",
            "         6.6420e-02, -2.4281e-02,  6.7176e-02,  4.3811e-02,  5.8367e-02,\n",
            "         5.0580e-02, -3.5321e-02, -4.2328e-02,  1.1440e-01, -3.3413e-03,\n",
            "         1.3100e-01,  2.5057e-02, -3.1175e-02,  5.5909e-02,  6.0324e-02,\n",
            "         7.2324e-02,  4.2775e-02,  3.0684e-02,  9.9989e-03, -2.8872e-02,\n",
            "         3.5914e-02,  1.3096e-02,  1.4243e-01, -3.1670e-02,  4.2436e-02,\n",
            "         1.6030e-02,  5.0467e-02, -1.5023e-02, -3.2778e-02,  1.1751e-02,\n",
            "         5.8581e-02])), ('fc4.weight', tensor([[ 0.0419,  0.0112, -0.0493,  ...,  0.0022, -0.2219,  0.1032],\n",
            "        [ 0.0135, -0.0407,  0.0257,  ..., -0.0052,  0.0843,  0.0780],\n",
            "        [-0.0205, -0.1017,  0.0829,  ...,  0.0469, -0.2149,  0.0248],\n",
            "        ...,\n",
            "        [ 0.0416,  0.0268,  0.0543,  ..., -0.0454,  0.2025, -0.0225],\n",
            "        [ 0.0179, -0.0381,  0.0214,  ..., -0.0239, -0.0577,  0.0239],\n",
            "        [ 0.0425, -0.1492,  0.0309,  ..., -0.0289,  0.1964, -0.0535]])), ('fc4.bias', tensor([-0.3978,  0.1513,  0.1200,  0.0367,  0.2699, -0.2926,  0.2540, -0.0281,\n",
            "        -0.1992, -0.0407]))])\n",
            "fc4.weight \t OrderedDict([('fc1.weight', tensor([[-0.0175,  0.0042, -0.0198,  ...,  0.0005,  0.0117, -0.0045],\n",
            "        [-0.0188,  0.0038, -0.0084,  ..., -0.0100,  0.0086,  0.0128],\n",
            "        [-0.0105,  0.0082,  0.0029,  ..., -0.0177, -0.0016,  0.0066],\n",
            "        ...,\n",
            "        [-0.0044, -0.0252,  0.0078,  ...,  0.0140, -0.0073, -0.0077],\n",
            "        [ 0.0025,  0.0039, -0.0137,  ...,  0.0177, -0.0016, -0.0104],\n",
            "        [-0.0188, -0.0300, -0.0276,  ..., -0.0065, -0.0009,  0.0045]])), ('fc1.bias', tensor([ 0.0171,  0.0065,  0.0481,  ..., -0.0017, -0.0064,  0.0125])), ('fc2.weight', tensor([[-0.0333, -0.0302,  0.0351,  ...,  0.0091,  0.0258,  0.0044],\n",
            "        [ 0.0181, -0.0060,  0.0175,  ...,  0.0279, -0.0159,  0.0122],\n",
            "        [ 0.0206, -0.0004,  0.0422,  ...,  0.0196,  0.0100,  0.0257],\n",
            "        ...,\n",
            "        [-0.0091, -0.0007,  0.0221,  ...,  0.0069, -0.0002,  0.0194],\n",
            "        [-0.0021, -0.0307, -0.0123,  ...,  0.0244,  0.0079, -0.0174],\n",
            "        [-0.0361, -0.0290, -0.0147,  ..., -0.0321, -0.0331, -0.0225]])), ('fc2.bias', tensor([ 0.0397, -0.0505, -0.0292,  0.0253, -0.0179, -0.0134,  0.0382, -0.0393,\n",
            "        -0.0174, -0.0162,  0.0295, -0.0493,  0.0543, -0.0273,  0.0707,  0.0022,\n",
            "         0.0475, -0.0072,  0.0263, -0.0145, -0.0333,  0.0540,  0.0042, -0.0072,\n",
            "        -0.0388,  0.0472,  0.0157, -0.0182,  0.0279, -0.0287, -0.1391, -0.0249,\n",
            "        -0.0467, -0.0125,  0.0216,  0.0580, -0.0311,  0.0774, -0.0192, -0.0600,\n",
            "         0.0460,  0.0132, -0.0225, -0.0270,  0.0117,  0.0040, -0.0267,  0.0031,\n",
            "        -0.0100, -0.0163, -0.0847, -0.0128, -0.0235,  0.0265,  0.0792, -0.0364,\n",
            "         0.0098, -0.0026,  0.0734,  0.0202, -0.0267, -0.0332, -0.0061, -0.0203,\n",
            "         0.0184,  0.0447,  0.0029, -0.0222, -0.0286,  0.0174,  0.0345,  0.0031,\n",
            "         0.0301, -0.0016,  0.0047, -0.0187,  0.0233,  0.0201, -0.0258,  0.0118,\n",
            "         0.0233,  0.0033, -0.0893, -0.0132, -0.0113, -0.0071,  0.0477, -0.0088,\n",
            "        -0.0894, -0.0212, -0.0326, -0.0003,  0.0467, -0.0166,  0.0216, -0.0294,\n",
            "        -0.0299, -0.0246,  0.0850, -0.0210, -0.0659,  0.0132,  0.0194,  0.0039,\n",
            "        -0.0184, -0.0179, -0.0047,  0.0053, -0.0215, -0.0176,  0.0073,  0.0062,\n",
            "        -0.0072, -0.0130,  0.0557, -0.0652,  0.0190,  0.0289, -0.0246, -0.0084,\n",
            "        -0.0889, -0.0007,  0.0328, -0.0091, -0.0053,  0.0867, -0.0151, -0.0188,\n",
            "        -0.0364,  0.0523, -0.0120,  0.0181,  0.0374,  0.0673,  0.0039,  0.0233,\n",
            "        -0.0361,  0.0218, -0.0488,  0.0130, -0.0047, -0.0485, -0.0003, -0.0353,\n",
            "        -0.0507,  0.0339, -0.0294,  0.0300,  0.0453, -0.0352,  0.0106, -0.0253,\n",
            "        -0.0305, -0.0045, -0.0095, -0.0128, -0.0129, -0.0157, -0.0163,  0.0011,\n",
            "        -0.0449,  0.0046,  0.0395, -0.0206,  0.0400, -0.0281,  0.0508,  0.0212,\n",
            "         0.0126,  0.0350,  0.0772, -0.0367,  0.0151,  0.0223,  0.0021,  0.0252,\n",
            "         0.0619,  0.0170,  0.0584,  0.0394, -0.0031, -0.0008, -0.0023, -0.0061,\n",
            "         0.0017,  0.0727, -0.0018,  0.0296,  0.0336, -0.0144,  0.0723, -0.0079,\n",
            "         0.0383,  0.0600,  0.0161, -0.0475, -0.0014,  0.0153,  0.0074, -0.0105,\n",
            "         0.0678, -0.0096,  0.1137, -0.0374,  0.0156, -0.0116,  0.0880,  0.0828,\n",
            "         0.0485,  0.1139,  0.0578, -0.0152, -0.0177, -0.0152,  0.1353, -0.0332,\n",
            "         0.0729, -0.0404,  0.0061,  0.0189, -0.0252,  0.0335, -0.0672,  0.0146,\n",
            "         0.0036,  0.0468,  0.0123,  0.0275, -0.0105, -0.0044, -0.0326, -0.0196,\n",
            "         0.0137,  0.0912,  0.0192,  0.0650, -0.0165,  0.0264, -0.0255, -0.0006,\n",
            "         0.0040, -0.0024,  0.0266,  0.0245,  0.0281,  0.0436, -0.0270, -0.0159,\n",
            "        -0.0095,  0.0401, -0.0928,  0.0534,  0.0181, -0.0345,  0.0039,  0.0594,\n",
            "         0.0646,  0.0164, -0.0254, -0.0144,  0.0099, -0.0256,  0.0245, -0.0366,\n",
            "         0.0412,  0.0516,  0.0174,  0.0441, -0.0207,  0.0143, -0.0126, -0.0035,\n",
            "        -0.0493,  0.0615, -0.1024, -0.0152,  0.0330, -0.0124, -0.0101,  0.0411,\n",
            "        -0.0014,  0.0289,  0.1011, -0.0439,  0.0275,  0.0546,  0.0642, -0.0149,\n",
            "         0.0396, -0.0213, -0.0355,  0.0106, -0.0559,  0.0625,  0.0116, -0.0592,\n",
            "        -0.0571,  0.0222, -0.0283,  0.0208, -0.0297, -0.0248, -0.0276, -0.0047,\n",
            "        -0.0736,  0.0490,  0.0588,  0.0074,  0.0016, -0.0237, -0.0035, -0.0215,\n",
            "         0.0149, -0.0427,  0.0048,  0.0253, -0.0726,  0.0276, -0.0427,  0.1171,\n",
            "         0.0305,  0.0340, -0.0107,  0.0126, -0.0010, -0.0633,  0.0030,  0.1233,\n",
            "         0.0894, -0.0131, -0.0228,  0.0207, -0.0312, -0.0121,  0.0069,  0.0312,\n",
            "        -0.0425, -0.0035, -0.0242,  0.0678,  0.0393,  0.0276,  0.0232,  0.0020,\n",
            "         0.0200,  0.0121,  0.0210, -0.0046,  0.1606,  0.0572,  0.0165,  0.0542,\n",
            "        -0.0038, -0.0483, -0.0177, -0.0395,  0.0058, -0.0142,  0.0272, -0.0211,\n",
            "        -0.0727, -0.0350,  0.0115,  0.0196, -0.0187, -0.0389,  0.0957, -0.0284,\n",
            "        -0.0176,  0.0415, -0.0025,  0.0674, -0.0075, -0.0061, -0.0102,  0.0192,\n",
            "        -0.0377,  0.0976, -0.0127, -0.0424, -0.0537,  0.0127,  0.0338,  0.0139,\n",
            "         0.0108,  0.0194,  0.0624,  0.0242, -0.0073, -0.0050, -0.0638, -0.0071,\n",
            "         0.0066,  0.0324,  0.0353,  0.0102,  0.0215, -0.0010,  0.0093, -0.0027,\n",
            "        -0.0208,  0.0381, -0.0269, -0.0070, -0.0389, -0.0204,  0.0565,  0.0139,\n",
            "         0.0343,  0.0623, -0.0194, -0.0274, -0.0506, -0.0096, -0.0322,  0.0737,\n",
            "        -0.0059, -0.0003, -0.0440,  0.0311,  0.1202,  0.0232, -0.0399, -0.0282,\n",
            "        -0.0305, -0.0036, -0.0041, -0.0237,  0.0257, -0.0537, -0.0264,  0.0566,\n",
            "        -0.0091, -0.0239, -0.0665, -0.0184, -0.0116, -0.0723,  0.0005, -0.0095,\n",
            "         0.0404, -0.0723, -0.0365, -0.0852,  0.0811,  0.0190,  0.0073,  0.0041,\n",
            "        -0.0137,  0.0094,  0.0602,  0.0044,  0.1236,  0.0068, -0.0161,  0.0595,\n",
            "        -0.0667, -0.0108,  0.0050,  0.0381,  0.0417, -0.0270,  0.0102,  0.0741,\n",
            "        -0.0570,  0.0295, -0.0337,  0.0736, -0.0062, -0.0341, -0.0045,  0.1538,\n",
            "         0.1172, -0.0802, -0.0823, -0.0236, -0.0261,  0.0252,  0.0119, -0.0383,\n",
            "        -0.0211,  0.0765, -0.0170,  0.0056, -0.0372,  0.0375, -0.0047,  0.0009,\n",
            "         0.0260, -0.0128, -0.0243, -0.0295, -0.0114, -0.0192,  0.0218, -0.0531,\n",
            "        -0.0178,  0.0251, -0.0025, -0.0119,  0.0079, -0.0210,  0.0150, -0.0018,\n",
            "        -0.0204,  0.1069, -0.0487,  0.0471,  0.0176, -0.0055, -0.0522, -0.0079])), ('fc3.weight', tensor([[ 0.0237, -0.0382,  0.0122,  ..., -0.0335, -0.0232,  0.0352],\n",
            "        [ 0.0449, -0.0059,  0.0279,  ...,  0.0074, -0.0364,  0.0184],\n",
            "        [-0.0381,  0.0038,  0.0587,  ...,  0.0161,  0.0100,  0.0221],\n",
            "        ...,\n",
            "        [-0.0172,  0.0402, -0.0011,  ..., -0.0391,  0.0229, -0.0213],\n",
            "        [ 0.0374,  0.0095,  0.0072,  ...,  0.0479,  0.0295, -0.0372],\n",
            "        [-0.0347, -0.0348,  0.0062,  ..., -0.0281,  0.0344,  0.0320]])), ('fc3.bias', tensor([ 4.0825e-02,  8.5141e-04,  1.1963e-02,  2.2339e-02,  1.9393e-02,\n",
            "         4.4778e-02, -7.9330e-02, -9.7609e-03,  3.8839e-02,  5.8806e-02,\n",
            "         1.2000e-01, -1.2149e-02,  1.6547e-02, -5.1034e-02,  3.3147e-02,\n",
            "         2.7494e-03, -2.2669e-02,  1.4479e-01, -3.2806e-02, -3.5290e-02,\n",
            "         1.0236e-02, -4.1321e-02, -2.0450e-02, -6.4086e-02,  6.1944e-03,\n",
            "        -5.0886e-02,  7.7318e-03, -3.6536e-02,  3.3151e-02,  4.7813e-02,\n",
            "        -5.3164e-02, -6.0851e-02, -1.8884e-02,  4.1519e-02, -1.4019e-02,\n",
            "         7.9226e-02,  7.0098e-02,  1.8677e-02, -6.6803e-02,  4.7898e-02,\n",
            "        -6.4434e-03,  8.8814e-02, -4.8931e-02, -9.0580e-02, -2.0080e-02,\n",
            "        -1.3465e-02,  1.0373e-01,  1.8163e-01, -5.4285e-02,  8.4277e-02,\n",
            "        -2.1737e-02, -2.5445e-02, -5.4807e-03,  6.9254e-02, -1.1341e-01,\n",
            "         2.0972e-02,  2.0801e-02, -1.5888e-02,  4.5518e-02,  7.2902e-02,\n",
            "        -4.4395e-02,  4.2635e-03, -5.8533e-02, -2.2433e-02, -9.0719e-02,\n",
            "        -4.9795e-02,  1.0778e-01,  6.8102e-02,  1.1421e-01,  7.5486e-02,\n",
            "         6.8321e-02, -4.5661e-02, -2.4605e-02,  3.0682e-02, -3.5009e-02,\n",
            "         4.5302e-02,  6.5741e-02, -2.6096e-02, -3.2514e-04, -1.5090e-03,\n",
            "        -2.8071e-02, -8.1417e-02, -1.9172e-02,  9.8483e-02,  2.0417e-02,\n",
            "         2.0591e-02,  9.3534e-03,  3.4553e-03, -5.3489e-02, -6.0053e-02,\n",
            "        -6.7254e-04, -2.7471e-02, -1.1522e-02, -3.8946e-02,  3.1133e-02,\n",
            "         3.6874e-02, -3.9311e-02, -7.0635e-03,  1.4300e-03, -3.1917e-02,\n",
            "         8.7843e-02,  2.8347e-02, -7.2429e-02,  2.0835e-02,  3.8101e-03,\n",
            "         3.4753e-02,  3.3576e-04,  1.8750e-02, -3.8901e-02, -3.1183e-02,\n",
            "         1.8793e-02,  1.1849e-01,  9.9240e-02,  6.6806e-02,  2.2779e-02,\n",
            "         4.0971e-02,  4.7528e-02,  1.7764e-02,  1.9908e-02,  1.1309e-01,\n",
            "        -1.6034e-04,  4.5890e-02,  8.1273e-02, -6.7630e-03, -3.3146e-02,\n",
            "         9.1426e-02, -4.1388e-02,  2.9160e-02,  6.6252e-02,  2.3134e-02,\n",
            "         6.7926e-03, -9.0379e-03,  1.1720e-02, -1.9772e-02,  3.6815e-02,\n",
            "         1.1345e-02,  9.1386e-03,  1.9072e-02,  6.8509e-02,  8.1927e-02,\n",
            "        -1.3962e-02, -8.0433e-02,  4.9119e-02, -1.4864e-04,  5.5734e-02,\n",
            "         2.8578e-03,  8.6893e-03, -3.8234e-02, -4.7242e-02, -1.0642e-01,\n",
            "        -2.8352e-02,  4.5425e-02,  1.9934e-02, -9.2905e-02,  1.1797e-02,\n",
            "        -4.9029e-03,  4.2852e-02,  5.8810e-02, -4.6296e-02, -7.6017e-02,\n",
            "        -5.9199e-02, -4.1099e-02, -4.7022e-02,  1.3308e-02, -3.6812e-02,\n",
            "         1.2692e-01, -4.7188e-03,  1.0721e-01,  8.9894e-02,  4.1562e-02,\n",
            "        -5.8181e-02,  1.7426e-02, -2.3868e-02,  2.1165e-02, -1.7311e-02,\n",
            "         1.0567e-02,  3.5443e-04,  1.6622e-01, -3.9953e-02,  1.5148e-01,\n",
            "         1.2076e-02, -4.1606e-02,  1.5969e-03,  5.4346e-02, -1.0416e-02,\n",
            "         4.0319e-02,  8.1467e-02,  1.0036e-03, -6.5760e-02,  1.2406e-02,\n",
            "         5.9347e-03,  1.5954e-02,  8.2046e-02,  1.3433e-01,  1.9607e-03,\n",
            "        -4.8643e-02,  2.2352e-02, -5.1877e-03,  7.1100e-02, -1.7884e-03,\n",
            "         5.4219e-02, -1.2088e-02,  6.4483e-02, -9.9232e-02,  4.7464e-02,\n",
            "        -2.3691e-02,  1.1105e-01, -5.2309e-03, -8.6507e-03,  3.3284e-02,\n",
            "         1.1735e-02,  3.7507e-02,  3.0447e-02,  1.8812e-02, -6.8519e-02,\n",
            "         6.0163e-02, -2.8779e-02, -3.7485e-02, -5.6052e-02, -3.1072e-03,\n",
            "         7.2206e-02,  1.4191e-02, -1.9520e-02,  3.2627e-02, -2.7464e-02,\n",
            "         6.6420e-02, -2.4281e-02,  6.7176e-02,  4.3811e-02,  5.8367e-02,\n",
            "         5.0580e-02, -3.5321e-02, -4.2328e-02,  1.1440e-01, -3.3413e-03,\n",
            "         1.3100e-01,  2.5057e-02, -3.1175e-02,  5.5909e-02,  6.0324e-02,\n",
            "         7.2324e-02,  4.2775e-02,  3.0684e-02,  9.9989e-03, -2.8872e-02,\n",
            "         3.5914e-02,  1.3096e-02,  1.4243e-01, -3.1670e-02,  4.2436e-02,\n",
            "         1.6030e-02,  5.0467e-02, -1.5023e-02, -3.2778e-02,  1.1751e-02,\n",
            "         5.8581e-02])), ('fc4.weight', tensor([[ 0.0419,  0.0112, -0.0493,  ...,  0.0022, -0.2219,  0.1032],\n",
            "        [ 0.0135, -0.0407,  0.0257,  ..., -0.0052,  0.0843,  0.0780],\n",
            "        [-0.0205, -0.1017,  0.0829,  ...,  0.0469, -0.2149,  0.0248],\n",
            "        ...,\n",
            "        [ 0.0416,  0.0268,  0.0543,  ..., -0.0454,  0.2025, -0.0225],\n",
            "        [ 0.0179, -0.0381,  0.0214,  ..., -0.0239, -0.0577,  0.0239],\n",
            "        [ 0.0425, -0.1492,  0.0309,  ..., -0.0289,  0.1964, -0.0535]])), ('fc4.bias', tensor([-0.3978,  0.1513,  0.1200,  0.0367,  0.2699, -0.2926,  0.2540, -0.0281,\n",
            "        -0.1992, -0.0407]))])\n",
            "fc4.bias \t OrderedDict([('fc1.weight', tensor([[-0.0175,  0.0042, -0.0198,  ...,  0.0005,  0.0117, -0.0045],\n",
            "        [-0.0188,  0.0038, -0.0084,  ..., -0.0100,  0.0086,  0.0128],\n",
            "        [-0.0105,  0.0082,  0.0029,  ..., -0.0177, -0.0016,  0.0066],\n",
            "        ...,\n",
            "        [-0.0044, -0.0252,  0.0078,  ...,  0.0140, -0.0073, -0.0077],\n",
            "        [ 0.0025,  0.0039, -0.0137,  ...,  0.0177, -0.0016, -0.0104],\n",
            "        [-0.0188, -0.0300, -0.0276,  ..., -0.0065, -0.0009,  0.0045]])), ('fc1.bias', tensor([ 0.0171,  0.0065,  0.0481,  ..., -0.0017, -0.0064,  0.0125])), ('fc2.weight', tensor([[-0.0333, -0.0302,  0.0351,  ...,  0.0091,  0.0258,  0.0044],\n",
            "        [ 0.0181, -0.0060,  0.0175,  ...,  0.0279, -0.0159,  0.0122],\n",
            "        [ 0.0206, -0.0004,  0.0422,  ...,  0.0196,  0.0100,  0.0257],\n",
            "        ...,\n",
            "        [-0.0091, -0.0007,  0.0221,  ...,  0.0069, -0.0002,  0.0194],\n",
            "        [-0.0021, -0.0307, -0.0123,  ...,  0.0244,  0.0079, -0.0174],\n",
            "        [-0.0361, -0.0290, -0.0147,  ..., -0.0321, -0.0331, -0.0225]])), ('fc2.bias', tensor([ 0.0397, -0.0505, -0.0292,  0.0253, -0.0179, -0.0134,  0.0382, -0.0393,\n",
            "        -0.0174, -0.0162,  0.0295, -0.0493,  0.0543, -0.0273,  0.0707,  0.0022,\n",
            "         0.0475, -0.0072,  0.0263, -0.0145, -0.0333,  0.0540,  0.0042, -0.0072,\n",
            "        -0.0388,  0.0472,  0.0157, -0.0182,  0.0279, -0.0287, -0.1391, -0.0249,\n",
            "        -0.0467, -0.0125,  0.0216,  0.0580, -0.0311,  0.0774, -0.0192, -0.0600,\n",
            "         0.0460,  0.0132, -0.0225, -0.0270,  0.0117,  0.0040, -0.0267,  0.0031,\n",
            "        -0.0100, -0.0163, -0.0847, -0.0128, -0.0235,  0.0265,  0.0792, -0.0364,\n",
            "         0.0098, -0.0026,  0.0734,  0.0202, -0.0267, -0.0332, -0.0061, -0.0203,\n",
            "         0.0184,  0.0447,  0.0029, -0.0222, -0.0286,  0.0174,  0.0345,  0.0031,\n",
            "         0.0301, -0.0016,  0.0047, -0.0187,  0.0233,  0.0201, -0.0258,  0.0118,\n",
            "         0.0233,  0.0033, -0.0893, -0.0132, -0.0113, -0.0071,  0.0477, -0.0088,\n",
            "        -0.0894, -0.0212, -0.0326, -0.0003,  0.0467, -0.0166,  0.0216, -0.0294,\n",
            "        -0.0299, -0.0246,  0.0850, -0.0210, -0.0659,  0.0132,  0.0194,  0.0039,\n",
            "        -0.0184, -0.0179, -0.0047,  0.0053, -0.0215, -0.0176,  0.0073,  0.0062,\n",
            "        -0.0072, -0.0130,  0.0557, -0.0652,  0.0190,  0.0289, -0.0246, -0.0084,\n",
            "        -0.0889, -0.0007,  0.0328, -0.0091, -0.0053,  0.0867, -0.0151, -0.0188,\n",
            "        -0.0364,  0.0523, -0.0120,  0.0181,  0.0374,  0.0673,  0.0039,  0.0233,\n",
            "        -0.0361,  0.0218, -0.0488,  0.0130, -0.0047, -0.0485, -0.0003, -0.0353,\n",
            "        -0.0507,  0.0339, -0.0294,  0.0300,  0.0453, -0.0352,  0.0106, -0.0253,\n",
            "        -0.0305, -0.0045, -0.0095, -0.0128, -0.0129, -0.0157, -0.0163,  0.0011,\n",
            "        -0.0449,  0.0046,  0.0395, -0.0206,  0.0400, -0.0281,  0.0508,  0.0212,\n",
            "         0.0126,  0.0350,  0.0772, -0.0367,  0.0151,  0.0223,  0.0021,  0.0252,\n",
            "         0.0619,  0.0170,  0.0584,  0.0394, -0.0031, -0.0008, -0.0023, -0.0061,\n",
            "         0.0017,  0.0727, -0.0018,  0.0296,  0.0336, -0.0144,  0.0723, -0.0079,\n",
            "         0.0383,  0.0600,  0.0161, -0.0475, -0.0014,  0.0153,  0.0074, -0.0105,\n",
            "         0.0678, -0.0096,  0.1137, -0.0374,  0.0156, -0.0116,  0.0880,  0.0828,\n",
            "         0.0485,  0.1139,  0.0578, -0.0152, -0.0177, -0.0152,  0.1353, -0.0332,\n",
            "         0.0729, -0.0404,  0.0061,  0.0189, -0.0252,  0.0335, -0.0672,  0.0146,\n",
            "         0.0036,  0.0468,  0.0123,  0.0275, -0.0105, -0.0044, -0.0326, -0.0196,\n",
            "         0.0137,  0.0912,  0.0192,  0.0650, -0.0165,  0.0264, -0.0255, -0.0006,\n",
            "         0.0040, -0.0024,  0.0266,  0.0245,  0.0281,  0.0436, -0.0270, -0.0159,\n",
            "        -0.0095,  0.0401, -0.0928,  0.0534,  0.0181, -0.0345,  0.0039,  0.0594,\n",
            "         0.0646,  0.0164, -0.0254, -0.0144,  0.0099, -0.0256,  0.0245, -0.0366,\n",
            "         0.0412,  0.0516,  0.0174,  0.0441, -0.0207,  0.0143, -0.0126, -0.0035,\n",
            "        -0.0493,  0.0615, -0.1024, -0.0152,  0.0330, -0.0124, -0.0101,  0.0411,\n",
            "        -0.0014,  0.0289,  0.1011, -0.0439,  0.0275,  0.0546,  0.0642, -0.0149,\n",
            "         0.0396, -0.0213, -0.0355,  0.0106, -0.0559,  0.0625,  0.0116, -0.0592,\n",
            "        -0.0571,  0.0222, -0.0283,  0.0208, -0.0297, -0.0248, -0.0276, -0.0047,\n",
            "        -0.0736,  0.0490,  0.0588,  0.0074,  0.0016, -0.0237, -0.0035, -0.0215,\n",
            "         0.0149, -0.0427,  0.0048,  0.0253, -0.0726,  0.0276, -0.0427,  0.1171,\n",
            "         0.0305,  0.0340, -0.0107,  0.0126, -0.0010, -0.0633,  0.0030,  0.1233,\n",
            "         0.0894, -0.0131, -0.0228,  0.0207, -0.0312, -0.0121,  0.0069,  0.0312,\n",
            "        -0.0425, -0.0035, -0.0242,  0.0678,  0.0393,  0.0276,  0.0232,  0.0020,\n",
            "         0.0200,  0.0121,  0.0210, -0.0046,  0.1606,  0.0572,  0.0165,  0.0542,\n",
            "        -0.0038, -0.0483, -0.0177, -0.0395,  0.0058, -0.0142,  0.0272, -0.0211,\n",
            "        -0.0727, -0.0350,  0.0115,  0.0196, -0.0187, -0.0389,  0.0957, -0.0284,\n",
            "        -0.0176,  0.0415, -0.0025,  0.0674, -0.0075, -0.0061, -0.0102,  0.0192,\n",
            "        -0.0377,  0.0976, -0.0127, -0.0424, -0.0537,  0.0127,  0.0338,  0.0139,\n",
            "         0.0108,  0.0194,  0.0624,  0.0242, -0.0073, -0.0050, -0.0638, -0.0071,\n",
            "         0.0066,  0.0324,  0.0353,  0.0102,  0.0215, -0.0010,  0.0093, -0.0027,\n",
            "        -0.0208,  0.0381, -0.0269, -0.0070, -0.0389, -0.0204,  0.0565,  0.0139,\n",
            "         0.0343,  0.0623, -0.0194, -0.0274, -0.0506, -0.0096, -0.0322,  0.0737,\n",
            "        -0.0059, -0.0003, -0.0440,  0.0311,  0.1202,  0.0232, -0.0399, -0.0282,\n",
            "        -0.0305, -0.0036, -0.0041, -0.0237,  0.0257, -0.0537, -0.0264,  0.0566,\n",
            "        -0.0091, -0.0239, -0.0665, -0.0184, -0.0116, -0.0723,  0.0005, -0.0095,\n",
            "         0.0404, -0.0723, -0.0365, -0.0852,  0.0811,  0.0190,  0.0073,  0.0041,\n",
            "        -0.0137,  0.0094,  0.0602,  0.0044,  0.1236,  0.0068, -0.0161,  0.0595,\n",
            "        -0.0667, -0.0108,  0.0050,  0.0381,  0.0417, -0.0270,  0.0102,  0.0741,\n",
            "        -0.0570,  0.0295, -0.0337,  0.0736, -0.0062, -0.0341, -0.0045,  0.1538,\n",
            "         0.1172, -0.0802, -0.0823, -0.0236, -0.0261,  0.0252,  0.0119, -0.0383,\n",
            "        -0.0211,  0.0765, -0.0170,  0.0056, -0.0372,  0.0375, -0.0047,  0.0009,\n",
            "         0.0260, -0.0128, -0.0243, -0.0295, -0.0114, -0.0192,  0.0218, -0.0531,\n",
            "        -0.0178,  0.0251, -0.0025, -0.0119,  0.0079, -0.0210,  0.0150, -0.0018,\n",
            "        -0.0204,  0.1069, -0.0487,  0.0471,  0.0176, -0.0055, -0.0522, -0.0079])), ('fc3.weight', tensor([[ 0.0237, -0.0382,  0.0122,  ..., -0.0335, -0.0232,  0.0352],\n",
            "        [ 0.0449, -0.0059,  0.0279,  ...,  0.0074, -0.0364,  0.0184],\n",
            "        [-0.0381,  0.0038,  0.0587,  ...,  0.0161,  0.0100,  0.0221],\n",
            "        ...,\n",
            "        [-0.0172,  0.0402, -0.0011,  ..., -0.0391,  0.0229, -0.0213],\n",
            "        [ 0.0374,  0.0095,  0.0072,  ...,  0.0479,  0.0295, -0.0372],\n",
            "        [-0.0347, -0.0348,  0.0062,  ..., -0.0281,  0.0344,  0.0320]])), ('fc3.bias', tensor([ 4.0825e-02,  8.5141e-04,  1.1963e-02,  2.2339e-02,  1.9393e-02,\n",
            "         4.4778e-02, -7.9330e-02, -9.7609e-03,  3.8839e-02,  5.8806e-02,\n",
            "         1.2000e-01, -1.2149e-02,  1.6547e-02, -5.1034e-02,  3.3147e-02,\n",
            "         2.7494e-03, -2.2669e-02,  1.4479e-01, -3.2806e-02, -3.5290e-02,\n",
            "         1.0236e-02, -4.1321e-02, -2.0450e-02, -6.4086e-02,  6.1944e-03,\n",
            "        -5.0886e-02,  7.7318e-03, -3.6536e-02,  3.3151e-02,  4.7813e-02,\n",
            "        -5.3164e-02, -6.0851e-02, -1.8884e-02,  4.1519e-02, -1.4019e-02,\n",
            "         7.9226e-02,  7.0098e-02,  1.8677e-02, -6.6803e-02,  4.7898e-02,\n",
            "        -6.4434e-03,  8.8814e-02, -4.8931e-02, -9.0580e-02, -2.0080e-02,\n",
            "        -1.3465e-02,  1.0373e-01,  1.8163e-01, -5.4285e-02,  8.4277e-02,\n",
            "        -2.1737e-02, -2.5445e-02, -5.4807e-03,  6.9254e-02, -1.1341e-01,\n",
            "         2.0972e-02,  2.0801e-02, -1.5888e-02,  4.5518e-02,  7.2902e-02,\n",
            "        -4.4395e-02,  4.2635e-03, -5.8533e-02, -2.2433e-02, -9.0719e-02,\n",
            "        -4.9795e-02,  1.0778e-01,  6.8102e-02,  1.1421e-01,  7.5486e-02,\n",
            "         6.8321e-02, -4.5661e-02, -2.4605e-02,  3.0682e-02, -3.5009e-02,\n",
            "         4.5302e-02,  6.5741e-02, -2.6096e-02, -3.2514e-04, -1.5090e-03,\n",
            "        -2.8071e-02, -8.1417e-02, -1.9172e-02,  9.8483e-02,  2.0417e-02,\n",
            "         2.0591e-02,  9.3534e-03,  3.4553e-03, -5.3489e-02, -6.0053e-02,\n",
            "        -6.7254e-04, -2.7471e-02, -1.1522e-02, -3.8946e-02,  3.1133e-02,\n",
            "         3.6874e-02, -3.9311e-02, -7.0635e-03,  1.4300e-03, -3.1917e-02,\n",
            "         8.7843e-02,  2.8347e-02, -7.2429e-02,  2.0835e-02,  3.8101e-03,\n",
            "         3.4753e-02,  3.3576e-04,  1.8750e-02, -3.8901e-02, -3.1183e-02,\n",
            "         1.8793e-02,  1.1849e-01,  9.9240e-02,  6.6806e-02,  2.2779e-02,\n",
            "         4.0971e-02,  4.7528e-02,  1.7764e-02,  1.9908e-02,  1.1309e-01,\n",
            "        -1.6034e-04,  4.5890e-02,  8.1273e-02, -6.7630e-03, -3.3146e-02,\n",
            "         9.1426e-02, -4.1388e-02,  2.9160e-02,  6.6252e-02,  2.3134e-02,\n",
            "         6.7926e-03, -9.0379e-03,  1.1720e-02, -1.9772e-02,  3.6815e-02,\n",
            "         1.1345e-02,  9.1386e-03,  1.9072e-02,  6.8509e-02,  8.1927e-02,\n",
            "        -1.3962e-02, -8.0433e-02,  4.9119e-02, -1.4864e-04,  5.5734e-02,\n",
            "         2.8578e-03,  8.6893e-03, -3.8234e-02, -4.7242e-02, -1.0642e-01,\n",
            "        -2.8352e-02,  4.5425e-02,  1.9934e-02, -9.2905e-02,  1.1797e-02,\n",
            "        -4.9029e-03,  4.2852e-02,  5.8810e-02, -4.6296e-02, -7.6017e-02,\n",
            "        -5.9199e-02, -4.1099e-02, -4.7022e-02,  1.3308e-02, -3.6812e-02,\n",
            "         1.2692e-01, -4.7188e-03,  1.0721e-01,  8.9894e-02,  4.1562e-02,\n",
            "        -5.8181e-02,  1.7426e-02, -2.3868e-02,  2.1165e-02, -1.7311e-02,\n",
            "         1.0567e-02,  3.5443e-04,  1.6622e-01, -3.9953e-02,  1.5148e-01,\n",
            "         1.2076e-02, -4.1606e-02,  1.5969e-03,  5.4346e-02, -1.0416e-02,\n",
            "         4.0319e-02,  8.1467e-02,  1.0036e-03, -6.5760e-02,  1.2406e-02,\n",
            "         5.9347e-03,  1.5954e-02,  8.2046e-02,  1.3433e-01,  1.9607e-03,\n",
            "        -4.8643e-02,  2.2352e-02, -5.1877e-03,  7.1100e-02, -1.7884e-03,\n",
            "         5.4219e-02, -1.2088e-02,  6.4483e-02, -9.9232e-02,  4.7464e-02,\n",
            "        -2.3691e-02,  1.1105e-01, -5.2309e-03, -8.6507e-03,  3.3284e-02,\n",
            "         1.1735e-02,  3.7507e-02,  3.0447e-02,  1.8812e-02, -6.8519e-02,\n",
            "         6.0163e-02, -2.8779e-02, -3.7485e-02, -5.6052e-02, -3.1072e-03,\n",
            "         7.2206e-02,  1.4191e-02, -1.9520e-02,  3.2627e-02, -2.7464e-02,\n",
            "         6.6420e-02, -2.4281e-02,  6.7176e-02,  4.3811e-02,  5.8367e-02,\n",
            "         5.0580e-02, -3.5321e-02, -4.2328e-02,  1.1440e-01, -3.3413e-03,\n",
            "         1.3100e-01,  2.5057e-02, -3.1175e-02,  5.5909e-02,  6.0324e-02,\n",
            "         7.2324e-02,  4.2775e-02,  3.0684e-02,  9.9989e-03, -2.8872e-02,\n",
            "         3.5914e-02,  1.3096e-02,  1.4243e-01, -3.1670e-02,  4.2436e-02,\n",
            "         1.6030e-02,  5.0467e-02, -1.5023e-02, -3.2778e-02,  1.1751e-02,\n",
            "         5.8581e-02])), ('fc4.weight', tensor([[ 0.0419,  0.0112, -0.0493,  ...,  0.0022, -0.2219,  0.1032],\n",
            "        [ 0.0135, -0.0407,  0.0257,  ..., -0.0052,  0.0843,  0.0780],\n",
            "        [-0.0205, -0.1017,  0.0829,  ...,  0.0469, -0.2149,  0.0248],\n",
            "        ...,\n",
            "        [ 0.0416,  0.0268,  0.0543,  ..., -0.0454,  0.2025, -0.0225],\n",
            "        [ 0.0179, -0.0381,  0.0214,  ..., -0.0239, -0.0577,  0.0239],\n",
            "        [ 0.0425, -0.1492,  0.0309,  ..., -0.0289,  0.1964, -0.0535]])), ('fc4.bias', tensor([-0.3978,  0.1513,  0.1200,  0.0367,  0.2699, -0.2926,  0.2540, -0.0281,\n",
            "        -0.1992, -0.0407]))])\n"
          ]
        }
      ],
      "source": [
        "print ('Model state dict:')\n",
        "for param in net.state_dict():\n",
        "    print(param, '\\t', net.state_dict())"
      ]
    },
    {
      "cell_type": "code",
      "execution_count": null,
      "metadata": {
        "id": "zxUCM7o_gzxv",
        "colab": {
          "base_uri": "https://localhost:8080/"
        },
        "outputId": "37d5a702-6273-41e3-f952-47ff648f3070"
      },
      "outputs": [
        {
          "output_type": "execute_result",
          "data": {
            "text/plain": [
              "Net(\n",
              "  (fc1): Linear(in_features=3072, out_features=1024, bias=True)\n",
              "  (fc2): Linear(in_features=1024, out_features=512, bias=True)\n",
              "  (fc3): Linear(in_features=512, out_features=256, bias=True)\n",
              "  (fc4): Linear(in_features=256, out_features=10, bias=True)\n",
              ")"
            ]
          },
          "metadata": {},
          "execution_count": 24
        }
      ],
      "source": [
        "net = Net(3072, 256, 10)\n",
        "net.load_state_dict(torch.load(PATH_WEIGHTS))\n",
        "net"
      ]
    },
    {
      "cell_type": "code",
      "execution_count": null,
      "metadata": {
        "id": "Jio9bpc0gzxx"
      },
      "outputs": [],
      "source": [
        "data_iter = iter(test_loader)\n",
        "images, labels = next(data_iter)"
      ]
    },
    {
      "cell_type": "code",
      "execution_count": null,
      "metadata": {
        "id": "OLSANarOgzxz",
        "colab": {
          "base_uri": "https://localhost:8080/",
          "height": 123
        },
        "outputId": "2e4f38cc-29b9-4020-a21e-1f3e895eaef4"
      },
      "outputs": [
        {
          "output_type": "stream",
          "name": "stdout",
          "text": [
            "GroundTruth:  cat ship ship plane frog frog car frog\n"
          ]
        },
        {
          "output_type": "display_data",
          "data": {
            "text/plain": [
              "<Figure size 400x200 with 1 Axes>"
            ],
            "image/png": "[encoded data removed]"
          },
          "metadata": {}
        }
      ],
      "source": [
        "net.eval()\n",
        "outputs = net(images)\n",
        "imgs = torchvision.utils.make_grid(images)\n",
        "plt.figure(figsize=(4, 2))\n",
        "plt.imshow(imgs.permute(1, 2, 0).numpy())\n",
        "print('GroundTruth: ', ' '.join(classes[labels[j]] for j in range(len(labels))))"
      ]
    },
    {
      "cell_type": "code",
      "execution_count": null,
      "metadata": {
        "colab": {
          "base_uri": "https://localhost:8080/"
        },
        "id": "ENCFUZW3gzx1",
        "outputId": "6f672701-5947-4a64-9c7a-a9f7a1b048cf"
      },
      "outputs": [
        {
          "output_type": "stream",
          "name": "stderr",
          "text": [
            "<ipython-input-17-99276d73dfec>:30: UserWarning: Implicit dimension choice for softmax has been deprecated. Change the call to include dim=X as an argument.\n",
            "  x = F.softmax(x)\n"
          ]
        }
      ],
      "source": [
        "net.predict(images);"
      ]
    },
    {
      "cell_type": "code",
      "execution_count": null,
      "metadata": {
        "colab": {
          "base_uri": "https://localhost:8080/"
        },
        "id": "B7tVD6TPgzx4",
        "outputId": "69475c09-d336-446e-ccdf-eff1488dcf98"
      },
      "outputs": [
        {
          "output_type": "execute_result",
          "data": {
            "text/plain": [
              "tensor([3, 9, 0, 2, 4, 6, 3, 4])"
            ]
          },
          "metadata": {},
          "execution_count": 28
        }
      ],
      "source": [
        "_, imgs_predicted = torch.max(outputs, 1)\n",
        "imgs_predicted"
      ]
    },
    {
      "cell_type": "code",
      "execution_count": null,
      "metadata": {
        "colab": {
          "base_uri": "https://localhost:8080/"
        },
        "id": "QJjF7jl0gzx5",
        "outputId": "32b1e568-1973-4fdb-a1e6-750c508ee9c8"
      },
      "outputs": [
        {
          "output_type": "stream",
          "name": "stdout",
          "text": [
            "Predicted  cat truck plane bird deer frog cat deer\n"
          ]
        }
      ],
      "source": [
        "print('Predicted ', ' '.join(classes[imgs_predicted[j]] for j in range(len(labels))))"
      ]
    },
    {
      "cell_type": "code",
      "execution_count": null,
      "metadata": {
        "id": "Ud379xJLgzx7",
        "colab": {
          "base_uri": "https://localhost:8080/"
        },
        "outputId": "030ea024-1d7a-4d48-bc4a-197680e69eda"
      },
      "outputs": [
        {
          "output_type": "stream",
          "name": "stdout",
          "text": [
            "['cat' 'ship' 'ship' 'plane' 'frog' 'frog' 'car' 'frog']\n",
            "['cat' 'truck' 'plane' 'bird' 'deer' 'frog' 'cat' 'deer']\n",
            "Accuracy is 0.25\n"
          ]
        }
      ],
      "source": [
        "gt = np.array([classes[labels[j]] for j in range(len(labels))])\n",
        "pred = np.array([classes[imgs_predicted[j]] for j in range(len(labels))])\n",
        "\n",
        "print(gt)\n",
        "print(pred)\n",
        "print(f'Accuracy is {(gt == pred).sum() / len(gt)}')"
      ]
    }
  ],
  "metadata": {
    "accelerator": "GPU",
    "colab": {
      "provenance": [],
      "authorship_tag": "ABX9TyP580x/8HE97yDM+erwYigf",
      "include_colab_link": true
    },
    "kernelspec": {
      "display_name": "Python 3",
      "name": "python3"
    },
    "language_info": {
      "name": "python"
    }
  },
  "nbformat": 4,
  "nbformat_minor": 0
}