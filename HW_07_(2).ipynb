{
  "cells": [
    {
      "cell_type": "markdown",
      "metadata": {
        "id": "view-in-github",
        "colab_type": "text"
      },
      "source": [
        "<a href=\"https://colab.research.google.com/github/Greta-gerasimov/PyT/blob/L7_sequences_PyT/HW_07_(2).ipynb\" target=\"_parent\"><img src=\"https://colab.research.google.com/assets/colab-badge.svg\" alt=\"Open In Colab\"/></a>"
      ]
    },
    {
      "cell_type": "code",
      "execution_count": 121,
      "metadata": {
        "scrolled": true,
        "colab": {
          "base_uri": "https://localhost:8080/"
        },
        "id": "-pLKUIwjDRFe",
        "outputId": "acab959b-3e80-4863-a1b7-9a27b24cbdbd"
      },
      "outputs": [
        {
          "output_type": "stream",
          "name": "stdout",
          "text": [
            "Requirement already satisfied: stop-words in /usr/local/lib/python3.10/dist-packages (2018.7.23)\n",
            "Requirement already satisfied: pymorphy2 in /usr/local/lib/python3.10/dist-packages (0.9.1)\n",
            "Requirement already satisfied: dawg-python>=0.7.1 in /usr/local/lib/python3.10/dist-packages (from pymorphy2) (0.7.2)\n",
            "Requirement already satisfied: pymorphy2-dicts-ru<3.0,>=2.4 in /usr/local/lib/python3.10/dist-packages (from pymorphy2) (2.4.417127.4579844)\n",
            "Requirement already satisfied: docopt>=0.6 in /usr/local/lib/python3.10/dist-packages (from pymorphy2) (0.6.2)\n"
          ]
        }
      ],
      "source": [
        "!pip install stop-words pymorphy2"
      ]
    },
    {
      "cell_type": "code",
      "source": [
        "!pip install torchmetrics"
      ],
      "metadata": {
        "colab": {
          "base_uri": "https://localhost:8080/"
        },
        "id": "42sadOE_DjUy",
        "outputId": "8201a2bc-6fdc-495b-fae3-813e3d1d8a64"
      },
      "execution_count": 122,
      "outputs": [
        {
          "output_type": "stream",
          "name": "stdout",
          "text": [
            "Requirement already satisfied: torchmetrics in /usr/local/lib/python3.10/dist-packages (1.2.0)\n",
            "Requirement already satisfied: numpy>1.20.0 in /usr/local/lib/python3.10/dist-packages (from torchmetrics) (1.23.5)\n",
            "Requirement already satisfied: torch>=1.8.1 in /usr/local/lib/python3.10/dist-packages (from torchmetrics) (2.1.0+cu118)\n",
            "Requirement already satisfied: lightning-utilities>=0.8.0 in /usr/local/lib/python3.10/dist-packages (from torchmetrics) (0.9.0)\n",
            "Requirement already satisfied: packaging>=17.1 in /usr/local/lib/python3.10/dist-packages (from lightning-utilities>=0.8.0->torchmetrics) (23.2)\n",
            "Requirement already satisfied: typing-extensions in /usr/local/lib/python3.10/dist-packages (from lightning-utilities>=0.8.0->torchmetrics) (4.5.0)\n",
            "Requirement already satisfied: filelock in /usr/local/lib/python3.10/dist-packages (from torch>=1.8.1->torchmetrics) (3.12.4)\n",
            "Requirement already satisfied: sympy in /usr/local/lib/python3.10/dist-packages (from torch>=1.8.1->torchmetrics) (1.12)\n",
            "Requirement already satisfied: networkx in /usr/local/lib/python3.10/dist-packages (from torch>=1.8.1->torchmetrics) (3.2)\n",
            "Requirement already satisfied: jinja2 in /usr/local/lib/python3.10/dist-packages (from torch>=1.8.1->torchmetrics) (3.1.2)\n",
            "Requirement already satisfied: fsspec in /usr/local/lib/python3.10/dist-packages (from torch>=1.8.1->torchmetrics) (2023.6.0)\n",
            "Requirement already satisfied: triton==2.1.0 in /usr/local/lib/python3.10/dist-packages (from torch>=1.8.1->torchmetrics) (2.1.0)\n",
            "Requirement already satisfied: MarkupSafe>=2.0 in /usr/local/lib/python3.10/dist-packages (from jinja2->torch>=1.8.1->torchmetrics) (2.1.3)\n",
            "Requirement already satisfied: mpmath>=0.19 in /usr/local/lib/python3.10/dist-packages (from sympy->torch>=1.8.1->torchmetrics) (1.3.0)\n"
          ]
        }
      ]
    },
    {
      "cell_type": "code",
      "execution_count": 123,
      "metadata": {
        "colab": {
          "base_uri": "https://localhost:8080/"
        },
        "id": "KGYq3UpJDRFm",
        "outputId": "15195637-efe2-4434-f17a-63365f413fa0"
      },
      "outputs": [
        {
          "output_type": "stream",
          "name": "stderr",
          "text": [
            "[nltk_data] Downloading package wordnet to /root/nltk_data...\n",
            "[nltk_data]   Package wordnet is already up-to-date!\n",
            "[nltk_data] Downloading package punkt to /root/nltk_data...\n",
            "[nltk_data]   Package punkt is already up-to-date!\n"
          ]
        }
      ],
      "source": [
        "import pandas as pd\n",
        "import numpy as np\n",
        "import torch\n",
        "import torch.nn as nn\n",
        "import torch.nn.functional as F\n",
        "import torchmetrics\n",
        "\n",
        "from torch.utils.data import DataLoader, Dataset\n",
        "from sklearn.model_selection import train_test_split\n",
        "\n",
        "import nltk\n",
        "from nltk.tokenize import word_tokenize\n",
        "from nltk.stem import WordNetLemmatizer\n",
        "nltk.download('wordnet')\n",
        "nltk.download(\"punkt\")\n",
        "\n",
        "from string import punctuation\n",
        "from stop_words import get_stop_words\n",
        "# from pymorphy2 import MorphAnalyzer\n",
        "\n",
        "import re"
      ]
    },
    {
      "cell_type": "code",
      "execution_count": 124,
      "metadata": {
        "id": "1aWSCHwVDRFt"
      },
      "outputs": [],
      "source": [
        "max_words = 1000\n",
        "max_len = 10\n",
        "num_classes = 1\n",
        "\n",
        "epochs = 15\n",
        "batch_size = 512\n",
        "print_batch_n = 100"
      ]
    },
    {
      "cell_type": "code",
      "execution_count": 125,
      "metadata": {
        "id": "2Pcx4Y1rDRFu"
      },
      "outputs": [],
      "source": [
        "train_df = pd.read_csv('/content/twitter_train.csv')\n"
      ]
    },
    {
      "cell_type": "code",
      "execution_count": 126,
      "metadata": {
        "scrolled": false,
        "colab": {
          "base_uri": "https://localhost:8080/",
          "height": 206
        },
        "id": "_Fgs11FdDRFw",
        "outputId": "17f4537c-60d6-4f23-a8e0-1ad3455f095e"
      },
      "outputs": [
        {
          "output_type": "execute_result",
          "data": {
            "text/plain": [
              "   id  label                                              tweet\n",
              "0   1      0   @user when a father is dysfunctional and is s...\n",
              "1   2      0  @user @user thanks for #lyft credit i can't us...\n",
              "2   3      0                                bihday your majesty\n",
              "3   4      0  #model   i love u take with u all the time in ...\n",
              "4   5      0             factsguide: society now    #motivation"
            ],
            "text/html": [
              "\n",
              "  <div id=\"df-d4377dea-1fc3-442e-be2f-fe1d625f6a90\" class=\"colab-df-container\">\n",
              "    <div>\n",
              "<style scoped>\n",
              "    .dataframe tbody tr th:only-of-type {\n",
              "        vertical-align: middle;\n",
              "    }\n",
              "\n",
              "    .dataframe tbody tr th {\n",
              "        vertical-align: top;\n",
              "    }\n",
              "\n",
              "    .dataframe thead th {\n",
              "        text-align: right;\n",
              "    }\n",
              "</style>\n",
              "<table border=\"1\" class=\"dataframe\">\n",
              "  <thead>\n",
              "    <tr style=\"text-align: right;\">\n",
              "      <th></th>\n",
              "      <th>id</th>\n",
              "      <th>label</th>\n",
              "      <th>tweet</th>\n",
              "    </tr>\n",
              "  </thead>\n",
              "  <tbody>\n",
              "    <tr>\n",
              "      <th>0</th>\n",
              "      <td>1</td>\n",
              "      <td>0</td>\n",
              "      <td>@user when a father is dysfunctional and is s...</td>\n",
              "    </tr>\n",
              "    <tr>\n",
              "      <th>1</th>\n",
              "      <td>2</td>\n",
              "      <td>0</td>\n",
              "      <td>@user @user thanks for #lyft credit i can't us...</td>\n",
              "    </tr>\n",
              "    <tr>\n",
              "      <th>2</th>\n",
              "      <td>3</td>\n",
              "      <td>0</td>\n",
              "      <td>bihday your majesty</td>\n",
              "    </tr>\n",
              "    <tr>\n",
              "      <th>3</th>\n",
              "      <td>4</td>\n",
              "      <td>0</td>\n",
              "      <td>#model   i love u take with u all the time in ...</td>\n",
              "    </tr>\n",
              "    <tr>\n",
              "      <th>4</th>\n",
              "      <td>5</td>\n",
              "      <td>0</td>\n",
              "      <td>factsguide: society now    #motivation</td>\n",
              "    </tr>\n",
              "  </tbody>\n",
              "</table>\n",
              "</div>\n",
              "    <div class=\"colab-df-buttons\">\n",
              "\n",
              "  <div class=\"colab-df-container\">\n",
              "    <button class=\"colab-df-convert\" onclick=\"convertToInteractive('df-d4377dea-1fc3-442e-be2f-fe1d625f6a90')\"\n",
              "            title=\"Convert this dataframe to an interactive table.\"\n",
              "            style=\"display:none;\">\n",
              "\n",
              "  <svg xmlns=\"http://www.w3.org/2000/svg\" height=\"24px\" viewBox=\"0 -960 960 960\">\n",
              "    <path d=\"M120-120v-720h720v720H120Zm60-500h600v-160H180v160Zm220 220h160v-160H400v160Zm0 220h160v-160H400v160ZM180-400h160v-160H180v160Zm440 0h160v-160H620v160ZM180-180h160v-160H180v160Zm440 0h160v-160H620v160Z\"/>\n",
              "  </svg>\n",
              "    </button>\n",
              "\n",
              "  <style>\n",
              "    .colab-df-container {\n",
              "      display:flex;\n",
              "      gap: 12px;\n",
              "    }\n",
              "\n",
              "    .colab-df-convert {\n",
              "      background-color: #E8F0FE;\n",
              "      border: none;\n",
              "      border-radius: 50%;\n",
              "      cursor: pointer;\n",
              "      display: none;\n",
              "      fill: #1967D2;\n",
              "      height: 32px;\n",
              "      padding: 0 0 0 0;\n",
              "      width: 32px;\n",
              "    }\n",
              "\n",
              "    .colab-df-convert:hover {\n",
              "      background-color: #E2EBFA;\n",
              "      box-shadow: 0px 1px 2px rgba(60, 64, 67, 0.3), 0px 1px 3px 1px rgba(60, 64, 67, 0.15);\n",
              "      fill: #174EA6;\n",
              "    }\n",
              "\n",
              "    .colab-df-buttons div {\n",
              "      margin-bottom: 4px;\n",
              "    }\n",
              "\n",
              "    [theme=dark] .colab-df-convert {\n",
              "      background-color: #3B4455;\n",
              "      fill: #D2E3FC;\n",
              "    }\n",
              "\n",
              "    [theme=dark] .colab-df-convert:hover {\n",
              "      background-color: #434B5C;\n",
              "      box-shadow: 0px 1px 3px 1px rgba(0, 0, 0, 0.15);\n",
              "      filter: drop-shadow(0px 1px 2px rgba(0, 0, 0, 0.3));\n",
              "      fill: #FFFFFF;\n",
              "    }\n",
              "  </style>\n",
              "\n",
              "    <script>\n",
              "      const buttonEl =\n",
              "        document.querySelector('#df-d4377dea-1fc3-442e-be2f-fe1d625f6a90 button.colab-df-convert');\n",
              "      buttonEl.style.display =\n",
              "        google.colab.kernel.accessAllowed ? 'block' : 'none';\n",
              "\n",
              "      async function convertToInteractive(key) {\n",
              "        const element = document.querySelector('#df-d4377dea-1fc3-442e-be2f-fe1d625f6a90');\n",
              "        const dataTable =\n",
              "          await google.colab.kernel.invokeFunction('convertToInteractive',\n",
              "                                                    [key], {});\n",
              "        if (!dataTable) return;\n",
              "\n",
              "        const docLinkHtml = 'Like what you see? Visit the ' +\n",
              "          '<a target=\"_blank\" href=https://colab.research.google.com/notebooks/data_table.ipynb>data table notebook</a>'\n",
              "          + ' to learn more about interactive tables.';\n",
              "        element.innerHTML = '';\n",
              "        dataTable['output_type'] = 'display_data';\n",
              "        await google.colab.output.renderOutput(dataTable, element);\n",
              "        const docLink = document.createElement('div');\n",
              "        docLink.innerHTML = docLinkHtml;\n",
              "        element.appendChild(docLink);\n",
              "      }\n",
              "    </script>\n",
              "  </div>\n",
              "\n",
              "\n",
              "<div id=\"df-8d92abad-c6d8-4fc5-9112-c0337ee0a21a\">\n",
              "  <button class=\"colab-df-quickchart\" onclick=\"quickchart('df-8d92abad-c6d8-4fc5-9112-c0337ee0a21a')\"\n",
              "            title=\"Suggest charts.\"\n",
              "            style=\"display:none;\">\n",
              "\n",
              "<svg xmlns=\"http://www.w3.org/2000/svg\" height=\"24px\"viewBox=\"0 0 24 24\"\n",
              "     width=\"24px\">\n",
              "    <g>\n",
              "        <path d=\"M19 3H5c-1.1 0-2 .9-2 2v14c0 1.1.9 2 2 2h14c1.1 0 2-.9 2-2V5c0-1.1-.9-2-2-2zM9 17H7v-7h2v7zm4 0h-2V7h2v10zm4 0h-2v-4h2v4z\"/>\n",
              "    </g>\n",
              "</svg>\n",
              "  </button>\n",
              "\n",
              "<style>\n",
              "  .colab-df-quickchart {\n",
              "      --bg-color: #E8F0FE;\n",
              "      --fill-color: #1967D2;\n",
              "      --hover-bg-color: #E2EBFA;\n",
              "      --hover-fill-color: #174EA6;\n",
              "      --disabled-fill-color: #AAA;\n",
              "      --disabled-bg-color: #DDD;\n",
              "  }\n",
              "\n",
              "  [theme=dark] .colab-df-quickchart {\n",
              "      --bg-color: #3B4455;\n",
              "      --fill-color: #D2E3FC;\n",
              "      --hover-bg-color: #434B5C;\n",
              "      --hover-fill-color: #FFFFFF;\n",
              "      --disabled-bg-color: #3B4455;\n",
              "      --disabled-fill-color: #666;\n",
              "  }\n",
              "\n",
              "  .colab-df-quickchart {\n",
              "    background-color: var(--bg-color);\n",
              "    border: none;\n",
              "    border-radius: 50%;\n",
              "    cursor: pointer;\n",
              "    display: none;\n",
              "    fill: var(--fill-color);\n",
              "    height: 32px;\n",
              "    padding: 0;\n",
              "    width: 32px;\n",
              "  }\n",
              "\n",
              "  .colab-df-quickchart:hover {\n",
              "    background-color: var(--hover-bg-color);\n",
              "    box-shadow: 0 1px 2px rgba(60, 64, 67, 0.3), 0 1px 3px 1px rgba(60, 64, 67, 0.15);\n",
              "    fill: var(--button-hover-fill-color);\n",
              "  }\n",
              "\n",
              "  .colab-df-quickchart-complete:disabled,\n",
              "  .colab-df-quickchart-complete:disabled:hover {\n",
              "    background-color: var(--disabled-bg-color);\n",
              "    fill: var(--disabled-fill-color);\n",
              "    box-shadow: none;\n",
              "  }\n",
              "\n",
              "  .colab-df-spinner {\n",
              "    border: 2px solid var(--fill-color);\n",
              "    border-color: transparent;\n",
              "    border-bottom-color: var(--fill-color);\n",
              "    animation:\n",
              "      spin 1s steps(1) infinite;\n",
              "  }\n",
              "\n",
              "  @keyframes spin {\n",
              "    0% {\n",
              "      border-color: transparent;\n",
              "      border-bottom-color: var(--fill-color);\n",
              "      border-left-color: var(--fill-color);\n",
              "    }\n",
              "    20% {\n",
              "      border-color: transparent;\n",
              "      border-left-color: var(--fill-color);\n",
              "      border-top-color: var(--fill-color);\n",
              "    }\n",
              "    30% {\n",
              "      border-color: transparent;\n",
              "      border-left-color: var(--fill-color);\n",
              "      border-top-color: var(--fill-color);\n",
              "      border-right-color: var(--fill-color);\n",
              "    }\n",
              "    40% {\n",
              "      border-color: transparent;\n",
              "      border-right-color: var(--fill-color);\n",
              "      border-top-color: var(--fill-color);\n",
              "    }\n",
              "    60% {\n",
              "      border-color: transparent;\n",
              "      border-right-color: var(--fill-color);\n",
              "    }\n",
              "    80% {\n",
              "      border-color: transparent;\n",
              "      border-right-color: var(--fill-color);\n",
              "      border-bottom-color: var(--fill-color);\n",
              "    }\n",
              "    90% {\n",
              "      border-color: transparent;\n",
              "      border-bottom-color: var(--fill-color);\n",
              "    }\n",
              "  }\n",
              "</style>\n",
              "\n",
              "  <script>\n",
              "    async function quickchart(key) {\n",
              "      const quickchartButtonEl =\n",
              "        document.querySelector('#' + key + ' button');\n",
              "      quickchartButtonEl.disabled = true;  // To prevent multiple clicks.\n",
              "      quickchartButtonEl.classList.add('colab-df-spinner');\n",
              "      try {\n",
              "        const charts = await google.colab.kernel.invokeFunction(\n",
              "            'suggestCharts', [key], {});\n",
              "      } catch (error) {\n",
              "        console.error('Error during call to suggestCharts:', error);\n",
              "      }\n",
              "      quickchartButtonEl.classList.remove('colab-df-spinner');\n",
              "      quickchartButtonEl.classList.add('colab-df-quickchart-complete');\n",
              "    }\n",
              "    (() => {\n",
              "      let quickchartButtonEl =\n",
              "        document.querySelector('#df-8d92abad-c6d8-4fc5-9112-c0337ee0a21a button');\n",
              "      quickchartButtonEl.style.display =\n",
              "        google.colab.kernel.accessAllowed ? 'block' : 'none';\n",
              "    })();\n",
              "  </script>\n",
              "</div>\n",
              "    </div>\n",
              "  </div>\n"
            ]
          },
          "metadata": {},
          "execution_count": 126
        }
      ],
      "source": [
        "train_df.head()"
      ]
    },
    {
      "cell_type": "code",
      "execution_count": 127,
      "metadata": {
        "colab": {
          "base_uri": "https://localhost:8080/"
        },
        "id": "mdjkYaUgDRFy",
        "outputId": "67c7ac3a-93d2-4da7-aad1-467703ae104e"
      },
      "outputs": [
        {
          "output_type": "execute_result",
          "data": {
            "text/plain": [
              "0    29720\n",
              "1     2242\n",
              "Name: label, dtype: int64"
            ]
          },
          "metadata": {},
          "execution_count": 127
        }
      ],
      "source": [
        "train_df.label.value_counts()"
      ]
    },
    {
      "cell_type": "code",
      "execution_count": 128,
      "metadata": {
        "colab": {
          "base_uri": "https://localhost:8080/"
        },
        "id": "TG9u7y-uDRF0",
        "outputId": "08788dcd-5e86-4d4f-ab45-3429788df9b1"
      },
      "outputs": [
        {
          "output_type": "execute_result",
          "data": {
            "text/plain": [
              "((23971, 3), (7991, 3))"
            ]
          },
          "metadata": {},
          "execution_count": 128
        }
      ],
      "source": [
        "X_train, X_valid = train_test_split(train_df, test_size=0.25, random_state=42)\n",
        "X_train.shape, X_valid.shape"
      ]
    },
    {
      "cell_type": "code",
      "execution_count": 129,
      "metadata": {
        "scrolled": true,
        "colab": {
          "base_uri": "https://localhost:8080/"
        },
        "id": "6gvqu_0mDRF1",
        "outputId": "049f60a8-6732-472e-8b33-929ba475f701"
      },
      "outputs": [
        {
          "output_type": "execute_result",
          "data": {
            "text/plain": [
              "0    22288\n",
              "1     1683\n",
              "Name: label, dtype: int64"
            ]
          },
          "metadata": {},
          "execution_count": 129
        }
      ],
      "source": [
        "X_train.label.value_counts()"
      ]
    },
    {
      "cell_type": "code",
      "execution_count": 130,
      "metadata": {
        "colab": {
          "base_uri": "https://localhost:8080/"
        },
        "id": "UoZo60ytDRF3",
        "outputId": "0f749e58-2a45-447a-a1c8-fd4f0e1c1042"
      },
      "outputs": [
        {
          "output_type": "execute_result",
          "data": {
            "text/plain": [
              "0    7432\n",
              "1     559\n",
              "Name: label, dtype: int64"
            ]
          },
          "metadata": {},
          "execution_count": 130
        }
      ],
      "source": [
        "X_valid.label.value_counts()"
      ]
    },
    {
      "cell_type": "code",
      "execution_count": 131,
      "metadata": {
        "id": "ISs3Tb22DRF5"
      },
      "outputs": [],
      "source": [
        "sw = set(get_stop_words(\"en\"))\n",
        "# sw"
      ]
    },
    {
      "cell_type": "code",
      "execution_count": 132,
      "metadata": {
        "id": "9v46D6PjDRF7"
      },
      "outputs": [],
      "source": [
        "puncts = set(punctuation)\n",
        "# puncts"
      ]
    },
    {
      "cell_type": "code",
      "execution_count": 133,
      "metadata": {
        "colab": {
          "base_uri": "https://localhost:8080/",
          "height": 36
        },
        "id": "d78-zROlDRF9",
        "outputId": "7159c959-28e5-4cd2-95bb-91b3abad430f"
      },
      "outputs": [
        {
          "output_type": "execute_result",
          "data": {
            "text/plain": [
              "'dog'"
            ],
            "application/vnd.google.colaboratory.intrinsic+json": {
              "type": "string"
            }
          },
          "metadata": {},
          "execution_count": 133
        }
      ],
      "source": [
        "# morpher = MorphAnalyzer() # это для русского\n",
        "morpher = WordNetLemmatizer()\n",
        "morpher.lemmatize('dogs')"
      ]
    },
    {
      "cell_type": "code",
      "execution_count": 134,
      "metadata": {
        "id": "j7SYeLmoDRGX"
      },
      "outputs": [],
      "source": [
        "def preprocess_text(txt):\n",
        "    txt = str(txt)\n",
        "    txt = \"\".join(c for c in txt if c not in puncts)\n",
        "    txt = txt.lower()\n",
        "#     txt = re.sub(\"не\\s\", \"не\", txt)\n",
        "    txt = [morpher.lemmatize(word) for word in txt.split() if word not in sw]\n",
        "    return \" \".join(txt)"
      ]
    },
    {
      "cell_type": "code",
      "execution_count": 135,
      "metadata": {
        "id": "vSmdCge9DRGZ"
      },
      "outputs": [],
      "source": [
        "# train_df.tweet.iloc[:1].values"
      ]
    },
    {
      "cell_type": "code",
      "execution_count": 136,
      "metadata": {
        "id": "EkyxIQZRDRGa"
      },
      "outputs": [],
      "source": [
        "# train_df.tweet.iloc[:1].apply(preprocess_text).values"
      ]
    },
    {
      "cell_type": "code",
      "execution_count": 137,
      "metadata": {
        "colab": {
          "base_uri": "https://localhost:8080/"
        },
        "id": "VsEF7VWvDRGb",
        "outputId": "e3019f0f-068b-482a-855e-3afe2a9971a9"
      },
      "outputs": [
        {
          "output_type": "stream",
          "name": "stderr",
          "text": [
            "100%|██████████| 23971/23971 [00:02<00:00, 8833.58it/s] \n",
            "100%|██████████| 7991/7991 [00:00<00:00, 18426.37it/s]\n"
          ]
        }
      ],
      "source": [
        "from tqdm import tqdm\n",
        "tqdm.pandas()\n",
        "\n",
        "X_train.tweet = X_train.tweet.progress_apply(preprocess_text)\n",
        "X_valid.tweet = X_valid.tweet.progress_apply(preprocess_text)"
      ]
    },
    {
      "cell_type": "code",
      "execution_count": 138,
      "metadata": {
        "colab": {
          "base_uri": "https://localhost:8080/"
        },
        "id": "QN-GCjjvDRGc",
        "outputId": "2fa617a5-5794-48d0-e9e6-fcc88b269ef8"
      },
      "outputs": [
        {
          "output_type": "execute_result",
          "data": {
            "text/plain": [
              "['weekend', 'world', 'really', 'going', 'bonkers']"
            ]
          },
          "metadata": {},
          "execution_count": 138
        }
      ],
      "source": [
        "train_corpus = \" \".join(X_train.tweet)\n",
        "train_corpus = train_corpus.lower()\n",
        "tokens = word_tokenize(train_corpus)\n",
        "tokens[:5]"
      ]
    },
    {
      "cell_type": "code",
      "execution_count": 139,
      "metadata": {
        "id": "D6rOOq70DRGd"
      },
      "outputs": [],
      "source": [
        "# Отфильтруем данные и соберём в корпус N наиболее частых токенов\n",
        "tokens_filtered = [word for word in tokens if word.isalnum()]"
      ]
    },
    {
      "cell_type": "code",
      "execution_count": 140,
      "metadata": {
        "colab": {
          "base_uri": "https://localhost:8080/"
        },
        "id": "LZmfNa6XDRGe",
        "outputId": "f26986aa-ee5b-4dda-abd7-61e665f24db6"
      },
      "outputs": [
        {
          "output_type": "execute_result",
          "data": {
            "text/plain": [
              "999"
            ]
          },
          "metadata": {},
          "execution_count": 140
        }
      ],
      "source": [
        "from nltk.probability import FreqDist\n",
        "\n",
        "dist = FreqDist(tokens_filtered)\n",
        "tokens_filtered_top = [pair[0] for pair in dist.most_common(max_words-1)]  # вычитание 1 для padding\n",
        "len(tokens_filtered_top)"
      ]
    },
    {
      "cell_type": "code",
      "execution_count": 141,
      "metadata": {
        "colab": {
          "base_uri": "https://localhost:8080/"
        },
        "id": "ssk0Zm3EDRGf",
        "outputId": "a4cf566e-8143-4388-d48c-443132161ebc"
      },
      "outputs": [
        {
          "output_type": "execute_result",
          "data": {
            "text/plain": [
              "['user', 'love', 'day', 'u', 'happy', 'amp', 'just', 'will', 'time', 'life']"
            ]
          },
          "metadata": {},
          "execution_count": 141
        }
      ],
      "source": [
        "tokens_filtered_top[:10]"
      ]
    },
    {
      "cell_type": "code",
      "execution_count": 142,
      "metadata": {
        "scrolled": false,
        "id": "Mgc-I4sDDRGg"
      },
      "outputs": [],
      "source": [
        "vocabulary = {v: k for k, v in dict(enumerate(tokens_filtered_top, 1)).items()}\n",
        "# vocabulary"
      ]
    },
    {
      "cell_type": "code",
      "execution_count": 143,
      "metadata": {
        "id": "asTnf5sNDRGh"
      },
      "outputs": [],
      "source": [
        "def text_to_sequence(text, maxlen):\n",
        "\n",
        "    result = []\n",
        "    tokens = word_tokenize(text.lower())\n",
        "    tokens_filtered = [word for word in tokens if word.isalnum()] # проверка чтобы токен был либо буквенный либо символьный\n",
        "    for word in tokens_filtered:\n",
        "        if word in vocabulary:\n",
        "            result.append(vocabulary[word])\n",
        "\n",
        "    padding = [0] * (maxlen-len(result))\n",
        "\n",
        "    return result[-maxlen:] + padding"
      ]
    },
    {
      "cell_type": "code",
      "execution_count": 144,
      "metadata": {
        "colab": {
          "base_uri": "https://localhost:8080/"
        },
        "id": "bV703nZqDRGi",
        "outputId": "08f1c571-b65b-49e9-cf16-be6dd3aa9fc9"
      },
      "outputs": [
        {
          "output_type": "execute_result",
          "data": {
            "text/plain": [
              "((23971, 10), (7991, 10))"
            ]
          },
          "metadata": {},
          "execution_count": 144
        }
      ],
      "source": [
        "x_train = np.asarray([text_to_sequence(text, max_len) for text in X_train.tweet])\n",
        "x_val = np.asarray([text_to_sequence(text, max_len) for text in X_valid.tweet])\n",
        "\n",
        "x_train.shape, x_val.shape"
      ]
    },
    {
      "cell_type": "code",
      "execution_count": 145,
      "metadata": {
        "colab": {
          "base_uri": "https://localhost:8080/",
          "height": 36
        },
        "id": "B1u4IAOtDRGj",
        "outputId": "3a86e172-4753-4425-d92b-74f5ec1c0134"
      },
      "outputs": [
        {
          "output_type": "execute_result",
          "data": {
            "text/plain": [
              "' @user when a father is dysfunctional and is so selfish he drags his kids into his dysfunction.   #run'"
            ],
            "application/vnd.google.colaboratory.intrinsic+json": {
              "type": "string"
            }
          },
          "metadata": {},
          "execution_count": 145
        }
      ],
      "source": [
        "train_df.tweet.iloc[0]"
      ]
    },
    {
      "cell_type": "code",
      "execution_count": 146,
      "metadata": {
        "scrolled": true,
        "colab": {
          "base_uri": "https://localhost:8080/"
        },
        "id": "6F6EqPNaDRGk",
        "outputId": "d4778664-fcd6-4311-c560-61696c42cf6d"
      },
      "outputs": [
        {
          "output_type": "execute_result",
          "data": {
            "text/plain": [
              "array([35,  0,  0,  0,  0,  0,  0,  0,  0,  0])"
            ]
          },
          "metadata": {},
          "execution_count": 146
        }
      ],
      "source": [
        "x_train[0]"
      ]
    },
    {
      "cell_type": "code",
      "execution_count": 147,
      "metadata": {
        "id": "MmJY4DtdDRGl"
      },
      "outputs": [],
      "source": [
        "# class Net(nn.Module):\n",
        "#     def __init__(self, vocab_size=2000, embedding_dim=64, out_channel=64, num_classes=1):\n",
        "#         super().__init__()\n",
        "#         self.embedding = nn.Embedding(vocab_size, embedding_dim)\n",
        "#         self.conv_1 = nn.Conv1d(embedding_dim, out_channel, kernel_size=2)\n",
        "#         self.conv_2 = nn.Conv1d(embedding_dim, out_channel, kernel_size=3)\n",
        "#         self.pool = nn.MaxPool1d(2)\n",
        "#         self.relu = nn.ReLU()\n",
        "#         self.linear_1 = nn.Linear(out_channel, out_channel // 2)\n",
        "#         self.linear_2 = nn.Linear(out_channel // 2, num_classes)\n",
        "\n",
        "#     def forward(self, x):\n",
        "#         output = self.embedding(x) # B, L, E\n",
        "#         #                       B  E  L\n",
        "#         output = output.permute(0, 2, 1)\n",
        "#         output = self.conv_1(output)\n",
        "#         output = self.relu(output)\n",
        "#         output = self.pool(output)\n",
        "\n",
        "#         output = self.conv_2(output)\n",
        "#         output = self.relu(output)\n",
        "#         output = self.pool(output)\n",
        "#         output = torch.max(output, axis=2).values\n",
        "#         output = self.linear_1(output)\n",
        "#         output = self.relu(output)\n",
        "#         output = self.linear_2(output)\n",
        "#         output = F.sigmoid(output)\n",
        "#         return output"
      ]
    },
    {
      "cell_type": "code",
      "execution_count": 148,
      "metadata": {
        "id": "rA_J2JoODRGm"
      },
      "outputs": [],
      "source": [
        "class GRUFixedLen(nn.Module) :\n",
        "    def __init__(self, vocab_size, embedding_dim=128, hidden_dim=128, drop_prob=0.1, use_last=True):\n",
        "        super().__init__()\n",
        "        self.use_last = use_last\n",
        "        self.embeddings = nn.Embedding(vocab_size, embedding_dim, padding_idx=0)\n",
        "        self.gru = nn.GRU(embedding_dim, hidden_dim, num_layers=2, batch_first=True, dropout=drop_prob)\n",
        "        self.linear = nn.Linear(hidden_dim, 1)\n",
        "#         self.dropout = nn.Dropout(drop_prob)\n",
        "\n",
        "    def forward(self, x):\n",
        "        x = self.embeddings(x)\n",
        "#         x = self.dropout(x)\n",
        "        gru_out, ht = self.gru(x)\n",
        "\n",
        "        if self.use_last:\n",
        "            last_tensor = gru_out[:,-1,:]\n",
        "        else:\n",
        "            # use mean\n",
        "            last_tensor = torch.mean(gru_out[:,:], dim=1)\n",
        "\n",
        "        out = self.linear(last_tensor)\n",
        "        return torch.sigmoid(out)"
      ]
    },
    {
      "cell_type": "code",
      "execution_count": 149,
      "metadata": {
        "id": "AANrapwaDRGn"
      },
      "outputs": [],
      "source": [
        "class DataWrapper(Dataset):\n",
        "    def __init__(self, data, target, transform=None):\n",
        "        self.data = torch.from_numpy(data).long() # если индексы инты то делать лучше лонг - иначе может сломаться вдруг -\n",
        "        # так как на инт меньше памяти выделяется на каждое значение и может переполниться\n",
        "        self.target = torch.from_numpy(target).long() # какие то ф-и потерь на интах не считается - а только на лонгах\n",
        "        self.transform = transform\n",
        "\n",
        "    def __getitem__(self, index):\n",
        "        x = self.data[index]\n",
        "        y = self.target[index]\n",
        "\n",
        "        if self.transform:\n",
        "            x = self.transform(x)\n",
        "\n",
        "        return x, y\n",
        "\n",
        "    def __len__(self):\n",
        "        return len(self.data)"
      ]
    },
    {
      "cell_type": "code",
      "execution_count": 150,
      "metadata": {
        "id": "8GwvH_NrDRGo"
      },
      "outputs": [],
      "source": [
        "train_dataset = DataWrapper(x_train, X_train.label.values)\n",
        "train_loader = DataLoader(train_dataset, batch_size=batch_size, shuffle=True)\n",
        "\n",
        "val_dataset = DataWrapper(x_val, X_valid.label.values)\n",
        "val_loader = DataLoader(val_dataset, batch_size=8, shuffle=True)"
      ]
    },
    {
      "cell_type": "code",
      "source": [
        "n_epochs = [5, 10]\n",
        "learning_rates = [1e-2, 1e-3]\n",
        "e_dims = [128, 256]\n",
        "h_dims = [64, 96]\n",
        "ths = [0.3, 0.5]\n",
        "dps = [0.1, 0.2, 0.3]"
      ],
      "metadata": {
        "id": "4TLLTrD_T-S2"
      },
      "execution_count": 151,
      "outputs": []
    },
    {
      "cell_type": "code",
      "execution_count": 152,
      "metadata": {
        "colab": {
          "base_uri": "https://localhost:8080/"
        },
        "id": "4bHRlPpvDRGq",
        "outputId": "86563168-a2fb-486a-9a15-c1daaf12da7d"
      },
      "outputs": [
        {
          "output_type": "stream",
          "name": "stdout",
          "text": [
            "torch.Size([512, 10])\n",
            "torch.Size([512])\n",
            "tensor(0)\n"
          ]
        }
      ],
      "source": [
        "for x, l in train_loader:\n",
        "    print(x.shape)\n",
        "    print(l.shape)\n",
        "    print(l[0])\n",
        "    break"
      ]
    },
    {
      "cell_type": "code",
      "execution_count": 153,
      "metadata": {
        "colab": {
          "base_uri": "https://localhost:8080/"
        },
        "id": "_0O-jePpDRGp",
        "outputId": "081730a6-a432-400f-d512-a59af22c4ce2"
      },
      "outputs": [
        {
          "output_type": "execute_result",
          "data": {
            "text/plain": [
              "<torch.utils.data.sampler.RandomSampler at 0x7f37738f6110>"
            ]
          },
          "metadata": {},
          "execution_count": 153
        }
      ],
      "source": [
        "train_loader.sampler"
      ]
    },
    {
      "cell_type": "code",
      "execution_count": 157,
      "metadata": {
        "id": "52k_3UJ4DRGt"
      },
      "outputs": [],
      "source": [
        "model = GRUFixedLen(max_words)\n",
        "optimizer = torch.optim.Adam(model.parameters(), lr=0.001)\n",
        "criterion = nn.BCELoss()"
      ]
    },
    {
      "cell_type": "code",
      "execution_count": 158,
      "metadata": {
        "scrolled": true,
        "colab": {
          "base_uri": "https://localhost:8080/"
        },
        "id": "N4Kvpl_mDRGu",
        "outputId": "e41ab5ec-8810-4ae0-801e-231bfe324edd"
      },
      "outputs": [
        {
          "output_type": "stream",
          "name": "stdout",
          "text": [
            "GRUFixedLen(\n",
            "  (embeddings): Embedding(1000, 128, padding_idx=0)\n",
            "  (gru): GRU(128, 128, num_layers=2, batch_first=True, dropout=0.1)\n",
            "  (linear): Linear(in_features=128, out_features=1, bias=True)\n",
            ")\n",
            "Parameters: 326273\n"
          ]
        }
      ],
      "source": [
        "print(model)\n",
        "print(\"Parameters:\", sum([param.nelement() for param in model.parameters()]))"
      ]
    },
    {
      "cell_type": "code",
      "source": [
        "for epochs in n_epochs:\n",
        "    for lr in learning_rates:\n",
        "        for embedding_dim in e_dims:\n",
        "            for hidden_dim in h_dims:\n",
        "                for th in ths:\n",
        "                    for dp in dps:\n",
        "\n",
        "                        print(f'Hyper params: epochs - {epochs}, learning_rate - {lr}, '\n",
        "                             f'embedding_dim - {embedding_dim}, hidden_dim - {hidden_dim}, '\n",
        "                             f'threshold_level - {th}, drop_prob - {dp}.')\n",
        "                        model = GRUFixedLen(vocab_size=max_words,\n",
        "                                             embedding_dim=embedding_dim, hidden_dim=hidden_dim,\n",
        "                                             drop_prob=dp, use_last=False)\n",
        "                        optimizer = torch.optim.Adam(model.parameters(), lr=lr)\n",
        "\n",
        "                        model.train()\n",
        "                        th = th\n",
        "\n",
        "                        train_loss_history = []\n",
        "                        test_loss_history = []\n",
        "\n",
        "\n",
        "                        for epoch in range(epochs):\n",
        "                            running_items, running_right = 0.0, 0.0\n",
        "                            for i, data in enumerate(train_loader, 0):\n",
        "                                inputs, labels = data[0], data[1]\n",
        "\n",
        "                                # обнуляем градиент\n",
        "                                optimizer.zero_grad()\n",
        "                                outputs = model(inputs)\n",
        "\n",
        "                                loss = criterion(outputs, labels.float().view(-1, 1))\n",
        "                                loss.backward()\n",
        "                                optimizer.step()\n",
        "\n",
        "                                # подсчет ошибки на обучении\n",
        "                                loss = loss.item()\n",
        "                                running_items += len(labels)\n",
        "                                # подсчет метрики на обучении\n",
        "                                pred_labels = torch.squeeze((outputs > th).int())\n",
        "                                running_right += (labels == pred_labels).sum()\n",
        "\n",
        "                            # выводим статистику о процессе обучения\n",
        "                            model.eval()\n",
        "\n",
        "                            print(f'Epoch [{epoch + 1}/{epochs}]. ' \\\n",
        "                                    f'Step [{i + 1}/{len(train_loader)}]. ' \\\n",
        "                                    f'Loss: {loss:.3f}. ' \\\n",
        "                                    f'Acc: {running_right / running_items:.3f}', end='. ')\n",
        "                            running_loss, running_items, running_right = 0.0, 0.0, 0.0\n",
        "                            train_loss_history.append(loss)\n",
        "\n",
        "                                # выводим статистику на тестовых данных\n",
        "                            test_running_right, test_running_total, test_loss = 0.0, 0.0, 0.0\n",
        "                            for j, data in enumerate(val_loader):\n",
        "                                test_labels = data[1].to(device)\n",
        "                                test_outputs = model(data[0].to(device))\n",
        "\n",
        "                                # подсчет ошибки на тесте\n",
        "                                test_loss = criterion(test_outputs, test_labels.float().view(-1, 1))\n",
        "                                # подсчет метрики на тесте\n",
        "                                test_running_total += len(data[1])\n",
        "                                pred_test_labels = torch.squeeze((test_outputs > th).int())\n",
        "                                test_running_right += (test_labels == pred_test_labels).sum()\n",
        "\n",
        "                            test_loss_history.append(test_loss.item())\n",
        "                            print(f'Test loss: {test_loss:.3f}.'\n",
        "                                  f'Test acc: {test_running_right / test_running_total:.3f}')\n",
        "\n",
        "                            model.train()\n",
        "\n",
        "                        print('Training is finished!')"
      ],
      "metadata": {
        "colab": {
          "base_uri": "https://localhost:8080/",
          "height": 1000
        },
        "id": "msx64jGOTtku",
        "outputId": "b06798ee-cd1c-4378-9ce1-781d455bd7cf"
      },
      "execution_count": 159,
      "outputs": [
        {
          "output_type": "stream",
          "name": "stdout",
          "text": [
            "Hyper params: epochs - 5, learning_rate - 0.01, embedding_dim - 128, hidden_dim - 64, threshold_level - 0.3, drop_prob - 0.1.\n",
            "Epoch [1/5]. Step [47/47]. Loss: 0.169. Acc: 0.897. Test loss: 0.178.Test acc: 0.944\n",
            "Epoch [2/5]. Step [47/47]. Loss: 0.130. Acc: 0.946. Test loss: 0.070.Test acc: 0.935\n",
            "Epoch [3/5]. Step [47/47]. Loss: 0.136. Acc: 0.953. Test loss: 0.221.Test acc: 0.940\n",
            "Epoch [4/5]. Step [47/47]. Loss: 0.091. Acc: 0.960. Test loss: 0.016.Test acc: 0.935\n",
            "Epoch [5/5]. Step [47/47]. Loss: 0.096. Acc: 0.968. Test loss: 0.849.Test acc: 0.938\n",
            "Training is finished!\n",
            "Hyper params: epochs - 5, learning_rate - 0.01, embedding_dim - 128, hidden_dim - 64, threshold_level - 0.3, drop_prob - 0.2.\n",
            "Epoch [1/5]. Step [47/47]. Loss: 0.163. Acc: 0.896. Test loss: 1.318.Test acc: 0.940\n",
            "Epoch [2/5]. Step [47/47]. Loss: 0.121. Acc: 0.948. Test loss: 0.063.Test acc: 0.936\n",
            "Epoch [3/5]. Step [47/47]. Loss: 0.136. Acc: 0.953. Test loss: 0.119.Test acc: 0.943\n",
            "Epoch [4/5]. Step [47/47]. Loss: 0.127. Acc: 0.962. Test loss: 0.005.Test acc: 0.936\n",
            "Epoch [5/5]. Step [47/47]. Loss: 0.114. Acc: 0.971. Test loss: 0.008.Test acc: 0.937\n",
            "Training is finished!\n",
            "Hyper params: epochs - 5, learning_rate - 0.01, embedding_dim - 128, hidden_dim - 64, threshold_level - 0.3, drop_prob - 0.3.\n",
            "Epoch [1/5]. Step [47/47]. Loss: 0.186. Acc: 0.896. Test loss: 0.018.Test acc: 0.933\n",
            "Epoch [2/5]. Step [47/47]. Loss: 0.150. Acc: 0.948. Test loss: 0.333.Test acc: 0.939\n",
            "Epoch [3/5]. Step [47/47]. Loss: 0.138. Acc: 0.952. Test loss: 0.029.Test acc: 0.944\n",
            "Epoch [4/5]. Step [47/47]. Loss: 0.118. Acc: 0.963. Test loss: 0.213.Test acc: 0.939\n",
            "Epoch [5/5]. Step [47/47]. Loss: 0.049. Acc: 0.970. Test loss: 0.087.Test acc: 0.936\n",
            "Training is finished!\n",
            "Hyper params: epochs - 5, learning_rate - 0.01, embedding_dim - 128, hidden_dim - 64, threshold_level - 0.5, drop_prob - 0.1.\n",
            "Epoch [1/5]. Step [47/47]. Loss: 0.140. Acc: 0.924. Test loss: 0.024.Test acc: 0.944\n",
            "Epoch [2/5]. Step [47/47]. Loss: 0.147. Acc: 0.952. Test loss: 0.023.Test acc: 0.947\n",
            "Epoch [3/5]. Step [47/47]. Loss: 0.131. Acc: 0.958. Test loss: 0.013.Test acc: 0.948\n",
            "Epoch [4/5]. Step [47/47]. Loss: 0.119. Acc: 0.964. Test loss: 0.001.Test acc: 0.948\n",
            "Epoch [5/5]. Step [47/47]. Loss: 0.119. Acc: 0.971. Test loss: 0.019.Test acc: 0.943\n",
            "Training is finished!\n",
            "Hyper params: epochs - 5, learning_rate - 0.01, embedding_dim - 128, hidden_dim - 64, threshold_level - 0.5, drop_prob - 0.2.\n",
            "Epoch [1/5]. Step [47/47]. Loss: 0.145. Acc: 0.921. Test loss: 0.104.Test acc: 0.944\n",
            "Epoch [2/5]. Step [47/47]. Loss: 0.144. Acc: 0.950. Test loss: 0.012.Test acc: 0.949\n",
            "Epoch [3/5]. Step [47/47]. Loss: 0.205. Acc: 0.958. Test loss: 0.197.Test acc: 0.948\n",
            "Epoch [4/5]. Step [47/47]. Loss: 0.134. Acc: 0.964. Test loss: 0.260.Test acc: 0.946\n",
            "Epoch [5/5]. Step [47/47]. Loss: 0.097. Acc: 0.971. Test loss: 0.190.Test acc: 0.947\n",
            "Training is finished!\n",
            "Hyper params: epochs - 5, learning_rate - 0.01, embedding_dim - 128, hidden_dim - 64, threshold_level - 0.5, drop_prob - 0.3.\n",
            "Epoch [1/5]. Step [47/47]. Loss: 0.151. Acc: 0.932. Test loss: 0.046.Test acc: 0.950\n",
            "Epoch [2/5]. Step [47/47]. Loss: 0.161. Acc: 0.951. Test loss: 0.034.Test acc: 0.949\n",
            "Epoch [3/5]. Step [47/47]. Loss: 0.116. Acc: 0.958. Test loss: 0.022.Test acc: 0.947\n",
            "Epoch [4/5]. Step [47/47]. Loss: 0.102. Acc: 0.965. Test loss: 0.009.Test acc: 0.939\n",
            "Epoch [5/5]. Step [47/47]. Loss: 0.073. Acc: 0.973. Test loss: 0.044.Test acc: 0.945\n",
            "Training is finished!\n",
            "Hyper params: epochs - 5, learning_rate - 0.01, embedding_dim - 128, hidden_dim - 96, threshold_level - 0.3, drop_prob - 0.1.\n",
            "Epoch [1/5]. Step [47/47]. Loss: 0.142. Acc: 0.904. Test loss: 0.642.Test acc: 0.937\n",
            "Epoch [2/5]. Step [47/47]. Loss: 0.128. Acc: 0.947. Test loss: 0.081.Test acc: 0.945\n",
            "Epoch [3/5]. Step [47/47]. Loss: 0.128. Acc: 0.955. Test loss: 0.013.Test acc: 0.945\n",
            "Epoch [4/5]. Step [47/47]. Loss: 0.119. Acc: 0.963. Test loss: 0.012.Test acc: 0.937\n",
            "Epoch [5/5]. Step [47/47]. Loss: 0.092. Acc: 0.971. Test loss: 0.792.Test acc: 0.944\n",
            "Training is finished!\n",
            "Hyper params: epochs - 5, learning_rate - 0.01, embedding_dim - 128, hidden_dim - 96, threshold_level - 0.3, drop_prob - 0.2.\n",
            "Epoch [1/5]. Step [47/47]. Loss: 0.202. Acc: 0.902. Test loss: 0.174.Test acc: 0.938\n",
            "Epoch [2/5]. Step [47/47]. Loss: 0.191. Acc: 0.947. Test loss: 0.555.Test acc: 0.939\n",
            "Epoch [3/5]. Step [47/47]. Loss: 0.146. Acc: 0.952. Test loss: 0.124.Test acc: 0.941\n",
            "Epoch [4/5]. Step [47/47]. Loss: 0.109. Acc: 0.962. Test loss: 0.002.Test acc: 0.938\n",
            "Epoch [5/5]. Step [47/47]. Loss: 0.048. Acc: 0.971. Test loss: 0.664.Test acc: 0.940\n",
            "Training is finished!\n",
            "Hyper params: epochs - 5, learning_rate - 0.01, embedding_dim - 128, hidden_dim - 96, threshold_level - 0.3, drop_prob - 0.3.\n",
            "Epoch [1/5]. Step [47/47]. Loss: 0.275. Acc: 0.902. Test loss: 0.021.Test acc: 0.941\n",
            "Epoch [2/5]. Step [47/47]. Loss: 0.154. Acc: 0.948. Test loss: 0.016.Test acc: 0.934\n",
            "Epoch [3/5]. Step [47/47]. Loss: 0.103. Acc: 0.954. Test loss: 0.093.Test acc: 0.943\n",
            "Epoch [4/5]. Step [47/47]. Loss: 0.126. Acc: 0.960. Test loss: 0.043.Test acc: 0.942\n",
            "Epoch [5/5]. Step [47/47]. Loss: 0.083. Acc: 0.966. Test loss: 0.010.Test acc: 0.949\n",
            "Training is finished!\n",
            "Hyper params: epochs - 5, learning_rate - 0.01, embedding_dim - 128, hidden_dim - 96, threshold_level - 0.5, drop_prob - 0.1.\n",
            "Epoch [1/5]. Step [47/47]. Loss: 0.162. Acc: 0.940. Test loss: 0.111.Test acc: 0.946\n",
            "Epoch [2/5]. Step [47/47]. Loss: 0.165. Acc: 0.952. Test loss: 0.007.Test acc: 0.948\n",
            "Epoch [3/5]. Step [47/47]. Loss: 0.129. Acc: 0.960. Test loss: 0.213.Test acc: 0.948\n",
            "Epoch [4/5]. Step [47/47]. Loss: 0.088. Acc: 0.969. Test loss: 0.304.Test acc: 0.944\n",
            "Epoch [5/5]. Step [47/47]. Loss: 0.086. Acc: 0.974. Test loss: 0.014.Test acc: 0.945\n",
            "Training is finished!\n",
            "Hyper params: epochs - 5, learning_rate - 0.01, embedding_dim - 128, hidden_dim - 96, threshold_level - 0.5, drop_prob - 0.2.\n",
            "Epoch [1/5]. Step [47/47]. Loss: 0.172. Acc: 0.938. Test loss: 0.673.Test acc: 0.946\n",
            "Epoch [2/5]. Step [47/47]. Loss: 0.133. Acc: 0.953. Test loss: 0.555.Test acc: 0.946\n",
            "Epoch [3/5]. Step [47/47]. Loss: 0.110. Acc: 0.959. Test loss: 0.205.Test acc: 0.946\n",
            "Epoch [4/5]. Step [47/47]. Loss: 0.100. Acc: 0.966. Test loss: 0.012.Test acc: 0.944\n",
            "Epoch [5/5]. Step [47/47]. Loss: 0.068. Acc: 0.973. Test loss: 0.019.Test acc: 0.947\n",
            "Training is finished!\n",
            "Hyper params: epochs - 5, learning_rate - 0.01, embedding_dim - 128, hidden_dim - 96, threshold_level - 0.5, drop_prob - 0.3.\n",
            "Epoch [1/5]. Step [47/47]. Loss: 0.138. Acc: 0.940. Test loss: 0.157.Test acc: 0.944\n",
            "Epoch [2/5]. Step [47/47]. Loss: 0.208. Acc: 0.952. Test loss: 0.042.Test acc: 0.947\n",
            "Epoch [3/5]. Step [47/47]. Loss: 0.119. Acc: 0.958. Test loss: 0.031.Test acc: 0.949\n",
            "Epoch [4/5]. Step [47/47]. Loss: 0.105. Acc: 0.965. Test loss: 0.046.Test acc: 0.947\n",
            "Epoch [5/5]. Step [47/47]. Loss: 0.103. Acc: 0.971. Test loss: 0.965.Test acc: 0.945\n",
            "Training is finished!\n",
            "Hyper params: epochs - 5, learning_rate - 0.01, embedding_dim - 256, hidden_dim - 64, threshold_level - 0.3, drop_prob - 0.1.\n",
            "Epoch [1/5]. Step [47/47]. Loss: 0.164. Acc: 0.897. Test loss: 0.055.Test acc: 0.940\n",
            "Epoch [2/5]. Step [47/47]. Loss: 0.135. Acc: 0.950. Test loss: 0.016.Test acc: 0.940\n",
            "Epoch [3/5]. Step [47/47]. Loss: 0.115. Acc: 0.958. Test loss: 0.540.Test acc: 0.938\n",
            "Epoch [4/5]. Step [47/47]. Loss: 0.096. Acc: 0.965. Test loss: 0.291.Test acc: 0.937\n",
            "Epoch [5/5]. Step [47/47]. Loss: 0.086. Acc: 0.971. Test loss: 0.003.Test acc: 0.937\n",
            "Training is finished!\n",
            "Hyper params: epochs - 5, learning_rate - 0.01, embedding_dim - 256, hidden_dim - 64, threshold_level - 0.3, drop_prob - 0.2.\n",
            "Epoch [1/5]. Step [47/47]. Loss: 0.126. Acc: 0.894. Test loss: 0.759.Test acc: 0.941\n",
            "Epoch [2/5]. Step [47/47]. Loss: 0.107. Acc: 0.948. Test loss: 0.008.Test acc: 0.942\n",
            "Epoch [3/5]. Step [47/47]. Loss: 0.097. Acc: 0.956. Test loss: 0.003.Test acc: 0.943\n",
            "Epoch [4/5]. Step [47/47]. Loss: 0.104. Acc: 0.966. Test loss: 0.015.Test acc: 0.942\n",
            "Epoch [5/5]. Step [47/47]. Loss: 0.069. Acc: 0.973. Test loss: 0.004.Test acc: 0.942\n",
            "Training is finished!\n",
            "Hyper params: epochs - 5, learning_rate - 0.01, embedding_dim - 256, hidden_dim - 64, threshold_level - 0.3, drop_prob - 0.3.\n",
            "Epoch [1/5]. Step [47/47]. Loss: 0.141. Acc: 0.897. Test loss: 0.041.Test acc: 0.943\n",
            "Epoch [2/5]. Step [47/47]. Loss: 0.134. Acc: 0.949. Test loss: 0.011.Test acc: 0.941\n",
            "Epoch [3/5]. Step [47/47]. Loss: 0.128. Acc: 0.958. Test loss: 0.069.Test acc: 0.943\n",
            "Epoch [4/5]. Step [47/47]. Loss: 0.065. Acc: 0.964. Test loss: 0.053.Test acc: 0.943\n",
            "Epoch [5/5]. Step [47/47]. Loss: 0.061. Acc: 0.971. Test loss: 0.140.Test acc: 0.936\n",
            "Training is finished!\n",
            "Hyper params: epochs - 5, learning_rate - 0.01, embedding_dim - 256, hidden_dim - 64, threshold_level - 0.5, drop_prob - 0.1.\n",
            "Epoch [1/5]. Step [47/47]. Loss: 0.234. Acc: 0.940. Test loss: 0.408.Test acc: 0.945\n",
            "Epoch [2/5]. Step [47/47]. Loss: 0.130. Acc: 0.953. Test loss: 0.037.Test acc: 0.949\n",
            "Epoch [3/5]. Step [47/47]. Loss: 0.087. Acc: 0.962. Test loss: 0.872.Test acc: 0.948\n",
            "Epoch [4/5]. Step [47/47]. Loss: 0.107. Acc: 0.968. Test loss: 0.018.Test acc: 0.948\n",
            "Epoch [5/5]. Step [47/47]. Loss: 0.064. Acc: 0.974. Test loss: 0.121.Test acc: 0.938\n",
            "Training is finished!\n",
            "Hyper params: epochs - 5, learning_rate - 0.01, embedding_dim - 256, hidden_dim - 64, threshold_level - 0.5, drop_prob - 0.2.\n",
            "Epoch [1/5]. Step [47/47]. Loss: 0.159. Acc: 0.921. Test loss: 0.025.Test acc: 0.944\n",
            "Epoch [2/5]. Step [47/47]. Loss: 0.104. Acc: 0.953. Test loss: 0.648.Test acc: 0.948\n",
            "Epoch [3/5]. Step [47/47]. Loss: 0.072. Acc: 0.962. Test loss: 0.428.Test acc: 0.947\n",
            "Epoch [4/5]. Step [47/47]. Loss: 0.062. Acc: 0.968. Test loss: 0.350.Test acc: 0.950\n",
            "Epoch [5/5]. Step [47/47]. Loss: 0.117. Acc: 0.972. Test loss: 0.821.Test acc: 0.945\n",
            "Training is finished!\n",
            "Hyper params: epochs - 5, learning_rate - 0.01, embedding_dim - 256, hidden_dim - 64, threshold_level - 0.5, drop_prob - 0.3.\n",
            "Epoch [1/5]. Step [47/47]. Loss: 0.161. Acc: 0.935. Test loss: 0.028.Test acc: 0.946\n",
            "Epoch [2/5]. Step [47/47]. Loss: 0.098. Acc: 0.955. Test loss: 0.010.Test acc: 0.948\n",
            "Epoch [3/5]. Step [47/47]. Loss: 0.098. Acc: 0.961. Test loss: 0.601.Test acc: 0.946\n",
            "Epoch [4/5]. Step [47/47]. Loss: 0.076. Acc: 0.969. Test loss: 0.395.Test acc: 0.948\n",
            "Epoch [5/5]. Step [47/47]. Loss: 0.088. Acc: 0.976. Test loss: 0.001.Test acc: 0.943\n",
            "Training is finished!\n",
            "Hyper params: epochs - 5, learning_rate - 0.01, embedding_dim - 256, hidden_dim - 96, threshold_level - 0.3, drop_prob - 0.1.\n",
            "Epoch [1/5]. Step [47/47]. Loss: 0.166. Acc: 0.904. Test loss: 0.031.Test acc: 0.947\n",
            "Epoch [2/5]. Step [47/47]. Loss: 0.146. Acc: 0.950. Test loss: 0.231.Test acc: 0.947\n",
            "Epoch [3/5]. Step [47/47]. Loss: 0.123. Acc: 0.960. Test loss: 0.007.Test acc: 0.942\n",
            "Epoch [4/5]. Step [47/47]. Loss: 0.095. Acc: 0.966. Test loss: 0.386.Test acc: 0.934\n",
            "Epoch [5/5]. Step [47/47]. Loss: 0.049. Acc: 0.975. Test loss: 0.003.Test acc: 0.941\n",
            "Training is finished!\n",
            "Hyper params: epochs - 5, learning_rate - 0.01, embedding_dim - 256, hidden_dim - 96, threshold_level - 0.3, drop_prob - 0.2.\n",
            "Epoch [1/5]. Step [47/47]. Loss: 0.174. Acc: 0.904. Test loss: 0.020.Test acc: 0.940\n",
            "Epoch [2/5]. Step [47/47]. Loss: 0.132. Acc: 0.951. Test loss: 0.495.Test acc: 0.943\n",
            "Epoch [3/5]. Step [47/47]. Loss: 0.125. Acc: 0.960. Test loss: 0.022.Test acc: 0.934\n",
            "Epoch [4/5]. Step [47/47]. Loss: 0.101. Acc: 0.968. Test loss: 0.246.Test acc: 0.943\n",
            "Epoch [5/5]. Step [47/47]. Loss: 0.058. Acc: 0.974. Test loss: 0.121.Test acc: 0.941\n",
            "Training is finished!\n",
            "Hyper params: epochs - 5, learning_rate - 0.01, embedding_dim - 256, hidden_dim - 96, threshold_level - 0.3, drop_prob - 0.3.\n",
            "Epoch [1/5]. Step [47/47]. Loss: 0.180. Acc: 0.908. Test loss: 0.027.Test acc: 0.945\n",
            "Epoch [2/5]. Step [47/47]. Loss: 0.187. Acc: 0.951. Test loss: 0.203.Test acc: 0.938\n",
            "Epoch [3/5]. Step [47/47]. Loss: 0.115. Acc: 0.957. Test loss: 0.084.Test acc: 0.947\n",
            "Epoch [4/5]. Step [47/47]. Loss: 0.077. Acc: 0.967. Test loss: 0.031.Test acc: 0.936\n",
            "Epoch [5/5]. Step [47/47]. Loss: 0.063. Acc: 0.975. Test loss: 0.005.Test acc: 0.942\n",
            "Training is finished!\n",
            "Hyper params: epochs - 5, learning_rate - 0.01, embedding_dim - 256, hidden_dim - 96, threshold_level - 0.5, drop_prob - 0.1.\n",
            "Epoch [1/5]. Step [47/47]. Loss: 0.161. Acc: 0.927. Test loss: 0.446.Test acc: 0.948\n",
            "Epoch [2/5]. Step [47/47]. Loss: 0.153. Acc: 0.954. Test loss: 0.078.Test acc: 0.947\n",
            "Epoch [3/5]. Step [47/47]. Loss: 0.104. Acc: 0.963. Test loss: 0.690.Test acc: 0.945\n",
            "Epoch [4/5]. Step [47/47]. Loss: 0.097. Acc: 0.970. Test loss: 0.022.Test acc: 0.945\n",
            "Epoch [5/5]. Step [47/47]. Loss: 0.073. Acc: 0.977. Test loss: 0.012.Test acc: 0.948\n",
            "Training is finished!\n",
            "Hyper params: epochs - 5, learning_rate - 0.01, embedding_dim - 256, hidden_dim - 96, threshold_level - 0.5, drop_prob - 0.2.\n",
            "Epoch [1/5]. Step [47/47]. Loss: 0.224. Acc: 0.942. Test loss: 0.584.Test acc: 0.948\n",
            "Epoch [2/5]. Step [47/47]. Loss: 0.139. Acc: 0.955. Test loss: 0.017.Test acc: 0.948\n",
            "Epoch [3/5]. Step [47/47]. Loss: 0.129. Acc: 0.964. Test loss: 0.002.Test acc: 0.948\n",
            "Epoch [4/5]. Step [47/47]. Loss: 0.073. Acc: 0.971. Test loss: 1.406.Test acc: 0.947\n",
            "Epoch [5/5]. Step [47/47]. Loss: 0.086. Acc: 0.977. Test loss: 0.015.Test acc: 0.947\n",
            "Training is finished!\n",
            "Hyper params: epochs - 5, learning_rate - 0.01, embedding_dim - 256, hidden_dim - 96, threshold_level - 0.5, drop_prob - 0.3.\n",
            "Epoch [1/5]. Step [47/47]. Loss: 0.115. Acc: 0.936. Test loss: 0.008.Test acc: 0.948\n",
            "Epoch [2/5]. Step [47/47]. Loss: 0.154. Acc: 0.954. Test loss: 0.027.Test acc: 0.949\n",
            "Epoch [3/5]. Step [47/47]. Loss: 0.107. Acc: 0.962. Test loss: 0.060.Test acc: 0.946\n",
            "Epoch [4/5]. Step [47/47]. Loss: 0.064. Acc: 0.969. Test loss: 0.551.Test acc: 0.944\n",
            "Epoch [5/5]. Step [47/47]. Loss: 0.098. Acc: 0.977. Test loss: 0.091.Test acc: 0.945\n",
            "Training is finished!\n",
            "Hyper params: epochs - 5, learning_rate - 0.001, embedding_dim - 128, hidden_dim - 64, threshold_level - 0.3, drop_prob - 0.1.\n",
            "Epoch [1/5]. Step [47/47]. Loss: 0.208. Acc: 0.674. Test loss: 0.867.Test acc: 0.929\n",
            "Epoch [2/5]. Step [47/47]. Loss: 0.156. Acc: 0.939. Test loss: 0.834.Test acc: 0.936\n",
            "Epoch [3/5]. Step [47/47]. Loss: 0.139. Acc: 0.944. Test loss: 0.021.Test acc: 0.942\n",
            "Epoch [4/5]. Step [47/47]. Loss: 0.126. Acc: 0.947. Test loss: 0.012.Test acc: 0.940\n",
            "Epoch [5/5]. Step [47/47]. Loss: 0.136. Acc: 0.950. Test loss: 0.083.Test acc: 0.943\n",
            "Training is finished!\n",
            "Hyper params: epochs - 5, learning_rate - 0.001, embedding_dim - 128, hidden_dim - 64, threshold_level - 0.3, drop_prob - 0.2.\n",
            "Epoch [1/5]. Step [47/47]. Loss: 0.208. Acc: 0.657. Test loss: 0.216.Test acc: 0.937\n",
            "Epoch [2/5]. Step [47/47]. Loss: 0.175. Acc: 0.938. Test loss: 0.055.Test acc: 0.942\n",
            "Epoch [3/5]. Step [47/47]. Loss: 0.177. Acc: 0.945. Test loss: 0.027.Test acc: 0.941\n",
            "Epoch [4/5]. Step [47/47]. Loss: 0.189. Acc: 0.948. Test loss: 0.514.Test acc: 0.937\n",
            "Epoch [5/5]. Step [47/47]. Loss: 0.150. Acc: 0.949. Test loss: 0.043.Test acc: 0.944\n",
            "Training is finished!\n",
            "Hyper params: epochs - 5, learning_rate - 0.001, embedding_dim - 128, hidden_dim - 64, threshold_level - 0.3, drop_prob - 0.3.\n",
            "Epoch [1/5]. Step [47/47]. Loss: 0.244. Acc: 0.667. Test loss: 0.062.Test acc: 0.934\n",
            "Epoch [2/5]. Step [47/47]. Loss: 0.186. Acc: 0.938. Test loss: 0.226.Test acc: 0.941\n",
            "Epoch [3/5]. Step [47/47]. Loss: 0.167. Acc: 0.945. Test loss: 0.358.Test acc: 0.943\n",
            "Epoch [4/5]. Step [47/47]. Loss: 0.123. Acc: 0.948. Test loss: 0.046.Test acc: 0.938\n",
            "Epoch [5/5]. Step [47/47]. Loss: 0.178. Acc: 0.950. Test loss: 0.130.Test acc: 0.942\n",
            "Training is finished!\n",
            "Hyper params: epochs - 5, learning_rate - 0.001, embedding_dim - 128, hidden_dim - 64, threshold_level - 0.5, drop_prob - 0.1.\n",
            "Epoch [1/5]. Step [47/47]. Loss: 0.242. Acc: 0.881. Test loss: 0.378.Test acc: 0.933\n",
            "Epoch [2/5]. Step [47/47]. Loss: 0.159. Acc: 0.940. Test loss: 0.032.Test acc: 0.942\n",
            "Epoch [3/5]. Step [47/47]. Loss: 0.166. Acc: 0.950. Test loss: 0.033.Test acc: 0.946\n",
            "Epoch [4/5]. Step [47/47]. Loss: 0.095. Acc: 0.953. Test loss: 0.097.Test acc: 0.948\n",
            "Epoch [5/5]. Step [47/47]. Loss: 0.169. Acc: 0.955. Test loss: 0.024.Test acc: 0.949\n",
            "Training is finished!\n",
            "Hyper params: epochs - 5, learning_rate - 0.001, embedding_dim - 128, hidden_dim - 64, threshold_level - 0.5, drop_prob - 0.2.\n",
            "Epoch [1/5]. Step [47/47]. Loss: 0.177. Acc: 0.895. Test loss: 0.071.Test acc: 0.935\n",
            "Epoch [2/5]. Step [47/47]. Loss: 0.218. Acc: 0.941. Test loss: 0.030.Test acc: 0.944\n",
            "Epoch [3/5]. Step [47/47]. Loss: 0.202. Acc: 0.949. Test loss: 0.043.Test acc: 0.946\n",
            "Epoch [4/5]. Step [47/47]. Loss: 0.155. Acc: 0.952. Test loss: 0.042.Test acc: 0.948\n",
            "Epoch [5/5]. Step [47/47]. Loss: 0.118. Acc: 0.954. Test loss: 0.524.Test acc: 0.947\n",
            "Training is finished!\n",
            "Hyper params: epochs - 5, learning_rate - 0.001, embedding_dim - 128, hidden_dim - 64, threshold_level - 0.5, drop_prob - 0.3.\n",
            "Epoch [1/5]. Step [47/47]. Loss: 0.291. Acc: 0.901. Test loss: 0.500.Test acc: 0.932\n",
            "Epoch [2/5]. Step [47/47]. Loss: 0.197. Acc: 0.937. Test loss: 0.052.Test acc: 0.943\n",
            "Epoch [3/5]. Step [47/47]. Loss: 0.152. Acc: 0.948. Test loss: 0.083.Test acc: 0.947\n",
            "Epoch [4/5]. Step [47/47]. Loss: 0.146. Acc: 0.951. Test loss: 0.089.Test acc: 0.947\n",
            "Epoch [5/5]. Step [47/47]. Loss: 0.126. Acc: 0.955. Test loss: 0.032.Test acc: 0.949\n",
            "Training is finished!\n",
            "Hyper params: epochs - 5, learning_rate - 0.001, embedding_dim - 128, hidden_dim - 96, threshold_level - 0.3, drop_prob - 0.1.\n",
            "Epoch [1/5]. Step [47/47]. Loss: 0.191. Acc: 0.728. Test loss: 0.302.Test acc: 0.934\n",
            "Epoch [2/5]. Step [47/47]. Loss: 0.138. Acc: 0.940. Test loss: 0.148.Test acc: 0.939\n",
            "Epoch [3/5]. Step [47/47]. Loss: 0.130. Acc: 0.942. Test loss: 0.023.Test acc: 0.943\n",
            "Epoch [4/5]. Step [47/47]. Loss: 0.128. Acc: 0.948. Test loss: 0.059.Test acc: 0.943\n",
            "Epoch [5/5]. Step [47/47]. Loss: 0.115. Acc: 0.950. Test loss: 0.028.Test acc: 0.940\n",
            "Training is finished!\n",
            "Hyper params: epochs - 5, learning_rate - 0.001, embedding_dim - 128, hidden_dim - 96, threshold_level - 0.3, drop_prob - 0.2.\n",
            "Epoch [1/5]. Step [47/47]. Loss: 0.213. Acc: 0.741. Test loss: 0.111.Test acc: 0.929\n",
            "Epoch [2/5]. Step [47/47]. Loss: 0.158. Acc: 0.937. Test loss: 0.041.Test acc: 0.937\n",
            "Epoch [3/5]. Step [47/47]. Loss: 0.129. Acc: 0.944. Test loss: 0.195.Test acc: 0.943\n",
            "Epoch [4/5]. Step [47/47]. Loss: 0.122. Acc: 0.948. Test loss: 0.023.Test acc: 0.946\n",
            "Epoch [5/5]. Step [47/47]. Loss: 0.168. Acc: 0.950. Test loss: 0.588.Test acc: 0.942\n",
            "Training is finished!\n",
            "Hyper params: epochs - 5, learning_rate - 0.001, embedding_dim - 128, hidden_dim - 96, threshold_level - 0.3, drop_prob - 0.3.\n",
            "Epoch [1/5]. Step [47/47]. Loss: 0.162. Acc: 0.738. Test loss: 0.207.Test acc: 0.940\n",
            "Epoch [2/5]. Step [47/47]. Loss: 0.157. Acc: 0.939. Test loss: 0.044.Test acc: 0.938\n",
            "Epoch [3/5]. Step [47/47]. Loss: 0.114. Acc: 0.945. Test loss: 0.019.Test acc: 0.938\n",
            "Epoch [4/5]. Step [47/47]. Loss: 0.128. Acc: 0.948. Test loss: 0.031.Test acc: 0.934\n",
            "Epoch [5/5]. Step [47/47]. Loss: 0.103. Acc: 0.950. Test loss: 0.037.Test acc: 0.945\n",
            "Training is finished!\n",
            "Hyper params: epochs - 5, learning_rate - 0.001, embedding_dim - 128, hidden_dim - 96, threshold_level - 0.5, drop_prob - 0.1.\n",
            "Epoch [1/5]. Step [47/47]. Loss: 0.199. Acc: 0.914. Test loss: 0.122.Test acc: 0.935\n",
            "Epoch [2/5]. Step [47/47]. Loss: 0.186. Acc: 0.942. Test loss: 0.527.Test acc: 0.945\n",
            "Epoch [3/5]. Step [47/47]. Loss: 0.145. Acc: 0.950. Test loss: 0.038.Test acc: 0.945\n",
            "Epoch [4/5]. Step [47/47]. Loss: 0.124. Acc: 0.953. Test loss: 0.158.Test acc: 0.948\n",
            "Epoch [5/5]. Step [47/47]. Loss: 0.115. Acc: 0.955. Test loss: 0.396.Test acc: 0.948\n",
            "Training is finished!\n",
            "Hyper params: epochs - 5, learning_rate - 0.001, embedding_dim - 128, hidden_dim - 96, threshold_level - 0.5, drop_prob - 0.2.\n",
            "Epoch [1/5]. Step [47/47]. Loss: 0.173. Acc: 0.932. Test loss: 0.060.Test acc: 0.937\n",
            "Epoch [2/5]. Step [47/47]. Loss: 0.186. Acc: 0.943. Test loss: 0.025.Test acc: 0.943\n",
            "Epoch [3/5]. Step [47/47]. Loss: 0.127. Acc: 0.949. Test loss: 0.018.Test acc: 0.948\n",
            "Epoch [4/5]. Step [47/47]. Loss: 0.179. Acc: 0.953. Test loss: 0.554.Test acc: 0.948\n",
            "Epoch [5/5]. Step [47/47]. Loss: 0.122. Acc: 0.954. Test loss: 0.277.Test acc: 0.948\n",
            "Training is finished!\n",
            "Hyper params: epochs - 5, learning_rate - 0.001, embedding_dim - 128, hidden_dim - 96, threshold_level - 0.5, drop_prob - 0.3.\n",
            "Epoch [1/5]. Step [47/47]. Loss: 0.188. Acc: 0.924. Test loss: 0.050.Test acc: 0.939\n",
            "Epoch [2/5]. Step [47/47]. Loss: 0.167. Acc: 0.944. Test loss: 0.831.Test acc: 0.945\n",
            "Epoch [3/5]. Step [47/47]. Loss: 0.152. Acc: 0.951. Test loss: 0.021.Test acc: 0.945\n",
            "Epoch [4/5]. Step [47/47]. Loss: 0.105. Acc: 0.953. Test loss: 0.089.Test acc: 0.945\n",
            "Epoch [5/5]. Step [47/47]. Loss: 0.152. Acc: 0.955. Test loss: 0.037.Test acc: 0.948\n",
            "Training is finished!\n",
            "Hyper params: epochs - 5, learning_rate - 0.001, embedding_dim - 256, hidden_dim - 64, threshold_level - 0.3, drop_prob - 0.1.\n",
            "Epoch [1/5]. Step [47/47]. Loss: 0.252. Acc: 0.690. Test loss: 0.519.Test acc: 0.937\n",
            "Epoch [2/5]. Step [47/47]. Loss: 0.158. Acc: 0.941. Test loss: 0.049.Test acc: 0.944\n",
            "Epoch [3/5]. Step [47/47]. Loss: 0.182. Acc: 0.949. Test loss: 0.586.Test acc: 0.940\n",
            "Epoch [4/5]. Step [47/47]. Loss: 0.141. Acc: 0.950. Test loss: 0.098.Test acc: 0.944\n",
            "Epoch [5/5]. Step [47/47]. Loss: 0.103. Acc: 0.955. Test loss: 0.013.Test acc: 0.941\n",
            "Training is finished!\n",
            "Hyper params: epochs - 5, learning_rate - 0.001, embedding_dim - 256, hidden_dim - 64, threshold_level - 0.3, drop_prob - 0.2.\n",
            "Epoch [1/5]. Step [47/47]. Loss: 0.198. Acc: 0.704. Test loss: 0.067.Test acc: 0.939\n",
            "Epoch [2/5]. Step [47/47]. Loss: 0.140. Acc: 0.942. Test loss: 0.028.Test acc: 0.935\n",
            "Epoch [3/5]. Step [47/47]. Loss: 0.154. Acc: 0.948. Test loss: 1.197.Test acc: 0.943\n",
            "Epoch [4/5]. Step [47/47]. Loss: 0.139. Acc: 0.951. Test loss: 0.029.Test acc: 0.929\n",
            "Epoch [5/5]. Step [47/47]. Loss: 0.140. Acc: 0.955. Test loss: 0.053.Test acc: 0.923\n",
            "Training is finished!\n",
            "Hyper params: epochs - 5, learning_rate - 0.001, embedding_dim - 256, hidden_dim - 64, threshold_level - 0.3, drop_prob - 0.3.\n",
            "Epoch [1/5]. Step [47/47]. Loss: 0.203. Acc: 0.694. Test loss: 0.051.Test acc: 0.937\n",
            "Epoch [2/5]. Step [47/47]. Loss: 0.181. Acc: 0.943. Test loss: 0.135.Test acc: 0.937\n",
            "Epoch [3/5]. Step [47/47]. Loss: 0.158. Acc: 0.947. Test loss: 0.095.Test acc: 0.941\n",
            "Epoch [4/5]. Step [47/47]. Loss: 0.141. Acc: 0.952. Test loss: 0.113.Test acc: 0.943\n",
            "Epoch [5/5]. Step [47/47]. Loss: 0.162. Acc: 0.954. Test loss: 0.357.Test acc: 0.939\n",
            "Training is finished!\n",
            "Hyper params: epochs - 5, learning_rate - 0.001, embedding_dim - 256, hidden_dim - 64, threshold_level - 0.5, drop_prob - 0.1.\n",
            "Epoch [1/5]. Step [47/47]. Loss: 0.297. Acc: 0.881. Test loss: 0.369.Test acc: 0.938\n",
            "Epoch [2/5]. Step [47/47]. Loss: 0.158. Acc: 0.945. Test loss: 0.060.Test acc: 0.947\n",
            "Epoch [3/5]. Step [47/47]. Loss: 0.106. Acc: 0.952. Test loss: 0.040.Test acc: 0.949\n",
            "Epoch [4/5]. Step [47/47]. Loss: 0.183. Acc: 0.956. Test loss: 0.034.Test acc: 0.949\n",
            "Epoch [5/5]. Step [47/47]. Loss: 0.114. Acc: 0.959. Test loss: 0.072.Test acc: 0.949\n",
            "Training is finished!\n",
            "Hyper params: epochs - 5, learning_rate - 0.001, embedding_dim - 256, hidden_dim - 64, threshold_level - 0.5, drop_prob - 0.2.\n",
            "Epoch [1/5]. Step [47/47]. Loss: 0.269. Acc: 0.894. Test loss: 0.058.Test acc: 0.936\n",
            "Epoch [2/5]. Step [47/47]. Loss: 0.205. Acc: 0.942. Test loss: 0.104.Test acc: 0.945\n",
            "Epoch [3/5]. Step [47/47]. Loss: 0.170. Acc: 0.950. Test loss: 0.066.Test acc: 0.948\n",
            "Epoch [4/5]. Step [47/47]. Loss: 0.111. Acc: 0.954. Test loss: 0.167.Test acc: 0.948\n",
            "Epoch [5/5]. Step [47/47]. Loss: 0.172. Acc: 0.958. Test loss: 0.283.Test acc: 0.947\n",
            "Training is finished!\n",
            "Hyper params: epochs - 5, learning_rate - 0.001, embedding_dim - 256, hidden_dim - 64, threshold_level - 0.5, drop_prob - 0.3.\n",
            "Epoch [1/5]. Step [47/47]. Loss: 0.203. Acc: 0.926. Test loss: 0.236.Test acc: 0.938\n",
            "Epoch [2/5]. Step [47/47]. Loss: 0.149. Acc: 0.945. Test loss: 0.021.Test acc: 0.947\n",
            "Epoch [3/5]. Step [47/47]. Loss: 0.121. Acc: 0.953. Test loss: 0.066.Test acc: 0.950\n",
            "Epoch [4/5]. Step [47/47]. Loss: 0.136. Acc: 0.956. Test loss: 0.159.Test acc: 0.947\n",
            "Epoch [5/5]. Step [47/47]. Loss: 0.073. Acc: 0.959. Test loss: 0.107.Test acc: 0.947\n",
            "Training is finished!\n",
            "Hyper params: epochs - 5, learning_rate - 0.001, embedding_dim - 256, hidden_dim - 96, threshold_level - 0.3, drop_prob - 0.1.\n",
            "Epoch [1/5]. Step [47/47]. Loss: 0.161. Acc: 0.757. Test loss: 0.080.Test acc: 0.939\n",
            "Epoch [2/5]. Step [47/47]. Loss: 0.203. Acc: 0.943. Test loss: 0.338.Test acc: 0.941\n",
            "Epoch [3/5]. Step [47/47]. Loss: 0.147. Acc: 0.948. Test loss: 0.053.Test acc: 0.941\n",
            "Epoch [4/5]. Step [47/47]. Loss: 0.096. Acc: 0.953. Test loss: 0.054.Test acc: 0.942\n",
            "Epoch [5/5]. Step [47/47]. Loss: 0.117. Acc: 0.954. Test loss: 0.096.Test acc: 0.932\n",
            "Training is finished!\n",
            "Hyper params: epochs - 5, learning_rate - 0.001, embedding_dim - 256, hidden_dim - 96, threshold_level - 0.3, drop_prob - 0.2.\n",
            "Epoch [1/5]. Step [47/47]. Loss: 0.184. Acc: 0.765. Test loss: 0.388.Test acc: 0.940\n",
            "Epoch [2/5]. Step [47/47]. Loss: 0.108. Acc: 0.943. Test loss: 0.376.Test acc: 0.943\n",
            "Epoch [3/5]. Step [47/47]. Loss: 0.136. Acc: 0.948. Test loss: 0.068.Test acc: 0.943\n",
            "Epoch [4/5]. Step [47/47]. Loss: 0.139. Acc: 0.952. Test loss: 0.012.Test acc: 0.943\n",
            "Epoch [5/5]. Step [47/47]. Loss: 0.106. Acc: 0.954. Test loss: 0.021.Test acc: 0.941\n",
            "Training is finished!\n",
            "Hyper params: epochs - 5, learning_rate - 0.001, embedding_dim - 256, hidden_dim - 96, threshold_level - 0.3, drop_prob - 0.3.\n",
            "Epoch [1/5]. Step [47/47]. Loss: 0.176. Acc: 0.776. Test loss: 0.370.Test acc: 0.938\n",
            "Epoch [2/5]. Step [47/47]. Loss: 0.177. Acc: 0.943. Test loss: 0.389.Test acc: 0.941\n",
            "Epoch [3/5]. Step [47/47]. Loss: 0.126. Acc: 0.949. Test loss: 0.213.Test acc: 0.936\n",
            "Epoch [4/5]. Step [47/47]. Loss: 0.088. Acc: 0.950. Test loss: 0.011.Test acc: 0.944\n",
            "Epoch [5/5]. Step [47/47]. Loss: 0.130. Acc: 0.955. Test loss: 0.030.Test acc: 0.941\n",
            "Training is finished!\n",
            "Hyper params: epochs - 5, learning_rate - 0.001, embedding_dim - 256, hidden_dim - 96, threshold_level - 0.5, drop_prob - 0.1.\n",
            "Epoch [1/5]. Step [47/47]. Loss: 0.170. Acc: 0.931. Test loss: 0.416.Test acc: 0.942\n",
            "Epoch [2/5]. Step [47/47]. Loss: 0.146. Acc: 0.948. Test loss: 0.021.Test acc: 0.947\n",
            "Epoch [3/5]. Step [47/47]. Loss: 0.128. Acc: 0.953. Test loss: 0.174.Test acc: 0.949\n",
            "Epoch [4/5]. Step [47/47]. Loss: 0.163. Acc: 0.957. Test loss: 0.379.Test acc: 0.948\n",
            "Epoch [5/5]. Step [47/47]. Loss: 0.124. Acc: 0.960. Test loss: 0.022.Test acc: 0.947\n",
            "Training is finished!\n",
            "Hyper params: epochs - 5, learning_rate - 0.001, embedding_dim - 256, hidden_dim - 96, threshold_level - 0.5, drop_prob - 0.2.\n",
            "Epoch [1/5]. Step [47/47]. Loss: 0.167. Acc: 0.907. Test loss: 0.069.Test acc: 0.941\n",
            "Epoch [2/5]. Step [47/47]. Loss: 0.133. Acc: 0.947. Test loss: 0.048.Test acc: 0.946\n",
            "Epoch [3/5]. Step [47/47]. Loss: 0.153. Acc: 0.952. Test loss: 0.227.Test acc: 0.948\n",
            "Epoch [4/5]. Step [47/47]. Loss: 0.129. Acc: 0.956. Test loss: 0.415.Test acc: 0.950\n",
            "Epoch [5/5]. Step [47/47]. Loss: 0.167. Acc: 0.959. Test loss: 0.046.Test acc: 0.949\n",
            "Training is finished!\n",
            "Hyper params: epochs - 5, learning_rate - 0.001, embedding_dim - 256, hidden_dim - 96, threshold_level - 0.5, drop_prob - 0.3.\n",
            "Epoch [1/5]. Step [47/47]. Loss: 0.193. Acc: 0.930. Test loss: 0.643.Test acc: 0.941\n",
            "Epoch [2/5]. Step [47/47]. Loss: 0.181. Acc: 0.947. Test loss: 0.058.Test acc: 0.946\n",
            "Epoch [3/5]. Step [47/47]. Loss: 0.139. Acc: 0.953. Test loss: 0.040.Test acc: 0.949\n",
            "Epoch [4/5]. Step [47/47]. Loss: 0.114. Acc: 0.955. Test loss: 0.023.Test acc: 0.948\n",
            "Epoch [5/5]. Step [47/47]. Loss: 0.151. Acc: 0.960. Test loss: 0.101.Test acc: 0.948\n",
            "Training is finished!\n",
            "Hyper params: epochs - 10, learning_rate - 0.01, embedding_dim - 128, hidden_dim - 64, threshold_level - 0.3, drop_prob - 0.1.\n",
            "Epoch [1/10]. Step [47/47]. Loss: 0.247. Acc: 0.894. Test loss: 0.056.Test acc: 0.937\n",
            "Epoch [2/10]. Step [47/47]. Loss: 0.145. Acc: 0.948. Test loss: 0.468.Test acc: 0.947\n",
            "Epoch [3/10]. Step [47/47]. Loss: 0.092. Acc: 0.956. Test loss: 0.197.Test acc: 0.945\n",
            "Epoch [4/10]. Step [47/47]. Loss: 0.087. Acc: 0.961. Test loss: 1.201.Test acc: 0.933\n",
            "Epoch [5/10]. Step [47/47]. Loss: 0.051. Acc: 0.971. Test loss: 0.001.Test acc: 0.939\n",
            "Epoch [6/10]. Step [47/47]. Loss: 0.055. Acc: 0.977. Test loss: 0.008.Test acc: 0.939\n",
            "Epoch [7/10]. Step [47/47]. Loss: 0.057. Acc: 0.982. Test loss: 0.284.Test acc: 0.937\n",
            "Epoch [8/10]. Step [47/47]. Loss: 0.047. Acc: 0.983. Test loss: 0.013.Test acc: 0.943\n",
            "Epoch [9/10]. Step [47/47]. Loss: 0.054. Acc: 0.985. Test loss: 0.000.Test acc: 0.942\n",
            "Epoch [10/10]. Step [47/47]. Loss: 0.036. Acc: 0.987. Test loss: 0.811.Test acc: 0.936\n",
            "Training is finished!\n",
            "Hyper params: epochs - 10, learning_rate - 0.01, embedding_dim - 128, hidden_dim - 64, threshold_level - 0.3, drop_prob - 0.2.\n",
            "Epoch [1/10]. Step [47/47]. Loss: 0.144. Acc: 0.892. Test loss: 0.818.Test acc: 0.943\n",
            "Epoch [2/10]. Step [47/47]. Loss: 0.112. Acc: 0.947. Test loss: 0.020.Test acc: 0.943\n",
            "Epoch [3/10]. Step [47/47]. Loss: 0.121. Acc: 0.953. Test loss: 0.023.Test acc: 0.936\n",
            "Epoch [4/10]. Step [47/47]. Loss: 0.091. Acc: 0.961. Test loss: 0.002.Test acc: 0.934\n",
            "Epoch [5/10]. Step [47/47]. Loss: 0.076. Acc: 0.968. Test loss: 0.011.Test acc: 0.938\n",
            "Epoch [6/10]. Step [47/47]. Loss: 0.086. Acc: 0.975. Test loss: 0.002.Test acc: 0.938\n",
            "Epoch [7/10]. Step [47/47]. Loss: 0.061. Acc: 0.978. Test loss: 0.014.Test acc: 0.943\n",
            "Epoch [8/10]. Step [47/47]. Loss: 0.072. Acc: 0.982. Test loss: 0.616.Test acc: 0.933\n",
            "Epoch [9/10]. Step [47/47]. Loss: 0.054. Acc: 0.984. Test loss: 0.024.Test acc: 0.920\n",
            "Epoch [10/10]. Step [47/47]. Loss: 0.045. Acc: 0.986. Test loss: 0.051.Test acc: 0.940\n",
            "Training is finished!\n",
            "Hyper params: epochs - 10, learning_rate - 0.01, embedding_dim - 128, hidden_dim - 64, threshold_level - 0.3, drop_prob - 0.3.\n",
            "Epoch [1/10]. Step [47/47]. Loss: 0.163. Acc: 0.900. Test loss: 0.569.Test acc: 0.945\n",
            "Epoch [2/10]. Step [47/47]. Loss: 0.121. Acc: 0.947. Test loss: 0.083.Test acc: 0.944\n",
            "Epoch [3/10]. Step [47/47]. Loss: 0.125. Acc: 0.954. Test loss: 0.026.Test acc: 0.945\n",
            "Epoch [4/10]. Step [47/47]. Loss: 0.133. Acc: 0.960. Test loss: 0.039.Test acc: 0.942\n",
            "Epoch [5/10]. Step [47/47]. Loss: 0.076. Acc: 0.970. Test loss: 1.061.Test acc: 0.938\n",
            "Epoch [6/10]. Step [47/47]. Loss: 0.088. Acc: 0.977. Test loss: 0.052.Test acc: 0.937\n",
            "Epoch [7/10]. Step [47/47]. Loss: 0.054. Acc: 0.981. Test loss: 0.002.Test acc: 0.938\n",
            "Epoch [8/10]. Step [47/47]. Loss: 0.036. Acc: 0.983. Test loss: 0.001.Test acc: 0.940\n",
            "Epoch [9/10]. Step [47/47]. Loss: 0.041. Acc: 0.985. Test loss: 0.172.Test acc: 0.938\n",
            "Epoch [10/10]. Step [47/47]. Loss: 0.038. Acc: 0.987. Test loss: 0.030.Test acc: 0.937\n",
            "Training is finished!\n",
            "Hyper params: epochs - 10, learning_rate - 0.01, embedding_dim - 128, hidden_dim - 64, threshold_level - 0.5, drop_prob - 0.1.\n",
            "Epoch [1/10]. Step [47/47]. Loss: 0.170. Acc: 0.939. Test loss: 0.031.Test acc: 0.945\n",
            "Epoch [2/10]. Step [47/47]. Loss: 0.124. Acc: 0.952. Test loss: 0.378.Test acc: 0.947\n",
            "Epoch [3/10]. Step [47/47]. Loss: 0.090. Acc: 0.959. Test loss: 0.007.Test acc: 0.947\n",
            "Epoch [4/10]. Step [47/47]. Loss: 0.087. Acc: 0.966. Test loss: 0.040.Test acc: 0.945\n",
            "Epoch [5/10]. Step [47/47]. Loss: 0.099. Acc: 0.972. Test loss: 0.019.Test acc: 0.944\n",
            "Epoch [6/10]. Step [47/47]. Loss: 0.075. Acc: 0.979. Test loss: 0.059.Test acc: 0.944\n",
            "Epoch [7/10]. Step [47/47]. Loss: 0.043. Acc: 0.984. Test loss: 0.009.Test acc: 0.943\n",
            "Epoch [8/10]. Step [47/47]. Loss: 0.053. Acc: 0.985. Test loss: 0.012.Test acc: 0.942\n",
            "Epoch [9/10]. Step [47/47]. Loss: 0.041. Acc: 0.986. Test loss: 0.058.Test acc: 0.942\n",
            "Epoch [10/10]. Step [47/47]. Loss: 0.032. Acc: 0.988. Test loss: 0.017.Test acc: 0.945\n",
            "Training is finished!\n",
            "Hyper params: epochs - 10, learning_rate - 0.01, embedding_dim - 128, hidden_dim - 64, threshold_level - 0.5, drop_prob - 0.2.\n",
            "Epoch [1/10]. Step [47/47]. Loss: 0.122. Acc: 0.922. Test loss: 0.023.Test acc: 0.946\n",
            "Epoch [2/10]. Step [47/47]. Loss: 0.160. Acc: 0.952. Test loss: 0.041.Test acc: 0.949\n",
            "Epoch [3/10]. Step [47/47]. Loss: 0.126. Acc: 0.958. Test loss: 0.062.Test acc: 0.949\n",
            "Epoch [4/10]. Step [47/47]. Loss: 0.117. Acc: 0.966. Test loss: 0.008.Test acc: 0.949\n",
            "Epoch [5/10]. Step [47/47]. Loss: 0.097. Acc: 0.974. Test loss: 0.264.Test acc: 0.944\n",
            "Epoch [6/10]. Step [47/47]. Loss: 0.081. Acc: 0.977. Test loss: 0.005.Test acc: 0.944\n",
            "Epoch [7/10]. Step [47/47]. Loss: 0.081. Acc: 0.981. Test loss: 0.008.Test acc: 0.939\n",
            "Epoch [8/10]. Step [47/47]. Loss: 0.044. Acc: 0.986. Test loss: 2.326.Test acc: 0.943\n",
            "Epoch [9/10]. Step [47/47]. Loss: 0.043. Acc: 0.988. Test loss: 0.001.Test acc: 0.944\n",
            "Epoch [10/10]. Step [47/47]. Loss: 0.044. Acc: 0.988. Test loss: 0.000.Test acc: 0.939\n",
            "Training is finished!\n",
            "Hyper params: epochs - 10, learning_rate - 0.01, embedding_dim - 128, hidden_dim - 64, threshold_level - 0.5, drop_prob - 0.3.\n",
            "Epoch [1/10]. Step [47/47]. Loss: 0.159. Acc: 0.938. Test loss: 0.014.Test acc: 0.943\n"
          ]
        },
        {
          "output_type": "error",
          "ename": "KeyboardInterrupt",
          "evalue": "ignored",
          "traceback": [
            "\u001b[0;31m---------------------------------------------------------------------------\u001b[0m",
            "\u001b[0;31mKeyboardInterrupt\u001b[0m                         Traceback (most recent call last)",
            "\u001b[0;32m<ipython-input-159-1205ebef1fdf>\u001b[0m in \u001b[0;36m<cell line: 1>\u001b[0;34m()\u001b[0m\n\u001b[1;32m     28\u001b[0m                                 \u001b[0;31m# обнуляем градиент\u001b[0m\u001b[0;34m\u001b[0m\u001b[0;34m\u001b[0m\u001b[0m\n\u001b[1;32m     29\u001b[0m                                 \u001b[0moptimizer\u001b[0m\u001b[0;34m.\u001b[0m\u001b[0mzero_grad\u001b[0m\u001b[0;34m(\u001b[0m\u001b[0;34m)\u001b[0m\u001b[0;34m\u001b[0m\u001b[0;34m\u001b[0m\u001b[0m\n\u001b[0;32m---> 30\u001b[0;31m                                 \u001b[0moutputs\u001b[0m \u001b[0;34m=\u001b[0m \u001b[0mmodel\u001b[0m\u001b[0;34m(\u001b[0m\u001b[0minputs\u001b[0m\u001b[0;34m)\u001b[0m\u001b[0;34m\u001b[0m\u001b[0;34m\u001b[0m\u001b[0m\n\u001b[0m\u001b[1;32m     31\u001b[0m \u001b[0;34m\u001b[0m\u001b[0m\n\u001b[1;32m     32\u001b[0m                                 \u001b[0mloss\u001b[0m \u001b[0;34m=\u001b[0m \u001b[0mcriterion\u001b[0m\u001b[0;34m(\u001b[0m\u001b[0moutputs\u001b[0m\u001b[0;34m,\u001b[0m \u001b[0mlabels\u001b[0m\u001b[0;34m.\u001b[0m\u001b[0mfloat\u001b[0m\u001b[0;34m(\u001b[0m\u001b[0;34m)\u001b[0m\u001b[0;34m.\u001b[0m\u001b[0mview\u001b[0m\u001b[0;34m(\u001b[0m\u001b[0;34m-\u001b[0m\u001b[0;36m1\u001b[0m\u001b[0;34m,\u001b[0m \u001b[0;36m1\u001b[0m\u001b[0;34m)\u001b[0m\u001b[0;34m)\u001b[0m\u001b[0;34m\u001b[0m\u001b[0;34m\u001b[0m\u001b[0m\n",
            "\u001b[0;32m/usr/local/lib/python3.10/dist-packages/torch/nn/modules/module.py\u001b[0m in \u001b[0;36m_wrapped_call_impl\u001b[0;34m(self, *args, **kwargs)\u001b[0m\n\u001b[1;32m   1516\u001b[0m             \u001b[0;32mreturn\u001b[0m \u001b[0mself\u001b[0m\u001b[0;34m.\u001b[0m\u001b[0m_compiled_call_impl\u001b[0m\u001b[0;34m(\u001b[0m\u001b[0;34m*\u001b[0m\u001b[0margs\u001b[0m\u001b[0;34m,\u001b[0m \u001b[0;34m**\u001b[0m\u001b[0mkwargs\u001b[0m\u001b[0;34m)\u001b[0m  \u001b[0;31m# type: ignore[misc]\u001b[0m\u001b[0;34m\u001b[0m\u001b[0;34m\u001b[0m\u001b[0m\n\u001b[1;32m   1517\u001b[0m         \u001b[0;32melse\u001b[0m\u001b[0;34m:\u001b[0m\u001b[0;34m\u001b[0m\u001b[0;34m\u001b[0m\u001b[0m\n\u001b[0;32m-> 1518\u001b[0;31m             \u001b[0;32mreturn\u001b[0m \u001b[0mself\u001b[0m\u001b[0;34m.\u001b[0m\u001b[0m_call_impl\u001b[0m\u001b[0;34m(\u001b[0m\u001b[0;34m*\u001b[0m\u001b[0margs\u001b[0m\u001b[0;34m,\u001b[0m \u001b[0;34m**\u001b[0m\u001b[0mkwargs\u001b[0m\u001b[0;34m)\u001b[0m\u001b[0;34m\u001b[0m\u001b[0;34m\u001b[0m\u001b[0m\n\u001b[0m\u001b[1;32m   1519\u001b[0m \u001b[0;34m\u001b[0m\u001b[0m\n\u001b[1;32m   1520\u001b[0m     \u001b[0;32mdef\u001b[0m \u001b[0m_call_impl\u001b[0m\u001b[0;34m(\u001b[0m\u001b[0mself\u001b[0m\u001b[0;34m,\u001b[0m \u001b[0;34m*\u001b[0m\u001b[0margs\u001b[0m\u001b[0;34m,\u001b[0m \u001b[0;34m**\u001b[0m\u001b[0mkwargs\u001b[0m\u001b[0;34m)\u001b[0m\u001b[0;34m:\u001b[0m\u001b[0;34m\u001b[0m\u001b[0;34m\u001b[0m\u001b[0m\n",
            "\u001b[0;32m/usr/local/lib/python3.10/dist-packages/torch/nn/modules/module.py\u001b[0m in \u001b[0;36m_call_impl\u001b[0;34m(self, *args, **kwargs)\u001b[0m\n\u001b[1;32m   1525\u001b[0m                 \u001b[0;32mor\u001b[0m \u001b[0m_global_backward_pre_hooks\u001b[0m \u001b[0;32mor\u001b[0m \u001b[0m_global_backward_hooks\u001b[0m\u001b[0;34m\u001b[0m\u001b[0;34m\u001b[0m\u001b[0m\n\u001b[1;32m   1526\u001b[0m                 or _global_forward_hooks or _global_forward_pre_hooks):\n\u001b[0;32m-> 1527\u001b[0;31m             \u001b[0;32mreturn\u001b[0m \u001b[0mforward_call\u001b[0m\u001b[0;34m(\u001b[0m\u001b[0;34m*\u001b[0m\u001b[0margs\u001b[0m\u001b[0;34m,\u001b[0m \u001b[0;34m**\u001b[0m\u001b[0mkwargs\u001b[0m\u001b[0;34m)\u001b[0m\u001b[0;34m\u001b[0m\u001b[0;34m\u001b[0m\u001b[0m\n\u001b[0m\u001b[1;32m   1528\u001b[0m \u001b[0;34m\u001b[0m\u001b[0m\n\u001b[1;32m   1529\u001b[0m         \u001b[0;32mtry\u001b[0m\u001b[0;34m:\u001b[0m\u001b[0;34m\u001b[0m\u001b[0;34m\u001b[0m\u001b[0m\n",
            "\u001b[0;32m<ipython-input-148-ea44acfa9283>\u001b[0m in \u001b[0;36mforward\u001b[0;34m(self, x)\u001b[0m\n\u001b[1;32m     11\u001b[0m         \u001b[0mx\u001b[0m \u001b[0;34m=\u001b[0m \u001b[0mself\u001b[0m\u001b[0;34m.\u001b[0m\u001b[0membeddings\u001b[0m\u001b[0;34m(\u001b[0m\u001b[0mx\u001b[0m\u001b[0;34m)\u001b[0m\u001b[0;34m\u001b[0m\u001b[0;34m\u001b[0m\u001b[0m\n\u001b[1;32m     12\u001b[0m \u001b[0;31m#         x = self.dropout(x)\u001b[0m\u001b[0;34m\u001b[0m\u001b[0;34m\u001b[0m\u001b[0m\n\u001b[0;32m---> 13\u001b[0;31m         \u001b[0mgru_out\u001b[0m\u001b[0;34m,\u001b[0m \u001b[0mht\u001b[0m \u001b[0;34m=\u001b[0m \u001b[0mself\u001b[0m\u001b[0;34m.\u001b[0m\u001b[0mgru\u001b[0m\u001b[0;34m(\u001b[0m\u001b[0mx\u001b[0m\u001b[0;34m)\u001b[0m\u001b[0;34m\u001b[0m\u001b[0;34m\u001b[0m\u001b[0m\n\u001b[0m\u001b[1;32m     14\u001b[0m \u001b[0;34m\u001b[0m\u001b[0m\n\u001b[1;32m     15\u001b[0m         \u001b[0;32mif\u001b[0m \u001b[0mself\u001b[0m\u001b[0;34m.\u001b[0m\u001b[0muse_last\u001b[0m\u001b[0;34m:\u001b[0m\u001b[0;34m\u001b[0m\u001b[0;34m\u001b[0m\u001b[0m\n",
            "\u001b[0;32m/usr/local/lib/python3.10/dist-packages/torch/nn/modules/module.py\u001b[0m in \u001b[0;36m_wrapped_call_impl\u001b[0;34m(self, *args, **kwargs)\u001b[0m\n\u001b[1;32m   1516\u001b[0m             \u001b[0;32mreturn\u001b[0m \u001b[0mself\u001b[0m\u001b[0;34m.\u001b[0m\u001b[0m_compiled_call_impl\u001b[0m\u001b[0;34m(\u001b[0m\u001b[0;34m*\u001b[0m\u001b[0margs\u001b[0m\u001b[0;34m,\u001b[0m \u001b[0;34m**\u001b[0m\u001b[0mkwargs\u001b[0m\u001b[0;34m)\u001b[0m  \u001b[0;31m# type: ignore[misc]\u001b[0m\u001b[0;34m\u001b[0m\u001b[0;34m\u001b[0m\u001b[0m\n\u001b[1;32m   1517\u001b[0m         \u001b[0;32melse\u001b[0m\u001b[0;34m:\u001b[0m\u001b[0;34m\u001b[0m\u001b[0;34m\u001b[0m\u001b[0m\n\u001b[0;32m-> 1518\u001b[0;31m             \u001b[0;32mreturn\u001b[0m \u001b[0mself\u001b[0m\u001b[0;34m.\u001b[0m\u001b[0m_call_impl\u001b[0m\u001b[0;34m(\u001b[0m\u001b[0;34m*\u001b[0m\u001b[0margs\u001b[0m\u001b[0;34m,\u001b[0m \u001b[0;34m**\u001b[0m\u001b[0mkwargs\u001b[0m\u001b[0;34m)\u001b[0m\u001b[0;34m\u001b[0m\u001b[0;34m\u001b[0m\u001b[0m\n\u001b[0m\u001b[1;32m   1519\u001b[0m \u001b[0;34m\u001b[0m\u001b[0m\n\u001b[1;32m   1520\u001b[0m     \u001b[0;32mdef\u001b[0m \u001b[0m_call_impl\u001b[0m\u001b[0;34m(\u001b[0m\u001b[0mself\u001b[0m\u001b[0;34m,\u001b[0m \u001b[0;34m*\u001b[0m\u001b[0margs\u001b[0m\u001b[0;34m,\u001b[0m \u001b[0;34m**\u001b[0m\u001b[0mkwargs\u001b[0m\u001b[0;34m)\u001b[0m\u001b[0;34m:\u001b[0m\u001b[0;34m\u001b[0m\u001b[0;34m\u001b[0m\u001b[0m\n",
            "\u001b[0;32m/usr/local/lib/python3.10/dist-packages/torch/nn/modules/module.py\u001b[0m in \u001b[0;36m_call_impl\u001b[0;34m(self, *args, **kwargs)\u001b[0m\n\u001b[1;32m   1525\u001b[0m                 \u001b[0;32mor\u001b[0m \u001b[0m_global_backward_pre_hooks\u001b[0m \u001b[0;32mor\u001b[0m \u001b[0m_global_backward_hooks\u001b[0m\u001b[0;34m\u001b[0m\u001b[0;34m\u001b[0m\u001b[0m\n\u001b[1;32m   1526\u001b[0m                 or _global_forward_hooks or _global_forward_pre_hooks):\n\u001b[0;32m-> 1527\u001b[0;31m             \u001b[0;32mreturn\u001b[0m \u001b[0mforward_call\u001b[0m\u001b[0;34m(\u001b[0m\u001b[0;34m*\u001b[0m\u001b[0margs\u001b[0m\u001b[0;34m,\u001b[0m \u001b[0;34m**\u001b[0m\u001b[0mkwargs\u001b[0m\u001b[0;34m)\u001b[0m\u001b[0;34m\u001b[0m\u001b[0;34m\u001b[0m\u001b[0m\n\u001b[0m\u001b[1;32m   1528\u001b[0m \u001b[0;34m\u001b[0m\u001b[0m\n\u001b[1;32m   1529\u001b[0m         \u001b[0;32mtry\u001b[0m\u001b[0;34m:\u001b[0m\u001b[0;34m\u001b[0m\u001b[0;34m\u001b[0m\u001b[0m\n",
            "\u001b[0;32m/usr/local/lib/python3.10/dist-packages/torch/nn/modules/rnn.py\u001b[0m in \u001b[0;36mforward\u001b[0;34m(self, input, hx)\u001b[0m\n\u001b[1;32m   1100\u001b[0m         \u001b[0mself\u001b[0m\u001b[0;34m.\u001b[0m\u001b[0mcheck_forward_args\u001b[0m\u001b[0;34m(\u001b[0m\u001b[0minput\u001b[0m\u001b[0;34m,\u001b[0m \u001b[0mhx\u001b[0m\u001b[0;34m,\u001b[0m \u001b[0mbatch_sizes\u001b[0m\u001b[0;34m)\u001b[0m\u001b[0;34m\u001b[0m\u001b[0;34m\u001b[0m\u001b[0m\n\u001b[1;32m   1101\u001b[0m         \u001b[0;32mif\u001b[0m \u001b[0mbatch_sizes\u001b[0m \u001b[0;32mis\u001b[0m \u001b[0;32mNone\u001b[0m\u001b[0;34m:\u001b[0m\u001b[0;34m\u001b[0m\u001b[0;34m\u001b[0m\u001b[0m\n\u001b[0;32m-> 1102\u001b[0;31m             result = _VF.gru(input, hx, self._flat_weights, self.bias, self.num_layers,\n\u001b[0m\u001b[1;32m   1103\u001b[0m                              self.dropout, self.training, self.bidirectional, self.batch_first)\n\u001b[1;32m   1104\u001b[0m         \u001b[0;32melse\u001b[0m\u001b[0;34m:\u001b[0m\u001b[0;34m\u001b[0m\u001b[0;34m\u001b[0m\u001b[0m\n",
            "\u001b[0;31mKeyboardInterrupt\u001b[0m: "
          ]
        }
      ]
    },
    {
      "cell_type": "code",
      "source": [
        "model = GRUFixedLen(vocab_size=max_words,\n",
        "                 embedding_dim=256, hidden_dim=64,\n",
        "                 drop_prob=0.1, use_last=False)\n",
        "optimizer = torch.optim.Adam(model.parameters(), lr=0.001)\n",
        "criterion = nn.BCELoss()"
      ],
      "metadata": {
        "id": "n9L1DLxCYiIx"
      },
      "execution_count": 176,
      "outputs": []
    },
    {
      "cell_type": "code",
      "source": [
        "print(model)\n",
        "print(\"Parameters:\", sum([param.nelement() for param in model.parameters()]))"
      ],
      "metadata": {
        "colab": {
          "base_uri": "https://localhost:8080/"
        },
        "id": "YD3Z59JMYpDg",
        "outputId": "1bb4106c-1630-483f-9375-ef3d471fa8d3"
      },
      "execution_count": 174,
      "outputs": [
        {
          "output_type": "stream",
          "name": "stdout",
          "text": [
            "GRUFixedLen(\n",
            "  (embeddings): Embedding(1000, 256, padding_idx=0)\n",
            "  (gru): GRU(256, 64, num_layers=2, batch_first=True, dropout=0.1)\n",
            "  (linear): Linear(in_features=64, out_features=1, bias=True)\n",
            ")\n",
            "Parameters: 342849\n"
          ]
        }
      ]
    },
    {
      "cell_type": "code",
      "source": [
        "\n",
        "model.train()\n",
        "th = 0.5\n",
        "epochs = 10\n",
        "\n",
        "train_loss_history = []\n",
        "test_loss_history = []\n",
        "\n",
        "\n",
        "for epoch in range(epochs):\n",
        "    running_items, running_right = 0.0, 0.0\n",
        "    for i, data in enumerate(train_loader, 0):\n",
        "        inputs, labels = data[0], data[1]\n",
        "\n",
        "        # обнуляем градиент\n",
        "        optimizer.zero_grad()\n",
        "        outputs = model(inputs)\n",
        "\n",
        "        loss = criterion(outputs, labels.float().view(-1, 1))\n",
        "        loss.backward()\n",
        "        optimizer.step()\n",
        "\n",
        "        # подсчет ошибки на обучении\n",
        "        loss = loss.item()\n",
        "        running_items += len(labels)\n",
        "        # подсчет метрики на обучении\n",
        "        pred_labels = torch.squeeze((outputs > th).int())\n",
        "        running_right += (labels == pred_labels).sum()\n",
        "\n",
        "    # выводим статистику о процессе обучения\n",
        "    model.eval()\n",
        "\n",
        "    print(f'Epoch [{epoch + 1}/{epochs}]. ' \\\n",
        "            f'Step [{i + 1}/{len(train_loader)}]. ' \\\n",
        "            f'Loss: {loss:.3f}. ' \\\n",
        "            f'Acc: {running_right / running_items:.3f}', end='. ')\n",
        "    running_loss, running_items, running_right = 0.0, 0.0, 0.0\n",
        "    train_loss_history.append(loss)\n",
        "\n",
        "        # выводим статистику на тестовых данных\n",
        "    test_running_right, test_running_total, test_loss = 0.0, 0.0, 0.0\n",
        "    for j, data in enumerate(val_loader):\n",
        "        test_labels = data[1]\n",
        "        test_outputs = model(data[0])\n",
        "\n",
        "        # подсчет ошибки на тесте\n",
        "        test_loss = criterion(test_outputs, test_labels.float().view(-1, 1))\n",
        "        # подсчет метрики на тесте\n",
        "        test_running_total += len(data[1])\n",
        "        pred_test_labels = torch.squeeze((test_outputs > th).int())\n",
        "        test_running_right += (test_labels == pred_test_labels).sum()\n",
        "\n",
        "    test_loss_history.append(test_loss.item())\n",
        "    print(f'Test loss: {test_loss:.3f}.'\n",
        "          f'Test acc: {test_running_right / test_running_total:.3f}')\n",
        "\n",
        "    model.train()\n",
        "\n",
        "print('Training is finished!')"
      ],
      "metadata": {
        "colab": {
          "base_uri": "https://localhost:8080/"
        },
        "id": "QQmfrvVZfbU0",
        "outputId": "9f405bcc-0589-46d9-ec60-a93f6efd0390"
      },
      "execution_count": 163,
      "outputs": [
        {
          "output_type": "stream",
          "name": "stdout",
          "text": [
            "Epoch [1/10]. Step [47/47]. Loss: 0.137. Acc: 0.962. Test loss: 0.007.Test acc: 0.947\n",
            "Epoch [2/10]. Step [47/47]. Loss: 0.081. Acc: 0.966. Test loss: 0.272.Test acc: 0.946\n",
            "Epoch [3/10]. Step [47/47]. Loss: 0.064. Acc: 0.969. Test loss: 0.093.Test acc: 0.943\n",
            "Epoch [4/10]. Step [47/47]. Loss: 0.088. Acc: 0.974. Test loss: 0.013.Test acc: 0.943\n",
            "Epoch [5/10]. Step [47/47]. Loss: 0.066. Acc: 0.980. Test loss: 0.025.Test acc: 0.942\n",
            "Epoch [6/10]. Step [47/47]. Loss: 0.076. Acc: 0.981. Test loss: 0.017.Test acc: 0.945\n",
            "Epoch [7/10]. Step [47/47]. Loss: 0.061. Acc: 0.986. Test loss: 0.002.Test acc: 0.944\n",
            "Epoch [8/10]. Step [47/47]. Loss: 0.042. Acc: 0.988. Test loss: 0.000.Test acc: 0.946\n",
            "Epoch [9/10]. Step [47/47]. Loss: 0.048. Acc: 0.990. Test loss: 0.014.Test acc: 0.942\n",
            "Epoch [10/10]. Step [47/47]. Loss: 0.029. Acc: 0.991. Test loss: 0.020.Test acc: 0.942\n",
            "Training is finished!\n"
          ]
        }
      ]
    },
    {
      "cell_type": "code",
      "source": [
        "\n",
        "model.train()\n",
        "th = 0.5\n",
        "epochs = 5\n",
        "\n",
        "train_loss_history = []\n",
        "test_loss_history = []\n",
        "\n",
        "\n",
        "for epoch in range(epochs):\n",
        "    running_items, running_right = 0.0, 0.0\n",
        "    for i, data in enumerate(train_loader, 0):\n",
        "        inputs, labels = data[0], data[1]\n",
        "\n",
        "        # обнуляем градиент\n",
        "        optimizer.zero_grad()\n",
        "        outputs = model(inputs)\n",
        "\n",
        "        loss = criterion(outputs, labels.float().view(-1, 1))\n",
        "        loss.backward()\n",
        "        optimizer.step()\n",
        "\n",
        "        # подсчет ошибки на обучении\n",
        "        loss = loss.item()\n",
        "        running_items += len(labels)\n",
        "        # подсчет метрики на обучении\n",
        "        pred_labels = torch.squeeze((outputs > th).int())\n",
        "        running_right += (labels == pred_labels).sum()\n",
        "\n",
        "    # выводим статистику о процессе обучения\n",
        "    model.eval()\n",
        "\n",
        "    print(f'Epoch [{epoch + 1}/{epochs}]. ' \\\n",
        "            f'Step [{i + 1}/{len(train_loader)}]. ' \\\n",
        "            f'Loss: {loss:.3f}. ' \\\n",
        "            f'Acc: {running_right / running_items:.3f}', end='. ')\n",
        "    running_loss, running_items, running_right = 0.0, 0.0, 0.0\n",
        "    train_loss_history.append(loss)\n",
        "\n",
        "        # выводим статистику на тестовых данных\n",
        "    test_running_right, test_running_total, test_loss = 0.0, 0.0, 0.0\n",
        "    for j, data in enumerate(val_loader):\n",
        "        test_labels = data[1]\n",
        "        test_outputs = model(data[0])\n",
        "\n",
        "        # подсчет ошибки на тесте\n",
        "        test_loss = criterion(test_outputs, test_labels.float().view(-1, 1))\n",
        "        # подсчет метрики на тесте\n",
        "        test_running_total += len(data[1])\n",
        "        pred_test_labels = torch.squeeze((test_outputs > th).int())\n",
        "        test_running_right += (test_labels == pred_test_labels).sum()\n",
        "\n",
        "    test_loss_history.append(test_loss.item())\n",
        "    print(f'Test loss: {test_loss:.3f}.'\n",
        "          f'Test acc: {test_running_right / test_running_total:.3f}')\n",
        "\n",
        "    model.train()\n",
        "\n",
        "print('Training is finished!')"
      ],
      "metadata": {
        "colab": {
          "base_uri": "https://localhost:8080/"
        },
        "id": "SA7s79PaYTYh",
        "outputId": "f173e061-9b0a-4143-f180-51e684e52773"
      },
      "execution_count": 177,
      "outputs": [
        {
          "output_type": "stream",
          "name": "stdout",
          "text": [
            "Epoch [1/5]. Step [47/47]. Loss: 0.224. Acc: 0.917. Test loss: 0.595.Test acc: 0.940\n",
            "Epoch [2/5]. Step [47/47]. Loss: 0.113. Acc: 0.947. Test loss: 0.030.Test acc: 0.948\n",
            "Epoch [3/5]. Step [47/47]. Loss: 0.114. Acc: 0.952. Test loss: 0.020.Test acc: 0.949\n",
            "Epoch [4/5]. Step [47/47]. Loss: 0.121. Acc: 0.955. Test loss: 0.176.Test acc: 0.948\n",
            "Epoch [5/5]. Step [47/47]. Loss: 0.116. Acc: 0.959. Test loss: 0.013.Test acc: 0.947\n",
            "Training is finished!\n"
          ]
        }
      ]
    },
    {
      "cell_type": "code",
      "execution_count": 178,
      "metadata": {
        "scrolled": true,
        "colab": {
          "base_uri": "https://localhost:8080/",
          "height": 472
        },
        "id": "reOurasLDRG4",
        "outputId": "16f9eecf-dafa-4e1d-d5fc-820128a67eb5"
      },
      "outputs": [
        {
          "output_type": "display_data",
          "data": {
            "text/plain": [
              "<Figure size 640x480 with 1 Axes>"
            ],
            "image/png": "[encoded data removed]"
          },
          "metadata": {}
        }
      ],
      "source": [
        "import matplotlib.pyplot as plt\n",
        "\n",
        "plt.title('Loss history')\n",
        "plt.grid(True)\n",
        "plt.ylabel('Loss')\n",
        "plt.xlabel('Epoch')\n",
        "plt.plot(train_loss_history, label='train')\n",
        "plt.plot(test_loss_history, label='test')\n",
        "plt.legend();"
      ]
    },
    {
      "cell_type": "markdown",
      "metadata": {
        "id": "mbiGWNiWDRG9"
      },
      "source": [
        "Самыми эффективными гиперпараметрами для улучшения качества модели оказались скорость обучения (ее уменьшение) и размерность слоев(увеличение).\n"
      ]
    },
    {
      "cell_type": "code",
      "execution_count": null,
      "metadata": {
        "id": "TESo1PE9DRG_"
      },
      "outputs": [],
      "source": []
    }
  ],
  "metadata": {
    "kernelspec": {
      "display_name": "Python 3",
      "language": "python",
      "name": "python3"
    },
    "language_info": {
      "codemirror_mode": {
        "name": "ipython",
        "version": 3
      },
      "file_extension": ".py",
      "mimetype": "text/x-python",
      "name": "python",
      "nbconvert_exporter": "python",
      "pygments_lexer": "ipython3",
      "version": "3.8.5"
    },
    "colab": {
      "provenance": [],
      "include_colab_link": true
    }
  },
  "nbformat": 4,
  "nbformat_minor": 0
}