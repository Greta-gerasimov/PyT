{
  "nbformat": 4,
  "nbformat_minor": 0,
  "metadata": {
    "colab": {
      "provenance": [],
      "authorship_tag": "ABX9TyNuxMIzYRAWhHHIHNPLwxb3",
      "include_colab_link": true
    },
    "kernelspec": {
      "name": "python3",
      "display_name": "Python 3"
    },
    "language_info": {
      "name": "python"
    }
  },
  "cells": [
    {
      "cell_type": "markdown",
      "metadata": {
        "id": "view-in-github",
        "colab_type": "text"
      },
      "source": [
        "<a href=\"https://colab.research.google.com/github/Greta-gerasimov/PyT/blob/L2_feed_f/3_part_SDG_100.ipynb\" target=\"_parent\"><img src=\"https://colab.research.google.com/assets/colab-badge.svg\" alt=\"Open In Colab\"/></a>"
      ]
    },
    {
      "cell_type": "code",
      "execution_count": 1,
      "metadata": {
        "id": "HqtSegyLgzxO"
      },
      "outputs": [],
      "source": [
        "import torch\n",
        "import numpy as np\n",
        "\n",
        "from torch import nn\n",
        "from torch import optim\n",
        "import torch.nn.functional as F\n",
        "import torchvision\n",
        "import torchvision.transforms as transforms\n",
        "import matplotlib.pyplot as plt ### воспользуемся для отображения изображения"
      ]
    },
    {
      "cell_type": "code",
      "execution_count": 2,
      "metadata": {
        "id": "rQA6_8ejgzxR",
        "colab": {
          "base_uri": "https://localhost:8080/"
        },
        "outputId": "6327a38e-9f33-4a55-c775-748ffc81e7a1"
      },
      "outputs": [
        {
          "output_type": "stream",
          "name": "stdout",
          "text": [
            "Downloading https://www.cs.toronto.edu/~kriz/cifar-10-python.tar.gz to C:/Users/Kate/Desktop/PT/cifar-10-python.tar.gz\n"
          ]
        },
        {
          "output_type": "stream",
          "name": "stderr",
          "text": [
            "100%|██████████| 170498071/170498071 [00:05<00:00, 31039161.56it/s]\n"
          ]
        },
        {
          "output_type": "stream",
          "name": "stdout",
          "text": [
            "Extracting C:/Users/Kate/Desktop/PT/cifar-10-python.tar.gz to C:/Users/Kate/Desktop/PT/\n",
            "torch.Size([3, 32, 32])\n",
            "6\n"
          ]
        }
      ],
      "source": [
        "FOLDER_PATH = 'C:/Users/Kate/Desktop/PT/'\n",
        "train_dataset = torchvision.datasets.CIFAR10(root=FOLDER_PATH,\n",
        "                                             train=True,\n",
        "                                             transform=transforms.ToTensor(),\n",
        "                                             download=True)\n",
        "\n",
        "\n",
        "image, label = train_dataset[0]\n",
        "print (image.size())\n",
        "print (label)"
      ]
    },
    {
      "cell_type": "code",
      "execution_count": 3,
      "metadata": {
        "id": "Si2UHsFYgzxW",
        "colab": {
          "base_uri": "https://localhost:8080/",
          "height": 447
        },
        "outputId": "e9de99a3-868a-4ee8-a086-fe998f2db62a"
      },
      "outputs": [
        {
          "output_type": "execute_result",
          "data": {
            "text/plain": [
              "<matplotlib.image.AxesImage at 0x7ec373549210>"
            ]
          },
          "metadata": {},
          "execution_count": 3
        },
        {
          "output_type": "display_data",
          "data": {
            "text/plain": [
              "<Figure size 640x480 with 1 Axes>"
            ],
            "image/png": "[encoded data removed]"
          },
          "metadata": {}
        }
      ],
      "source": [
        "plt.imshow(image.permute(1, 2, 0).numpy())"
      ]
    },
    {
      "cell_type": "code",
      "execution_count": 4,
      "metadata": {
        "id": "vyoD8vI7gzxY"
      },
      "outputs": [],
      "source": [
        "train_loader = torch.utils.data.DataLoader(dataset=train_dataset,\n",
        "                                           batch_size=64,\n",
        "                                           shuffle=True)"
      ]
    },
    {
      "cell_type": "code",
      "execution_count": 5,
      "metadata": {
        "id": "VGN_1i4Mgzxa",
        "colab": {
          "base_uri": "https://localhost:8080/"
        },
        "outputId": "f4f665a4-86cd-4391-eed4-a64f73d9fbdb"
      },
      "outputs": [
        {
          "output_type": "stream",
          "name": "stdout",
          "text": [
            "Files already downloaded and verified\n"
          ]
        }
      ],
      "source": [
        "test_dataset = torchvision.datasets.CIFAR10(root=FOLDER_PATH,\n",
        "                                            train=False,\n",
        "                                            download=True,\n",
        "                                            transform=transforms.ToTensor())\n",
        "test_loader = torch.utils.data.DataLoader(test_dataset,\n",
        "                                          batch_size=8,\n",
        "                                          shuffle=False)"
      ]
    },
    {
      "cell_type": "code",
      "execution_count": 6,
      "metadata": {
        "id": "E4VxyTRSgzxc"
      },
      "outputs": [],
      "source": [
        "classes = ('plane', 'car', 'bird', 'cat',\n",
        "           'deer', 'dog', 'frog', 'horse', 'ship', 'truck')"
      ]
    },
    {
      "cell_type": "code",
      "execution_count": 7,
      "metadata": {
        "id": "i5sjXn7-gzxe"
      },
      "outputs": [],
      "source": [
        "# Создайте собственную архитектуру! Можете использовать все, что угодно, но в ограничении на использование линейные слои (пока без сверток)\n",
        "# Давайте добавим ограниченный Leaky_relu, то есть output = max(0.1x, 0.5x)\n",
        "# Ваша задача добавить его в архитектуру сети как функцию активации"
      ]
    },
    {
      "cell_type": "code",
      "execution_count": 8,
      "metadata": {
        "id": "Isdsn14-gzxh"
      },
      "outputs": [],
      "source": [
        "\n",
        "class Net(nn.Module):\n",
        "    def __init__(self, input_dim, hidden_dim, output_dim):\n",
        "        super().__init__()\n",
        "        self.fc1 = nn.Linear(input_dim, 4 * hidden_dim)\n",
        "        self.fc2 = nn.Linear(4 * hidden_dim, 2 * hidden_dim)\n",
        "        self.fc3 = nn.Linear(2 * hidden_dim, hidden_dim)\n",
        "        self.fc4 = nn.Linear(hidden_dim, output_dim)\n",
        "\n",
        "    def forward(self, x):\n",
        "        x = x.view(x.shape[0], -1)\n",
        "        x = self.fc1(x)\n",
        "        x = F.leaky_relu(x, 0.05)\n",
        "        x = self.fc2(x)\n",
        "        x = F.leaky_relu(x, 0.05)\n",
        "        x = self.fc3(x)\n",
        "        x = F.leaky_relu(x, 0.05)\n",
        "        x = self.fc4(x)\n",
        "       # x = F.softmax(x)\n",
        "        return x\n",
        "\n",
        "    def predict(self, x):\n",
        "        x = x.view(x.shape[0], -1)\n",
        "        x = self.fc1(x)\n",
        "        x = F.leaky_relu(x, 0.05)\n",
        "        x = self.fc2(x)\n",
        "        x = F.leaky_relu(x, 0.05)\n",
        "        x = self.fc3(x)\n",
        "        x = F.leaky_relu(x, 0.05)\n",
        "        x = self.fc4(x)\n",
        "        x = F.softmax(x)\n",
        "        return x\n",
        "\n",
        "\n",
        "net = Net(3072, 256, 10)"
      ]
    },
    {
      "cell_type": "markdown",
      "source": [
        "##optimizator - SDG\n",
        "epochs = 100\n"
      ],
      "metadata": {
        "id": "I2qaG9xwrjHS"
      }
    },
    {
      "cell_type": "code",
      "execution_count": 9,
      "metadata": {
        "id": "CBfpsVpKgzxo"
      },
      "outputs": [],
      "source": [
        "criterion = nn.CrossEntropyLoss()\n",
        "optimizer = optim.SGD(net.parameters(), lr=0.001, momentum=0.9)\n",
        "#optimizer = optim.Adam(net.parameters(), lr=1e-3)"
      ]
    },
    {
      "cell_type": "code",
      "execution_count": 10,
      "metadata": {
        "id": "nSwZ1ScHgzxp"
      },
      "outputs": [],
      "source": [
        "from tqdm import tqdm"
      ]
    },
    {
      "cell_type": "code",
      "execution_count": 11,
      "metadata": {
        "id": "rLX-Wttogzxq",
        "colab": {
          "base_uri": "https://localhost:8080/"
        },
        "outputId": "6ad868aa-5934-4ab2-a2ed-590dd206634f"
      },
      "outputs": [
        {
          "output_type": "stream",
          "name": "stderr",
          "text": [
            "\r  0%|          | 0/30 [00:00<?, ?it/s]"
          ]
        },
        {
          "output_type": "stream",
          "name": "stdout",
          "text": [
            "[1,     1] loss: 0.001\n",
            "[1,   301] loss: 0.343\n",
            "[1,   601] loss: 0.333\n"
          ]
        },
        {
          "output_type": "stream",
          "name": "stderr",
          "text": [
            "\r  3%|▎         | 1/30 [00:36<17:46, 36.79s/it]"
          ]
        },
        {
          "output_type": "stream",
          "name": "stdout",
          "text": [
            "[2,     1] loss: 0.001\n",
            "[2,   301] loss: 0.306\n",
            "[2,   601] loss: 0.296\n"
          ]
        },
        {
          "output_type": "stream",
          "name": "stderr",
          "text": [
            "\r  7%|▋         | 2/30 [01:10<16:17, 34.93s/it]"
          ]
        },
        {
          "output_type": "stream",
          "name": "stdout",
          "text": [
            "[3,     1] loss: 0.001\n",
            "[3,   301] loss: 0.285\n",
            "[3,   601] loss: 0.281\n"
          ]
        },
        {
          "output_type": "stream",
          "name": "stderr",
          "text": [
            "\r 10%|█         | 3/30 [01:42<15:13, 33.85s/it]"
          ]
        },
        {
          "output_type": "stream",
          "name": "stdout",
          "text": [
            "[4,     1] loss: 0.001\n",
            "[4,   301] loss: 0.275\n",
            "[4,   601] loss: 0.270\n"
          ]
        },
        {
          "output_type": "stream",
          "name": "stderr",
          "text": [
            "\r 13%|█▎        | 4/30 [02:15<14:26, 33.32s/it]"
          ]
        },
        {
          "output_type": "stream",
          "name": "stdout",
          "text": [
            "[5,     1] loss: 0.001\n",
            "[5,   301] loss: 0.265\n",
            "[5,   601] loss: 0.261\n"
          ]
        },
        {
          "output_type": "stream",
          "name": "stderr",
          "text": [
            "\r 17%|█▋        | 5/30 [02:49<13:56, 33.46s/it]"
          ]
        },
        {
          "output_type": "stream",
          "name": "stdout",
          "text": [
            "[6,     1] loss: 0.001\n",
            "[6,   301] loss: 0.256\n",
            "[6,   601] loss: 0.256\n"
          ]
        },
        {
          "output_type": "stream",
          "name": "stderr",
          "text": [
            "\r 20%|██        | 6/30 [03:21<13:17, 33.22s/it]"
          ]
        },
        {
          "output_type": "stream",
          "name": "stdout",
          "text": [
            "[7,     1] loss: 0.001\n",
            "[7,   301] loss: 0.250\n",
            "[7,   601] loss: 0.248\n"
          ]
        },
        {
          "output_type": "stream",
          "name": "stderr",
          "text": [
            "\r 23%|██▎       | 7/30 [03:55<12:46, 33.32s/it]"
          ]
        },
        {
          "output_type": "stream",
          "name": "stdout",
          "text": [
            "[8,     1] loss: 0.001\n",
            "[8,   301] loss: 0.244\n",
            "[8,   601] loss: 0.242\n"
          ]
        },
        {
          "output_type": "stream",
          "name": "stderr",
          "text": [
            "\r 27%|██▋       | 8/30 [04:29<12:15, 33.43s/it]"
          ]
        },
        {
          "output_type": "stream",
          "name": "stdout",
          "text": [
            "[9,     1] loss: 0.001\n",
            "[9,   301] loss: 0.241\n",
            "[9,   601] loss: 0.236\n"
          ]
        },
        {
          "output_type": "stream",
          "name": "stderr",
          "text": [
            "\r 30%|███       | 9/30 [05:02<11:40, 33.35s/it]"
          ]
        },
        {
          "output_type": "stream",
          "name": "stdout",
          "text": [
            "[10,     1] loss: 0.001\n",
            "[10,   301] loss: 0.233\n",
            "[10,   601] loss: 0.231\n"
          ]
        },
        {
          "output_type": "stream",
          "name": "stderr",
          "text": [
            "\r 33%|███▎      | 10/30 [05:35<11:03, 33.18s/it]"
          ]
        },
        {
          "output_type": "stream",
          "name": "stdout",
          "text": [
            "[11,     1] loss: 0.001\n",
            "[11,   301] loss: 0.229\n",
            "[11,   601] loss: 0.226\n"
          ]
        },
        {
          "output_type": "stream",
          "name": "stderr",
          "text": [
            "\r 37%|███▋      | 11/30 [06:07<10:28, 33.06s/it]"
          ]
        },
        {
          "output_type": "stream",
          "name": "stdout",
          "text": [
            "[12,     1] loss: 0.001\n",
            "[12,   301] loss: 0.224\n",
            "[12,   601] loss: 0.223\n"
          ]
        },
        {
          "output_type": "stream",
          "name": "stderr",
          "text": [
            "\r 40%|████      | 12/30 [06:43<10:06, 33.70s/it]"
          ]
        },
        {
          "output_type": "stream",
          "name": "stdout",
          "text": [
            "[13,     1] loss: 0.001\n",
            "[13,   301] loss: 0.220\n",
            "[13,   601] loss: 0.219\n"
          ]
        },
        {
          "output_type": "stream",
          "name": "stderr",
          "text": [
            "\r 43%|████▎     | 13/30 [07:17<09:35, 33.83s/it]"
          ]
        },
        {
          "output_type": "stream",
          "name": "stdout",
          "text": [
            "[14,     1] loss: 0.001\n",
            "[14,   301] loss: 0.216\n",
            "[14,   601] loss: 0.216\n"
          ]
        },
        {
          "output_type": "stream",
          "name": "stderr",
          "text": [
            "\r 47%|████▋     | 14/30 [07:50<09:00, 33.79s/it]"
          ]
        },
        {
          "output_type": "stream",
          "name": "stdout",
          "text": [
            "[15,     1] loss: 0.001\n",
            "[15,   301] loss: 0.212\n",
            "[15,   601] loss: 0.213\n"
          ]
        },
        {
          "output_type": "stream",
          "name": "stderr",
          "text": [
            "\r 50%|█████     | 15/30 [08:24<08:28, 33.87s/it]"
          ]
        },
        {
          "output_type": "stream",
          "name": "stdout",
          "text": [
            "[16,     1] loss: 0.001\n",
            "[16,   301] loss: 0.210\n",
            "[16,   601] loss: 0.208\n"
          ]
        },
        {
          "output_type": "stream",
          "name": "stderr",
          "text": [
            "\r 53%|█████▎    | 16/30 [08:59<07:55, 33.94s/it]"
          ]
        },
        {
          "output_type": "stream",
          "name": "stdout",
          "text": [
            "[17,     1] loss: 0.001\n",
            "[17,   301] loss: 0.205\n",
            "[17,   601] loss: 0.205\n"
          ]
        },
        {
          "output_type": "stream",
          "name": "stderr",
          "text": [
            "\r 57%|█████▋    | 17/30 [09:32<07:19, 33.79s/it]"
          ]
        },
        {
          "output_type": "stream",
          "name": "stdout",
          "text": [
            "[18,     1] loss: 0.001\n",
            "[18,   301] loss: 0.204\n",
            "[18,   601] loss: 0.203\n"
          ]
        },
        {
          "output_type": "stream",
          "name": "stderr",
          "text": [
            "\r 60%|██████    | 18/30 [10:07<06:49, 34.13s/it]"
          ]
        },
        {
          "output_type": "stream",
          "name": "stdout",
          "text": [
            "[19,     1] loss: 0.001\n",
            "[19,   301] loss: 0.198\n",
            "[19,   601] loss: 0.201\n"
          ]
        },
        {
          "output_type": "stream",
          "name": "stderr",
          "text": [
            "\r 63%|██████▎   | 19/30 [10:43<06:20, 34.60s/it]"
          ]
        },
        {
          "output_type": "stream",
          "name": "stdout",
          "text": [
            "[20,     1] loss: 0.001\n",
            "[20,   301] loss: 0.197\n",
            "[20,   601] loss: 0.198\n"
          ]
        },
        {
          "output_type": "stream",
          "name": "stderr",
          "text": [
            "\r 67%|██████▋   | 20/30 [11:22<05:59, 35.98s/it]"
          ]
        },
        {
          "output_type": "stream",
          "name": "stdout",
          "text": [
            "[21,     1] loss: 0.001\n",
            "[21,   301] loss: 0.195\n",
            "[21,   601] loss: 0.195\n"
          ]
        },
        {
          "output_type": "stream",
          "name": "stderr",
          "text": [
            "\r 70%|███████   | 21/30 [11:56<05:20, 35.56s/it]"
          ]
        },
        {
          "output_type": "stream",
          "name": "stdout",
          "text": [
            "[22,     1] loss: 0.001\n",
            "[22,   301] loss: 0.193\n",
            "[22,   601] loss: 0.193\n"
          ]
        },
        {
          "output_type": "stream",
          "name": "stderr",
          "text": [
            "\r 73%|███████▎  | 22/30 [12:31<04:41, 35.19s/it]"
          ]
        },
        {
          "output_type": "stream",
          "name": "stdout",
          "text": [
            "[23,     1] loss: 0.001\n",
            "[23,   301] loss: 0.191\n",
            "[23,   601] loss: 0.189\n"
          ]
        },
        {
          "output_type": "stream",
          "name": "stderr",
          "text": [
            "\r 77%|███████▋  | 23/30 [13:04<04:03, 34.76s/it]"
          ]
        },
        {
          "output_type": "stream",
          "name": "stdout",
          "text": [
            "[24,     1] loss: 0.001\n",
            "[24,   301] loss: 0.187\n",
            "[24,   601] loss: 0.188\n"
          ]
        },
        {
          "output_type": "stream",
          "name": "stderr",
          "text": [
            "\r 80%|████████  | 24/30 [13:39<03:27, 34.62s/it]"
          ]
        },
        {
          "output_type": "stream",
          "name": "stdout",
          "text": [
            "[25,     1] loss: 0.001\n",
            "[25,   301] loss: 0.184\n",
            "[25,   601] loss: 0.187\n"
          ]
        },
        {
          "output_type": "stream",
          "name": "stderr",
          "text": [
            "\r 83%|████████▎ | 25/30 [14:14<02:53, 34.67s/it]"
          ]
        },
        {
          "output_type": "stream",
          "name": "stdout",
          "text": [
            "[26,     1] loss: 0.001\n",
            "[26,   301] loss: 0.183\n",
            "[26,   601] loss: 0.183\n"
          ]
        },
        {
          "output_type": "stream",
          "name": "stderr",
          "text": [
            "\r 87%|████████▋ | 26/30 [14:49<02:19, 34.90s/it]"
          ]
        },
        {
          "output_type": "stream",
          "name": "stdout",
          "text": [
            "[27,     1] loss: 0.001\n",
            "[27,   301] loss: 0.181\n",
            "[27,   601] loss: 0.179\n"
          ]
        },
        {
          "output_type": "stream",
          "name": "stderr",
          "text": [
            "\r 90%|█████████ | 27/30 [15:23<01:44, 34.71s/it]"
          ]
        },
        {
          "output_type": "stream",
          "name": "stdout",
          "text": [
            "[28,     1] loss: 0.001\n",
            "[28,   301] loss: 0.177\n",
            "[28,   601] loss: 0.179\n"
          ]
        },
        {
          "output_type": "stream",
          "name": "stderr",
          "text": [
            "\r 93%|█████████▎| 28/30 [15:58<01:09, 34.68s/it]"
          ]
        },
        {
          "output_type": "stream",
          "name": "stdout",
          "text": [
            "[29,     1] loss: 0.001\n",
            "[29,   301] loss: 0.178\n",
            "[29,   601] loss: 0.175\n"
          ]
        },
        {
          "output_type": "stream",
          "name": "stderr",
          "text": [
            "\r 97%|█████████▋| 29/30 [16:32<00:34, 34.54s/it]"
          ]
        },
        {
          "output_type": "stream",
          "name": "stdout",
          "text": [
            "[30,     1] loss: 0.000\n",
            "[30,   301] loss: 0.174\n",
            "[30,   601] loss: 0.173\n"
          ]
        },
        {
          "output_type": "stream",
          "name": "stderr",
          "text": [
            "100%|██████████| 30/30 [17:05<00:00, 34.19s/it]"
          ]
        },
        {
          "output_type": "stream",
          "name": "stdout",
          "text": [
            "Training is finished!\n"
          ]
        },
        {
          "output_type": "stream",
          "name": "stderr",
          "text": [
            "\n"
          ]
        }
      ],
      "source": [
        "num_epochs = 100\n",
        "for epoch in tqdm(range(num_epochs)):\n",
        "    running_loss = 0.0\n",
        "\n",
        "\n",
        "\n",
        "    for i, data in enumerate(train_loader, 0):\n",
        "        inputs, labels = data[0], data[1]\n",
        "\n",
        "        # обнуляем градиент\n",
        "        optimizer.zero_grad()\n",
        "\n",
        "        outputs = net(inputs)\n",
        "        loss = criterion(outputs, labels)\n",
        "        loss.backward()\n",
        "        optimizer.step()\n",
        "\n",
        "        # выводим статистику о процессе обучения\n",
        "        running_loss += loss.item()\n",
        "        if i % 300 == 0:    # печатаем каждые 300 mini-batches\n",
        "            print('[%d, %5d] loss: %.3f' %\n",
        "                  (epoch + 1, i + 1, running_loss / 2000))\n",
        "            running_loss = 0.0\n",
        "\n",
        "print('Training is finished!')"
      ]
    },
    {
      "cell_type": "code",
      "execution_count": 12,
      "metadata": {
        "id": "5iqw11hagzxt"
      },
      "outputs": [],
      "source": [
        "PATH_WEIGHTS = 'C:/Users/Kate/Desktop/PT/cifar_net_weight.pth'\n",
        "torch.save(net.state_dict(), PATH_WEIGHTS)"
      ]
    },
    {
      "cell_type": "code",
      "execution_count": 13,
      "metadata": {
        "id": "koAufxr4gzxu",
        "colab": {
          "base_uri": "https://localhost:8080/"
        },
        "outputId": "26f42117-6fed-4d0f-a61e-51722b2288ab"
      },
      "outputs": [
        {
          "output_type": "stream",
          "name": "stdout",
          "text": [
            "Model state dict:\n",
            "fc1.weight \t OrderedDict([('fc1.weight', tensor([[ 0.0111, -0.0082, -0.0085,  ...,  0.0066,  0.0061, -0.0060],\n",
            "        [ 0.0129,  0.0103,  0.0149,  ..., -0.0092, -0.0004,  0.0147],\n",
            "        [-0.0100, -0.0132, -0.0184,  ...,  0.0042, -0.0006,  0.0060],\n",
            "        ...,\n",
            "        [-0.0227,  0.0054, -0.0113,  ...,  0.0008, -0.0013, -0.0010],\n",
            "        [-0.0104, -0.0007, -0.0004,  ...,  0.0081, -0.0177, -0.0098],\n",
            "        [-0.0039,  0.0023,  0.0027,  ...,  0.0165, -0.0037,  0.0021]])), ('fc1.bias', tensor([ 0.0181, -0.0065,  0.0050,  ...,  0.0131,  0.0076, -0.0350])), ('fc2.weight', tensor([[ 0.0088,  0.0159, -0.0135,  ...,  0.0214,  0.0010,  0.0112],\n",
            "        [ 0.0194,  0.0012, -0.0181,  ...,  0.0305,  0.0291,  0.0043],\n",
            "        [ 0.0075, -0.0280, -0.0306,  ...,  0.0263, -0.0199, -0.0190],\n",
            "        ...,\n",
            "        [ 0.0136,  0.0046,  0.0174,  ...,  0.0180,  0.0260,  0.0220],\n",
            "        [ 0.0116,  0.0150,  0.0010,  ...,  0.0252,  0.0192,  0.0259],\n",
            "        [-0.0160,  0.0198, -0.0134,  ...,  0.0023, -0.0205, -0.0222]])), ('fc2.bias', tensor([-9.3907e-03,  5.8124e-02,  5.6755e-03, -1.0492e-02,  6.5335e-02,\n",
            "        -4.4018e-02, -5.9762e-02, -4.2246e-03,  3.8275e-02,  3.6302e-02,\n",
            "         1.6662e-02,  6.4612e-02,  3.5137e-02,  7.2931e-02,  5.3276e-02,\n",
            "        -2.6933e-02, -1.0717e-02, -3.3024e-02,  2.6869e-02, -4.6655e-03,\n",
            "         1.2705e-03, -1.3807e-02, -1.0987e-02, -7.2684e-03,  1.3433e-02,\n",
            "         8.1536e-02, -2.4979e-02, -1.8065e-02,  4.7173e-02, -4.8969e-03,\n",
            "        -2.0728e-02, -9.3475e-03, -2.0027e-02, -5.2960e-02,  2.5806e-02,\n",
            "         5.6503e-02, -9.8518e-02, -2.4705e-02,  4.3998e-03, -2.2818e-02,\n",
            "        -1.1278e-02, -2.5683e-02, -3.1951e-02, -1.6171e-02, -2.6494e-02,\n",
            "         3.8465e-03, -5.0638e-02,  6.5880e-03, -1.3942e-02,  7.2248e-02,\n",
            "        -2.0545e-02,  3.6588e-02,  6.8941e-02, -2.8519e-02, -1.8967e-02,\n",
            "         1.7368e-03,  3.6481e-02, -1.4161e-02,  7.0381e-02,  4.0343e-02,\n",
            "        -2.7757e-02,  1.2045e-04,  6.5706e-02,  9.2438e-03,  1.8472e-02,\n",
            "         4.6114e-02,  2.4899e-02,  1.7510e-02, -4.3083e-02,  6.4035e-02,\n",
            "        -1.3455e-02,  9.4503e-03,  6.6266e-02,  1.3071e-02, -5.1356e-02,\n",
            "        -2.9566e-02, -1.4881e-02,  2.5453e-02,  3.3914e-02, -2.4571e-02,\n",
            "        -2.5806e-02, -5.7497e-02, -1.5371e-02,  2.1639e-02, -9.1309e-02,\n",
            "         5.8875e-02,  6.1256e-02, -3.0452e-02,  2.6004e-03,  2.0958e-02,\n",
            "        -1.5621e-02, -1.3033e-02, -1.7979e-02, -3.0921e-03,  4.4951e-02,\n",
            "        -2.3649e-02, -2.1636e-02,  5.0235e-02, -8.0826e-02, -1.1077e-02,\n",
            "        -2.9295e-03,  2.4503e-02,  1.0069e-01,  9.6073e-02, -8.0307e-03,\n",
            "        -7.5215e-03,  7.8227e-02,  2.1837e-02, -5.1814e-03,  6.7313e-02,\n",
            "        -2.1011e-02, -5.3678e-02, -1.5544e-02,  3.0097e-02,  1.4627e-03,\n",
            "         2.3740e-02,  3.9199e-02, -9.6148e-03, -5.9218e-02, -3.2167e-02,\n",
            "         7.9183e-03, -2.1768e-02, -5.9324e-02, -9.7271e-02, -6.0585e-03,\n",
            "         2.9924e-02,  1.7455e-02,  5.7323e-03, -3.5120e-02,  7.4157e-02,\n",
            "         9.9936e-03,  8.6887e-03,  3.4343e-02, -2.7359e-02,  1.4562e-02,\n",
            "        -2.4727e-03,  1.2062e-03, -5.0856e-02,  5.1594e-02, -1.2724e-02,\n",
            "         1.0998e-02, -3.7498e-02,  7.5636e-02,  1.3210e-01, -6.3664e-02,\n",
            "        -6.0726e-04,  1.0333e-01,  4.2140e-03, -3.1553e-02,  1.7325e-02,\n",
            "         9.8532e-03,  2.3102e-03, -5.4560e-02,  1.2564e-02, -1.0419e-02,\n",
            "         3.3411e-02,  7.1305e-05, -2.6205e-02, -1.4592e-03,  2.4098e-03,\n",
            "        -1.9375e-02,  2.6023e-02,  4.1930e-02, -1.0504e-02,  9.6453e-02,\n",
            "         7.8926e-03, -2.1372e-02, -6.3300e-03, -1.6311e-03, -6.1264e-03,\n",
            "         2.3782e-02, -6.9823e-02, -7.5425e-03, -1.0885e-02,  2.9662e-02,\n",
            "         5.2459e-02,  1.1141e-02, -7.5535e-03,  1.1500e-02,  2.3680e-02,\n",
            "         7.1863e-03,  1.3583e-02, -5.2255e-02, -1.1881e-02,  1.1858e-02,\n",
            "        -2.6316e-02,  1.8965e-02, -2.6337e-02, -5.8620e-02, -2.3997e-02,\n",
            "        -5.4386e-03,  3.5633e-02, -2.6955e-02, -2.7524e-02,  1.3648e-02,\n",
            "        -5.4285e-02,  4.6251e-02,  3.1987e-02,  1.4781e-03,  6.0120e-02,\n",
            "        -5.8071e-02, -1.4772e-02,  7.6385e-03,  3.0810e-03, -1.4588e-02,\n",
            "         1.1066e-01, -2.4445e-02, -4.5862e-02,  6.3047e-02,  8.1392e-02,\n",
            "        -4.9569e-03, -7.8091e-03, -4.1682e-02,  2.4518e-02, -5.1901e-02,\n",
            "         1.1109e-02,  7.3441e-02,  7.4725e-02,  4.9311e-02,  3.2265e-03,\n",
            "         3.2110e-02, -5.5071e-02,  1.4716e-02,  3.8142e-02,  5.5324e-02,\n",
            "         9.1763e-02,  3.3215e-02, -2.2850e-02, -3.8901e-02,  2.4486e-02,\n",
            "        -2.0329e-02,  4.2221e-02, -1.3289e-02,  9.0446e-02,  1.2329e-02,\n",
            "         3.1729e-02,  3.5741e-03, -2.6481e-02, -1.0368e-02, -3.8108e-02,\n",
            "         2.3387e-02,  1.3809e-02,  7.9613e-02,  7.7602e-02, -2.4085e-02,\n",
            "         2.3131e-02,  1.6289e-02, -2.2002e-02, -5.3456e-02,  2.1649e-02,\n",
            "         2.9084e-02,  4.2865e-02, -1.7653e-02, -3.2597e-02, -1.2699e-02,\n",
            "         3.4878e-02, -7.2913e-03, -1.8691e-02,  1.0619e-02, -2.2897e-02,\n",
            "        -1.5465e-01, -9.9595e-03, -7.8906e-03, -1.7803e-04,  2.9991e-03,\n",
            "         1.7437e-02, -4.5316e-03, -4.6754e-02,  1.5209e-02,  2.9278e-02,\n",
            "         6.6734e-04,  7.2638e-02,  4.7398e-02,  1.1696e-02,  2.8760e-02,\n",
            "         1.7859e-02,  4.7850e-02, -1.1934e-02, -7.6772e-03,  8.4868e-02,\n",
            "        -4.5561e-03, -3.1245e-02, -1.8441e-02,  3.0177e-02,  3.4745e-02,\n",
            "         5.8307e-03, -2.0930e-02,  6.6294e-02, -2.8679e-02,  7.8298e-02,\n",
            "         9.6589e-03,  9.8228e-02,  4.6103e-02, -3.4738e-02, -5.3236e-02,\n",
            "        -2.9300e-03, -2.1778e-02,  8.2345e-03,  8.3438e-02, -1.3717e-02,\n",
            "         1.5029e-02,  6.1599e-03, -1.2908e-02, -1.9242e-02,  3.1825e-02,\n",
            "        -1.4530e-02,  6.3534e-03,  4.7696e-03, -3.3699e-02,  6.1708e-03,\n",
            "         7.8270e-02, -2.0784e-03, -2.4142e-02, -1.6465e-02, -1.7072e-02,\n",
            "         3.7843e-02, -3.4460e-02, -2.9735e-03, -1.0799e-02,  3.3014e-02,\n",
            "        -6.0436e-02,  1.7799e-02, -1.2008e-02, -1.8929e-02,  1.5487e-02,\n",
            "         1.9959e-02, -5.4778e-02, -4.4758e-03,  2.3601e-03, -7.6998e-03,\n",
            "         3.8019e-02,  3.0579e-02, -9.8502e-04,  2.5852e-02, -9.5355e-02,\n",
            "        -2.1165e-02,  1.6603e-02,  5.6325e-02,  1.1962e-01,  8.6397e-03,\n",
            "         4.7190e-02, -7.5885e-03,  3.1535e-02,  5.5515e-02, -1.0507e-02,\n",
            "        -4.6449e-02,  1.8930e-02, -4.8832e-02,  3.9564e-03, -6.0529e-02,\n",
            "         4.5211e-02,  1.4734e-02, -7.6456e-03, -5.9617e-02, -2.6084e-02,\n",
            "         1.8264e-02,  1.3083e-01, -7.5929e-02,  8.2911e-02, -7.9233e-02,\n",
            "         6.1786e-02, -8.5511e-04, -9.6028e-02,  4.8227e-02, -3.2147e-02,\n",
            "        -2.0731e-02, -2.2040e-02,  7.5977e-04, -1.7564e-02,  1.3438e-01,\n",
            "         3.9277e-02,  7.7046e-02, -1.5747e-02,  4.1426e-03,  3.4506e-02,\n",
            "         2.7576e-03, -9.4167e-03, -9.2707e-03, -1.2084e-02, -2.6162e-03,\n",
            "         1.0079e-03, -4.0700e-02, -3.0578e-02, -2.9567e-02,  7.2565e-02,\n",
            "         3.4845e-02,  5.9873e-02, -2.6953e-02,  3.0431e-02,  3.2555e-02,\n",
            "         2.7341e-02, -3.1475e-02, -9.1915e-03, -4.4317e-02, -4.5956e-02,\n",
            "         1.4616e-02,  5.7801e-02,  2.9705e-02,  2.6796e-02, -3.4809e-03,\n",
            "         1.2046e-02, -2.8476e-02,  3.9043e-02,  5.7456e-03,  2.8186e-02,\n",
            "        -6.2958e-02,  4.2600e-02,  4.6786e-03,  1.7891e-03, -2.0079e-03,\n",
            "         1.8733e-02,  4.2471e-02,  2.8136e-02,  5.3950e-02,  4.7770e-02,\n",
            "         7.8637e-03, -9.6420e-03,  3.3046e-02, -9.3638e-03,  1.5144e-02,\n",
            "        -4.2552e-02, -6.6454e-02,  4.8143e-02, -1.1706e-02, -1.8413e-02,\n",
            "         1.3550e-02,  3.7569e-02,  6.5881e-03,  1.1610e-02,  6.4549e-02,\n",
            "         2.6005e-02, -3.6623e-02, -5.3657e-02, -2.9087e-02, -1.8983e-02,\n",
            "        -1.6947e-02,  1.0355e-01, -2.2131e-03, -6.6767e-03, -2.6723e-02,\n",
            "         3.3629e-02,  2.9144e-02,  5.5728e-02,  2.5621e-02,  1.4000e-01,\n",
            "         2.5966e-03, -2.9388e-02,  7.5327e-02,  7.7913e-02, -2.9437e-03,\n",
            "        -1.9965e-03, -7.3120e-03,  6.7700e-02, -2.5768e-02, -4.4250e-02,\n",
            "        -4.7871e-02, -1.8144e-02,  7.0454e-03,  1.3758e-03, -3.0194e-02,\n",
            "         9.6560e-04,  2.6350e-02, -3.4314e-02, -2.5300e-02, -1.1032e-02,\n",
            "        -3.7807e-02, -1.5129e-02,  2.2383e-02, -2.8257e-02,  2.3531e-02,\n",
            "        -9.4419e-03, -5.9896e-03, -2.9089e-02,  4.4203e-02, -6.3386e-02,\n",
            "        -2.3045e-02,  5.2101e-03,  5.8716e-03,  3.6981e-02, -5.0303e-02,\n",
            "         7.5715e-03, -3.0672e-02, -1.0939e-02,  2.9387e-02,  4.6181e-02,\n",
            "         5.7406e-03, -6.3428e-02,  2.7341e-02,  3.2202e-02,  1.8131e-01,\n",
            "         1.4383e-02,  4.7143e-02,  2.6374e-02,  5.7079e-02,  4.0889e-03,\n",
            "        -3.2178e-03,  7.4534e-02,  8.8117e-03, -4.0967e-03, -2.0686e-02,\n",
            "        -2.8663e-02, -3.6480e-02, -3.4022e-03, -3.2470e-02,  4.8306e-02,\n",
            "        -4.5996e-02, -8.2241e-03,  1.3294e-01,  8.9525e-02, -9.2497e-02,\n",
            "        -2.8660e-02,  1.0673e-02])), ('fc3.weight', tensor([[-0.0077,  0.0307,  0.0282,  ...,  0.0546,  0.0292, -0.0180],\n",
            "        [ 0.0442,  0.0233,  0.0083,  ...,  0.0161,  0.0163,  0.0291],\n",
            "        [-0.0131, -0.0256, -0.0143,  ...,  0.0215, -0.0045, -0.0032],\n",
            "        ...,\n",
            "        [ 0.0444,  0.0109,  0.0005,  ...,  0.0004, -0.0285, -0.0070],\n",
            "        [ 0.0225, -0.0425,  0.0265,  ..., -0.0061,  0.0183, -0.0234],\n",
            "        [ 0.0352,  0.0214, -0.0466,  ..., -0.0017, -0.0186,  0.0249]])), ('fc3.bias', tensor([ 0.0654,  0.0182, -0.0222,  0.0133,  0.0284,  0.0449,  0.0652, -0.0277,\n",
            "        -0.0429,  0.1091, -0.0021, -0.0337,  0.1181,  0.0573, -0.0246,  0.0457,\n",
            "        -0.0199, -0.0313, -0.0226, -0.0585,  0.0078,  0.0037, -0.0032,  0.0936,\n",
            "         0.0519,  0.0779, -0.0653,  0.0198,  0.1402,  0.1127,  0.0070,  0.0641,\n",
            "        -0.0021,  0.0555, -0.0381, -0.0154, -0.0217, -0.0117,  0.0373,  0.0624,\n",
            "        -0.0283, -0.0076, -0.0370,  0.1390,  0.0539, -0.0024, -0.0201,  0.0194,\n",
            "        -0.0114,  0.0521,  0.0254,  0.0081, -0.0548, -0.0231,  0.0850, -0.0174,\n",
            "        -0.0164,  0.0294, -0.0304,  0.0599, -0.0350, -0.0429,  0.1087, -0.0449,\n",
            "        -0.0189, -0.0152,  0.0471, -0.0263,  0.0447,  0.0662, -0.0178, -0.0343,\n",
            "        -0.0290,  0.0708, -0.0416, -0.0506,  0.0618,  0.0336, -0.0146, -0.0502,\n",
            "         0.1299,  0.0452, -0.0255, -0.1092, -0.0024,  0.0166,  0.0513,  0.0279,\n",
            "         0.0476,  0.0055,  0.0424,  0.0866,  0.0160,  0.0117, -0.0685,  0.0402,\n",
            "         0.0545, -0.1325,  0.0562, -0.0350, -0.0146,  0.0616,  0.0013,  0.0197,\n",
            "        -0.0561,  0.0136,  0.0495,  0.0930,  0.0823,  0.0044, -0.0092, -0.1306,\n",
            "         0.0448,  0.0155,  0.0445,  0.0104, -0.0037, -0.0341,  0.0710,  0.0060,\n",
            "        -0.0062, -0.0027,  0.0167,  0.0248, -0.0396,  0.0551,  0.0592,  0.0096,\n",
            "         0.0398,  0.0185, -0.1271,  0.0584, -0.0701,  0.0216,  0.1176,  0.0219,\n",
            "        -0.0128, -0.0146,  0.0708, -0.0165,  0.1389, -0.0078, -0.0124,  0.0104,\n",
            "         0.0491, -0.0535,  0.0394,  0.0745,  0.0348, -0.0511,  0.0623,  0.0190,\n",
            "        -0.0340,  0.0183,  0.0429,  0.0101,  0.0167,  0.0556, -0.0508,  0.0775,\n",
            "         0.0768,  0.0346,  0.0345, -0.0359, -0.0770,  0.0908,  0.0160,  0.0132,\n",
            "         0.0092, -0.0270, -0.0096,  0.0457, -0.0433,  0.0248, -0.0347,  0.0162,\n",
            "        -0.0295,  0.1163,  0.1168,  0.0799,  0.0276,  0.0698, -0.0459, -0.0425,\n",
            "        -0.0212,  0.0678, -0.0048, -0.0276,  0.0165,  0.0249,  0.0641,  0.0900,\n",
            "         0.0249, -0.0083,  0.0243,  0.0747, -0.0067, -0.0280,  0.0515,  0.1237,\n",
            "        -0.0114, -0.0349,  0.0341,  0.0276, -0.0076,  0.0572,  0.0006, -0.0189,\n",
            "         0.1597,  0.0124,  0.0504,  0.0994,  0.0554, -0.0788, -0.1008,  0.0415,\n",
            "        -0.0144,  0.1299, -0.0100, -0.0674,  0.0008,  0.0261, -0.0315, -0.0208,\n",
            "        -0.0060, -0.0480, -0.0225,  0.0802, -0.0313,  0.0473,  0.0199,  0.0244,\n",
            "         0.0892,  0.0775,  0.0320,  0.0096, -0.0315,  0.0360,  0.0502,  0.1163,\n",
            "        -0.0743,  0.0078,  0.1213,  0.0009, -0.0481,  0.0266, -0.0250, -0.0019,\n",
            "         0.0244, -0.0280,  0.0550, -0.0092, -0.0350,  0.0183, -0.0330, -0.0270])), ('fc4.weight', tensor([[-0.1825,  0.0302,  0.0108,  ...,  0.0574, -0.0289,  0.1529],\n",
            "        [-0.2604,  0.2033,  0.0461,  ..., -0.0047, -0.0443, -0.0861],\n",
            "        [ 0.0838,  0.0562, -0.0699,  ..., -0.0033, -0.0132,  0.0351],\n",
            "        ...,\n",
            "        [ 0.0357,  0.0031, -0.0571,  ...,  0.0711,  0.0048,  0.0841],\n",
            "        [ 0.0401, -0.2020,  0.0589,  ...,  0.1012,  0.0260,  0.0634],\n",
            "        [ 0.0850,  0.2325, -0.0254,  ..., -0.0337, -0.0224,  0.0452]])), ('fc4.bias', tensor([-0.3918,  0.1146,  0.1362,  0.0551,  0.3249, -0.2716,  0.2862,  0.0235,\n",
            "        -0.1882, -0.0468]))])\n",
            "fc1.bias \t OrderedDict([('fc1.weight', tensor([[ 0.0111, -0.0082, -0.0085,  ...,  0.0066,  0.0061, -0.0060],\n",
            "        [ 0.0129,  0.0103,  0.0149,  ..., -0.0092, -0.0004,  0.0147],\n",
            "        [-0.0100, -0.0132, -0.0184,  ...,  0.0042, -0.0006,  0.0060],\n",
            "        ...,\n",
            "        [-0.0227,  0.0054, -0.0113,  ...,  0.0008, -0.0013, -0.0010],\n",
            "        [-0.0104, -0.0007, -0.0004,  ...,  0.0081, -0.0177, -0.0098],\n",
            "        [-0.0039,  0.0023,  0.0027,  ...,  0.0165, -0.0037,  0.0021]])), ('fc1.bias', tensor([ 0.0181, -0.0065,  0.0050,  ...,  0.0131,  0.0076, -0.0350])), ('fc2.weight', tensor([[ 0.0088,  0.0159, -0.0135,  ...,  0.0214,  0.0010,  0.0112],\n",
            "        [ 0.0194,  0.0012, -0.0181,  ...,  0.0305,  0.0291,  0.0043],\n",
            "        [ 0.0075, -0.0280, -0.0306,  ...,  0.0263, -0.0199, -0.0190],\n",
            "        ...,\n",
            "        [ 0.0136,  0.0046,  0.0174,  ...,  0.0180,  0.0260,  0.0220],\n",
            "        [ 0.0116,  0.0150,  0.0010,  ...,  0.0252,  0.0192,  0.0259],\n",
            "        [-0.0160,  0.0198, -0.0134,  ...,  0.0023, -0.0205, -0.0222]])), ('fc2.bias', tensor([-9.3907e-03,  5.8124e-02,  5.6755e-03, -1.0492e-02,  6.5335e-02,\n",
            "        -4.4018e-02, -5.9762e-02, -4.2246e-03,  3.8275e-02,  3.6302e-02,\n",
            "         1.6662e-02,  6.4612e-02,  3.5137e-02,  7.2931e-02,  5.3276e-02,\n",
            "        -2.6933e-02, -1.0717e-02, -3.3024e-02,  2.6869e-02, -4.6655e-03,\n",
            "         1.2705e-03, -1.3807e-02, -1.0987e-02, -7.2684e-03,  1.3433e-02,\n",
            "         8.1536e-02, -2.4979e-02, -1.8065e-02,  4.7173e-02, -4.8969e-03,\n",
            "        -2.0728e-02, -9.3475e-03, -2.0027e-02, -5.2960e-02,  2.5806e-02,\n",
            "         5.6503e-02, -9.8518e-02, -2.4705e-02,  4.3998e-03, -2.2818e-02,\n",
            "        -1.1278e-02, -2.5683e-02, -3.1951e-02, -1.6171e-02, -2.6494e-02,\n",
            "         3.8465e-03, -5.0638e-02,  6.5880e-03, -1.3942e-02,  7.2248e-02,\n",
            "        -2.0545e-02,  3.6588e-02,  6.8941e-02, -2.8519e-02, -1.8967e-02,\n",
            "         1.7368e-03,  3.6481e-02, -1.4161e-02,  7.0381e-02,  4.0343e-02,\n",
            "        -2.7757e-02,  1.2045e-04,  6.5706e-02,  9.2438e-03,  1.8472e-02,\n",
            "         4.6114e-02,  2.4899e-02,  1.7510e-02, -4.3083e-02,  6.4035e-02,\n",
            "        -1.3455e-02,  9.4503e-03,  6.6266e-02,  1.3071e-02, -5.1356e-02,\n",
            "        -2.9566e-02, -1.4881e-02,  2.5453e-02,  3.3914e-02, -2.4571e-02,\n",
            "        -2.5806e-02, -5.7497e-02, -1.5371e-02,  2.1639e-02, -9.1309e-02,\n",
            "         5.8875e-02,  6.1256e-02, -3.0452e-02,  2.6004e-03,  2.0958e-02,\n",
            "        -1.5621e-02, -1.3033e-02, -1.7979e-02, -3.0921e-03,  4.4951e-02,\n",
            "        -2.3649e-02, -2.1636e-02,  5.0235e-02, -8.0826e-02, -1.1077e-02,\n",
            "        -2.9295e-03,  2.4503e-02,  1.0069e-01,  9.6073e-02, -8.0307e-03,\n",
            "        -7.5215e-03,  7.8227e-02,  2.1837e-02, -5.1814e-03,  6.7313e-02,\n",
            "        -2.1011e-02, -5.3678e-02, -1.5544e-02,  3.0097e-02,  1.4627e-03,\n",
            "         2.3740e-02,  3.9199e-02, -9.6148e-03, -5.9218e-02, -3.2167e-02,\n",
            "         7.9183e-03, -2.1768e-02, -5.9324e-02, -9.7271e-02, -6.0585e-03,\n",
            "         2.9924e-02,  1.7455e-02,  5.7323e-03, -3.5120e-02,  7.4157e-02,\n",
            "         9.9936e-03,  8.6887e-03,  3.4343e-02, -2.7359e-02,  1.4562e-02,\n",
            "        -2.4727e-03,  1.2062e-03, -5.0856e-02,  5.1594e-02, -1.2724e-02,\n",
            "         1.0998e-02, -3.7498e-02,  7.5636e-02,  1.3210e-01, -6.3664e-02,\n",
            "        -6.0726e-04,  1.0333e-01,  4.2140e-03, -3.1553e-02,  1.7325e-02,\n",
            "         9.8532e-03,  2.3102e-03, -5.4560e-02,  1.2564e-02, -1.0419e-02,\n",
            "         3.3411e-02,  7.1305e-05, -2.6205e-02, -1.4592e-03,  2.4098e-03,\n",
            "        -1.9375e-02,  2.6023e-02,  4.1930e-02, -1.0504e-02,  9.6453e-02,\n",
            "         7.8926e-03, -2.1372e-02, -6.3300e-03, -1.6311e-03, -6.1264e-03,\n",
            "         2.3782e-02, -6.9823e-02, -7.5425e-03, -1.0885e-02,  2.9662e-02,\n",
            "         5.2459e-02,  1.1141e-02, -7.5535e-03,  1.1500e-02,  2.3680e-02,\n",
            "         7.1863e-03,  1.3583e-02, -5.2255e-02, -1.1881e-02,  1.1858e-02,\n",
            "        -2.6316e-02,  1.8965e-02, -2.6337e-02, -5.8620e-02, -2.3997e-02,\n",
            "        -5.4386e-03,  3.5633e-02, -2.6955e-02, -2.7524e-02,  1.3648e-02,\n",
            "        -5.4285e-02,  4.6251e-02,  3.1987e-02,  1.4781e-03,  6.0120e-02,\n",
            "        -5.8071e-02, -1.4772e-02,  7.6385e-03,  3.0810e-03, -1.4588e-02,\n",
            "         1.1066e-01, -2.4445e-02, -4.5862e-02,  6.3047e-02,  8.1392e-02,\n",
            "        -4.9569e-03, -7.8091e-03, -4.1682e-02,  2.4518e-02, -5.1901e-02,\n",
            "         1.1109e-02,  7.3441e-02,  7.4725e-02,  4.9311e-02,  3.2265e-03,\n",
            "         3.2110e-02, -5.5071e-02,  1.4716e-02,  3.8142e-02,  5.5324e-02,\n",
            "         9.1763e-02,  3.3215e-02, -2.2850e-02, -3.8901e-02,  2.4486e-02,\n",
            "        -2.0329e-02,  4.2221e-02, -1.3289e-02,  9.0446e-02,  1.2329e-02,\n",
            "         3.1729e-02,  3.5741e-03, -2.6481e-02, -1.0368e-02, -3.8108e-02,\n",
            "         2.3387e-02,  1.3809e-02,  7.9613e-02,  7.7602e-02, -2.4085e-02,\n",
            "         2.3131e-02,  1.6289e-02, -2.2002e-02, -5.3456e-02,  2.1649e-02,\n",
            "         2.9084e-02,  4.2865e-02, -1.7653e-02, -3.2597e-02, -1.2699e-02,\n",
            "         3.4878e-02, -7.2913e-03, -1.8691e-02,  1.0619e-02, -2.2897e-02,\n",
            "        -1.5465e-01, -9.9595e-03, -7.8906e-03, -1.7803e-04,  2.9991e-03,\n",
            "         1.7437e-02, -4.5316e-03, -4.6754e-02,  1.5209e-02,  2.9278e-02,\n",
            "         6.6734e-04,  7.2638e-02,  4.7398e-02,  1.1696e-02,  2.8760e-02,\n",
            "         1.7859e-02,  4.7850e-02, -1.1934e-02, -7.6772e-03,  8.4868e-02,\n",
            "        -4.5561e-03, -3.1245e-02, -1.8441e-02,  3.0177e-02,  3.4745e-02,\n",
            "         5.8307e-03, -2.0930e-02,  6.6294e-02, -2.8679e-02,  7.8298e-02,\n",
            "         9.6589e-03,  9.8228e-02,  4.6103e-02, -3.4738e-02, -5.3236e-02,\n",
            "        -2.9300e-03, -2.1778e-02,  8.2345e-03,  8.3438e-02, -1.3717e-02,\n",
            "         1.5029e-02,  6.1599e-03, -1.2908e-02, -1.9242e-02,  3.1825e-02,\n",
            "        -1.4530e-02,  6.3534e-03,  4.7696e-03, -3.3699e-02,  6.1708e-03,\n",
            "         7.8270e-02, -2.0784e-03, -2.4142e-02, -1.6465e-02, -1.7072e-02,\n",
            "         3.7843e-02, -3.4460e-02, -2.9735e-03, -1.0799e-02,  3.3014e-02,\n",
            "        -6.0436e-02,  1.7799e-02, -1.2008e-02, -1.8929e-02,  1.5487e-02,\n",
            "         1.9959e-02, -5.4778e-02, -4.4758e-03,  2.3601e-03, -7.6998e-03,\n",
            "         3.8019e-02,  3.0579e-02, -9.8502e-04,  2.5852e-02, -9.5355e-02,\n",
            "        -2.1165e-02,  1.6603e-02,  5.6325e-02,  1.1962e-01,  8.6397e-03,\n",
            "         4.7190e-02, -7.5885e-03,  3.1535e-02,  5.5515e-02, -1.0507e-02,\n",
            "        -4.6449e-02,  1.8930e-02, -4.8832e-02,  3.9564e-03, -6.0529e-02,\n",
            "         4.5211e-02,  1.4734e-02, -7.6456e-03, -5.9617e-02, -2.6084e-02,\n",
            "         1.8264e-02,  1.3083e-01, -7.5929e-02,  8.2911e-02, -7.9233e-02,\n",
            "         6.1786e-02, -8.5511e-04, -9.6028e-02,  4.8227e-02, -3.2147e-02,\n",
            "        -2.0731e-02, -2.2040e-02,  7.5977e-04, -1.7564e-02,  1.3438e-01,\n",
            "         3.9277e-02,  7.7046e-02, -1.5747e-02,  4.1426e-03,  3.4506e-02,\n",
            "         2.7576e-03, -9.4167e-03, -9.2707e-03, -1.2084e-02, -2.6162e-03,\n",
            "         1.0079e-03, -4.0700e-02, -3.0578e-02, -2.9567e-02,  7.2565e-02,\n",
            "         3.4845e-02,  5.9873e-02, -2.6953e-02,  3.0431e-02,  3.2555e-02,\n",
            "         2.7341e-02, -3.1475e-02, -9.1915e-03, -4.4317e-02, -4.5956e-02,\n",
            "         1.4616e-02,  5.7801e-02,  2.9705e-02,  2.6796e-02, -3.4809e-03,\n",
            "         1.2046e-02, -2.8476e-02,  3.9043e-02,  5.7456e-03,  2.8186e-02,\n",
            "        -6.2958e-02,  4.2600e-02,  4.6786e-03,  1.7891e-03, -2.0079e-03,\n",
            "         1.8733e-02,  4.2471e-02,  2.8136e-02,  5.3950e-02,  4.7770e-02,\n",
            "         7.8637e-03, -9.6420e-03,  3.3046e-02, -9.3638e-03,  1.5144e-02,\n",
            "        -4.2552e-02, -6.6454e-02,  4.8143e-02, -1.1706e-02, -1.8413e-02,\n",
            "         1.3550e-02,  3.7569e-02,  6.5881e-03,  1.1610e-02,  6.4549e-02,\n",
            "         2.6005e-02, -3.6623e-02, -5.3657e-02, -2.9087e-02, -1.8983e-02,\n",
            "        -1.6947e-02,  1.0355e-01, -2.2131e-03, -6.6767e-03, -2.6723e-02,\n",
            "         3.3629e-02,  2.9144e-02,  5.5728e-02,  2.5621e-02,  1.4000e-01,\n",
            "         2.5966e-03, -2.9388e-02,  7.5327e-02,  7.7913e-02, -2.9437e-03,\n",
            "        -1.9965e-03, -7.3120e-03,  6.7700e-02, -2.5768e-02, -4.4250e-02,\n",
            "        -4.7871e-02, -1.8144e-02,  7.0454e-03,  1.3758e-03, -3.0194e-02,\n",
            "         9.6560e-04,  2.6350e-02, -3.4314e-02, -2.5300e-02, -1.1032e-02,\n",
            "        -3.7807e-02, -1.5129e-02,  2.2383e-02, -2.8257e-02,  2.3531e-02,\n",
            "        -9.4419e-03, -5.9896e-03, -2.9089e-02,  4.4203e-02, -6.3386e-02,\n",
            "        -2.3045e-02,  5.2101e-03,  5.8716e-03,  3.6981e-02, -5.0303e-02,\n",
            "         7.5715e-03, -3.0672e-02, -1.0939e-02,  2.9387e-02,  4.6181e-02,\n",
            "         5.7406e-03, -6.3428e-02,  2.7341e-02,  3.2202e-02,  1.8131e-01,\n",
            "         1.4383e-02,  4.7143e-02,  2.6374e-02,  5.7079e-02,  4.0889e-03,\n",
            "        -3.2178e-03,  7.4534e-02,  8.8117e-03, -4.0967e-03, -2.0686e-02,\n",
            "        -2.8663e-02, -3.6480e-02, -3.4022e-03, -3.2470e-02,  4.8306e-02,\n",
            "        -4.5996e-02, -8.2241e-03,  1.3294e-01,  8.9525e-02, -9.2497e-02,\n",
            "        -2.8660e-02,  1.0673e-02])), ('fc3.weight', tensor([[-0.0077,  0.0307,  0.0282,  ...,  0.0546,  0.0292, -0.0180],\n",
            "        [ 0.0442,  0.0233,  0.0083,  ...,  0.0161,  0.0163,  0.0291],\n",
            "        [-0.0131, -0.0256, -0.0143,  ...,  0.0215, -0.0045, -0.0032],\n",
            "        ...,\n",
            "        [ 0.0444,  0.0109,  0.0005,  ...,  0.0004, -0.0285, -0.0070],\n",
            "        [ 0.0225, -0.0425,  0.0265,  ..., -0.0061,  0.0183, -0.0234],\n",
            "        [ 0.0352,  0.0214, -0.0466,  ..., -0.0017, -0.0186,  0.0249]])), ('fc3.bias', tensor([ 0.0654,  0.0182, -0.0222,  0.0133,  0.0284,  0.0449,  0.0652, -0.0277,\n",
            "        -0.0429,  0.1091, -0.0021, -0.0337,  0.1181,  0.0573, -0.0246,  0.0457,\n",
            "        -0.0199, -0.0313, -0.0226, -0.0585,  0.0078,  0.0037, -0.0032,  0.0936,\n",
            "         0.0519,  0.0779, -0.0653,  0.0198,  0.1402,  0.1127,  0.0070,  0.0641,\n",
            "        -0.0021,  0.0555, -0.0381, -0.0154, -0.0217, -0.0117,  0.0373,  0.0624,\n",
            "        -0.0283, -0.0076, -0.0370,  0.1390,  0.0539, -0.0024, -0.0201,  0.0194,\n",
            "        -0.0114,  0.0521,  0.0254,  0.0081, -0.0548, -0.0231,  0.0850, -0.0174,\n",
            "        -0.0164,  0.0294, -0.0304,  0.0599, -0.0350, -0.0429,  0.1087, -0.0449,\n",
            "        -0.0189, -0.0152,  0.0471, -0.0263,  0.0447,  0.0662, -0.0178, -0.0343,\n",
            "        -0.0290,  0.0708, -0.0416, -0.0506,  0.0618,  0.0336, -0.0146, -0.0502,\n",
            "         0.1299,  0.0452, -0.0255, -0.1092, -0.0024,  0.0166,  0.0513,  0.0279,\n",
            "         0.0476,  0.0055,  0.0424,  0.0866,  0.0160,  0.0117, -0.0685,  0.0402,\n",
            "         0.0545, -0.1325,  0.0562, -0.0350, -0.0146,  0.0616,  0.0013,  0.0197,\n",
            "        -0.0561,  0.0136,  0.0495,  0.0930,  0.0823,  0.0044, -0.0092, -0.1306,\n",
            "         0.0448,  0.0155,  0.0445,  0.0104, -0.0037, -0.0341,  0.0710,  0.0060,\n",
            "        -0.0062, -0.0027,  0.0167,  0.0248, -0.0396,  0.0551,  0.0592,  0.0096,\n",
            "         0.0398,  0.0185, -0.1271,  0.0584, -0.0701,  0.0216,  0.1176,  0.0219,\n",
            "        -0.0128, -0.0146,  0.0708, -0.0165,  0.1389, -0.0078, -0.0124,  0.0104,\n",
            "         0.0491, -0.0535,  0.0394,  0.0745,  0.0348, -0.0511,  0.0623,  0.0190,\n",
            "        -0.0340,  0.0183,  0.0429,  0.0101,  0.0167,  0.0556, -0.0508,  0.0775,\n",
            "         0.0768,  0.0346,  0.0345, -0.0359, -0.0770,  0.0908,  0.0160,  0.0132,\n",
            "         0.0092, -0.0270, -0.0096,  0.0457, -0.0433,  0.0248, -0.0347,  0.0162,\n",
            "        -0.0295,  0.1163,  0.1168,  0.0799,  0.0276,  0.0698, -0.0459, -0.0425,\n",
            "        -0.0212,  0.0678, -0.0048, -0.0276,  0.0165,  0.0249,  0.0641,  0.0900,\n",
            "         0.0249, -0.0083,  0.0243,  0.0747, -0.0067, -0.0280,  0.0515,  0.1237,\n",
            "        -0.0114, -0.0349,  0.0341,  0.0276, -0.0076,  0.0572,  0.0006, -0.0189,\n",
            "         0.1597,  0.0124,  0.0504,  0.0994,  0.0554, -0.0788, -0.1008,  0.0415,\n",
            "        -0.0144,  0.1299, -0.0100, -0.0674,  0.0008,  0.0261, -0.0315, -0.0208,\n",
            "        -0.0060, -0.0480, -0.0225,  0.0802, -0.0313,  0.0473,  0.0199,  0.0244,\n",
            "         0.0892,  0.0775,  0.0320,  0.0096, -0.0315,  0.0360,  0.0502,  0.1163,\n",
            "        -0.0743,  0.0078,  0.1213,  0.0009, -0.0481,  0.0266, -0.0250, -0.0019,\n",
            "         0.0244, -0.0280,  0.0550, -0.0092, -0.0350,  0.0183, -0.0330, -0.0270])), ('fc4.weight', tensor([[-0.1825,  0.0302,  0.0108,  ...,  0.0574, -0.0289,  0.1529],\n",
            "        [-0.2604,  0.2033,  0.0461,  ..., -0.0047, -0.0443, -0.0861],\n",
            "        [ 0.0838,  0.0562, -0.0699,  ..., -0.0033, -0.0132,  0.0351],\n",
            "        ...,\n",
            "        [ 0.0357,  0.0031, -0.0571,  ...,  0.0711,  0.0048,  0.0841],\n",
            "        [ 0.0401, -0.2020,  0.0589,  ...,  0.1012,  0.0260,  0.0634],\n",
            "        [ 0.0850,  0.2325, -0.0254,  ..., -0.0337, -0.0224,  0.0452]])), ('fc4.bias', tensor([-0.3918,  0.1146,  0.1362,  0.0551,  0.3249, -0.2716,  0.2862,  0.0235,\n",
            "        -0.1882, -0.0468]))])\n",
            "fc2.weight \t OrderedDict([('fc1.weight', tensor([[ 0.0111, -0.0082, -0.0085,  ...,  0.0066,  0.0061, -0.0060],\n",
            "        [ 0.0129,  0.0103,  0.0149,  ..., -0.0092, -0.0004,  0.0147],\n",
            "        [-0.0100, -0.0132, -0.0184,  ...,  0.0042, -0.0006,  0.0060],\n",
            "        ...,\n",
            "        [-0.0227,  0.0054, -0.0113,  ...,  0.0008, -0.0013, -0.0010],\n",
            "        [-0.0104, -0.0007, -0.0004,  ...,  0.0081, -0.0177, -0.0098],\n",
            "        [-0.0039,  0.0023,  0.0027,  ...,  0.0165, -0.0037,  0.0021]])), ('fc1.bias', tensor([ 0.0181, -0.0065,  0.0050,  ...,  0.0131,  0.0076, -0.0350])), ('fc2.weight', tensor([[ 0.0088,  0.0159, -0.0135,  ...,  0.0214,  0.0010,  0.0112],\n",
            "        [ 0.0194,  0.0012, -0.0181,  ...,  0.0305,  0.0291,  0.0043],\n",
            "        [ 0.0075, -0.0280, -0.0306,  ...,  0.0263, -0.0199, -0.0190],\n",
            "        ...,\n",
            "        [ 0.0136,  0.0046,  0.0174,  ...,  0.0180,  0.0260,  0.0220],\n",
            "        [ 0.0116,  0.0150,  0.0010,  ...,  0.0252,  0.0192,  0.0259],\n",
            "        [-0.0160,  0.0198, -0.0134,  ...,  0.0023, -0.0205, -0.0222]])), ('fc2.bias', tensor([-9.3907e-03,  5.8124e-02,  5.6755e-03, -1.0492e-02,  6.5335e-02,\n",
            "        -4.4018e-02, -5.9762e-02, -4.2246e-03,  3.8275e-02,  3.6302e-02,\n",
            "         1.6662e-02,  6.4612e-02,  3.5137e-02,  7.2931e-02,  5.3276e-02,\n",
            "        -2.6933e-02, -1.0717e-02, -3.3024e-02,  2.6869e-02, -4.6655e-03,\n",
            "         1.2705e-03, -1.3807e-02, -1.0987e-02, -7.2684e-03,  1.3433e-02,\n",
            "         8.1536e-02, -2.4979e-02, -1.8065e-02,  4.7173e-02, -4.8969e-03,\n",
            "        -2.0728e-02, -9.3475e-03, -2.0027e-02, -5.2960e-02,  2.5806e-02,\n",
            "         5.6503e-02, -9.8518e-02, -2.4705e-02,  4.3998e-03, -2.2818e-02,\n",
            "        -1.1278e-02, -2.5683e-02, -3.1951e-02, -1.6171e-02, -2.6494e-02,\n",
            "         3.8465e-03, -5.0638e-02,  6.5880e-03, -1.3942e-02,  7.2248e-02,\n",
            "        -2.0545e-02,  3.6588e-02,  6.8941e-02, -2.8519e-02, -1.8967e-02,\n",
            "         1.7368e-03,  3.6481e-02, -1.4161e-02,  7.0381e-02,  4.0343e-02,\n",
            "        -2.7757e-02,  1.2045e-04,  6.5706e-02,  9.2438e-03,  1.8472e-02,\n",
            "         4.6114e-02,  2.4899e-02,  1.7510e-02, -4.3083e-02,  6.4035e-02,\n",
            "        -1.3455e-02,  9.4503e-03,  6.6266e-02,  1.3071e-02, -5.1356e-02,\n",
            "        -2.9566e-02, -1.4881e-02,  2.5453e-02,  3.3914e-02, -2.4571e-02,\n",
            "        -2.5806e-02, -5.7497e-02, -1.5371e-02,  2.1639e-02, -9.1309e-02,\n",
            "         5.8875e-02,  6.1256e-02, -3.0452e-02,  2.6004e-03,  2.0958e-02,\n",
            "        -1.5621e-02, -1.3033e-02, -1.7979e-02, -3.0921e-03,  4.4951e-02,\n",
            "        -2.3649e-02, -2.1636e-02,  5.0235e-02, -8.0826e-02, -1.1077e-02,\n",
            "        -2.9295e-03,  2.4503e-02,  1.0069e-01,  9.6073e-02, -8.0307e-03,\n",
            "        -7.5215e-03,  7.8227e-02,  2.1837e-02, -5.1814e-03,  6.7313e-02,\n",
            "        -2.1011e-02, -5.3678e-02, -1.5544e-02,  3.0097e-02,  1.4627e-03,\n",
            "         2.3740e-02,  3.9199e-02, -9.6148e-03, -5.9218e-02, -3.2167e-02,\n",
            "         7.9183e-03, -2.1768e-02, -5.9324e-02, -9.7271e-02, -6.0585e-03,\n",
            "         2.9924e-02,  1.7455e-02,  5.7323e-03, -3.5120e-02,  7.4157e-02,\n",
            "         9.9936e-03,  8.6887e-03,  3.4343e-02, -2.7359e-02,  1.4562e-02,\n",
            "        -2.4727e-03,  1.2062e-03, -5.0856e-02,  5.1594e-02, -1.2724e-02,\n",
            "         1.0998e-02, -3.7498e-02,  7.5636e-02,  1.3210e-01, -6.3664e-02,\n",
            "        -6.0726e-04,  1.0333e-01,  4.2140e-03, -3.1553e-02,  1.7325e-02,\n",
            "         9.8532e-03,  2.3102e-03, -5.4560e-02,  1.2564e-02, -1.0419e-02,\n",
            "         3.3411e-02,  7.1305e-05, -2.6205e-02, -1.4592e-03,  2.4098e-03,\n",
            "        -1.9375e-02,  2.6023e-02,  4.1930e-02, -1.0504e-02,  9.6453e-02,\n",
            "         7.8926e-03, -2.1372e-02, -6.3300e-03, -1.6311e-03, -6.1264e-03,\n",
            "         2.3782e-02, -6.9823e-02, -7.5425e-03, -1.0885e-02,  2.9662e-02,\n",
            "         5.2459e-02,  1.1141e-02, -7.5535e-03,  1.1500e-02,  2.3680e-02,\n",
            "         7.1863e-03,  1.3583e-02, -5.2255e-02, -1.1881e-02,  1.1858e-02,\n",
            "        -2.6316e-02,  1.8965e-02, -2.6337e-02, -5.8620e-02, -2.3997e-02,\n",
            "        -5.4386e-03,  3.5633e-02, -2.6955e-02, -2.7524e-02,  1.3648e-02,\n",
            "        -5.4285e-02,  4.6251e-02,  3.1987e-02,  1.4781e-03,  6.0120e-02,\n",
            "        -5.8071e-02, -1.4772e-02,  7.6385e-03,  3.0810e-03, -1.4588e-02,\n",
            "         1.1066e-01, -2.4445e-02, -4.5862e-02,  6.3047e-02,  8.1392e-02,\n",
            "        -4.9569e-03, -7.8091e-03, -4.1682e-02,  2.4518e-02, -5.1901e-02,\n",
            "         1.1109e-02,  7.3441e-02,  7.4725e-02,  4.9311e-02,  3.2265e-03,\n",
            "         3.2110e-02, -5.5071e-02,  1.4716e-02,  3.8142e-02,  5.5324e-02,\n",
            "         9.1763e-02,  3.3215e-02, -2.2850e-02, -3.8901e-02,  2.4486e-02,\n",
            "        -2.0329e-02,  4.2221e-02, -1.3289e-02,  9.0446e-02,  1.2329e-02,\n",
            "         3.1729e-02,  3.5741e-03, -2.6481e-02, -1.0368e-02, -3.8108e-02,\n",
            "         2.3387e-02,  1.3809e-02,  7.9613e-02,  7.7602e-02, -2.4085e-02,\n",
            "         2.3131e-02,  1.6289e-02, -2.2002e-02, -5.3456e-02,  2.1649e-02,\n",
            "         2.9084e-02,  4.2865e-02, -1.7653e-02, -3.2597e-02, -1.2699e-02,\n",
            "         3.4878e-02, -7.2913e-03, -1.8691e-02,  1.0619e-02, -2.2897e-02,\n",
            "        -1.5465e-01, -9.9595e-03, -7.8906e-03, -1.7803e-04,  2.9991e-03,\n",
            "         1.7437e-02, -4.5316e-03, -4.6754e-02,  1.5209e-02,  2.9278e-02,\n",
            "         6.6734e-04,  7.2638e-02,  4.7398e-02,  1.1696e-02,  2.8760e-02,\n",
            "         1.7859e-02,  4.7850e-02, -1.1934e-02, -7.6772e-03,  8.4868e-02,\n",
            "        -4.5561e-03, -3.1245e-02, -1.8441e-02,  3.0177e-02,  3.4745e-02,\n",
            "         5.8307e-03, -2.0930e-02,  6.6294e-02, -2.8679e-02,  7.8298e-02,\n",
            "         9.6589e-03,  9.8228e-02,  4.6103e-02, -3.4738e-02, -5.3236e-02,\n",
            "        -2.9300e-03, -2.1778e-02,  8.2345e-03,  8.3438e-02, -1.3717e-02,\n",
            "         1.5029e-02,  6.1599e-03, -1.2908e-02, -1.9242e-02,  3.1825e-02,\n",
            "        -1.4530e-02,  6.3534e-03,  4.7696e-03, -3.3699e-02,  6.1708e-03,\n",
            "         7.8270e-02, -2.0784e-03, -2.4142e-02, -1.6465e-02, -1.7072e-02,\n",
            "         3.7843e-02, -3.4460e-02, -2.9735e-03, -1.0799e-02,  3.3014e-02,\n",
            "        -6.0436e-02,  1.7799e-02, -1.2008e-02, -1.8929e-02,  1.5487e-02,\n",
            "         1.9959e-02, -5.4778e-02, -4.4758e-03,  2.3601e-03, -7.6998e-03,\n",
            "         3.8019e-02,  3.0579e-02, -9.8502e-04,  2.5852e-02, -9.5355e-02,\n",
            "        -2.1165e-02,  1.6603e-02,  5.6325e-02,  1.1962e-01,  8.6397e-03,\n",
            "         4.7190e-02, -7.5885e-03,  3.1535e-02,  5.5515e-02, -1.0507e-02,\n",
            "        -4.6449e-02,  1.8930e-02, -4.8832e-02,  3.9564e-03, -6.0529e-02,\n",
            "         4.5211e-02,  1.4734e-02, -7.6456e-03, -5.9617e-02, -2.6084e-02,\n",
            "         1.8264e-02,  1.3083e-01, -7.5929e-02,  8.2911e-02, -7.9233e-02,\n",
            "         6.1786e-02, -8.5511e-04, -9.6028e-02,  4.8227e-02, -3.2147e-02,\n",
            "        -2.0731e-02, -2.2040e-02,  7.5977e-04, -1.7564e-02,  1.3438e-01,\n",
            "         3.9277e-02,  7.7046e-02, -1.5747e-02,  4.1426e-03,  3.4506e-02,\n",
            "         2.7576e-03, -9.4167e-03, -9.2707e-03, -1.2084e-02, -2.6162e-03,\n",
            "         1.0079e-03, -4.0700e-02, -3.0578e-02, -2.9567e-02,  7.2565e-02,\n",
            "         3.4845e-02,  5.9873e-02, -2.6953e-02,  3.0431e-02,  3.2555e-02,\n",
            "         2.7341e-02, -3.1475e-02, -9.1915e-03, -4.4317e-02, -4.5956e-02,\n",
            "         1.4616e-02,  5.7801e-02,  2.9705e-02,  2.6796e-02, -3.4809e-03,\n",
            "         1.2046e-02, -2.8476e-02,  3.9043e-02,  5.7456e-03,  2.8186e-02,\n",
            "        -6.2958e-02,  4.2600e-02,  4.6786e-03,  1.7891e-03, -2.0079e-03,\n",
            "         1.8733e-02,  4.2471e-02,  2.8136e-02,  5.3950e-02,  4.7770e-02,\n",
            "         7.8637e-03, -9.6420e-03,  3.3046e-02, -9.3638e-03,  1.5144e-02,\n",
            "        -4.2552e-02, -6.6454e-02,  4.8143e-02, -1.1706e-02, -1.8413e-02,\n",
            "         1.3550e-02,  3.7569e-02,  6.5881e-03,  1.1610e-02,  6.4549e-02,\n",
            "         2.6005e-02, -3.6623e-02, -5.3657e-02, -2.9087e-02, -1.8983e-02,\n",
            "        -1.6947e-02,  1.0355e-01, -2.2131e-03, -6.6767e-03, -2.6723e-02,\n",
            "         3.3629e-02,  2.9144e-02,  5.5728e-02,  2.5621e-02,  1.4000e-01,\n",
            "         2.5966e-03, -2.9388e-02,  7.5327e-02,  7.7913e-02, -2.9437e-03,\n",
            "        -1.9965e-03, -7.3120e-03,  6.7700e-02, -2.5768e-02, -4.4250e-02,\n",
            "        -4.7871e-02, -1.8144e-02,  7.0454e-03,  1.3758e-03, -3.0194e-02,\n",
            "         9.6560e-04,  2.6350e-02, -3.4314e-02, -2.5300e-02, -1.1032e-02,\n",
            "        -3.7807e-02, -1.5129e-02,  2.2383e-02, -2.8257e-02,  2.3531e-02,\n",
            "        -9.4419e-03, -5.9896e-03, -2.9089e-02,  4.4203e-02, -6.3386e-02,\n",
            "        -2.3045e-02,  5.2101e-03,  5.8716e-03,  3.6981e-02, -5.0303e-02,\n",
            "         7.5715e-03, -3.0672e-02, -1.0939e-02,  2.9387e-02,  4.6181e-02,\n",
            "         5.7406e-03, -6.3428e-02,  2.7341e-02,  3.2202e-02,  1.8131e-01,\n",
            "         1.4383e-02,  4.7143e-02,  2.6374e-02,  5.7079e-02,  4.0889e-03,\n",
            "        -3.2178e-03,  7.4534e-02,  8.8117e-03, -4.0967e-03, -2.0686e-02,\n",
            "        -2.8663e-02, -3.6480e-02, -3.4022e-03, -3.2470e-02,  4.8306e-02,\n",
            "        -4.5996e-02, -8.2241e-03,  1.3294e-01,  8.9525e-02, -9.2497e-02,\n",
            "        -2.8660e-02,  1.0673e-02])), ('fc3.weight', tensor([[-0.0077,  0.0307,  0.0282,  ...,  0.0546,  0.0292, -0.0180],\n",
            "        [ 0.0442,  0.0233,  0.0083,  ...,  0.0161,  0.0163,  0.0291],\n",
            "        [-0.0131, -0.0256, -0.0143,  ...,  0.0215, -0.0045, -0.0032],\n",
            "        ...,\n",
            "        [ 0.0444,  0.0109,  0.0005,  ...,  0.0004, -0.0285, -0.0070],\n",
            "        [ 0.0225, -0.0425,  0.0265,  ..., -0.0061,  0.0183, -0.0234],\n",
            "        [ 0.0352,  0.0214, -0.0466,  ..., -0.0017, -0.0186,  0.0249]])), ('fc3.bias', tensor([ 0.0654,  0.0182, -0.0222,  0.0133,  0.0284,  0.0449,  0.0652, -0.0277,\n",
            "        -0.0429,  0.1091, -0.0021, -0.0337,  0.1181,  0.0573, -0.0246,  0.0457,\n",
            "        -0.0199, -0.0313, -0.0226, -0.0585,  0.0078,  0.0037, -0.0032,  0.0936,\n",
            "         0.0519,  0.0779, -0.0653,  0.0198,  0.1402,  0.1127,  0.0070,  0.0641,\n",
            "        -0.0021,  0.0555, -0.0381, -0.0154, -0.0217, -0.0117,  0.0373,  0.0624,\n",
            "        -0.0283, -0.0076, -0.0370,  0.1390,  0.0539, -0.0024, -0.0201,  0.0194,\n",
            "        -0.0114,  0.0521,  0.0254,  0.0081, -0.0548, -0.0231,  0.0850, -0.0174,\n",
            "        -0.0164,  0.0294, -0.0304,  0.0599, -0.0350, -0.0429,  0.1087, -0.0449,\n",
            "        -0.0189, -0.0152,  0.0471, -0.0263,  0.0447,  0.0662, -0.0178, -0.0343,\n",
            "        -0.0290,  0.0708, -0.0416, -0.0506,  0.0618,  0.0336, -0.0146, -0.0502,\n",
            "         0.1299,  0.0452, -0.0255, -0.1092, -0.0024,  0.0166,  0.0513,  0.0279,\n",
            "         0.0476,  0.0055,  0.0424,  0.0866,  0.0160,  0.0117, -0.0685,  0.0402,\n",
            "         0.0545, -0.1325,  0.0562, -0.0350, -0.0146,  0.0616,  0.0013,  0.0197,\n",
            "        -0.0561,  0.0136,  0.0495,  0.0930,  0.0823,  0.0044, -0.0092, -0.1306,\n",
            "         0.0448,  0.0155,  0.0445,  0.0104, -0.0037, -0.0341,  0.0710,  0.0060,\n",
            "        -0.0062, -0.0027,  0.0167,  0.0248, -0.0396,  0.0551,  0.0592,  0.0096,\n",
            "         0.0398,  0.0185, -0.1271,  0.0584, -0.0701,  0.0216,  0.1176,  0.0219,\n",
            "        -0.0128, -0.0146,  0.0708, -0.0165,  0.1389, -0.0078, -0.0124,  0.0104,\n",
            "         0.0491, -0.0535,  0.0394,  0.0745,  0.0348, -0.0511,  0.0623,  0.0190,\n",
            "        -0.0340,  0.0183,  0.0429,  0.0101,  0.0167,  0.0556, -0.0508,  0.0775,\n",
            "         0.0768,  0.0346,  0.0345, -0.0359, -0.0770,  0.0908,  0.0160,  0.0132,\n",
            "         0.0092, -0.0270, -0.0096,  0.0457, -0.0433,  0.0248, -0.0347,  0.0162,\n",
            "        -0.0295,  0.1163,  0.1168,  0.0799,  0.0276,  0.0698, -0.0459, -0.0425,\n",
            "        -0.0212,  0.0678, -0.0048, -0.0276,  0.0165,  0.0249,  0.0641,  0.0900,\n",
            "         0.0249, -0.0083,  0.0243,  0.0747, -0.0067, -0.0280,  0.0515,  0.1237,\n",
            "        -0.0114, -0.0349,  0.0341,  0.0276, -0.0076,  0.0572,  0.0006, -0.0189,\n",
            "         0.1597,  0.0124,  0.0504,  0.0994,  0.0554, -0.0788, -0.1008,  0.0415,\n",
            "        -0.0144,  0.1299, -0.0100, -0.0674,  0.0008,  0.0261, -0.0315, -0.0208,\n",
            "        -0.0060, -0.0480, -0.0225,  0.0802, -0.0313,  0.0473,  0.0199,  0.0244,\n",
            "         0.0892,  0.0775,  0.0320,  0.0096, -0.0315,  0.0360,  0.0502,  0.1163,\n",
            "        -0.0743,  0.0078,  0.1213,  0.0009, -0.0481,  0.0266, -0.0250, -0.0019,\n",
            "         0.0244, -0.0280,  0.0550, -0.0092, -0.0350,  0.0183, -0.0330, -0.0270])), ('fc4.weight', tensor([[-0.1825,  0.0302,  0.0108,  ...,  0.0574, -0.0289,  0.1529],\n",
            "        [-0.2604,  0.2033,  0.0461,  ..., -0.0047, -0.0443, -0.0861],\n",
            "        [ 0.0838,  0.0562, -0.0699,  ..., -0.0033, -0.0132,  0.0351],\n",
            "        ...,\n",
            "        [ 0.0357,  0.0031, -0.0571,  ...,  0.0711,  0.0048,  0.0841],\n",
            "        [ 0.0401, -0.2020,  0.0589,  ...,  0.1012,  0.0260,  0.0634],\n",
            "        [ 0.0850,  0.2325, -0.0254,  ..., -0.0337, -0.0224,  0.0452]])), ('fc4.bias', tensor([-0.3918,  0.1146,  0.1362,  0.0551,  0.3249, -0.2716,  0.2862,  0.0235,\n",
            "        -0.1882, -0.0468]))])\n",
            "fc2.bias \t OrderedDict([('fc1.weight', tensor([[ 0.0111, -0.0082, -0.0085,  ...,  0.0066,  0.0061, -0.0060],\n",
            "        [ 0.0129,  0.0103,  0.0149,  ..., -0.0092, -0.0004,  0.0147],\n",
            "        [-0.0100, -0.0132, -0.0184,  ...,  0.0042, -0.0006,  0.0060],\n",
            "        ...,\n",
            "        [-0.0227,  0.0054, -0.0113,  ...,  0.0008, -0.0013, -0.0010],\n",
            "        [-0.0104, -0.0007, -0.0004,  ...,  0.0081, -0.0177, -0.0098],\n",
            "        [-0.0039,  0.0023,  0.0027,  ...,  0.0165, -0.0037,  0.0021]])), ('fc1.bias', tensor([ 0.0181, -0.0065,  0.0050,  ...,  0.0131,  0.0076, -0.0350])), ('fc2.weight', tensor([[ 0.0088,  0.0159, -0.0135,  ...,  0.0214,  0.0010,  0.0112],\n",
            "        [ 0.0194,  0.0012, -0.0181,  ...,  0.0305,  0.0291,  0.0043],\n",
            "        [ 0.0075, -0.0280, -0.0306,  ...,  0.0263, -0.0199, -0.0190],\n",
            "        ...,\n",
            "        [ 0.0136,  0.0046,  0.0174,  ...,  0.0180,  0.0260,  0.0220],\n",
            "        [ 0.0116,  0.0150,  0.0010,  ...,  0.0252,  0.0192,  0.0259],\n",
            "        [-0.0160,  0.0198, -0.0134,  ...,  0.0023, -0.0205, -0.0222]])), ('fc2.bias', tensor([-9.3907e-03,  5.8124e-02,  5.6755e-03, -1.0492e-02,  6.5335e-02,\n",
            "        -4.4018e-02, -5.9762e-02, -4.2246e-03,  3.8275e-02,  3.6302e-02,\n",
            "         1.6662e-02,  6.4612e-02,  3.5137e-02,  7.2931e-02,  5.3276e-02,\n",
            "        -2.6933e-02, -1.0717e-02, -3.3024e-02,  2.6869e-02, -4.6655e-03,\n",
            "         1.2705e-03, -1.3807e-02, -1.0987e-02, -7.2684e-03,  1.3433e-02,\n",
            "         8.1536e-02, -2.4979e-02, -1.8065e-02,  4.7173e-02, -4.8969e-03,\n",
            "        -2.0728e-02, -9.3475e-03, -2.0027e-02, -5.2960e-02,  2.5806e-02,\n",
            "         5.6503e-02, -9.8518e-02, -2.4705e-02,  4.3998e-03, -2.2818e-02,\n",
            "        -1.1278e-02, -2.5683e-02, -3.1951e-02, -1.6171e-02, -2.6494e-02,\n",
            "         3.8465e-03, -5.0638e-02,  6.5880e-03, -1.3942e-02,  7.2248e-02,\n",
            "        -2.0545e-02,  3.6588e-02,  6.8941e-02, -2.8519e-02, -1.8967e-02,\n",
            "         1.7368e-03,  3.6481e-02, -1.4161e-02,  7.0381e-02,  4.0343e-02,\n",
            "        -2.7757e-02,  1.2045e-04,  6.5706e-02,  9.2438e-03,  1.8472e-02,\n",
            "         4.6114e-02,  2.4899e-02,  1.7510e-02, -4.3083e-02,  6.4035e-02,\n",
            "        -1.3455e-02,  9.4503e-03,  6.6266e-02,  1.3071e-02, -5.1356e-02,\n",
            "        -2.9566e-02, -1.4881e-02,  2.5453e-02,  3.3914e-02, -2.4571e-02,\n",
            "        -2.5806e-02, -5.7497e-02, -1.5371e-02,  2.1639e-02, -9.1309e-02,\n",
            "         5.8875e-02,  6.1256e-02, -3.0452e-02,  2.6004e-03,  2.0958e-02,\n",
            "        -1.5621e-02, -1.3033e-02, -1.7979e-02, -3.0921e-03,  4.4951e-02,\n",
            "        -2.3649e-02, -2.1636e-02,  5.0235e-02, -8.0826e-02, -1.1077e-02,\n",
            "        -2.9295e-03,  2.4503e-02,  1.0069e-01,  9.6073e-02, -8.0307e-03,\n",
            "        -7.5215e-03,  7.8227e-02,  2.1837e-02, -5.1814e-03,  6.7313e-02,\n",
            "        -2.1011e-02, -5.3678e-02, -1.5544e-02,  3.0097e-02,  1.4627e-03,\n",
            "         2.3740e-02,  3.9199e-02, -9.6148e-03, -5.9218e-02, -3.2167e-02,\n",
            "         7.9183e-03, -2.1768e-02, -5.9324e-02, -9.7271e-02, -6.0585e-03,\n",
            "         2.9924e-02,  1.7455e-02,  5.7323e-03, -3.5120e-02,  7.4157e-02,\n",
            "         9.9936e-03,  8.6887e-03,  3.4343e-02, -2.7359e-02,  1.4562e-02,\n",
            "        -2.4727e-03,  1.2062e-03, -5.0856e-02,  5.1594e-02, -1.2724e-02,\n",
            "         1.0998e-02, -3.7498e-02,  7.5636e-02,  1.3210e-01, -6.3664e-02,\n",
            "        -6.0726e-04,  1.0333e-01,  4.2140e-03, -3.1553e-02,  1.7325e-02,\n",
            "         9.8532e-03,  2.3102e-03, -5.4560e-02,  1.2564e-02, -1.0419e-02,\n",
            "         3.3411e-02,  7.1305e-05, -2.6205e-02, -1.4592e-03,  2.4098e-03,\n",
            "        -1.9375e-02,  2.6023e-02,  4.1930e-02, -1.0504e-02,  9.6453e-02,\n",
            "         7.8926e-03, -2.1372e-02, -6.3300e-03, -1.6311e-03, -6.1264e-03,\n",
            "         2.3782e-02, -6.9823e-02, -7.5425e-03, -1.0885e-02,  2.9662e-02,\n",
            "         5.2459e-02,  1.1141e-02, -7.5535e-03,  1.1500e-02,  2.3680e-02,\n",
            "         7.1863e-03,  1.3583e-02, -5.2255e-02, -1.1881e-02,  1.1858e-02,\n",
            "        -2.6316e-02,  1.8965e-02, -2.6337e-02, -5.8620e-02, -2.3997e-02,\n",
            "        -5.4386e-03,  3.5633e-02, -2.6955e-02, -2.7524e-02,  1.3648e-02,\n",
            "        -5.4285e-02,  4.6251e-02,  3.1987e-02,  1.4781e-03,  6.0120e-02,\n",
            "        -5.8071e-02, -1.4772e-02,  7.6385e-03,  3.0810e-03, -1.4588e-02,\n",
            "         1.1066e-01, -2.4445e-02, -4.5862e-02,  6.3047e-02,  8.1392e-02,\n",
            "        -4.9569e-03, -7.8091e-03, -4.1682e-02,  2.4518e-02, -5.1901e-02,\n",
            "         1.1109e-02,  7.3441e-02,  7.4725e-02,  4.9311e-02,  3.2265e-03,\n",
            "         3.2110e-02, -5.5071e-02,  1.4716e-02,  3.8142e-02,  5.5324e-02,\n",
            "         9.1763e-02,  3.3215e-02, -2.2850e-02, -3.8901e-02,  2.4486e-02,\n",
            "        -2.0329e-02,  4.2221e-02, -1.3289e-02,  9.0446e-02,  1.2329e-02,\n",
            "         3.1729e-02,  3.5741e-03, -2.6481e-02, -1.0368e-02, -3.8108e-02,\n",
            "         2.3387e-02,  1.3809e-02,  7.9613e-02,  7.7602e-02, -2.4085e-02,\n",
            "         2.3131e-02,  1.6289e-02, -2.2002e-02, -5.3456e-02,  2.1649e-02,\n",
            "         2.9084e-02,  4.2865e-02, -1.7653e-02, -3.2597e-02, -1.2699e-02,\n",
            "         3.4878e-02, -7.2913e-03, -1.8691e-02,  1.0619e-02, -2.2897e-02,\n",
            "        -1.5465e-01, -9.9595e-03, -7.8906e-03, -1.7803e-04,  2.9991e-03,\n",
            "         1.7437e-02, -4.5316e-03, -4.6754e-02,  1.5209e-02,  2.9278e-02,\n",
            "         6.6734e-04,  7.2638e-02,  4.7398e-02,  1.1696e-02,  2.8760e-02,\n",
            "         1.7859e-02,  4.7850e-02, -1.1934e-02, -7.6772e-03,  8.4868e-02,\n",
            "        -4.5561e-03, -3.1245e-02, -1.8441e-02,  3.0177e-02,  3.4745e-02,\n",
            "         5.8307e-03, -2.0930e-02,  6.6294e-02, -2.8679e-02,  7.8298e-02,\n",
            "         9.6589e-03,  9.8228e-02,  4.6103e-02, -3.4738e-02, -5.3236e-02,\n",
            "        -2.9300e-03, -2.1778e-02,  8.2345e-03,  8.3438e-02, -1.3717e-02,\n",
            "         1.5029e-02,  6.1599e-03, -1.2908e-02, -1.9242e-02,  3.1825e-02,\n",
            "        -1.4530e-02,  6.3534e-03,  4.7696e-03, -3.3699e-02,  6.1708e-03,\n",
            "         7.8270e-02, -2.0784e-03, -2.4142e-02, -1.6465e-02, -1.7072e-02,\n",
            "         3.7843e-02, -3.4460e-02, -2.9735e-03, -1.0799e-02,  3.3014e-02,\n",
            "        -6.0436e-02,  1.7799e-02, -1.2008e-02, -1.8929e-02,  1.5487e-02,\n",
            "         1.9959e-02, -5.4778e-02, -4.4758e-03,  2.3601e-03, -7.6998e-03,\n",
            "         3.8019e-02,  3.0579e-02, -9.8502e-04,  2.5852e-02, -9.5355e-02,\n",
            "        -2.1165e-02,  1.6603e-02,  5.6325e-02,  1.1962e-01,  8.6397e-03,\n",
            "         4.7190e-02, -7.5885e-03,  3.1535e-02,  5.5515e-02, -1.0507e-02,\n",
            "        -4.6449e-02,  1.8930e-02, -4.8832e-02,  3.9564e-03, -6.0529e-02,\n",
            "         4.5211e-02,  1.4734e-02, -7.6456e-03, -5.9617e-02, -2.6084e-02,\n",
            "         1.8264e-02,  1.3083e-01, -7.5929e-02,  8.2911e-02, -7.9233e-02,\n",
            "         6.1786e-02, -8.5511e-04, -9.6028e-02,  4.8227e-02, -3.2147e-02,\n",
            "        -2.0731e-02, -2.2040e-02,  7.5977e-04, -1.7564e-02,  1.3438e-01,\n",
            "         3.9277e-02,  7.7046e-02, -1.5747e-02,  4.1426e-03,  3.4506e-02,\n",
            "         2.7576e-03, -9.4167e-03, -9.2707e-03, -1.2084e-02, -2.6162e-03,\n",
            "         1.0079e-03, -4.0700e-02, -3.0578e-02, -2.9567e-02,  7.2565e-02,\n",
            "         3.4845e-02,  5.9873e-02, -2.6953e-02,  3.0431e-02,  3.2555e-02,\n",
            "         2.7341e-02, -3.1475e-02, -9.1915e-03, -4.4317e-02, -4.5956e-02,\n",
            "         1.4616e-02,  5.7801e-02,  2.9705e-02,  2.6796e-02, -3.4809e-03,\n",
            "         1.2046e-02, -2.8476e-02,  3.9043e-02,  5.7456e-03,  2.8186e-02,\n",
            "        -6.2958e-02,  4.2600e-02,  4.6786e-03,  1.7891e-03, -2.0079e-03,\n",
            "         1.8733e-02,  4.2471e-02,  2.8136e-02,  5.3950e-02,  4.7770e-02,\n",
            "         7.8637e-03, -9.6420e-03,  3.3046e-02, -9.3638e-03,  1.5144e-02,\n",
            "        -4.2552e-02, -6.6454e-02,  4.8143e-02, -1.1706e-02, -1.8413e-02,\n",
            "         1.3550e-02,  3.7569e-02,  6.5881e-03,  1.1610e-02,  6.4549e-02,\n",
            "         2.6005e-02, -3.6623e-02, -5.3657e-02, -2.9087e-02, -1.8983e-02,\n",
            "        -1.6947e-02,  1.0355e-01, -2.2131e-03, -6.6767e-03, -2.6723e-02,\n",
            "         3.3629e-02,  2.9144e-02,  5.5728e-02,  2.5621e-02,  1.4000e-01,\n",
            "         2.5966e-03, -2.9388e-02,  7.5327e-02,  7.7913e-02, -2.9437e-03,\n",
            "        -1.9965e-03, -7.3120e-03,  6.7700e-02, -2.5768e-02, -4.4250e-02,\n",
            "        -4.7871e-02, -1.8144e-02,  7.0454e-03,  1.3758e-03, -3.0194e-02,\n",
            "         9.6560e-04,  2.6350e-02, -3.4314e-02, -2.5300e-02, -1.1032e-02,\n",
            "        -3.7807e-02, -1.5129e-02,  2.2383e-02, -2.8257e-02,  2.3531e-02,\n",
            "        -9.4419e-03, -5.9896e-03, -2.9089e-02,  4.4203e-02, -6.3386e-02,\n",
            "        -2.3045e-02,  5.2101e-03,  5.8716e-03,  3.6981e-02, -5.0303e-02,\n",
            "         7.5715e-03, -3.0672e-02, -1.0939e-02,  2.9387e-02,  4.6181e-02,\n",
            "         5.7406e-03, -6.3428e-02,  2.7341e-02,  3.2202e-02,  1.8131e-01,\n",
            "         1.4383e-02,  4.7143e-02,  2.6374e-02,  5.7079e-02,  4.0889e-03,\n",
            "        -3.2178e-03,  7.4534e-02,  8.8117e-03, -4.0967e-03, -2.0686e-02,\n",
            "        -2.8663e-02, -3.6480e-02, -3.4022e-03, -3.2470e-02,  4.8306e-02,\n",
            "        -4.5996e-02, -8.2241e-03,  1.3294e-01,  8.9525e-02, -9.2497e-02,\n",
            "        -2.8660e-02,  1.0673e-02])), ('fc3.weight', tensor([[-0.0077,  0.0307,  0.0282,  ...,  0.0546,  0.0292, -0.0180],\n",
            "        [ 0.0442,  0.0233,  0.0083,  ...,  0.0161,  0.0163,  0.0291],\n",
            "        [-0.0131, -0.0256, -0.0143,  ...,  0.0215, -0.0045, -0.0032],\n",
            "        ...,\n",
            "        [ 0.0444,  0.0109,  0.0005,  ...,  0.0004, -0.0285, -0.0070],\n",
            "        [ 0.0225, -0.0425,  0.0265,  ..., -0.0061,  0.0183, -0.0234],\n",
            "        [ 0.0352,  0.0214, -0.0466,  ..., -0.0017, -0.0186,  0.0249]])), ('fc3.bias', tensor([ 0.0654,  0.0182, -0.0222,  0.0133,  0.0284,  0.0449,  0.0652, -0.0277,\n",
            "        -0.0429,  0.1091, -0.0021, -0.0337,  0.1181,  0.0573, -0.0246,  0.0457,\n",
            "        -0.0199, -0.0313, -0.0226, -0.0585,  0.0078,  0.0037, -0.0032,  0.0936,\n",
            "         0.0519,  0.0779, -0.0653,  0.0198,  0.1402,  0.1127,  0.0070,  0.0641,\n",
            "        -0.0021,  0.0555, -0.0381, -0.0154, -0.0217, -0.0117,  0.0373,  0.0624,\n",
            "        -0.0283, -0.0076, -0.0370,  0.1390,  0.0539, -0.0024, -0.0201,  0.0194,\n",
            "        -0.0114,  0.0521,  0.0254,  0.0081, -0.0548, -0.0231,  0.0850, -0.0174,\n",
            "        -0.0164,  0.0294, -0.0304,  0.0599, -0.0350, -0.0429,  0.1087, -0.0449,\n",
            "        -0.0189, -0.0152,  0.0471, -0.0263,  0.0447,  0.0662, -0.0178, -0.0343,\n",
            "        -0.0290,  0.0708, -0.0416, -0.0506,  0.0618,  0.0336, -0.0146, -0.0502,\n",
            "         0.1299,  0.0452, -0.0255, -0.1092, -0.0024,  0.0166,  0.0513,  0.0279,\n",
            "         0.0476,  0.0055,  0.0424,  0.0866,  0.0160,  0.0117, -0.0685,  0.0402,\n",
            "         0.0545, -0.1325,  0.0562, -0.0350, -0.0146,  0.0616,  0.0013,  0.0197,\n",
            "        -0.0561,  0.0136,  0.0495,  0.0930,  0.0823,  0.0044, -0.0092, -0.1306,\n",
            "         0.0448,  0.0155,  0.0445,  0.0104, -0.0037, -0.0341,  0.0710,  0.0060,\n",
            "        -0.0062, -0.0027,  0.0167,  0.0248, -0.0396,  0.0551,  0.0592,  0.0096,\n",
            "         0.0398,  0.0185, -0.1271,  0.0584, -0.0701,  0.0216,  0.1176,  0.0219,\n",
            "        -0.0128, -0.0146,  0.0708, -0.0165,  0.1389, -0.0078, -0.0124,  0.0104,\n",
            "         0.0491, -0.0535,  0.0394,  0.0745,  0.0348, -0.0511,  0.0623,  0.0190,\n",
            "        -0.0340,  0.0183,  0.0429,  0.0101,  0.0167,  0.0556, -0.0508,  0.0775,\n",
            "         0.0768,  0.0346,  0.0345, -0.0359, -0.0770,  0.0908,  0.0160,  0.0132,\n",
            "         0.0092, -0.0270, -0.0096,  0.0457, -0.0433,  0.0248, -0.0347,  0.0162,\n",
            "        -0.0295,  0.1163,  0.1168,  0.0799,  0.0276,  0.0698, -0.0459, -0.0425,\n",
            "        -0.0212,  0.0678, -0.0048, -0.0276,  0.0165,  0.0249,  0.0641,  0.0900,\n",
            "         0.0249, -0.0083,  0.0243,  0.0747, -0.0067, -0.0280,  0.0515,  0.1237,\n",
            "        -0.0114, -0.0349,  0.0341,  0.0276, -0.0076,  0.0572,  0.0006, -0.0189,\n",
            "         0.1597,  0.0124,  0.0504,  0.0994,  0.0554, -0.0788, -0.1008,  0.0415,\n",
            "        -0.0144,  0.1299, -0.0100, -0.0674,  0.0008,  0.0261, -0.0315, -0.0208,\n",
            "        -0.0060, -0.0480, -0.0225,  0.0802, -0.0313,  0.0473,  0.0199,  0.0244,\n",
            "         0.0892,  0.0775,  0.0320,  0.0096, -0.0315,  0.0360,  0.0502,  0.1163,\n",
            "        -0.0743,  0.0078,  0.1213,  0.0009, -0.0481,  0.0266, -0.0250, -0.0019,\n",
            "         0.0244, -0.0280,  0.0550, -0.0092, -0.0350,  0.0183, -0.0330, -0.0270])), ('fc4.weight', tensor([[-0.1825,  0.0302,  0.0108,  ...,  0.0574, -0.0289,  0.1529],\n",
            "        [-0.2604,  0.2033,  0.0461,  ..., -0.0047, -0.0443, -0.0861],\n",
            "        [ 0.0838,  0.0562, -0.0699,  ..., -0.0033, -0.0132,  0.0351],\n",
            "        ...,\n",
            "        [ 0.0357,  0.0031, -0.0571,  ...,  0.0711,  0.0048,  0.0841],\n",
            "        [ 0.0401, -0.2020,  0.0589,  ...,  0.1012,  0.0260,  0.0634],\n",
            "        [ 0.0850,  0.2325, -0.0254,  ..., -0.0337, -0.0224,  0.0452]])), ('fc4.bias', tensor([-0.3918,  0.1146,  0.1362,  0.0551,  0.3249, -0.2716,  0.2862,  0.0235,\n",
            "        -0.1882, -0.0468]))])\n",
            "fc3.weight \t OrderedDict([('fc1.weight', tensor([[ 0.0111, -0.0082, -0.0085,  ...,  0.0066,  0.0061, -0.0060],\n",
            "        [ 0.0129,  0.0103,  0.0149,  ..., -0.0092, -0.0004,  0.0147],\n",
            "        [-0.0100, -0.0132, -0.0184,  ...,  0.0042, -0.0006,  0.0060],\n",
            "        ...,\n",
            "        [-0.0227,  0.0054, -0.0113,  ...,  0.0008, -0.0013, -0.0010],\n",
            "        [-0.0104, -0.0007, -0.0004,  ...,  0.0081, -0.0177, -0.0098],\n",
            "        [-0.0039,  0.0023,  0.0027,  ...,  0.0165, -0.0037,  0.0021]])), ('fc1.bias', tensor([ 0.0181, -0.0065,  0.0050,  ...,  0.0131,  0.0076, -0.0350])), ('fc2.weight', tensor([[ 0.0088,  0.0159, -0.0135,  ...,  0.0214,  0.0010,  0.0112],\n",
            "        [ 0.0194,  0.0012, -0.0181,  ...,  0.0305,  0.0291,  0.0043],\n",
            "        [ 0.0075, -0.0280, -0.0306,  ...,  0.0263, -0.0199, -0.0190],\n",
            "        ...,\n",
            "        [ 0.0136,  0.0046,  0.0174,  ...,  0.0180,  0.0260,  0.0220],\n",
            "        [ 0.0116,  0.0150,  0.0010,  ...,  0.0252,  0.0192,  0.0259],\n",
            "        [-0.0160,  0.0198, -0.0134,  ...,  0.0023, -0.0205, -0.0222]])), ('fc2.bias', tensor([-9.3907e-03,  5.8124e-02,  5.6755e-03, -1.0492e-02,  6.5335e-02,\n",
            "        -4.4018e-02, -5.9762e-02, -4.2246e-03,  3.8275e-02,  3.6302e-02,\n",
            "         1.6662e-02,  6.4612e-02,  3.5137e-02,  7.2931e-02,  5.3276e-02,\n",
            "        -2.6933e-02, -1.0717e-02, -3.3024e-02,  2.6869e-02, -4.6655e-03,\n",
            "         1.2705e-03, -1.3807e-02, -1.0987e-02, -7.2684e-03,  1.3433e-02,\n",
            "         8.1536e-02, -2.4979e-02, -1.8065e-02,  4.7173e-02, -4.8969e-03,\n",
            "        -2.0728e-02, -9.3475e-03, -2.0027e-02, -5.2960e-02,  2.5806e-02,\n",
            "         5.6503e-02, -9.8518e-02, -2.4705e-02,  4.3998e-03, -2.2818e-02,\n",
            "        -1.1278e-02, -2.5683e-02, -3.1951e-02, -1.6171e-02, -2.6494e-02,\n",
            "         3.8465e-03, -5.0638e-02,  6.5880e-03, -1.3942e-02,  7.2248e-02,\n",
            "        -2.0545e-02,  3.6588e-02,  6.8941e-02, -2.8519e-02, -1.8967e-02,\n",
            "         1.7368e-03,  3.6481e-02, -1.4161e-02,  7.0381e-02,  4.0343e-02,\n",
            "        -2.7757e-02,  1.2045e-04,  6.5706e-02,  9.2438e-03,  1.8472e-02,\n",
            "         4.6114e-02,  2.4899e-02,  1.7510e-02, -4.3083e-02,  6.4035e-02,\n",
            "        -1.3455e-02,  9.4503e-03,  6.6266e-02,  1.3071e-02, -5.1356e-02,\n",
            "        -2.9566e-02, -1.4881e-02,  2.5453e-02,  3.3914e-02, -2.4571e-02,\n",
            "        -2.5806e-02, -5.7497e-02, -1.5371e-02,  2.1639e-02, -9.1309e-02,\n",
            "         5.8875e-02,  6.1256e-02, -3.0452e-02,  2.6004e-03,  2.0958e-02,\n",
            "        -1.5621e-02, -1.3033e-02, -1.7979e-02, -3.0921e-03,  4.4951e-02,\n",
            "        -2.3649e-02, -2.1636e-02,  5.0235e-02, -8.0826e-02, -1.1077e-02,\n",
            "        -2.9295e-03,  2.4503e-02,  1.0069e-01,  9.6073e-02, -8.0307e-03,\n",
            "        -7.5215e-03,  7.8227e-02,  2.1837e-02, -5.1814e-03,  6.7313e-02,\n",
            "        -2.1011e-02, -5.3678e-02, -1.5544e-02,  3.0097e-02,  1.4627e-03,\n",
            "         2.3740e-02,  3.9199e-02, -9.6148e-03, -5.9218e-02, -3.2167e-02,\n",
            "         7.9183e-03, -2.1768e-02, -5.9324e-02, -9.7271e-02, -6.0585e-03,\n",
            "         2.9924e-02,  1.7455e-02,  5.7323e-03, -3.5120e-02,  7.4157e-02,\n",
            "         9.9936e-03,  8.6887e-03,  3.4343e-02, -2.7359e-02,  1.4562e-02,\n",
            "        -2.4727e-03,  1.2062e-03, -5.0856e-02,  5.1594e-02, -1.2724e-02,\n",
            "         1.0998e-02, -3.7498e-02,  7.5636e-02,  1.3210e-01, -6.3664e-02,\n",
            "        -6.0726e-04,  1.0333e-01,  4.2140e-03, -3.1553e-02,  1.7325e-02,\n",
            "         9.8532e-03,  2.3102e-03, -5.4560e-02,  1.2564e-02, -1.0419e-02,\n",
            "         3.3411e-02,  7.1305e-05, -2.6205e-02, -1.4592e-03,  2.4098e-03,\n",
            "        -1.9375e-02,  2.6023e-02,  4.1930e-02, -1.0504e-02,  9.6453e-02,\n",
            "         7.8926e-03, -2.1372e-02, -6.3300e-03, -1.6311e-03, -6.1264e-03,\n",
            "         2.3782e-02, -6.9823e-02, -7.5425e-03, -1.0885e-02,  2.9662e-02,\n",
            "         5.2459e-02,  1.1141e-02, -7.5535e-03,  1.1500e-02,  2.3680e-02,\n",
            "         7.1863e-03,  1.3583e-02, -5.2255e-02, -1.1881e-02,  1.1858e-02,\n",
            "        -2.6316e-02,  1.8965e-02, -2.6337e-02, -5.8620e-02, -2.3997e-02,\n",
            "        -5.4386e-03,  3.5633e-02, -2.6955e-02, -2.7524e-02,  1.3648e-02,\n",
            "        -5.4285e-02,  4.6251e-02,  3.1987e-02,  1.4781e-03,  6.0120e-02,\n",
            "        -5.8071e-02, -1.4772e-02,  7.6385e-03,  3.0810e-03, -1.4588e-02,\n",
            "         1.1066e-01, -2.4445e-02, -4.5862e-02,  6.3047e-02,  8.1392e-02,\n",
            "        -4.9569e-03, -7.8091e-03, -4.1682e-02,  2.4518e-02, -5.1901e-02,\n",
            "         1.1109e-02,  7.3441e-02,  7.4725e-02,  4.9311e-02,  3.2265e-03,\n",
            "         3.2110e-02, -5.5071e-02,  1.4716e-02,  3.8142e-02,  5.5324e-02,\n",
            "         9.1763e-02,  3.3215e-02, -2.2850e-02, -3.8901e-02,  2.4486e-02,\n",
            "        -2.0329e-02,  4.2221e-02, -1.3289e-02,  9.0446e-02,  1.2329e-02,\n",
            "         3.1729e-02,  3.5741e-03, -2.6481e-02, -1.0368e-02, -3.8108e-02,\n",
            "         2.3387e-02,  1.3809e-02,  7.9613e-02,  7.7602e-02, -2.4085e-02,\n",
            "         2.3131e-02,  1.6289e-02, -2.2002e-02, -5.3456e-02,  2.1649e-02,\n",
            "         2.9084e-02,  4.2865e-02, -1.7653e-02, -3.2597e-02, -1.2699e-02,\n",
            "         3.4878e-02, -7.2913e-03, -1.8691e-02,  1.0619e-02, -2.2897e-02,\n",
            "        -1.5465e-01, -9.9595e-03, -7.8906e-03, -1.7803e-04,  2.9991e-03,\n",
            "         1.7437e-02, -4.5316e-03, -4.6754e-02,  1.5209e-02,  2.9278e-02,\n",
            "         6.6734e-04,  7.2638e-02,  4.7398e-02,  1.1696e-02,  2.8760e-02,\n",
            "         1.7859e-02,  4.7850e-02, -1.1934e-02, -7.6772e-03,  8.4868e-02,\n",
            "        -4.5561e-03, -3.1245e-02, -1.8441e-02,  3.0177e-02,  3.4745e-02,\n",
            "         5.8307e-03, -2.0930e-02,  6.6294e-02, -2.8679e-02,  7.8298e-02,\n",
            "         9.6589e-03,  9.8228e-02,  4.6103e-02, -3.4738e-02, -5.3236e-02,\n",
            "        -2.9300e-03, -2.1778e-02,  8.2345e-03,  8.3438e-02, -1.3717e-02,\n",
            "         1.5029e-02,  6.1599e-03, -1.2908e-02, -1.9242e-02,  3.1825e-02,\n",
            "        -1.4530e-02,  6.3534e-03,  4.7696e-03, -3.3699e-02,  6.1708e-03,\n",
            "         7.8270e-02, -2.0784e-03, -2.4142e-02, -1.6465e-02, -1.7072e-02,\n",
            "         3.7843e-02, -3.4460e-02, -2.9735e-03, -1.0799e-02,  3.3014e-02,\n",
            "        -6.0436e-02,  1.7799e-02, -1.2008e-02, -1.8929e-02,  1.5487e-02,\n",
            "         1.9959e-02, -5.4778e-02, -4.4758e-03,  2.3601e-03, -7.6998e-03,\n",
            "         3.8019e-02,  3.0579e-02, -9.8502e-04,  2.5852e-02, -9.5355e-02,\n",
            "        -2.1165e-02,  1.6603e-02,  5.6325e-02,  1.1962e-01,  8.6397e-03,\n",
            "         4.7190e-02, -7.5885e-03,  3.1535e-02,  5.5515e-02, -1.0507e-02,\n",
            "        -4.6449e-02,  1.8930e-02, -4.8832e-02,  3.9564e-03, -6.0529e-02,\n",
            "         4.5211e-02,  1.4734e-02, -7.6456e-03, -5.9617e-02, -2.6084e-02,\n",
            "         1.8264e-02,  1.3083e-01, -7.5929e-02,  8.2911e-02, -7.9233e-02,\n",
            "         6.1786e-02, -8.5511e-04, -9.6028e-02,  4.8227e-02, -3.2147e-02,\n",
            "        -2.0731e-02, -2.2040e-02,  7.5977e-04, -1.7564e-02,  1.3438e-01,\n",
            "         3.9277e-02,  7.7046e-02, -1.5747e-02,  4.1426e-03,  3.4506e-02,\n",
            "         2.7576e-03, -9.4167e-03, -9.2707e-03, -1.2084e-02, -2.6162e-03,\n",
            "         1.0079e-03, -4.0700e-02, -3.0578e-02, -2.9567e-02,  7.2565e-02,\n",
            "         3.4845e-02,  5.9873e-02, -2.6953e-02,  3.0431e-02,  3.2555e-02,\n",
            "         2.7341e-02, -3.1475e-02, -9.1915e-03, -4.4317e-02, -4.5956e-02,\n",
            "         1.4616e-02,  5.7801e-02,  2.9705e-02,  2.6796e-02, -3.4809e-03,\n",
            "         1.2046e-02, -2.8476e-02,  3.9043e-02,  5.7456e-03,  2.8186e-02,\n",
            "        -6.2958e-02,  4.2600e-02,  4.6786e-03,  1.7891e-03, -2.0079e-03,\n",
            "         1.8733e-02,  4.2471e-02,  2.8136e-02,  5.3950e-02,  4.7770e-02,\n",
            "         7.8637e-03, -9.6420e-03,  3.3046e-02, -9.3638e-03,  1.5144e-02,\n",
            "        -4.2552e-02, -6.6454e-02,  4.8143e-02, -1.1706e-02, -1.8413e-02,\n",
            "         1.3550e-02,  3.7569e-02,  6.5881e-03,  1.1610e-02,  6.4549e-02,\n",
            "         2.6005e-02, -3.6623e-02, -5.3657e-02, -2.9087e-02, -1.8983e-02,\n",
            "        -1.6947e-02,  1.0355e-01, -2.2131e-03, -6.6767e-03, -2.6723e-02,\n",
            "         3.3629e-02,  2.9144e-02,  5.5728e-02,  2.5621e-02,  1.4000e-01,\n",
            "         2.5966e-03, -2.9388e-02,  7.5327e-02,  7.7913e-02, -2.9437e-03,\n",
            "        -1.9965e-03, -7.3120e-03,  6.7700e-02, -2.5768e-02, -4.4250e-02,\n",
            "        -4.7871e-02, -1.8144e-02,  7.0454e-03,  1.3758e-03, -3.0194e-02,\n",
            "         9.6560e-04,  2.6350e-02, -3.4314e-02, -2.5300e-02, -1.1032e-02,\n",
            "        -3.7807e-02, -1.5129e-02,  2.2383e-02, -2.8257e-02,  2.3531e-02,\n",
            "        -9.4419e-03, -5.9896e-03, -2.9089e-02,  4.4203e-02, -6.3386e-02,\n",
            "        -2.3045e-02,  5.2101e-03,  5.8716e-03,  3.6981e-02, -5.0303e-02,\n",
            "         7.5715e-03, -3.0672e-02, -1.0939e-02,  2.9387e-02,  4.6181e-02,\n",
            "         5.7406e-03, -6.3428e-02,  2.7341e-02,  3.2202e-02,  1.8131e-01,\n",
            "         1.4383e-02,  4.7143e-02,  2.6374e-02,  5.7079e-02,  4.0889e-03,\n",
            "        -3.2178e-03,  7.4534e-02,  8.8117e-03, -4.0967e-03, -2.0686e-02,\n",
            "        -2.8663e-02, -3.6480e-02, -3.4022e-03, -3.2470e-02,  4.8306e-02,\n",
            "        -4.5996e-02, -8.2241e-03,  1.3294e-01,  8.9525e-02, -9.2497e-02,\n",
            "        -2.8660e-02,  1.0673e-02])), ('fc3.weight', tensor([[-0.0077,  0.0307,  0.0282,  ...,  0.0546,  0.0292, -0.0180],\n",
            "        [ 0.0442,  0.0233,  0.0083,  ...,  0.0161,  0.0163,  0.0291],\n",
            "        [-0.0131, -0.0256, -0.0143,  ...,  0.0215, -0.0045, -0.0032],\n",
            "        ...,\n",
            "        [ 0.0444,  0.0109,  0.0005,  ...,  0.0004, -0.0285, -0.0070],\n",
            "        [ 0.0225, -0.0425,  0.0265,  ..., -0.0061,  0.0183, -0.0234],\n",
            "        [ 0.0352,  0.0214, -0.0466,  ..., -0.0017, -0.0186,  0.0249]])), ('fc3.bias', tensor([ 0.0654,  0.0182, -0.0222,  0.0133,  0.0284,  0.0449,  0.0652, -0.0277,\n",
            "        -0.0429,  0.1091, -0.0021, -0.0337,  0.1181,  0.0573, -0.0246,  0.0457,\n",
            "        -0.0199, -0.0313, -0.0226, -0.0585,  0.0078,  0.0037, -0.0032,  0.0936,\n",
            "         0.0519,  0.0779, -0.0653,  0.0198,  0.1402,  0.1127,  0.0070,  0.0641,\n",
            "        -0.0021,  0.0555, -0.0381, -0.0154, -0.0217, -0.0117,  0.0373,  0.0624,\n",
            "        -0.0283, -0.0076, -0.0370,  0.1390,  0.0539, -0.0024, -0.0201,  0.0194,\n",
            "        -0.0114,  0.0521,  0.0254,  0.0081, -0.0548, -0.0231,  0.0850, -0.0174,\n",
            "        -0.0164,  0.0294, -0.0304,  0.0599, -0.0350, -0.0429,  0.1087, -0.0449,\n",
            "        -0.0189, -0.0152,  0.0471, -0.0263,  0.0447,  0.0662, -0.0178, -0.0343,\n",
            "        -0.0290,  0.0708, -0.0416, -0.0506,  0.0618,  0.0336, -0.0146, -0.0502,\n",
            "         0.1299,  0.0452, -0.0255, -0.1092, -0.0024,  0.0166,  0.0513,  0.0279,\n",
            "         0.0476,  0.0055,  0.0424,  0.0866,  0.0160,  0.0117, -0.0685,  0.0402,\n",
            "         0.0545, -0.1325,  0.0562, -0.0350, -0.0146,  0.0616,  0.0013,  0.0197,\n",
            "        -0.0561,  0.0136,  0.0495,  0.0930,  0.0823,  0.0044, -0.0092, -0.1306,\n",
            "         0.0448,  0.0155,  0.0445,  0.0104, -0.0037, -0.0341,  0.0710,  0.0060,\n",
            "        -0.0062, -0.0027,  0.0167,  0.0248, -0.0396,  0.0551,  0.0592,  0.0096,\n",
            "         0.0398,  0.0185, -0.1271,  0.0584, -0.0701,  0.0216,  0.1176,  0.0219,\n",
            "        -0.0128, -0.0146,  0.0708, -0.0165,  0.1389, -0.0078, -0.0124,  0.0104,\n",
            "         0.0491, -0.0535,  0.0394,  0.0745,  0.0348, -0.0511,  0.0623,  0.0190,\n",
            "        -0.0340,  0.0183,  0.0429,  0.0101,  0.0167,  0.0556, -0.0508,  0.0775,\n",
            "         0.0768,  0.0346,  0.0345, -0.0359, -0.0770,  0.0908,  0.0160,  0.0132,\n",
            "         0.0092, -0.0270, -0.0096,  0.0457, -0.0433,  0.0248, -0.0347,  0.0162,\n",
            "        -0.0295,  0.1163,  0.1168,  0.0799,  0.0276,  0.0698, -0.0459, -0.0425,\n",
            "        -0.0212,  0.0678, -0.0048, -0.0276,  0.0165,  0.0249,  0.0641,  0.0900,\n",
            "         0.0249, -0.0083,  0.0243,  0.0747, -0.0067, -0.0280,  0.0515,  0.1237,\n",
            "        -0.0114, -0.0349,  0.0341,  0.0276, -0.0076,  0.0572,  0.0006, -0.0189,\n",
            "         0.1597,  0.0124,  0.0504,  0.0994,  0.0554, -0.0788, -0.1008,  0.0415,\n",
            "        -0.0144,  0.1299, -0.0100, -0.0674,  0.0008,  0.0261, -0.0315, -0.0208,\n",
            "        -0.0060, -0.0480, -0.0225,  0.0802, -0.0313,  0.0473,  0.0199,  0.0244,\n",
            "         0.0892,  0.0775,  0.0320,  0.0096, -0.0315,  0.0360,  0.0502,  0.1163,\n",
            "        -0.0743,  0.0078,  0.1213,  0.0009, -0.0481,  0.0266, -0.0250, -0.0019,\n",
            "         0.0244, -0.0280,  0.0550, -0.0092, -0.0350,  0.0183, -0.0330, -0.0270])), ('fc4.weight', tensor([[-0.1825,  0.0302,  0.0108,  ...,  0.0574, -0.0289,  0.1529],\n",
            "        [-0.2604,  0.2033,  0.0461,  ..., -0.0047, -0.0443, -0.0861],\n",
            "        [ 0.0838,  0.0562, -0.0699,  ..., -0.0033, -0.0132,  0.0351],\n",
            "        ...,\n",
            "        [ 0.0357,  0.0031, -0.0571,  ...,  0.0711,  0.0048,  0.0841],\n",
            "        [ 0.0401, -0.2020,  0.0589,  ...,  0.1012,  0.0260,  0.0634],\n",
            "        [ 0.0850,  0.2325, -0.0254,  ..., -0.0337, -0.0224,  0.0452]])), ('fc4.bias', tensor([-0.3918,  0.1146,  0.1362,  0.0551,  0.3249, -0.2716,  0.2862,  0.0235,\n",
            "        -0.1882, -0.0468]))])\n",
            "fc3.bias \t OrderedDict([('fc1.weight', tensor([[ 0.0111, -0.0082, -0.0085,  ...,  0.0066,  0.0061, -0.0060],\n",
            "        [ 0.0129,  0.0103,  0.0149,  ..., -0.0092, -0.0004,  0.0147],\n",
            "        [-0.0100, -0.0132, -0.0184,  ...,  0.0042, -0.0006,  0.0060],\n",
            "        ...,\n",
            "        [-0.0227,  0.0054, -0.0113,  ...,  0.0008, -0.0013, -0.0010],\n",
            "        [-0.0104, -0.0007, -0.0004,  ...,  0.0081, -0.0177, -0.0098],\n",
            "        [-0.0039,  0.0023,  0.0027,  ...,  0.0165, -0.0037,  0.0021]])), ('fc1.bias', tensor([ 0.0181, -0.0065,  0.0050,  ...,  0.0131,  0.0076, -0.0350])), ('fc2.weight', tensor([[ 0.0088,  0.0159, -0.0135,  ...,  0.0214,  0.0010,  0.0112],\n",
            "        [ 0.0194,  0.0012, -0.0181,  ...,  0.0305,  0.0291,  0.0043],\n",
            "        [ 0.0075, -0.0280, -0.0306,  ...,  0.0263, -0.0199, -0.0190],\n",
            "        ...,\n",
            "        [ 0.0136,  0.0046,  0.0174,  ...,  0.0180,  0.0260,  0.0220],\n",
            "        [ 0.0116,  0.0150,  0.0010,  ...,  0.0252,  0.0192,  0.0259],\n",
            "        [-0.0160,  0.0198, -0.0134,  ...,  0.0023, -0.0205, -0.0222]])), ('fc2.bias', tensor([-9.3907e-03,  5.8124e-02,  5.6755e-03, -1.0492e-02,  6.5335e-02,\n",
            "        -4.4018e-02, -5.9762e-02, -4.2246e-03,  3.8275e-02,  3.6302e-02,\n",
            "         1.6662e-02,  6.4612e-02,  3.5137e-02,  7.2931e-02,  5.3276e-02,\n",
            "        -2.6933e-02, -1.0717e-02, -3.3024e-02,  2.6869e-02, -4.6655e-03,\n",
            "         1.2705e-03, -1.3807e-02, -1.0987e-02, -7.2684e-03,  1.3433e-02,\n",
            "         8.1536e-02, -2.4979e-02, -1.8065e-02,  4.7173e-02, -4.8969e-03,\n",
            "        -2.0728e-02, -9.3475e-03, -2.0027e-02, -5.2960e-02,  2.5806e-02,\n",
            "         5.6503e-02, -9.8518e-02, -2.4705e-02,  4.3998e-03, -2.2818e-02,\n",
            "        -1.1278e-02, -2.5683e-02, -3.1951e-02, -1.6171e-02, -2.6494e-02,\n",
            "         3.8465e-03, -5.0638e-02,  6.5880e-03, -1.3942e-02,  7.2248e-02,\n",
            "        -2.0545e-02,  3.6588e-02,  6.8941e-02, -2.8519e-02, -1.8967e-02,\n",
            "         1.7368e-03,  3.6481e-02, -1.4161e-02,  7.0381e-02,  4.0343e-02,\n",
            "        -2.7757e-02,  1.2045e-04,  6.5706e-02,  9.2438e-03,  1.8472e-02,\n",
            "         4.6114e-02,  2.4899e-02,  1.7510e-02, -4.3083e-02,  6.4035e-02,\n",
            "        -1.3455e-02,  9.4503e-03,  6.6266e-02,  1.3071e-02, -5.1356e-02,\n",
            "        -2.9566e-02, -1.4881e-02,  2.5453e-02,  3.3914e-02, -2.4571e-02,\n",
            "        -2.5806e-02, -5.7497e-02, -1.5371e-02,  2.1639e-02, -9.1309e-02,\n",
            "         5.8875e-02,  6.1256e-02, -3.0452e-02,  2.6004e-03,  2.0958e-02,\n",
            "        -1.5621e-02, -1.3033e-02, -1.7979e-02, -3.0921e-03,  4.4951e-02,\n",
            "        -2.3649e-02, -2.1636e-02,  5.0235e-02, -8.0826e-02, -1.1077e-02,\n",
            "        -2.9295e-03,  2.4503e-02,  1.0069e-01,  9.6073e-02, -8.0307e-03,\n",
            "        -7.5215e-03,  7.8227e-02,  2.1837e-02, -5.1814e-03,  6.7313e-02,\n",
            "        -2.1011e-02, -5.3678e-02, -1.5544e-02,  3.0097e-02,  1.4627e-03,\n",
            "         2.3740e-02,  3.9199e-02, -9.6148e-03, -5.9218e-02, -3.2167e-02,\n",
            "         7.9183e-03, -2.1768e-02, -5.9324e-02, -9.7271e-02, -6.0585e-03,\n",
            "         2.9924e-02,  1.7455e-02,  5.7323e-03, -3.5120e-02,  7.4157e-02,\n",
            "         9.9936e-03,  8.6887e-03,  3.4343e-02, -2.7359e-02,  1.4562e-02,\n",
            "        -2.4727e-03,  1.2062e-03, -5.0856e-02,  5.1594e-02, -1.2724e-02,\n",
            "         1.0998e-02, -3.7498e-02,  7.5636e-02,  1.3210e-01, -6.3664e-02,\n",
            "        -6.0726e-04,  1.0333e-01,  4.2140e-03, -3.1553e-02,  1.7325e-02,\n",
            "         9.8532e-03,  2.3102e-03, -5.4560e-02,  1.2564e-02, -1.0419e-02,\n",
            "         3.3411e-02,  7.1305e-05, -2.6205e-02, -1.4592e-03,  2.4098e-03,\n",
            "        -1.9375e-02,  2.6023e-02,  4.1930e-02, -1.0504e-02,  9.6453e-02,\n",
            "         7.8926e-03, -2.1372e-02, -6.3300e-03, -1.6311e-03, -6.1264e-03,\n",
            "         2.3782e-02, -6.9823e-02, -7.5425e-03, -1.0885e-02,  2.9662e-02,\n",
            "         5.2459e-02,  1.1141e-02, -7.5535e-03,  1.1500e-02,  2.3680e-02,\n",
            "         7.1863e-03,  1.3583e-02, -5.2255e-02, -1.1881e-02,  1.1858e-02,\n",
            "        -2.6316e-02,  1.8965e-02, -2.6337e-02, -5.8620e-02, -2.3997e-02,\n",
            "        -5.4386e-03,  3.5633e-02, -2.6955e-02, -2.7524e-02,  1.3648e-02,\n",
            "        -5.4285e-02,  4.6251e-02,  3.1987e-02,  1.4781e-03,  6.0120e-02,\n",
            "        -5.8071e-02, -1.4772e-02,  7.6385e-03,  3.0810e-03, -1.4588e-02,\n",
            "         1.1066e-01, -2.4445e-02, -4.5862e-02,  6.3047e-02,  8.1392e-02,\n",
            "        -4.9569e-03, -7.8091e-03, -4.1682e-02,  2.4518e-02, -5.1901e-02,\n",
            "         1.1109e-02,  7.3441e-02,  7.4725e-02,  4.9311e-02,  3.2265e-03,\n",
            "         3.2110e-02, -5.5071e-02,  1.4716e-02,  3.8142e-02,  5.5324e-02,\n",
            "         9.1763e-02,  3.3215e-02, -2.2850e-02, -3.8901e-02,  2.4486e-02,\n",
            "        -2.0329e-02,  4.2221e-02, -1.3289e-02,  9.0446e-02,  1.2329e-02,\n",
            "         3.1729e-02,  3.5741e-03, -2.6481e-02, -1.0368e-02, -3.8108e-02,\n",
            "         2.3387e-02,  1.3809e-02,  7.9613e-02,  7.7602e-02, -2.4085e-02,\n",
            "         2.3131e-02,  1.6289e-02, -2.2002e-02, -5.3456e-02,  2.1649e-02,\n",
            "         2.9084e-02,  4.2865e-02, -1.7653e-02, -3.2597e-02, -1.2699e-02,\n",
            "         3.4878e-02, -7.2913e-03, -1.8691e-02,  1.0619e-02, -2.2897e-02,\n",
            "        -1.5465e-01, -9.9595e-03, -7.8906e-03, -1.7803e-04,  2.9991e-03,\n",
            "         1.7437e-02, -4.5316e-03, -4.6754e-02,  1.5209e-02,  2.9278e-02,\n",
            "         6.6734e-04,  7.2638e-02,  4.7398e-02,  1.1696e-02,  2.8760e-02,\n",
            "         1.7859e-02,  4.7850e-02, -1.1934e-02, -7.6772e-03,  8.4868e-02,\n",
            "        -4.5561e-03, -3.1245e-02, -1.8441e-02,  3.0177e-02,  3.4745e-02,\n",
            "         5.8307e-03, -2.0930e-02,  6.6294e-02, -2.8679e-02,  7.8298e-02,\n",
            "         9.6589e-03,  9.8228e-02,  4.6103e-02, -3.4738e-02, -5.3236e-02,\n",
            "        -2.9300e-03, -2.1778e-02,  8.2345e-03,  8.3438e-02, -1.3717e-02,\n",
            "         1.5029e-02,  6.1599e-03, -1.2908e-02, -1.9242e-02,  3.1825e-02,\n",
            "        -1.4530e-02,  6.3534e-03,  4.7696e-03, -3.3699e-02,  6.1708e-03,\n",
            "         7.8270e-02, -2.0784e-03, -2.4142e-02, -1.6465e-02, -1.7072e-02,\n",
            "         3.7843e-02, -3.4460e-02, -2.9735e-03, -1.0799e-02,  3.3014e-02,\n",
            "        -6.0436e-02,  1.7799e-02, -1.2008e-02, -1.8929e-02,  1.5487e-02,\n",
            "         1.9959e-02, -5.4778e-02, -4.4758e-03,  2.3601e-03, -7.6998e-03,\n",
            "         3.8019e-02,  3.0579e-02, -9.8502e-04,  2.5852e-02, -9.5355e-02,\n",
            "        -2.1165e-02,  1.6603e-02,  5.6325e-02,  1.1962e-01,  8.6397e-03,\n",
            "         4.7190e-02, -7.5885e-03,  3.1535e-02,  5.5515e-02, -1.0507e-02,\n",
            "        -4.6449e-02,  1.8930e-02, -4.8832e-02,  3.9564e-03, -6.0529e-02,\n",
            "         4.5211e-02,  1.4734e-02, -7.6456e-03, -5.9617e-02, -2.6084e-02,\n",
            "         1.8264e-02,  1.3083e-01, -7.5929e-02,  8.2911e-02, -7.9233e-02,\n",
            "         6.1786e-02, -8.5511e-04, -9.6028e-02,  4.8227e-02, -3.2147e-02,\n",
            "        -2.0731e-02, -2.2040e-02,  7.5977e-04, -1.7564e-02,  1.3438e-01,\n",
            "         3.9277e-02,  7.7046e-02, -1.5747e-02,  4.1426e-03,  3.4506e-02,\n",
            "         2.7576e-03, -9.4167e-03, -9.2707e-03, -1.2084e-02, -2.6162e-03,\n",
            "         1.0079e-03, -4.0700e-02, -3.0578e-02, -2.9567e-02,  7.2565e-02,\n",
            "         3.4845e-02,  5.9873e-02, -2.6953e-02,  3.0431e-02,  3.2555e-02,\n",
            "         2.7341e-02, -3.1475e-02, -9.1915e-03, -4.4317e-02, -4.5956e-02,\n",
            "         1.4616e-02,  5.7801e-02,  2.9705e-02,  2.6796e-02, -3.4809e-03,\n",
            "         1.2046e-02, -2.8476e-02,  3.9043e-02,  5.7456e-03,  2.8186e-02,\n",
            "        -6.2958e-02,  4.2600e-02,  4.6786e-03,  1.7891e-03, -2.0079e-03,\n",
            "         1.8733e-02,  4.2471e-02,  2.8136e-02,  5.3950e-02,  4.7770e-02,\n",
            "         7.8637e-03, -9.6420e-03,  3.3046e-02, -9.3638e-03,  1.5144e-02,\n",
            "        -4.2552e-02, -6.6454e-02,  4.8143e-02, -1.1706e-02, -1.8413e-02,\n",
            "         1.3550e-02,  3.7569e-02,  6.5881e-03,  1.1610e-02,  6.4549e-02,\n",
            "         2.6005e-02, -3.6623e-02, -5.3657e-02, -2.9087e-02, -1.8983e-02,\n",
            "        -1.6947e-02,  1.0355e-01, -2.2131e-03, -6.6767e-03, -2.6723e-02,\n",
            "         3.3629e-02,  2.9144e-02,  5.5728e-02,  2.5621e-02,  1.4000e-01,\n",
            "         2.5966e-03, -2.9388e-02,  7.5327e-02,  7.7913e-02, -2.9437e-03,\n",
            "        -1.9965e-03, -7.3120e-03,  6.7700e-02, -2.5768e-02, -4.4250e-02,\n",
            "        -4.7871e-02, -1.8144e-02,  7.0454e-03,  1.3758e-03, -3.0194e-02,\n",
            "         9.6560e-04,  2.6350e-02, -3.4314e-02, -2.5300e-02, -1.1032e-02,\n",
            "        -3.7807e-02, -1.5129e-02,  2.2383e-02, -2.8257e-02,  2.3531e-02,\n",
            "        -9.4419e-03, -5.9896e-03, -2.9089e-02,  4.4203e-02, -6.3386e-02,\n",
            "        -2.3045e-02,  5.2101e-03,  5.8716e-03,  3.6981e-02, -5.0303e-02,\n",
            "         7.5715e-03, -3.0672e-02, -1.0939e-02,  2.9387e-02,  4.6181e-02,\n",
            "         5.7406e-03, -6.3428e-02,  2.7341e-02,  3.2202e-02,  1.8131e-01,\n",
            "         1.4383e-02,  4.7143e-02,  2.6374e-02,  5.7079e-02,  4.0889e-03,\n",
            "        -3.2178e-03,  7.4534e-02,  8.8117e-03, -4.0967e-03, -2.0686e-02,\n",
            "        -2.8663e-02, -3.6480e-02, -3.4022e-03, -3.2470e-02,  4.8306e-02,\n",
            "        -4.5996e-02, -8.2241e-03,  1.3294e-01,  8.9525e-02, -9.2497e-02,\n",
            "        -2.8660e-02,  1.0673e-02])), ('fc3.weight', tensor([[-0.0077,  0.0307,  0.0282,  ...,  0.0546,  0.0292, -0.0180],\n",
            "        [ 0.0442,  0.0233,  0.0083,  ...,  0.0161,  0.0163,  0.0291],\n",
            "        [-0.0131, -0.0256, -0.0143,  ...,  0.0215, -0.0045, -0.0032],\n",
            "        ...,\n",
            "        [ 0.0444,  0.0109,  0.0005,  ...,  0.0004, -0.0285, -0.0070],\n",
            "        [ 0.0225, -0.0425,  0.0265,  ..., -0.0061,  0.0183, -0.0234],\n",
            "        [ 0.0352,  0.0214, -0.0466,  ..., -0.0017, -0.0186,  0.0249]])), ('fc3.bias', tensor([ 0.0654,  0.0182, -0.0222,  0.0133,  0.0284,  0.0449,  0.0652, -0.0277,\n",
            "        -0.0429,  0.1091, -0.0021, -0.0337,  0.1181,  0.0573, -0.0246,  0.0457,\n",
            "        -0.0199, -0.0313, -0.0226, -0.0585,  0.0078,  0.0037, -0.0032,  0.0936,\n",
            "         0.0519,  0.0779, -0.0653,  0.0198,  0.1402,  0.1127,  0.0070,  0.0641,\n",
            "        -0.0021,  0.0555, -0.0381, -0.0154, -0.0217, -0.0117,  0.0373,  0.0624,\n",
            "        -0.0283, -0.0076, -0.0370,  0.1390,  0.0539, -0.0024, -0.0201,  0.0194,\n",
            "        -0.0114,  0.0521,  0.0254,  0.0081, -0.0548, -0.0231,  0.0850, -0.0174,\n",
            "        -0.0164,  0.0294, -0.0304,  0.0599, -0.0350, -0.0429,  0.1087, -0.0449,\n",
            "        -0.0189, -0.0152,  0.0471, -0.0263,  0.0447,  0.0662, -0.0178, -0.0343,\n",
            "        -0.0290,  0.0708, -0.0416, -0.0506,  0.0618,  0.0336, -0.0146, -0.0502,\n",
            "         0.1299,  0.0452, -0.0255, -0.1092, -0.0024,  0.0166,  0.0513,  0.0279,\n",
            "         0.0476,  0.0055,  0.0424,  0.0866,  0.0160,  0.0117, -0.0685,  0.0402,\n",
            "         0.0545, -0.1325,  0.0562, -0.0350, -0.0146,  0.0616,  0.0013,  0.0197,\n",
            "        -0.0561,  0.0136,  0.0495,  0.0930,  0.0823,  0.0044, -0.0092, -0.1306,\n",
            "         0.0448,  0.0155,  0.0445,  0.0104, -0.0037, -0.0341,  0.0710,  0.0060,\n",
            "        -0.0062, -0.0027,  0.0167,  0.0248, -0.0396,  0.0551,  0.0592,  0.0096,\n",
            "         0.0398,  0.0185, -0.1271,  0.0584, -0.0701,  0.0216,  0.1176,  0.0219,\n",
            "        -0.0128, -0.0146,  0.0708, -0.0165,  0.1389, -0.0078, -0.0124,  0.0104,\n",
            "         0.0491, -0.0535,  0.0394,  0.0745,  0.0348, -0.0511,  0.0623,  0.0190,\n",
            "        -0.0340,  0.0183,  0.0429,  0.0101,  0.0167,  0.0556, -0.0508,  0.0775,\n",
            "         0.0768,  0.0346,  0.0345, -0.0359, -0.0770,  0.0908,  0.0160,  0.0132,\n",
            "         0.0092, -0.0270, -0.0096,  0.0457, -0.0433,  0.0248, -0.0347,  0.0162,\n",
            "        -0.0295,  0.1163,  0.1168,  0.0799,  0.0276,  0.0698, -0.0459, -0.0425,\n",
            "        -0.0212,  0.0678, -0.0048, -0.0276,  0.0165,  0.0249,  0.0641,  0.0900,\n",
            "         0.0249, -0.0083,  0.0243,  0.0747, -0.0067, -0.0280,  0.0515,  0.1237,\n",
            "        -0.0114, -0.0349,  0.0341,  0.0276, -0.0076,  0.0572,  0.0006, -0.0189,\n",
            "         0.1597,  0.0124,  0.0504,  0.0994,  0.0554, -0.0788, -0.1008,  0.0415,\n",
            "        -0.0144,  0.1299, -0.0100, -0.0674,  0.0008,  0.0261, -0.0315, -0.0208,\n",
            "        -0.0060, -0.0480, -0.0225,  0.0802, -0.0313,  0.0473,  0.0199,  0.0244,\n",
            "         0.0892,  0.0775,  0.0320,  0.0096, -0.0315,  0.0360,  0.0502,  0.1163,\n",
            "        -0.0743,  0.0078,  0.1213,  0.0009, -0.0481,  0.0266, -0.0250, -0.0019,\n",
            "         0.0244, -0.0280,  0.0550, -0.0092, -0.0350,  0.0183, -0.0330, -0.0270])), ('fc4.weight', tensor([[-0.1825,  0.0302,  0.0108,  ...,  0.0574, -0.0289,  0.1529],\n",
            "        [-0.2604,  0.2033,  0.0461,  ..., -0.0047, -0.0443, -0.0861],\n",
            "        [ 0.0838,  0.0562, -0.0699,  ..., -0.0033, -0.0132,  0.0351],\n",
            "        ...,\n",
            "        [ 0.0357,  0.0031, -0.0571,  ...,  0.0711,  0.0048,  0.0841],\n",
            "        [ 0.0401, -0.2020,  0.0589,  ...,  0.1012,  0.0260,  0.0634],\n",
            "        [ 0.0850,  0.2325, -0.0254,  ..., -0.0337, -0.0224,  0.0452]])), ('fc4.bias', tensor([-0.3918,  0.1146,  0.1362,  0.0551,  0.3249, -0.2716,  0.2862,  0.0235,\n",
            "        -0.1882, -0.0468]))])\n",
            "fc4.weight \t OrderedDict([('fc1.weight', tensor([[ 0.0111, -0.0082, -0.0085,  ...,  0.0066,  0.0061, -0.0060],\n",
            "        [ 0.0129,  0.0103,  0.0149,  ..., -0.0092, -0.0004,  0.0147],\n",
            "        [-0.0100, -0.0132, -0.0184,  ...,  0.0042, -0.0006,  0.0060],\n",
            "        ...,\n",
            "        [-0.0227,  0.0054, -0.0113,  ...,  0.0008, -0.0013, -0.0010],\n",
            "        [-0.0104, -0.0007, -0.0004,  ...,  0.0081, -0.0177, -0.0098],\n",
            "        [-0.0039,  0.0023,  0.0027,  ...,  0.0165, -0.0037,  0.0021]])), ('fc1.bias', tensor([ 0.0181, -0.0065,  0.0050,  ...,  0.0131,  0.0076, -0.0350])), ('fc2.weight', tensor([[ 0.0088,  0.0159, -0.0135,  ...,  0.0214,  0.0010,  0.0112],\n",
            "        [ 0.0194,  0.0012, -0.0181,  ...,  0.0305,  0.0291,  0.0043],\n",
            "        [ 0.0075, -0.0280, -0.0306,  ...,  0.0263, -0.0199, -0.0190],\n",
            "        ...,\n",
            "        [ 0.0136,  0.0046,  0.0174,  ...,  0.0180,  0.0260,  0.0220],\n",
            "        [ 0.0116,  0.0150,  0.0010,  ...,  0.0252,  0.0192,  0.0259],\n",
            "        [-0.0160,  0.0198, -0.0134,  ...,  0.0023, -0.0205, -0.0222]])), ('fc2.bias', tensor([-9.3907e-03,  5.8124e-02,  5.6755e-03, -1.0492e-02,  6.5335e-02,\n",
            "        -4.4018e-02, -5.9762e-02, -4.2246e-03,  3.8275e-02,  3.6302e-02,\n",
            "         1.6662e-02,  6.4612e-02,  3.5137e-02,  7.2931e-02,  5.3276e-02,\n",
            "        -2.6933e-02, -1.0717e-02, -3.3024e-02,  2.6869e-02, -4.6655e-03,\n",
            "         1.2705e-03, -1.3807e-02, -1.0987e-02, -7.2684e-03,  1.3433e-02,\n",
            "         8.1536e-02, -2.4979e-02, -1.8065e-02,  4.7173e-02, -4.8969e-03,\n",
            "        -2.0728e-02, -9.3475e-03, -2.0027e-02, -5.2960e-02,  2.5806e-02,\n",
            "         5.6503e-02, -9.8518e-02, -2.4705e-02,  4.3998e-03, -2.2818e-02,\n",
            "        -1.1278e-02, -2.5683e-02, -3.1951e-02, -1.6171e-02, -2.6494e-02,\n",
            "         3.8465e-03, -5.0638e-02,  6.5880e-03, -1.3942e-02,  7.2248e-02,\n",
            "        -2.0545e-02,  3.6588e-02,  6.8941e-02, -2.8519e-02, -1.8967e-02,\n",
            "         1.7368e-03,  3.6481e-02, -1.4161e-02,  7.0381e-02,  4.0343e-02,\n",
            "        -2.7757e-02,  1.2045e-04,  6.5706e-02,  9.2438e-03,  1.8472e-02,\n",
            "         4.6114e-02,  2.4899e-02,  1.7510e-02, -4.3083e-02,  6.4035e-02,\n",
            "        -1.3455e-02,  9.4503e-03,  6.6266e-02,  1.3071e-02, -5.1356e-02,\n",
            "        -2.9566e-02, -1.4881e-02,  2.5453e-02,  3.3914e-02, -2.4571e-02,\n",
            "        -2.5806e-02, -5.7497e-02, -1.5371e-02,  2.1639e-02, -9.1309e-02,\n",
            "         5.8875e-02,  6.1256e-02, -3.0452e-02,  2.6004e-03,  2.0958e-02,\n",
            "        -1.5621e-02, -1.3033e-02, -1.7979e-02, -3.0921e-03,  4.4951e-02,\n",
            "        -2.3649e-02, -2.1636e-02,  5.0235e-02, -8.0826e-02, -1.1077e-02,\n",
            "        -2.9295e-03,  2.4503e-02,  1.0069e-01,  9.6073e-02, -8.0307e-03,\n",
            "        -7.5215e-03,  7.8227e-02,  2.1837e-02, -5.1814e-03,  6.7313e-02,\n",
            "        -2.1011e-02, -5.3678e-02, -1.5544e-02,  3.0097e-02,  1.4627e-03,\n",
            "         2.3740e-02,  3.9199e-02, -9.6148e-03, -5.9218e-02, -3.2167e-02,\n",
            "         7.9183e-03, -2.1768e-02, -5.9324e-02, -9.7271e-02, -6.0585e-03,\n",
            "         2.9924e-02,  1.7455e-02,  5.7323e-03, -3.5120e-02,  7.4157e-02,\n",
            "         9.9936e-03,  8.6887e-03,  3.4343e-02, -2.7359e-02,  1.4562e-02,\n",
            "        -2.4727e-03,  1.2062e-03, -5.0856e-02,  5.1594e-02, -1.2724e-02,\n",
            "         1.0998e-02, -3.7498e-02,  7.5636e-02,  1.3210e-01, -6.3664e-02,\n",
            "        -6.0726e-04,  1.0333e-01,  4.2140e-03, -3.1553e-02,  1.7325e-02,\n",
            "         9.8532e-03,  2.3102e-03, -5.4560e-02,  1.2564e-02, -1.0419e-02,\n",
            "         3.3411e-02,  7.1305e-05, -2.6205e-02, -1.4592e-03,  2.4098e-03,\n",
            "        -1.9375e-02,  2.6023e-02,  4.1930e-02, -1.0504e-02,  9.6453e-02,\n",
            "         7.8926e-03, -2.1372e-02, -6.3300e-03, -1.6311e-03, -6.1264e-03,\n",
            "         2.3782e-02, -6.9823e-02, -7.5425e-03, -1.0885e-02,  2.9662e-02,\n",
            "         5.2459e-02,  1.1141e-02, -7.5535e-03,  1.1500e-02,  2.3680e-02,\n",
            "         7.1863e-03,  1.3583e-02, -5.2255e-02, -1.1881e-02,  1.1858e-02,\n",
            "        -2.6316e-02,  1.8965e-02, -2.6337e-02, -5.8620e-02, -2.3997e-02,\n",
            "        -5.4386e-03,  3.5633e-02, -2.6955e-02, -2.7524e-02,  1.3648e-02,\n",
            "        -5.4285e-02,  4.6251e-02,  3.1987e-02,  1.4781e-03,  6.0120e-02,\n",
            "        -5.8071e-02, -1.4772e-02,  7.6385e-03,  3.0810e-03, -1.4588e-02,\n",
            "         1.1066e-01, -2.4445e-02, -4.5862e-02,  6.3047e-02,  8.1392e-02,\n",
            "        -4.9569e-03, -7.8091e-03, -4.1682e-02,  2.4518e-02, -5.1901e-02,\n",
            "         1.1109e-02,  7.3441e-02,  7.4725e-02,  4.9311e-02,  3.2265e-03,\n",
            "         3.2110e-02, -5.5071e-02,  1.4716e-02,  3.8142e-02,  5.5324e-02,\n",
            "         9.1763e-02,  3.3215e-02, -2.2850e-02, -3.8901e-02,  2.4486e-02,\n",
            "        -2.0329e-02,  4.2221e-02, -1.3289e-02,  9.0446e-02,  1.2329e-02,\n",
            "         3.1729e-02,  3.5741e-03, -2.6481e-02, -1.0368e-02, -3.8108e-02,\n",
            "         2.3387e-02,  1.3809e-02,  7.9613e-02,  7.7602e-02, -2.4085e-02,\n",
            "         2.3131e-02,  1.6289e-02, -2.2002e-02, -5.3456e-02,  2.1649e-02,\n",
            "         2.9084e-02,  4.2865e-02, -1.7653e-02, -3.2597e-02, -1.2699e-02,\n",
            "         3.4878e-02, -7.2913e-03, -1.8691e-02,  1.0619e-02, -2.2897e-02,\n",
            "        -1.5465e-01, -9.9595e-03, -7.8906e-03, -1.7803e-04,  2.9991e-03,\n",
            "         1.7437e-02, -4.5316e-03, -4.6754e-02,  1.5209e-02,  2.9278e-02,\n",
            "         6.6734e-04,  7.2638e-02,  4.7398e-02,  1.1696e-02,  2.8760e-02,\n",
            "         1.7859e-02,  4.7850e-02, -1.1934e-02, -7.6772e-03,  8.4868e-02,\n",
            "        -4.5561e-03, -3.1245e-02, -1.8441e-02,  3.0177e-02,  3.4745e-02,\n",
            "         5.8307e-03, -2.0930e-02,  6.6294e-02, -2.8679e-02,  7.8298e-02,\n",
            "         9.6589e-03,  9.8228e-02,  4.6103e-02, -3.4738e-02, -5.3236e-02,\n",
            "        -2.9300e-03, -2.1778e-02,  8.2345e-03,  8.3438e-02, -1.3717e-02,\n",
            "         1.5029e-02,  6.1599e-03, -1.2908e-02, -1.9242e-02,  3.1825e-02,\n",
            "        -1.4530e-02,  6.3534e-03,  4.7696e-03, -3.3699e-02,  6.1708e-03,\n",
            "         7.8270e-02, -2.0784e-03, -2.4142e-02, -1.6465e-02, -1.7072e-02,\n",
            "         3.7843e-02, -3.4460e-02, -2.9735e-03, -1.0799e-02,  3.3014e-02,\n",
            "        -6.0436e-02,  1.7799e-02, -1.2008e-02, -1.8929e-02,  1.5487e-02,\n",
            "         1.9959e-02, -5.4778e-02, -4.4758e-03,  2.3601e-03, -7.6998e-03,\n",
            "         3.8019e-02,  3.0579e-02, -9.8502e-04,  2.5852e-02, -9.5355e-02,\n",
            "        -2.1165e-02,  1.6603e-02,  5.6325e-02,  1.1962e-01,  8.6397e-03,\n",
            "         4.7190e-02, -7.5885e-03,  3.1535e-02,  5.5515e-02, -1.0507e-02,\n",
            "        -4.6449e-02,  1.8930e-02, -4.8832e-02,  3.9564e-03, -6.0529e-02,\n",
            "         4.5211e-02,  1.4734e-02, -7.6456e-03, -5.9617e-02, -2.6084e-02,\n",
            "         1.8264e-02,  1.3083e-01, -7.5929e-02,  8.2911e-02, -7.9233e-02,\n",
            "         6.1786e-02, -8.5511e-04, -9.6028e-02,  4.8227e-02, -3.2147e-02,\n",
            "        -2.0731e-02, -2.2040e-02,  7.5977e-04, -1.7564e-02,  1.3438e-01,\n",
            "         3.9277e-02,  7.7046e-02, -1.5747e-02,  4.1426e-03,  3.4506e-02,\n",
            "         2.7576e-03, -9.4167e-03, -9.2707e-03, -1.2084e-02, -2.6162e-03,\n",
            "         1.0079e-03, -4.0700e-02, -3.0578e-02, -2.9567e-02,  7.2565e-02,\n",
            "         3.4845e-02,  5.9873e-02, -2.6953e-02,  3.0431e-02,  3.2555e-02,\n",
            "         2.7341e-02, -3.1475e-02, -9.1915e-03, -4.4317e-02, -4.5956e-02,\n",
            "         1.4616e-02,  5.7801e-02,  2.9705e-02,  2.6796e-02, -3.4809e-03,\n",
            "         1.2046e-02, -2.8476e-02,  3.9043e-02,  5.7456e-03,  2.8186e-02,\n",
            "        -6.2958e-02,  4.2600e-02,  4.6786e-03,  1.7891e-03, -2.0079e-03,\n",
            "         1.8733e-02,  4.2471e-02,  2.8136e-02,  5.3950e-02,  4.7770e-02,\n",
            "         7.8637e-03, -9.6420e-03,  3.3046e-02, -9.3638e-03,  1.5144e-02,\n",
            "        -4.2552e-02, -6.6454e-02,  4.8143e-02, -1.1706e-02, -1.8413e-02,\n",
            "         1.3550e-02,  3.7569e-02,  6.5881e-03,  1.1610e-02,  6.4549e-02,\n",
            "         2.6005e-02, -3.6623e-02, -5.3657e-02, -2.9087e-02, -1.8983e-02,\n",
            "        -1.6947e-02,  1.0355e-01, -2.2131e-03, -6.6767e-03, -2.6723e-02,\n",
            "         3.3629e-02,  2.9144e-02,  5.5728e-02,  2.5621e-02,  1.4000e-01,\n",
            "         2.5966e-03, -2.9388e-02,  7.5327e-02,  7.7913e-02, -2.9437e-03,\n",
            "        -1.9965e-03, -7.3120e-03,  6.7700e-02, -2.5768e-02, -4.4250e-02,\n",
            "        -4.7871e-02, -1.8144e-02,  7.0454e-03,  1.3758e-03, -3.0194e-02,\n",
            "         9.6560e-04,  2.6350e-02, -3.4314e-02, -2.5300e-02, -1.1032e-02,\n",
            "        -3.7807e-02, -1.5129e-02,  2.2383e-02, -2.8257e-02,  2.3531e-02,\n",
            "        -9.4419e-03, -5.9896e-03, -2.9089e-02,  4.4203e-02, -6.3386e-02,\n",
            "        -2.3045e-02,  5.2101e-03,  5.8716e-03,  3.6981e-02, -5.0303e-02,\n",
            "         7.5715e-03, -3.0672e-02, -1.0939e-02,  2.9387e-02,  4.6181e-02,\n",
            "         5.7406e-03, -6.3428e-02,  2.7341e-02,  3.2202e-02,  1.8131e-01,\n",
            "         1.4383e-02,  4.7143e-02,  2.6374e-02,  5.7079e-02,  4.0889e-03,\n",
            "        -3.2178e-03,  7.4534e-02,  8.8117e-03, -4.0967e-03, -2.0686e-02,\n",
            "        -2.8663e-02, -3.6480e-02, -3.4022e-03, -3.2470e-02,  4.8306e-02,\n",
            "        -4.5996e-02, -8.2241e-03,  1.3294e-01,  8.9525e-02, -9.2497e-02,\n",
            "        -2.8660e-02,  1.0673e-02])), ('fc3.weight', tensor([[-0.0077,  0.0307,  0.0282,  ...,  0.0546,  0.0292, -0.0180],\n",
            "        [ 0.0442,  0.0233,  0.0083,  ...,  0.0161,  0.0163,  0.0291],\n",
            "        [-0.0131, -0.0256, -0.0143,  ...,  0.0215, -0.0045, -0.0032],\n",
            "        ...,\n",
            "        [ 0.0444,  0.0109,  0.0005,  ...,  0.0004, -0.0285, -0.0070],\n",
            "        [ 0.0225, -0.0425,  0.0265,  ..., -0.0061,  0.0183, -0.0234],\n",
            "        [ 0.0352,  0.0214, -0.0466,  ..., -0.0017, -0.0186,  0.0249]])), ('fc3.bias', tensor([ 0.0654,  0.0182, -0.0222,  0.0133,  0.0284,  0.0449,  0.0652, -0.0277,\n",
            "        -0.0429,  0.1091, -0.0021, -0.0337,  0.1181,  0.0573, -0.0246,  0.0457,\n",
            "        -0.0199, -0.0313, -0.0226, -0.0585,  0.0078,  0.0037, -0.0032,  0.0936,\n",
            "         0.0519,  0.0779, -0.0653,  0.0198,  0.1402,  0.1127,  0.0070,  0.0641,\n",
            "        -0.0021,  0.0555, -0.0381, -0.0154, -0.0217, -0.0117,  0.0373,  0.0624,\n",
            "        -0.0283, -0.0076, -0.0370,  0.1390,  0.0539, -0.0024, -0.0201,  0.0194,\n",
            "        -0.0114,  0.0521,  0.0254,  0.0081, -0.0548, -0.0231,  0.0850, -0.0174,\n",
            "        -0.0164,  0.0294, -0.0304,  0.0599, -0.0350, -0.0429,  0.1087, -0.0449,\n",
            "        -0.0189, -0.0152,  0.0471, -0.0263,  0.0447,  0.0662, -0.0178, -0.0343,\n",
            "        -0.0290,  0.0708, -0.0416, -0.0506,  0.0618,  0.0336, -0.0146, -0.0502,\n",
            "         0.1299,  0.0452, -0.0255, -0.1092, -0.0024,  0.0166,  0.0513,  0.0279,\n",
            "         0.0476,  0.0055,  0.0424,  0.0866,  0.0160,  0.0117, -0.0685,  0.0402,\n",
            "         0.0545, -0.1325,  0.0562, -0.0350, -0.0146,  0.0616,  0.0013,  0.0197,\n",
            "        -0.0561,  0.0136,  0.0495,  0.0930,  0.0823,  0.0044, -0.0092, -0.1306,\n",
            "         0.0448,  0.0155,  0.0445,  0.0104, -0.0037, -0.0341,  0.0710,  0.0060,\n",
            "        -0.0062, -0.0027,  0.0167,  0.0248, -0.0396,  0.0551,  0.0592,  0.0096,\n",
            "         0.0398,  0.0185, -0.1271,  0.0584, -0.0701,  0.0216,  0.1176,  0.0219,\n",
            "        -0.0128, -0.0146,  0.0708, -0.0165,  0.1389, -0.0078, -0.0124,  0.0104,\n",
            "         0.0491, -0.0535,  0.0394,  0.0745,  0.0348, -0.0511,  0.0623,  0.0190,\n",
            "        -0.0340,  0.0183,  0.0429,  0.0101,  0.0167,  0.0556, -0.0508,  0.0775,\n",
            "         0.0768,  0.0346,  0.0345, -0.0359, -0.0770,  0.0908,  0.0160,  0.0132,\n",
            "         0.0092, -0.0270, -0.0096,  0.0457, -0.0433,  0.0248, -0.0347,  0.0162,\n",
            "        -0.0295,  0.1163,  0.1168,  0.0799,  0.0276,  0.0698, -0.0459, -0.0425,\n",
            "        -0.0212,  0.0678, -0.0048, -0.0276,  0.0165,  0.0249,  0.0641,  0.0900,\n",
            "         0.0249, -0.0083,  0.0243,  0.0747, -0.0067, -0.0280,  0.0515,  0.1237,\n",
            "        -0.0114, -0.0349,  0.0341,  0.0276, -0.0076,  0.0572,  0.0006, -0.0189,\n",
            "         0.1597,  0.0124,  0.0504,  0.0994,  0.0554, -0.0788, -0.1008,  0.0415,\n",
            "        -0.0144,  0.1299, -0.0100, -0.0674,  0.0008,  0.0261, -0.0315, -0.0208,\n",
            "        -0.0060, -0.0480, -0.0225,  0.0802, -0.0313,  0.0473,  0.0199,  0.0244,\n",
            "         0.0892,  0.0775,  0.0320,  0.0096, -0.0315,  0.0360,  0.0502,  0.1163,\n",
            "        -0.0743,  0.0078,  0.1213,  0.0009, -0.0481,  0.0266, -0.0250, -0.0019,\n",
            "         0.0244, -0.0280,  0.0550, -0.0092, -0.0350,  0.0183, -0.0330, -0.0270])), ('fc4.weight', tensor([[-0.1825,  0.0302,  0.0108,  ...,  0.0574, -0.0289,  0.1529],\n",
            "        [-0.2604,  0.2033,  0.0461,  ..., -0.0047, -0.0443, -0.0861],\n",
            "        [ 0.0838,  0.0562, -0.0699,  ..., -0.0033, -0.0132,  0.0351],\n",
            "        ...,\n",
            "        [ 0.0357,  0.0031, -0.0571,  ...,  0.0711,  0.0048,  0.0841],\n",
            "        [ 0.0401, -0.2020,  0.0589,  ...,  0.1012,  0.0260,  0.0634],\n",
            "        [ 0.0850,  0.2325, -0.0254,  ..., -0.0337, -0.0224,  0.0452]])), ('fc4.bias', tensor([-0.3918,  0.1146,  0.1362,  0.0551,  0.3249, -0.2716,  0.2862,  0.0235,\n",
            "        -0.1882, -0.0468]))])\n",
            "fc4.bias \t OrderedDict([('fc1.weight', tensor([[ 0.0111, -0.0082, -0.0085,  ...,  0.0066,  0.0061, -0.0060],\n",
            "        [ 0.0129,  0.0103,  0.0149,  ..., -0.0092, -0.0004,  0.0147],\n",
            "        [-0.0100, -0.0132, -0.0184,  ...,  0.0042, -0.0006,  0.0060],\n",
            "        ...,\n",
            "        [-0.0227,  0.0054, -0.0113,  ...,  0.0008, -0.0013, -0.0010],\n",
            "        [-0.0104, -0.0007, -0.0004,  ...,  0.0081, -0.0177, -0.0098],\n",
            "        [-0.0039,  0.0023,  0.0027,  ...,  0.0165, -0.0037,  0.0021]])), ('fc1.bias', tensor([ 0.0181, -0.0065,  0.0050,  ...,  0.0131,  0.0076, -0.0350])), ('fc2.weight', tensor([[ 0.0088,  0.0159, -0.0135,  ...,  0.0214,  0.0010,  0.0112],\n",
            "        [ 0.0194,  0.0012, -0.0181,  ...,  0.0305,  0.0291,  0.0043],\n",
            "        [ 0.0075, -0.0280, -0.0306,  ...,  0.0263, -0.0199, -0.0190],\n",
            "        ...,\n",
            "        [ 0.0136,  0.0046,  0.0174,  ...,  0.0180,  0.0260,  0.0220],\n",
            "        [ 0.0116,  0.0150,  0.0010,  ...,  0.0252,  0.0192,  0.0259],\n",
            "        [-0.0160,  0.0198, -0.0134,  ...,  0.0023, -0.0205, -0.0222]])), ('fc2.bias', tensor([-9.3907e-03,  5.8124e-02,  5.6755e-03, -1.0492e-02,  6.5335e-02,\n",
            "        -4.4018e-02, -5.9762e-02, -4.2246e-03,  3.8275e-02,  3.6302e-02,\n",
            "         1.6662e-02,  6.4612e-02,  3.5137e-02,  7.2931e-02,  5.3276e-02,\n",
            "        -2.6933e-02, -1.0717e-02, -3.3024e-02,  2.6869e-02, -4.6655e-03,\n",
            "         1.2705e-03, -1.3807e-02, -1.0987e-02, -7.2684e-03,  1.3433e-02,\n",
            "         8.1536e-02, -2.4979e-02, -1.8065e-02,  4.7173e-02, -4.8969e-03,\n",
            "        -2.0728e-02, -9.3475e-03, -2.0027e-02, -5.2960e-02,  2.5806e-02,\n",
            "         5.6503e-02, -9.8518e-02, -2.4705e-02,  4.3998e-03, -2.2818e-02,\n",
            "        -1.1278e-02, -2.5683e-02, -3.1951e-02, -1.6171e-02, -2.6494e-02,\n",
            "         3.8465e-03, -5.0638e-02,  6.5880e-03, -1.3942e-02,  7.2248e-02,\n",
            "        -2.0545e-02,  3.6588e-02,  6.8941e-02, -2.8519e-02, -1.8967e-02,\n",
            "         1.7368e-03,  3.6481e-02, -1.4161e-02,  7.0381e-02,  4.0343e-02,\n",
            "        -2.7757e-02,  1.2045e-04,  6.5706e-02,  9.2438e-03,  1.8472e-02,\n",
            "         4.6114e-02,  2.4899e-02,  1.7510e-02, -4.3083e-02,  6.4035e-02,\n",
            "        -1.3455e-02,  9.4503e-03,  6.6266e-02,  1.3071e-02, -5.1356e-02,\n",
            "        -2.9566e-02, -1.4881e-02,  2.5453e-02,  3.3914e-02, -2.4571e-02,\n",
            "        -2.5806e-02, -5.7497e-02, -1.5371e-02,  2.1639e-02, -9.1309e-02,\n",
            "         5.8875e-02,  6.1256e-02, -3.0452e-02,  2.6004e-03,  2.0958e-02,\n",
            "        -1.5621e-02, -1.3033e-02, -1.7979e-02, -3.0921e-03,  4.4951e-02,\n",
            "        -2.3649e-02, -2.1636e-02,  5.0235e-02, -8.0826e-02, -1.1077e-02,\n",
            "        -2.9295e-03,  2.4503e-02,  1.0069e-01,  9.6073e-02, -8.0307e-03,\n",
            "        -7.5215e-03,  7.8227e-02,  2.1837e-02, -5.1814e-03,  6.7313e-02,\n",
            "        -2.1011e-02, -5.3678e-02, -1.5544e-02,  3.0097e-02,  1.4627e-03,\n",
            "         2.3740e-02,  3.9199e-02, -9.6148e-03, -5.9218e-02, -3.2167e-02,\n",
            "         7.9183e-03, -2.1768e-02, -5.9324e-02, -9.7271e-02, -6.0585e-03,\n",
            "         2.9924e-02,  1.7455e-02,  5.7323e-03, -3.5120e-02,  7.4157e-02,\n",
            "         9.9936e-03,  8.6887e-03,  3.4343e-02, -2.7359e-02,  1.4562e-02,\n",
            "        -2.4727e-03,  1.2062e-03, -5.0856e-02,  5.1594e-02, -1.2724e-02,\n",
            "         1.0998e-02, -3.7498e-02,  7.5636e-02,  1.3210e-01, -6.3664e-02,\n",
            "        -6.0726e-04,  1.0333e-01,  4.2140e-03, -3.1553e-02,  1.7325e-02,\n",
            "         9.8532e-03,  2.3102e-03, -5.4560e-02,  1.2564e-02, -1.0419e-02,\n",
            "         3.3411e-02,  7.1305e-05, -2.6205e-02, -1.4592e-03,  2.4098e-03,\n",
            "        -1.9375e-02,  2.6023e-02,  4.1930e-02, -1.0504e-02,  9.6453e-02,\n",
            "         7.8926e-03, -2.1372e-02, -6.3300e-03, -1.6311e-03, -6.1264e-03,\n",
            "         2.3782e-02, -6.9823e-02, -7.5425e-03, -1.0885e-02,  2.9662e-02,\n",
            "         5.2459e-02,  1.1141e-02, -7.5535e-03,  1.1500e-02,  2.3680e-02,\n",
            "         7.1863e-03,  1.3583e-02, -5.2255e-02, -1.1881e-02,  1.1858e-02,\n",
            "        -2.6316e-02,  1.8965e-02, -2.6337e-02, -5.8620e-02, -2.3997e-02,\n",
            "        -5.4386e-03,  3.5633e-02, -2.6955e-02, -2.7524e-02,  1.3648e-02,\n",
            "        -5.4285e-02,  4.6251e-02,  3.1987e-02,  1.4781e-03,  6.0120e-02,\n",
            "        -5.8071e-02, -1.4772e-02,  7.6385e-03,  3.0810e-03, -1.4588e-02,\n",
            "         1.1066e-01, -2.4445e-02, -4.5862e-02,  6.3047e-02,  8.1392e-02,\n",
            "        -4.9569e-03, -7.8091e-03, -4.1682e-02,  2.4518e-02, -5.1901e-02,\n",
            "         1.1109e-02,  7.3441e-02,  7.4725e-02,  4.9311e-02,  3.2265e-03,\n",
            "         3.2110e-02, -5.5071e-02,  1.4716e-02,  3.8142e-02,  5.5324e-02,\n",
            "         9.1763e-02,  3.3215e-02, -2.2850e-02, -3.8901e-02,  2.4486e-02,\n",
            "        -2.0329e-02,  4.2221e-02, -1.3289e-02,  9.0446e-02,  1.2329e-02,\n",
            "         3.1729e-02,  3.5741e-03, -2.6481e-02, -1.0368e-02, -3.8108e-02,\n",
            "         2.3387e-02,  1.3809e-02,  7.9613e-02,  7.7602e-02, -2.4085e-02,\n",
            "         2.3131e-02,  1.6289e-02, -2.2002e-02, -5.3456e-02,  2.1649e-02,\n",
            "         2.9084e-02,  4.2865e-02, -1.7653e-02, -3.2597e-02, -1.2699e-02,\n",
            "         3.4878e-02, -7.2913e-03, -1.8691e-02,  1.0619e-02, -2.2897e-02,\n",
            "        -1.5465e-01, -9.9595e-03, -7.8906e-03, -1.7803e-04,  2.9991e-03,\n",
            "         1.7437e-02, -4.5316e-03, -4.6754e-02,  1.5209e-02,  2.9278e-02,\n",
            "         6.6734e-04,  7.2638e-02,  4.7398e-02,  1.1696e-02,  2.8760e-02,\n",
            "         1.7859e-02,  4.7850e-02, -1.1934e-02, -7.6772e-03,  8.4868e-02,\n",
            "        -4.5561e-03, -3.1245e-02, -1.8441e-02,  3.0177e-02,  3.4745e-02,\n",
            "         5.8307e-03, -2.0930e-02,  6.6294e-02, -2.8679e-02,  7.8298e-02,\n",
            "         9.6589e-03,  9.8228e-02,  4.6103e-02, -3.4738e-02, -5.3236e-02,\n",
            "        -2.9300e-03, -2.1778e-02,  8.2345e-03,  8.3438e-02, -1.3717e-02,\n",
            "         1.5029e-02,  6.1599e-03, -1.2908e-02, -1.9242e-02,  3.1825e-02,\n",
            "        -1.4530e-02,  6.3534e-03,  4.7696e-03, -3.3699e-02,  6.1708e-03,\n",
            "         7.8270e-02, -2.0784e-03, -2.4142e-02, -1.6465e-02, -1.7072e-02,\n",
            "         3.7843e-02, -3.4460e-02, -2.9735e-03, -1.0799e-02,  3.3014e-02,\n",
            "        -6.0436e-02,  1.7799e-02, -1.2008e-02, -1.8929e-02,  1.5487e-02,\n",
            "         1.9959e-02, -5.4778e-02, -4.4758e-03,  2.3601e-03, -7.6998e-03,\n",
            "         3.8019e-02,  3.0579e-02, -9.8502e-04,  2.5852e-02, -9.5355e-02,\n",
            "        -2.1165e-02,  1.6603e-02,  5.6325e-02,  1.1962e-01,  8.6397e-03,\n",
            "         4.7190e-02, -7.5885e-03,  3.1535e-02,  5.5515e-02, -1.0507e-02,\n",
            "        -4.6449e-02,  1.8930e-02, -4.8832e-02,  3.9564e-03, -6.0529e-02,\n",
            "         4.5211e-02,  1.4734e-02, -7.6456e-03, -5.9617e-02, -2.6084e-02,\n",
            "         1.8264e-02,  1.3083e-01, -7.5929e-02,  8.2911e-02, -7.9233e-02,\n",
            "         6.1786e-02, -8.5511e-04, -9.6028e-02,  4.8227e-02, -3.2147e-02,\n",
            "        -2.0731e-02, -2.2040e-02,  7.5977e-04, -1.7564e-02,  1.3438e-01,\n",
            "         3.9277e-02,  7.7046e-02, -1.5747e-02,  4.1426e-03,  3.4506e-02,\n",
            "         2.7576e-03, -9.4167e-03, -9.2707e-03, -1.2084e-02, -2.6162e-03,\n",
            "         1.0079e-03, -4.0700e-02, -3.0578e-02, -2.9567e-02,  7.2565e-02,\n",
            "         3.4845e-02,  5.9873e-02, -2.6953e-02,  3.0431e-02,  3.2555e-02,\n",
            "         2.7341e-02, -3.1475e-02, -9.1915e-03, -4.4317e-02, -4.5956e-02,\n",
            "         1.4616e-02,  5.7801e-02,  2.9705e-02,  2.6796e-02, -3.4809e-03,\n",
            "         1.2046e-02, -2.8476e-02,  3.9043e-02,  5.7456e-03,  2.8186e-02,\n",
            "        -6.2958e-02,  4.2600e-02,  4.6786e-03,  1.7891e-03, -2.0079e-03,\n",
            "         1.8733e-02,  4.2471e-02,  2.8136e-02,  5.3950e-02,  4.7770e-02,\n",
            "         7.8637e-03, -9.6420e-03,  3.3046e-02, -9.3638e-03,  1.5144e-02,\n",
            "        -4.2552e-02, -6.6454e-02,  4.8143e-02, -1.1706e-02, -1.8413e-02,\n",
            "         1.3550e-02,  3.7569e-02,  6.5881e-03,  1.1610e-02,  6.4549e-02,\n",
            "         2.6005e-02, -3.6623e-02, -5.3657e-02, -2.9087e-02, -1.8983e-02,\n",
            "        -1.6947e-02,  1.0355e-01, -2.2131e-03, -6.6767e-03, -2.6723e-02,\n",
            "         3.3629e-02,  2.9144e-02,  5.5728e-02,  2.5621e-02,  1.4000e-01,\n",
            "         2.5966e-03, -2.9388e-02,  7.5327e-02,  7.7913e-02, -2.9437e-03,\n",
            "        -1.9965e-03, -7.3120e-03,  6.7700e-02, -2.5768e-02, -4.4250e-02,\n",
            "        -4.7871e-02, -1.8144e-02,  7.0454e-03,  1.3758e-03, -3.0194e-02,\n",
            "         9.6560e-04,  2.6350e-02, -3.4314e-02, -2.5300e-02, -1.1032e-02,\n",
            "        -3.7807e-02, -1.5129e-02,  2.2383e-02, -2.8257e-02,  2.3531e-02,\n",
            "        -9.4419e-03, -5.9896e-03, -2.9089e-02,  4.4203e-02, -6.3386e-02,\n",
            "        -2.3045e-02,  5.2101e-03,  5.8716e-03,  3.6981e-02, -5.0303e-02,\n",
            "         7.5715e-03, -3.0672e-02, -1.0939e-02,  2.9387e-02,  4.6181e-02,\n",
            "         5.7406e-03, -6.3428e-02,  2.7341e-02,  3.2202e-02,  1.8131e-01,\n",
            "         1.4383e-02,  4.7143e-02,  2.6374e-02,  5.7079e-02,  4.0889e-03,\n",
            "        -3.2178e-03,  7.4534e-02,  8.8117e-03, -4.0967e-03, -2.0686e-02,\n",
            "        -2.8663e-02, -3.6480e-02, -3.4022e-03, -3.2470e-02,  4.8306e-02,\n",
            "        -4.5996e-02, -8.2241e-03,  1.3294e-01,  8.9525e-02, -9.2497e-02,\n",
            "        -2.8660e-02,  1.0673e-02])), ('fc3.weight', tensor([[-0.0077,  0.0307,  0.0282,  ...,  0.0546,  0.0292, -0.0180],\n",
            "        [ 0.0442,  0.0233,  0.0083,  ...,  0.0161,  0.0163,  0.0291],\n",
            "        [-0.0131, -0.0256, -0.0143,  ...,  0.0215, -0.0045, -0.0032],\n",
            "        ...,\n",
            "        [ 0.0444,  0.0109,  0.0005,  ...,  0.0004, -0.0285, -0.0070],\n",
            "        [ 0.0225, -0.0425,  0.0265,  ..., -0.0061,  0.0183, -0.0234],\n",
            "        [ 0.0352,  0.0214, -0.0466,  ..., -0.0017, -0.0186,  0.0249]])), ('fc3.bias', tensor([ 0.0654,  0.0182, -0.0222,  0.0133,  0.0284,  0.0449,  0.0652, -0.0277,\n",
            "        -0.0429,  0.1091, -0.0021, -0.0337,  0.1181,  0.0573, -0.0246,  0.0457,\n",
            "        -0.0199, -0.0313, -0.0226, -0.0585,  0.0078,  0.0037, -0.0032,  0.0936,\n",
            "         0.0519,  0.0779, -0.0653,  0.0198,  0.1402,  0.1127,  0.0070,  0.0641,\n",
            "        -0.0021,  0.0555, -0.0381, -0.0154, -0.0217, -0.0117,  0.0373,  0.0624,\n",
            "        -0.0283, -0.0076, -0.0370,  0.1390,  0.0539, -0.0024, -0.0201,  0.0194,\n",
            "        -0.0114,  0.0521,  0.0254,  0.0081, -0.0548, -0.0231,  0.0850, -0.0174,\n",
            "        -0.0164,  0.0294, -0.0304,  0.0599, -0.0350, -0.0429,  0.1087, -0.0449,\n",
            "        -0.0189, -0.0152,  0.0471, -0.0263,  0.0447,  0.0662, -0.0178, -0.0343,\n",
            "        -0.0290,  0.0708, -0.0416, -0.0506,  0.0618,  0.0336, -0.0146, -0.0502,\n",
            "         0.1299,  0.0452, -0.0255, -0.1092, -0.0024,  0.0166,  0.0513,  0.0279,\n",
            "         0.0476,  0.0055,  0.0424,  0.0866,  0.0160,  0.0117, -0.0685,  0.0402,\n",
            "         0.0545, -0.1325,  0.0562, -0.0350, -0.0146,  0.0616,  0.0013,  0.0197,\n",
            "        -0.0561,  0.0136,  0.0495,  0.0930,  0.0823,  0.0044, -0.0092, -0.1306,\n",
            "         0.0448,  0.0155,  0.0445,  0.0104, -0.0037, -0.0341,  0.0710,  0.0060,\n",
            "        -0.0062, -0.0027,  0.0167,  0.0248, -0.0396,  0.0551,  0.0592,  0.0096,\n",
            "         0.0398,  0.0185, -0.1271,  0.0584, -0.0701,  0.0216,  0.1176,  0.0219,\n",
            "        -0.0128, -0.0146,  0.0708, -0.0165,  0.1389, -0.0078, -0.0124,  0.0104,\n",
            "         0.0491, -0.0535,  0.0394,  0.0745,  0.0348, -0.0511,  0.0623,  0.0190,\n",
            "        -0.0340,  0.0183,  0.0429,  0.0101,  0.0167,  0.0556, -0.0508,  0.0775,\n",
            "         0.0768,  0.0346,  0.0345, -0.0359, -0.0770,  0.0908,  0.0160,  0.0132,\n",
            "         0.0092, -0.0270, -0.0096,  0.0457, -0.0433,  0.0248, -0.0347,  0.0162,\n",
            "        -0.0295,  0.1163,  0.1168,  0.0799,  0.0276,  0.0698, -0.0459, -0.0425,\n",
            "        -0.0212,  0.0678, -0.0048, -0.0276,  0.0165,  0.0249,  0.0641,  0.0900,\n",
            "         0.0249, -0.0083,  0.0243,  0.0747, -0.0067, -0.0280,  0.0515,  0.1237,\n",
            "        -0.0114, -0.0349,  0.0341,  0.0276, -0.0076,  0.0572,  0.0006, -0.0189,\n",
            "         0.1597,  0.0124,  0.0504,  0.0994,  0.0554, -0.0788, -0.1008,  0.0415,\n",
            "        -0.0144,  0.1299, -0.0100, -0.0674,  0.0008,  0.0261, -0.0315, -0.0208,\n",
            "        -0.0060, -0.0480, -0.0225,  0.0802, -0.0313,  0.0473,  0.0199,  0.0244,\n",
            "         0.0892,  0.0775,  0.0320,  0.0096, -0.0315,  0.0360,  0.0502,  0.1163,\n",
            "        -0.0743,  0.0078,  0.1213,  0.0009, -0.0481,  0.0266, -0.0250, -0.0019,\n",
            "         0.0244, -0.0280,  0.0550, -0.0092, -0.0350,  0.0183, -0.0330, -0.0270])), ('fc4.weight', tensor([[-0.1825,  0.0302,  0.0108,  ...,  0.0574, -0.0289,  0.1529],\n",
            "        [-0.2604,  0.2033,  0.0461,  ..., -0.0047, -0.0443, -0.0861],\n",
            "        [ 0.0838,  0.0562, -0.0699,  ..., -0.0033, -0.0132,  0.0351],\n",
            "        ...,\n",
            "        [ 0.0357,  0.0031, -0.0571,  ...,  0.0711,  0.0048,  0.0841],\n",
            "        [ 0.0401, -0.2020,  0.0589,  ...,  0.1012,  0.0260,  0.0634],\n",
            "        [ 0.0850,  0.2325, -0.0254,  ..., -0.0337, -0.0224,  0.0452]])), ('fc4.bias', tensor([-0.3918,  0.1146,  0.1362,  0.0551,  0.3249, -0.2716,  0.2862,  0.0235,\n",
            "        -0.1882, -0.0468]))])\n"
          ]
        }
      ],
      "source": [
        "print ('Model state dict:')\n",
        "for param in net.state_dict():\n",
        "    print(param, '\\t', net.state_dict())"
      ]
    },
    {
      "cell_type": "code",
      "execution_count": 14,
      "metadata": {
        "id": "zxUCM7o_gzxv",
        "colab": {
          "base_uri": "https://localhost:8080/"
        },
        "outputId": "dd8002fe-60d0-4bb9-e305-edf0a43733fc"
      },
      "outputs": [
        {
          "output_type": "execute_result",
          "data": {
            "text/plain": [
              "Net(\n",
              "  (fc1): Linear(in_features=3072, out_features=1024, bias=True)\n",
              "  (fc2): Linear(in_features=1024, out_features=512, bias=True)\n",
              "  (fc3): Linear(in_features=512, out_features=256, bias=True)\n",
              "  (fc4): Linear(in_features=256, out_features=10, bias=True)\n",
              ")"
            ]
          },
          "metadata": {},
          "execution_count": 14
        }
      ],
      "source": [
        "net = Net(3072, 256, 10)\n",
        "net.load_state_dict(torch.load(PATH_WEIGHTS))\n",
        "net"
      ]
    },
    {
      "cell_type": "code",
      "execution_count": 15,
      "metadata": {
        "id": "Jio9bpc0gzxx"
      },
      "outputs": [],
      "source": [
        "data_iter = iter(test_loader)\n",
        "images, labels = next(data_iter)"
      ]
    },
    {
      "cell_type": "code",
      "execution_count": 16,
      "metadata": {
        "id": "OLSANarOgzxz",
        "colab": {
          "base_uri": "https://localhost:8080/",
          "height": 123
        },
        "outputId": "61c8a118-aa0b-45b5-db9a-3b0b8cf793d2"
      },
      "outputs": [
        {
          "output_type": "stream",
          "name": "stdout",
          "text": [
            "GroundTruth:  cat ship ship plane frog frog car frog\n"
          ]
        },
        {
          "output_type": "display_data",
          "data": {
            "text/plain": [
              "<Figure size 400x200 with 1 Axes>"
            ],
            "image/png": "[encoded data removed]"
          },
          "metadata": {}
        }
      ],
      "source": [
        "net.eval()\n",
        "outputs = net(images)\n",
        "imgs = torchvision.utils.make_grid(images)\n",
        "plt.figure(figsize=(4, 2))\n",
        "plt.imshow(imgs.permute(1, 2, 0).numpy())\n",
        "print('GroundTruth: ', ' '.join(classes[labels[j]] for j in range(len(labels))))"
      ]
    },
    {
      "cell_type": "code",
      "execution_count": 17,
      "metadata": {
        "colab": {
          "base_uri": "https://localhost:8080/"
        },
        "id": "ENCFUZW3gzx1",
        "outputId": "68de40f5-9ba8-4c8f-dbec-02676c0cbf33"
      },
      "outputs": [
        {
          "output_type": "stream",
          "name": "stderr",
          "text": [
            "<ipython-input-8-99276d73dfec>:30: UserWarning: Implicit dimension choice for softmax has been deprecated. Change the call to include dim=X as an argument.\n",
            "  x = F.softmax(x)\n"
          ]
        }
      ],
      "source": [
        "net.predict(images);"
      ]
    },
    {
      "cell_type": "code",
      "execution_count": 18,
      "metadata": {
        "colab": {
          "base_uri": "https://localhost:8080/"
        },
        "id": "B7tVD6TPgzx4",
        "outputId": "d201a8b1-b819-4470-ab08-d27cf8c65b06"
      },
      "outputs": [
        {
          "output_type": "execute_result",
          "data": {
            "text/plain": [
              "tensor([3, 9, 0, 4, 4, 6, 3, 4])"
            ]
          },
          "metadata": {},
          "execution_count": 18
        }
      ],
      "source": [
        "_, imgs_predicted = torch.max(outputs, 1)\n",
        "imgs_predicted"
      ]
    },
    {
      "cell_type": "code",
      "execution_count": 19,
      "metadata": {
        "colab": {
          "base_uri": "https://localhost:8080/"
        },
        "id": "QJjF7jl0gzx5",
        "outputId": "edfadc3d-aa29-42e7-bc14-024d6213806b"
      },
      "outputs": [
        {
          "output_type": "stream",
          "name": "stdout",
          "text": [
            "Predicted  cat truck plane deer deer frog cat deer\n"
          ]
        }
      ],
      "source": [
        "print('Predicted ', ' '.join(classes[imgs_predicted[j]] for j in range(len(labels))))"
      ]
    },
    {
      "cell_type": "code",
      "execution_count": 20,
      "metadata": {
        "id": "Ud379xJLgzx7",
        "colab": {
          "base_uri": "https://localhost:8080/"
        },
        "outputId": "a91a0349-7493-4bbe-f818-cad22988de50"
      },
      "outputs": [
        {
          "output_type": "stream",
          "name": "stdout",
          "text": [
            "['cat' 'ship' 'ship' 'plane' 'frog' 'frog' 'car' 'frog']\n",
            "['cat' 'truck' 'plane' 'deer' 'deer' 'frog' 'cat' 'deer']\n",
            "Accuracy is 0.25\n"
          ]
        }
      ],
      "source": [
        "gt = np.array([classes[labels[j]] for j in range(len(labels))])\n",
        "pred = np.array([classes[imgs_predicted[j]] for j in range(len(labels))])\n",
        "\n",
        "print(gt)\n",
        "print(pred)\n",
        "print(f'Accuracy is {(gt == pred).sum() / len(gt)}')"
      ]
    },
    {
      "cell_type": "code",
      "execution_count": 20,
      "metadata": {
        "id": "HLxwtkjVz0JU"
      },
      "outputs": [],
      "source": []
    }
  ]
}